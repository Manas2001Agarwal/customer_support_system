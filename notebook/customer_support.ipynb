{
 "cells": [
  {
   "cell_type": "code",
   "execution_count": 2,
   "id": "94f91560",
   "metadata": {},
   "outputs": [
    {
     "data": {
      "text/plain": [
       "'/Users/mukulagarwal/Desktop/Projects/customer_support_system/notebook'"
      ]
     },
     "execution_count": 2,
     "metadata": {},
     "output_type": "execute_result"
    }
   ],
   "source": [
    "%pwd"
   ]
  },
  {
   "cell_type": "code",
   "execution_count": 3,
   "id": "7d025b2e",
   "metadata": {},
   "outputs": [
    {
     "name": "stdout",
     "output_type": "stream",
     "text": [
      "/Users/mukulagarwal/Desktop/Projects/customer_support_system\n"
     ]
    },
    {
     "name": "stderr",
     "output_type": "stream",
     "text": [
      "/Users/mukulagarwal/Desktop/Projects/langchain/langchain_env/lib/python3.12/site-packages/IPython/core/magics/osm.py:417: UserWarning: This is now an optional IPython functionality, setting dhist requires you to install the `pickleshare` library.\n",
      "  self.shell.db['dhist'] = compress_dhist(dhist)[-100:]\n"
     ]
    }
   ],
   "source": [
    "%cd /Users/mukulagarwal/Desktop/Projects/customer_support_system"
   ]
  },
  {
   "cell_type": "code",
   "execution_count": 4,
   "id": "41ca8450",
   "metadata": {},
   "outputs": [],
   "source": [
    "import pandas as pd\n",
    "\n",
    "data = pd.read_csv(\"data/flipkart_product_review.csv\")"
   ]
  },
  {
   "cell_type": "code",
   "execution_count": 5,
   "id": "2b303334",
   "metadata": {},
   "outputs": [
    {
     "data": {
      "text/html": [
       "<div>\n",
       "<style scoped>\n",
       "    .dataframe tbody tr th:only-of-type {\n",
       "        vertical-align: middle;\n",
       "    }\n",
       "\n",
       "    .dataframe tbody tr th {\n",
       "        vertical-align: top;\n",
       "    }\n",
       "\n",
       "    .dataframe thead th {\n",
       "        text-align: right;\n",
       "    }\n",
       "</style>\n",
       "<table border=\"1\" class=\"dataframe\">\n",
       "  <thead>\n",
       "    <tr style=\"text-align: right;\">\n",
       "      <th></th>\n",
       "      <th>product_id</th>\n",
       "      <th>product_title</th>\n",
       "      <th>rating</th>\n",
       "      <th>summary</th>\n",
       "      <th>review</th>\n",
       "    </tr>\n",
       "  </thead>\n",
       "  <tbody>\n",
       "    <tr>\n",
       "      <th>0</th>\n",
       "      <td>ACCFZGAQJGYCYDCM</td>\n",
       "      <td>BoAt Rockerz 235v2 with ASAP charging Version ...</td>\n",
       "      <td>5</td>\n",
       "      <td>Terrific purchase</td>\n",
       "      <td>1-more flexible2-bass is very high3-sound clar...</td>\n",
       "    </tr>\n",
       "    <tr>\n",
       "      <th>1</th>\n",
       "      <td>ACCFZGAQJGYCYDCM</td>\n",
       "      <td>BoAt Rockerz 235v2 with ASAP charging Version ...</td>\n",
       "      <td>5</td>\n",
       "      <td>Terrific purchase</td>\n",
       "      <td>Super sound and good looking I like that prize</td>\n",
       "    </tr>\n",
       "    <tr>\n",
       "      <th>2</th>\n",
       "      <td>ACCFZGAQJGYCYDCM</td>\n",
       "      <td>BoAt Rockerz 235v2 with ASAP charging Version ...</td>\n",
       "      <td>5</td>\n",
       "      <td>Super!</td>\n",
       "      <td>Very much satisfied with the device at this pr...</td>\n",
       "    </tr>\n",
       "    <tr>\n",
       "      <th>3</th>\n",
       "      <td>ACCFZGAQJGYCYDCM</td>\n",
       "      <td>BoAt Rockerz 235v2 with ASAP charging Version ...</td>\n",
       "      <td>5</td>\n",
       "      <td>Super!</td>\n",
       "      <td>Nice headphone, bass was very good and sound i...</td>\n",
       "    </tr>\n",
       "    <tr>\n",
       "      <th>4</th>\n",
       "      <td>ACCFZGAQJGYCYDCM</td>\n",
       "      <td>BoAt Rockerz 235v2 with ASAP charging Version ...</td>\n",
       "      <td>5</td>\n",
       "      <td>Terrific purchase</td>\n",
       "      <td>Sound quality super battery backup super quali...</td>\n",
       "    </tr>\n",
       "  </tbody>\n",
       "</table>\n",
       "</div>"
      ],
      "text/plain": [
       "         product_id                                      product_title  \\\n",
       "0  ACCFZGAQJGYCYDCM  BoAt Rockerz 235v2 with ASAP charging Version ...   \n",
       "1  ACCFZGAQJGYCYDCM  BoAt Rockerz 235v2 with ASAP charging Version ...   \n",
       "2  ACCFZGAQJGYCYDCM  BoAt Rockerz 235v2 with ASAP charging Version ...   \n",
       "3  ACCFZGAQJGYCYDCM  BoAt Rockerz 235v2 with ASAP charging Version ...   \n",
       "4  ACCFZGAQJGYCYDCM  BoAt Rockerz 235v2 with ASAP charging Version ...   \n",
       "\n",
       "   rating            summary  \\\n",
       "0       5  Terrific purchase   \n",
       "1       5  Terrific purchase   \n",
       "2       5             Super!   \n",
       "3       5             Super!   \n",
       "4       5  Terrific purchase   \n",
       "\n",
       "                                              review  \n",
       "0  1-more flexible2-bass is very high3-sound clar...  \n",
       "1     Super sound and good looking I like that prize  \n",
       "2  Very much satisfied with the device at this pr...  \n",
       "3  Nice headphone, bass was very good and sound i...  \n",
       "4  Sound quality super battery backup super quali...  "
      ]
     },
     "execution_count": 5,
     "metadata": {},
     "output_type": "execute_result"
    }
   ],
   "source": [
    "data.head()"
   ]
  },
  {
   "cell_type": "code",
   "execution_count": 6,
   "id": "9cd82096",
   "metadata": {},
   "outputs": [
    {
     "data": {
      "text/plain": [
       "0      1-more flexible2-bass is very high3-sound clar...\n",
       "1         Super sound and good looking I like that prize\n",
       "2      Very much satisfied with the device at this pr...\n",
       "3      Nice headphone, bass was very good and sound i...\n",
       "4      Sound quality super battery backup super quali...\n",
       "                             ...                        \n",
       "445    nice product..  color is exactly shown in the ...\n",
       "446    Awesome Headset . I was searching for the same...\n",
       "447    It's a really perfect earphone. I love it . So...\n",
       "448    Good earbuds at this price Range and Boat prov...\n",
       "449    a very good earphone in budget sound is awesom...\n",
       "Name: review, Length: 450, dtype: object"
      ]
     },
     "execution_count": 6,
     "metadata": {},
     "output_type": "execute_result"
    }
   ],
   "source": [
    "data['review']"
   ]
  },
  {
   "cell_type": "code",
   "execution_count": 7,
   "id": "882aebe0",
   "metadata": {},
   "outputs": [
    {
     "data": {
      "text/plain": [
       "Index(['product_id', 'product_title', 'rating', 'summary', 'review'], dtype='object')"
      ]
     },
     "execution_count": 7,
     "metadata": {},
     "output_type": "execute_result"
    }
   ],
   "source": [
    "data.columns"
   ]
  },
  {
   "cell_type": "code",
   "execution_count": null,
   "id": "77db950f",
   "metadata": {},
   "outputs": [],
   "source": []
  }
 ],
 "metadata": {
  "kernelspec": {
   "display_name": "Python 3",
   "language": "python",
   "name": "python3"
  },
  "language_info": {
   "codemirror_mode": {
    "name": "ipython",
    "version": 3
   },
   "file_extension": ".py",
   "mimetype": "text/x-python",
   "name": "python",
   "nbconvert_exporter": "python",
   "pygments_lexer": "ipython3",
   "version": "3.12.7"
  }
 },
 "nbformat": 4,
 "nbformat_minor": 5
}
