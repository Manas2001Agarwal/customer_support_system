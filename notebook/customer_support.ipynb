{
 "cells": [
  {
   "cell_type": "code",
   "execution_count": null,
   "id": "94f91560",
   "metadata": {},
   "outputs": [],
   "source": [
    "%pwd"
   ]
  },
  {
   "cell_type": "code",
   "execution_count": null,
   "id": "7d025b2e",
   "metadata": {},
   "outputs": [],
   "source": [
    "%cd /Users/mukulagarwal/Desktop/Projects/customer_support_system"
   ]
  },
  {
   "cell_type": "code",
   "execution_count": null,
   "id": "41ca8450",
   "metadata": {},
   "outputs": [],
   "source": [
    "import pandas as pd\n",
    "\n",
    "data = pd.read_csv(\"data/flipkart_product_review.csv\")"
   ]
  },
  {
   "cell_type": "code",
   "execution_count": null,
   "id": "2b303334",
   "metadata": {},
   "outputs": [],
   "source": [
    "data.head()"
   ]
  },
  {
   "cell_type": "code",
   "execution_count": null,
   "id": "9cd82096",
   "metadata": {},
   "outputs": [],
   "source": [
    "data['review']"
   ]
  },
  {
   "cell_type": "code",
   "execution_count": null,
   "id": "882aebe0",
   "metadata": {},
   "outputs": [],
   "source": [
    "data.columns"
   ]
  },
  {
   "cell_type": "code",
   "execution_count": null,
   "id": "82b2cbf9",
   "metadata": {},
   "outputs": [],
   "source": [
    "from selenium import webdriver\n",
    "from selenium.webdriver.chrome.options import Options\n",
    "from selenium.webdriver.common.by import By\n",
    "\n",
    "# options = Options()\n",
    "# options.add_argument('--headless')  # run in background\n",
    "# driver = webdriver.Chrome(options=options)\n",
    "\n",
    "def extract_product_name(url):\n",
    "    options = Options()\n",
    "    options.add_argument('--headless')  # run in background\n",
    "    driver = webdriver.Chrome(options=options)\n",
    "\n",
    "    driver.get(url)\n",
    "    try:\n",
    "        # Amazon may take a moment to load the DOM\n",
    "        product_link = driver.find_element(By.CSS_SELECTOR, 'a[data-hook=\"product-link\"]')\n",
    "        return product_link.text\n",
    "    except:\n",
    "        raise('NoTextElementFound')\n",
    "    finally:\n",
    "        driver.quit()"
   ]
  },
  {
   "cell_type": "code",
   "execution_count": null,
   "id": "128d4a79",
   "metadata": {},
   "outputs": [],
   "source": [
    "from datasets import load_dataset\n",
    "\n",
    "data = load_dataset(\"XANJEEV/amazon-product-reviews\",split='train')"
   ]
  },
  {
   "cell_type": "code",
   "execution_count": null,
   "id": "b569c4b4",
   "metadata": {},
   "outputs": [],
   "source": [
    "%pwd"
   ]
  },
  {
   "cell_type": "code",
   "execution_count": null,
   "id": "71237d44",
   "metadata": {},
   "outputs": [],
   "source": [
    "import pandas as pd\n",
    "data = pd.read_csv(\"/Users/mukulagarwal/Desktop/Projects/customer_support_system/train.csv\")"
   ]
  },
  {
   "cell_type": "code",
   "execution_count": null,
   "id": "f4b7a3d9",
   "metadata": {},
   "outputs": [],
   "source": [
    "data"
   ]
  },
  {
   "cell_type": "code",
   "execution_count": null,
   "id": "54932368",
   "metadata": {},
   "outputs": [],
   "source": [
    "extract_product_name(data.iloc[0,2])"
   ]
  },
  {
   "cell_type": "code",
   "execution_count": null,
   "id": "74b12646",
   "metadata": {},
   "outputs": [],
   "source": [
    "from urllib.parse import urlparse, parse_qs\n",
    "\n",
    "def extract_asin_from_review_url(url):\n",
    "    \"\"\"\n",
    "    Extract ASIN (product_id) from Amazon review URL\n",
    "    \n",
    "    Args:\n",
    "        url (str): Amazon review URL\n",
    "        \n",
    "    Returns:\n",
    "        str: ASIN or None if not found\n",
    "    \"\"\"\n",
    "    try:\n",
    "        # Parse the URL\n",
    "        parsed_url = urlparse(url)\n",
    "        \n",
    "        # Extract query parameters\n",
    "        query_params = parse_qs(parsed_url.query)\n",
    "        \n",
    "        # Get ASIN from query parameters\n",
    "        asin = query_params.get('ASIN', [None])[0]\n",
    "        \n",
    "        return asin\n",
    "        \n",
    "    except Exception as e:\n",
    "        print(f\"Error parsing URL: {e}\")\n",
    "        return None\n",
    "\n",
    "def get_product_id(review_url):\n",
    "    \"\"\"\n",
    "    Simple function to get product_id from review URL\n",
    "    \n",
    "    Args:\n",
    "        review_url (str): Amazon review URL\n",
    "        \n",
    "    Returns:\n",
    "        str: Product ID (ASIN)\n",
    "    \"\"\"\n",
    "    return extract_asin_from_review_url(review_url)\n",
    "\n",
    "# Test function\n",
    "def test_extraction():\n",
    "    \"\"\"Test the ASIN extraction with sample URLs\"\"\"\n",
    "    \n",
    "    test_urls = [\n",
    "        \"https://www.amazon.com/gp/customer-reviews/R32JEDU4MUFXFU/ref=cm_cr_arp_d_rvw_ttl?ie=UTF8&ASIN=B0CHX7R6WJ\",\n",
    "        \"https://www.amazon.com/gp/customer-reviews/R12345ABCDEF/ref=cm_cr_arp_d_rvw_ttl?ie=UTF8&ASIN=B08N5WRWNW\",\n",
    "        \"https://www.amazon.com/gp/customer-reviews/RABCDEF123/ref=cm_cr_arp_d_rvw_ttl?ASIN=B0CHX7R6WJ&ie=UTF8\"\n",
    "    ]\n",
    "    \n",
    "    print(\"Testing ASIN extraction:\")\n",
    "    print(\"-\" * 50)\n",
    "    \n",
    "    for url in test_urls:\n",
    "        asin = extract_asin_from_review_url(url)\n",
    "        print(f\"URL: {url[:60]}...\")\n",
    "        print(f\"ASIN: {asin}\")\n",
    "        print(\"-\" * 50)\n",
    "\n",
    "def extract_asin_from_dataframe(df, url_column='url', output_column='product_id'):\n",
    "    \"\"\"\n",
    "    Extract ASIN (product_id) from URLs in a pandas DataFrame\n",
    "    \n",
    "    Args:\n",
    "        df (pandas.DataFrame): DataFrame containing URLs\n",
    "        url_column (str): Name of column containing URLs (default: 'url')\n",
    "        output_column (str): Name of new column for product_id (default: 'product_id')\n",
    "        \n",
    "    Returns:\n",
    "        pandas.DataFrame: DataFrame with added product_id column\n",
    "    \"\"\"\n",
    "    import pandas as pd\n",
    "    \n",
    "    # Create a copy to avoid modifying original\n",
    "    df_copy = df.copy()\n",
    "    \n",
    "    # Apply the extraction function to the URL column\n",
    "    df_copy[output_column] = df_copy[url_column].apply(extract_asin_from_review_url)\n",
    "    \n",
    "    return df_copy\n",
    "\n",
    "def batch_extract_asin(urls_list):\n",
    "    \"\"\"\n",
    "    Extract ASINs from a list of URLs\n",
    "    \n",
    "    Args:\n",
    "        urls_list (list): List of Amazon review URLs\n",
    "        \n",
    "    Returns:\n",
    "        list: List of ASINs corresponding to input URLs\n",
    "    \"\"\"\n",
    "    return [extract_asin_from_review_url(url) for url in urls_list]"
   ]
  },
  {
   "cell_type": "code",
   "execution_count": null,
   "id": "8ed7d898",
   "metadata": {},
   "outputs": [],
   "source": [
    "import pandas as pd\n",
    "\n",
    "df_with_product_id = extract_asin_from_dataframe(data, url_column='review_url', output_column='product_id')\n",
    "df_with_product_id"
   ]
  },
  {
   "cell_type": "code",
   "execution_count": null,
   "id": "4b55cecd",
   "metadata": {},
   "outputs": [],
   "source": [
    "df_with_product_id['product_id'].value_counts()"
   ]
  },
  {
   "cell_type": "code",
   "execution_count": null,
   "id": "8f5f5917",
   "metadata": {},
   "outputs": [],
   "source": [
    "B0CQ3VXJ3J : \"SAMSUNG 16 Galaxy Book4 Pro Laptop PC Computer, Intel Core 7 Ultra Processor 1TB, 3K AMOLED (2880 x 1800) Touchscreen, Advanced Security, 2024 Model, NP960XGK-KG1US, Moonstone Gray\"\n",
    "B0B4MWCFV4 : \"Fitbit Versa 4 Fitness Smartwatch with Daily Readiness, GPS, 24/7 Heart Rate, 40+ Exercise Modes, Sleep Tracking and more, Black/Graphite, One Size (S & L Bands Included)\"\n",
    "B0DLHTTWVB : \"Apple 2024 MacBook Air 13-inch Laptop with M3 chip: Built for Apple Intelligence, 13.6-inch Liquid Retina Display, 16GB Unified Memory, 256GB SSD Storage, Backlit Keyboard, Touch ID; Space Gray\"\n",
    "B0C33XXS56 : \"Sony WF-1000XM5 The Best Truly Wireless Bluetooth Noise Canceling Earbuds & in-Ear Headphones with Alexa Built-in, Black\"\n",
    "B0CHX7R6WJ : \"Apple Watch SE (2nd Gen) [GPS 40mm] Smartwatch with Starlight Aluminum Case with Starlight Sport Band S/M. Fitness & Sleep Tracker, Crash Detection, Heart Rate Monitor\"\n",
    "B0BN95FRW9 : \"Apple iPhone 14 Pro, 128GB, Space Black - Unlocked (Renewed)\"\n",
    "B01D93Z89W : \"Canon EOS Rebel T7 DSLR Camera Bundle w/ Canon EF-S 18-55mm f/3.5-5.6 is II Lens + 2pc SanDisk 64GB Memory Cards, Wide Angle Lens, Telephoto Lens, 3pc Filter Kit + Accessory Kit\""
   ]
  },
  {
   "cell_type": "code",
   "execution_count": null,
   "id": "6ef5ab6c",
   "metadata": {},
   "outputs": [],
   "source": [
    "asin_to_product = {\n",
    "    'B0CQ3VXJ3J': 'Samsung Galaxy Book4 Pro 16-inch Laptop',\n",
    "    'B0B4MWCFV4': 'Fitbit Versa 4 Fitness Smartwatch',\n",
    "    'B0DLHTTWVB': 'Apple MacBook Air 13-inch M3 (2024)',\n",
    "    'B0C33XXS56': 'Sony WF-1000XM5 Wireless Noise Canceling Earbuds',\n",
    "    'B0CHX7R6WJ': 'Apple Watch SE 2nd Gen 40mm GPS',\n",
    "    'B0BN95FRW9': 'Apple iPhone 14 Pro 128GB (Renewed)',\n",
    "    'B01D93Z89W': 'Canon EOS Rebel T7 DSLR Camera Bundle'\n",
    "}\n",
    "\n",
    "df_with_product_id['product_name'] = df_with_product_id['product_id'].map(asin_to_product)\n",
    "df_with_product_id"
   ]
  },
  {
   "cell_type": "code",
   "execution_count": null,
   "id": "12572660",
   "metadata": {},
   "outputs": [],
   "source": [
    "df_with_product_id.to_csv(\"additional_train.csv\")"
   ]
  },
  {
   "cell_type": "code",
   "execution_count": null,
   "id": "0c7f962a",
   "metadata": {},
   "outputs": [],
   "source": [
    "import pandas as pd\n",
    "df = pd.read_csv(\"additional_train.csv\")"
   ]
  },
  {
   "cell_type": "code",
   "execution_count": null,
   "id": "27dd4036",
   "metadata": {},
   "outputs": [],
   "source": [
    "df = df[['product_id','product_name','rating','title','review']]\n",
    "df.sample(frac=1).head()"
   ]
  },
  {
   "cell_type": "code",
   "execution_count": null,
   "id": "8498b4ce",
   "metadata": {},
   "outputs": [],
   "source": [
    "df = df.rename(columns={'product_name':'product_title','title':'summary'})\n",
    "df.head()"
   ]
  },
  {
   "cell_type": "code",
   "execution_count": null,
   "id": "233f2f6f",
   "metadata": {},
   "outputs": [],
   "source": [
    "dff = pd.read_csv(\"/Users/mukulagarwal/Desktop/Projects/customer_support_system/data/flipkart_product_review.csv\")\n",
    "merge_df = pd.concat([df,dff])\n",
    "merge_df.sample(frac=1).head()"
   ]
  },
  {
   "cell_type": "code",
   "execution_count": null,
   "id": "c8871ef0",
   "metadata": {},
   "outputs": [],
   "source": [
    "len(merge_df)"
   ]
  },
  {
   "cell_type": "code",
   "execution_count": null,
   "id": "15287bdf",
   "metadata": {},
   "outputs": [],
   "source": [
    "merge_df.to_csv(\"flipkart_product_review.csv\",index=False)"
   ]
  },
  {
   "cell_type": "markdown",
   "id": "f6b8db50",
   "metadata": {},
   "source": [
    "# Evaluation : Data Prep"
   ]
  },
  {
   "cell_type": "code",
   "execution_count": 44,
   "id": "373a8086",
   "metadata": {},
   "outputs": [
    {
     "name": "stdout",
     "output_type": "stream",
     "text": [
      "page_content='review: This MacBook is so good. It's lightweight and fast. The gray colour is beautiful. A must buy if you are an Apple fanboy/girl.' metadata={'source': 'B0DLHTTWVB', 'row': 212, 'product_title': 'Apple MacBook Air 13-inch M3 (2024)', 'rating': '5', 'summary': 'One of the best laptops for the buck!!'}\n",
      "page_content='review: Good connectivity, battery backup and build quality. Sound quality is so average, definitely not as good as my boat rockers 255. Useful for office work, attending calls or listening to lectures. A big no for listening to music.' metadata={'source': 'ACCFVA3KZ2EYMYX3', 'row': 534, 'product_title': 'OnePlus Bullets Wireless Z Bass Edition Bluetooth Headset', 'rating': '3', 'summary': 'Nice'}\n"
     ]
    }
   ],
   "source": [
    "from langchain_community.document_loaders.csv_loader import CSVLoader\n",
    "import random\n",
    "\n",
    "file_path = \"/Users/mukulagarwal/Desktop/Projects/customer_support_system/data/flipkart_product_review.csv\"\n",
    "\n",
    "loader = CSVLoader(file_path=file_path,\n",
    "                   content_columns=['review'],\n",
    "                   metadata_columns=['product_title','rating','summary'],\n",
    "                   source_column='product_id')\n",
    "docs = loader.load()\n",
    "\n",
    "random.shuffle(docs)\n",
    "\n",
    "for record in docs[:2]:\n",
    "    print(record)"
   ]
  },
  {
   "cell_type": "code",
   "execution_count": 45,
   "id": "265e35f9",
   "metadata": {},
   "outputs": [
    {
     "data": {
      "text/plain": [
       "[Document(metadata={'source': 'B0DLHTTWVB', 'row': 212, 'product_title': 'Apple MacBook Air 13-inch M3 (2024)', 'rating': '5', 'summary': 'One of the best laptops for the buck!!'}, page_content=\"review: This MacBook is so good. It's lightweight and fast. The gray colour is beautiful. A must buy if you are an Apple fanboy/girl.\"),\n",
       " Document(metadata={'source': 'ACCFVA3KZ2EYMYX3', 'row': 534, 'product_title': 'OnePlus Bullets Wireless Z Bass Edition Bluetooth Headset', 'rating': '3', 'summary': 'Nice'}, page_content='review: Good connectivity, battery backup and build quality. Sound quality is so average, definitely not as good as my boat rockers 255. Useful for office work, attending calls or listening to lectures. A big no for listening to music.'),\n",
       " Document(metadata={'source': 'ACCFR3Q77R6RRGAC', 'row': 443, 'product_title': 'OnePlus Bullets Wireless Z Bluetooth Headset', 'rating': '5', 'summary': 'Perfect product!'}, page_content='review: The bass is decent one audio clarity is just asowem .Im using this while running and i will suggest that to use right ear tips for perfect fitting .Battery is outstanding 😍'),\n",
       " Document(metadata={'source': 'B0DLHTTWVB', 'row': 224, 'product_title': 'Apple MacBook Air 13-inch M3 (2024)', 'rating': '5', 'summary': 'Most important thing is to load files and then apps.'}, page_content='review: Great product, transferred my files from my Mac Pro. Had a problem with migrating all my files but the apple tech support was great! Load your files first and then your apps and everything worked fine.'),\n",
       " Document(metadata={'source': 'B0BN95FRW9', 'row': 174, 'product_title': 'Apple iPhone 14 Pro 128GB (Renewed)', 'rating': '5', 'summary': 'Very satisfied'}, page_content='review: Phone came in a timely manner and came as described. The phone was good overall. Some small marks on the screen that are barely noticeable with a screen protector. I wish the battery was a little better. It’s at 87% and he guarantees at least 85%. I would’ve been completely happy if the battery was around 92 or 93%, but you get what you get.'),\n",
       " Document(metadata={'source': 'ACCFZGAQJGYCYDCM', 'row': 327, 'product_title': 'BoAt Rockerz 235v2 with ASAP charging Version 5.0 Bluetooth Headset', 'rating': '5', 'summary': 'Excellent'}, page_content='review: Good product. Never used bluetooth headset before. Now I am happy to see ease in my work. As I noticed boat marketing their products aggressively in market in recent days. About product it\\'s like awesome having better build quality, bass is good, battery backup is fine and vibration though it vibrates my neck when ever I gets call but still feature is must needed when u are driving. Wanted to give 5star but there is a sentence that \" Nothing is perfect in this imperfect world\" 😄😄😉'),\n",
       " Document(metadata={'source': 'ACCFVA3KZ2EYMYX3', 'row': 514, 'product_title': 'OnePlus Bullets Wireless Z Bass Edition Bluetooth Headset', 'rating': '5', 'summary': 'Awesome'}, page_content='review: Excellent quality.. Packing is awesome.. Neckband quality is impressive its very Soft rubber, light weight.. Sound quality is very nice.. And bass is impressive.. Backup is approx 14 to 15 hours easily  in medium volume.. Very fast Bluetooth connectivity and switching.. Type c charging cable.. I think it is best in this Price range.'),\n",
       " Document(metadata={'source': 'B0CHX7R6WJ', 'row': 4, 'product_title': 'Apple Watch SE 2nd Gen 40mm GPS', 'rating': '5', 'summary': 'Best watch for iOS users, it’s a no-brainer!'}, page_content='review: I was always a Fitbit user for my iPhone because I thought Apple Watch was too pricey for me. I started out with the Fitbit Blaze which was fine then upgraded to the first Sense watch which was junk. It finally died on me after only 3 years and the glue didn’t hold up so the face popped off. So I was in the market for a new smart watch.Finally broke down and bought this watch. Price for the SE was similar to the Fitbit.This is night and day!! If you’re on the fence about which one to choose, go with the Apple Watch!!The only downside is you have to charge it daily. You’ll get used to it. It’s fine, you’ll live.It’s beautiful, stylish but most of all you get all the features that mimics your phone. You’re not limited to the basics like you are with Fitbit. With the Apple Watch you can do it all so you get more bang for your buck. Don’t think on it. Just get this. It’s a no-brainer. Woot!'),\n",
       " Document(metadata={'source': 'B0B4MWCFV4', 'row': 148, 'product_title': 'Fitbit Versa 4 Fitness Smartwatch', 'rating': '4', 'summary': 'Great fitness tracker!'}, page_content=\"review: Let me state at the outset, I do not like wearing jewerly and especially to sleep in. That is where my displeasure with this device began. It is great if you don't mind having something on your wrist and can be a real assest to monitoring your progress. As of my last update in January 2022, Fitbit had not released a Versa 4 model. However, I can provide you with a general review of what a Fitbit Versa 4 might offer based on the features you've mentioned.The Fitbit Versa series is known for its comprehensive fitness tracking capabilities and smartwatch functionalities. Here's what you might expect from a Fitbit Versa 4:Fitness Tracking: Like its predecessors, the Fitbit Versa 4 would likely offer advanced fitness tracking features to help users monitor their activity levels, track workouts, and set fitness goals. This could include 24/7 heart rate monitoring, step tracking, distance traveled, calories burned, and more.Daily Readiness: The inclusion of daily readiness features would enable users to gauge their readiness for physical activity based on factors such as heart rate variability, sleep quality, and overall recovery. This can help users optimize their training routines and prevent overtraining.GPS: Built-in GPS would allow users to accurately track outdoor activities such as running, cycling, and hiking without the need to carry a smartphone. This feature enables users to map their routes, monitor pace and distance, and analyze performance metrics more effectively.Exercise Modes: With over 40 exercise modes, users would have access to a wide range of activity profiles tailored to different workouts and sports. Whether you're into running, swimming, yoga, or weightlifting, the Fitbit Versa 4 would likely offer dedicated tracking modes to suit your needs.Smartwatch Features: In addition to its fitness tracking capabilities, the Fitbit Versa 4 would function as a full-featured smartwatch, offering features such as notifications for calls, texts, and app alerts, music playback controls, contactless payments, customizable watch faces, and more.Battery Life: Fitbit Versa models typically offer multi-day battery life on a single charge, allowing users to wear their smartwatch continuously without frequent recharging. The Versa 4 would likely maintain this tradition, providing long-lasting battery performance to support all-day activity tracking and smartwatch usage.Overall, a Fitbit Versa 4 Fitness Smartwatch with Daily Readiness, GPS, 24/7 Heart Rate, and 40+ Exercise Modes would be a versatile and feature-rich wearable device designed to help users lead healthier, more active lifestyles. It would combine advanced fitness tracking capabilities with convenient smartwatch functionalities to provide a comprehensive health and wellness solution.\"),\n",
       " Document(metadata={'source': 'B0BN95FRW9', 'row': 182, 'product_title': 'Apple iPhone 14 Pro 128GB (Renewed)', 'rating': '4', 'summary': 'Good phone, but not what I expected'}, page_content='review: I changed my iPhone 11 for this 14 Pro because of storage and some cameras; besides the fact I always wanted a Pro phone. I really got amazed by the price, since in my country it was $200 more than here. Regarding the sending, the product arrived on time. I don’t live in the US, and when it arrived to Ecuador, I could finally check it. Color and storage capacity were as requested. Cameras work perfectly, same as the buttons, speakers and microphone. Dynamic Island works fantastic, and I’m even surprised for the AppleCare warranty. What I got disappointed about was the battery level, as I requested for a “Reconditioned-excellent” phone. Besides, the selling ad did not mention I was buying an ESIM version, so I had to change my chip. Ah, and let’s not forget the little dent you can see on the side. I confess I was very doubtful about buying here due to the comments: some positive and some really bad. My suggestion, buy at your own risk, but not ensuring to have a great phone or not.'),\n",
       " Document(metadata={'source': 'ACCFVWN4PGNTEFGY', 'row': 570, 'product_title': 'realme Buds Q Bluetooth Headset', 'rating': '4', 'summary': 'Very Good'}, page_content=\"review: Best In this Range....... Blindly Go for it I'm writing this review after using for 30 Days*Microphone is working smoothly*Battery Backup is more than mentioned*Connecting time is 2 sec max *Fitting in ear is perfect (Customise with 3 Extra Sets of Buds)*Easy to carry*Sound is best in the range but it can be improved*Bass also need improvement\"),\n",
       " Document(metadata={'source': 'ACCFSDGXX3S6DVBG', 'row': 670, 'product_title': 'BoAt Airdopes 131 Bluetooth Headset', 'rating': '4', 'summary': 'Good quality product'}, page_content=\"review: Yeah the Airdopes are cool , 1299 is very good price and overall I'll give it 4 starsPros:1. Easy connectivity2. Sleek and good looking design3. Very good battery backup4. Case and earbuds both are madhe of high quality plasticCons:1.There is a slight 1 second delay when music is played most of you won't notice but i noticed it while playing games.2. Ears hurt while pressing the multi functional button , touch controls could have been better3. Base is not as high as what i expected f...\"),\n",
       " Document(metadata={'source': 'ACCFZGAQJGYCYDCM', 'row': 357, 'product_title': 'BoAt Rockerz 235v2 with ASAP charging Version 5.0 Bluetooth Headset', 'rating': '5', 'summary': 'Awesome'}, page_content='review: Very nice very satisfied and sound quality very good bass is excellent overall worth it'),\n",
       " Document(metadata={'source': 'ACCFKYE2ARGG67WC', 'row': 506, 'product_title': 'realme Buds 2 Wired Headset', 'rating': '4', 'summary': 'Good quality product'}, page_content=\"review: Sound quality is acceptable with price range.bass quality is super . Design and build quality is good but personally i Don't like tha wair .all thing is good is this price segment but i have some issue with this mic and the bottoms .\"),\n",
       " Document(metadata={'source': 'B01D93Z89W', 'row': 65, 'product_title': 'Canon EOS Rebel T7 DSLR Camera Bundle', 'rating': '4', 'summary': 'Piece of bundle missing'}, page_content='review: Although it is minor the description says there are supposed to be 2 SD cards but I only received 1. I would give 4.5.'),\n",
       " Document(metadata={'source': 'B0B4MWCFV4', 'row': 158, 'product_title': 'Fitbit Versa 4 Fitness Smartwatch', 'rating': '4', 'summary': 'Fitbit Versa 4'}, page_content='review: Okay'),\n",
       " Document(metadata={'source': 'B01D93Z89W', 'row': 40, 'product_title': 'Canon EOS Rebel T7 DSLR Camera Bundle', 'rating': '5', 'summary': 'Rebel T7 Camera'}, page_content='review: I have enjoyed this camera for the month that I have had it. It takes super clean photos. I bought a sports lens for it and it works really well on shooting sports mode. The shutter speed is perfect. Its the perfect camera for beginners or even more experienced photographers. Also the cost for this camera is very affordable.'),\n",
       " Document(metadata={'source': 'B0CQ3VXJ3J', 'row': 74, 'product_title': 'Samsung Galaxy Book4 Pro 16-inch Laptop', 'rating': '4', 'summary': 'Excellent Build Quality, Very DIY Friendly For Easy Storage Capacity Upgrades, Not Price Competitive'}, page_content='review: The 2024 Samsung Galaxy Book4 Pro 14 inch has one of the most premium builds for a Windows Laptop in its class in my opinion. It\\'s very light-weight (2.7 lbs) and easy to throw in a backpack or carry in a suitcase. Aesthetically it looks very sleek, professional, and has ultraportable functionality. In terms of design & build quality, it\\'s a worthy Windows competitor to the Apple MacBook Air M2 & M3. I\\'m an on the go professional that works in the Construction, Engineering, & Architecture space and this is a laptop I’d feel comfortable using to conduct client presentations.I was able to attain the 1 TB SSD, 16 GB RAM, Windows 11 Pro, Core Ultra 7 Version (NP944XGK-KG1US) for $999 due to a pricing error on Amazon. For the price I attained it at - this was a great deal and that\\'s why it\\'s getting 4 stars from me. Currently, the same business version I bought is currently \"normally\" retailing for $1749 on Amazon & Samsung Directly. I needed this version as this is my work laptop as well. For that premium price, I believe there are significant cheaper alternatives available from PC competitors that offer way more bang for your buck for similar or even better specs.That being stated, I will start off my review with the positives:1) The 3K AMOLED screen on this laptop is gorgeous. Colors really pop & make for great video streaming.2) Really Easy DIY m.2 storage upgrades (I was able to upgrade storage from 1 TB to 8 TB) - Getting access to the motherboard to replace the OEM m.2 ssd and add my own took me literally less than 20 minutes with the help of YouTube tutorials + a Cheap $10 PC Tool Kit.3) 2 Thunderbolt 4 Ports, 1 HDMI 2.1 Port (that can run 8k), 1 USB-A Legacy Port, and 1 MicroSD slot.4) Fantastic Build Quality & Ultraportable - a true Windows Built Design rival to an Apple Designed Product.5) Some special integrated \"Samsung Only\" features if you\\'re especially invested in the Samsung Eco-System (w/ Galaxy Smart Phone, Quickshare, Smartthings, etc).6) Intel Unison Software allows call, text message, and image retrieval compatibility with iPhones & iPads.7) Keyboard comes with the new Microsoft Copilot Key integrated & a dedicated ai NPU chip.8) Intel ARC Graphics (much, much better than Intel XE Graphics of the past several years).9) Intel Evo Certified.10) Comes w/ Windows 11 Pro (on the NP944XGK version) – which is handy for integration with my company’s data servers & Microsoft Azure AD network.11) Battery Life runs at 8 hours (with full brightness and performance set to maximum with constant load with two m.2 ssd\\'s). I imagine many more hours if you reduce brightness, performance, and are running the stock OEM SSD.12) Fast Charging.Some of the negatives:1) While I got this for a great price, the normal consumer price of over $1749 is way too high for what you\\'re getting with this Laptop especially when benchmarked with other Windows PC competition.2) The 14 inch \" Pro\" version is capped to a maximum of Soldered 16 GB RAM in the US, Canada, and UK.3) The OEM SSD that the laptop comes installed with is not from Samsung, it\\'s an entry-level Western Digital m.2 SN740 NVMe 1 TB SSD which you can find new from IT suppliers for $50-70. The upcharge from 512 GB version to the 1 TB version of this laptop is $300 (Samsung is conducting Apple-Level price gouging but unlike Apple it’s not even using their own top tier in-house parts).4) Competitor Models from Lenovo and Asus offer similar or even better specs for $500-700 less e.g.  the 2024 Lenovo Slim 7i Gen 9 comes 32 GB RAM, 1 TB SSD, Core Ultra 7, a similar poppy OLED screen, better battery life, and svelte durable light-weight design body, all of which can be attained for under $1000.5) The \"cheapest\" version of the 14-inch version laptop is $1449 and that only comes with a Core Ultra 5, 512 GB SSD, and 16 GB RAM which is a shame in 2024.6) Bezels of the screen aren\\'t terrible but they could\\'ve been smaller especially given premium pricing (e.g. Lenovo Thinkbook 13x Gen 4, Dell XPS 14).7) Same Design as Last Year\\'s 2023 Galaxy Book3 14 Pro.8) A small nitpick, but this laptop is only available in one color scheme in the US. It\\'s nice...but c\\'mon Samsung....Some Redemption:I will say that one of the most redeeming aspects of this laptop despite its negatives primarily associated with its pricing, is the fact that this has TWO m.2 NVMe slots (rare in a laptop of this size). I love that Samsung made it super easy and uncomplicated to get access to the motherboard. Theoretically, you could DIY upgrade this to having potentially 16 TB (yes TB!) of storage space in your laptop if you can run two m.2 8 TB drives. Might cost as much as the laptop itself, but it is indeed possible. I\\'m currently running two Samsung 990 Pro SSD\\'s with 4 TB each (8 TB total). Cloning the OEM drive was super easy with Samsung\\'s Magician Software.And ultimately, I must give kudos to Samsung on this feature - this has to be the standout feature on this laptop in my opinion and saves me from having to carry a portable SSD for extra data. If only they could\\'ve sold the 32 GB RAM version for the 14-inch Pro in America....Finally, for professional and business network/software reasons, I\\'m forced to be a Windows User and this is a good option for that. My only hesitation is that for its current market price, I think there are frankly better Windows options that offer more for less pricing wise (Lenovo Slim 7i Gen 9, Asus Zenbook UX3405) and the same pricing bracket for more (Dell XPS 14, Lenovo Thinkbook Gen13x Gen 4).If I paid the normal price, I’d be giving this review 3.5 stars.Alas I got a good deal, so whom am I to complain? :)'),\n",
       " Document(metadata={'source': 'B0B4MWCFV4', 'row': 139, 'product_title': 'Fitbit Versa 4 Fitness Smartwatch', 'rating': '5', 'summary': 'Good watch, good price.'}, page_content=\"review: FITBIT watches are very good. This is my 3rd one. I usually have had no trouble setting them up.  I had to Google several features this time and still can't get one to work. Printed instructions would be help. Still, I am pleased with my new watch and hope to enjoy it for many years.\"),\n",
       " Document(metadata={'source': 'ACCFR3Q77R6RRGAC', 'row': 429, 'product_title': 'OnePlus Bullets Wireless Z Bluetooth Headset', 'rating': '5', 'summary': 'Worth every penny'}, page_content=\"review: This works great with OnePlus 6 where you have audio tune option , there you can customise to the appropriate bass,Out of the box it has medium bass but when you turn on AAC and audio tune it to your requirements it's sounds great and highly recommended of your phone has audio tune option you won't regret it. All those unboxing  videos on the internet are all false it has sexy bass.\"),\n",
       " Document(metadata={'source': 'ACCFZGAQJGYCYDCM', 'row': 325, 'product_title': 'BoAt Rockerz 235v2 with ASAP charging Version 5.0 Bluetooth Headset', 'rating': '5', 'summary': 'Fabulous!'}, page_content='review: Very great product at this price I will assure that this is a value for money product and the bass and sound quality was awesome the build quality was great 👌 and this product has a mat finish which gives a class and flagship look this is the best and the fast charging technology was working very well and the ear are fixing suitable in our ear the music quality was great'),\n",
       " Document(metadata={'source': 'B0CQ3VXJ3J', 'row': 109, 'product_title': 'Samsung Galaxy Book4 Pro 16-inch Laptop', 'rating': '5', 'summary': 'Gorgeous AMOLED screen, excelent graphics performance for sharing second screen on 120Hz'}, page_content=\"review: My second Galaxy Book. And I'll buy the next one so far.\"),\n",
       " Document(metadata={'source': 'ACCFVWN4PGNTEFGY', 'row': 579, 'product_title': 'realme Buds Q Bluetooth Headset', 'rating': '5', 'summary': 'Just wow!'}, page_content='review: Super Vera level iruku buds'),\n",
       " Document(metadata={'source': 'B0CHX7R6WJ', 'row': 32, 'product_title': 'Apple Watch SE 2nd Gen 40mm GPS', 'rating': '5', 'summary': 'Love Love'}, page_content=\"review: Wanted to start out with a cheaper version of the watch to make sure I really like it. And I love it! I use it mostly for fitness and checking important notifications when I don't have my phone nearby. I also love the sleep tracker and the heart rate monitor. I see the other features that come with the other apple watch such as the airfib, which this one doesn't have. But I believe this is a good starter watch for those who may have never owned a smart watch like this. Then in the future you can upgrade if necessary.\"),\n",
       " Document(metadata={'source': 'ACCFHGZFS7GB9CVM', 'row': 393, 'product_title': 'realme Buds Wireless Bluetooth Headset', 'rating': '5', 'summary': 'Must buy!'}, page_content=\"review: awesome...it's just awesome...the sound the battery life and the looks ...it's Superb and auto connect and disconnect feature is super fast and gives you a very long battery life ....\"),\n",
       " Document(metadata={'source': 'B0B4MWCFV4', 'row': 131, 'product_title': 'Fitbit Versa 4 Fitness Smartwatch', 'rating': '4', 'summary': 'Love it'}, page_content=\"review: First one i ordered was a total dud. Kept turning on and off on its own and it was missing two of the three watch bands which didn't bother me because I got a different band for it that would be more comfortable for me than the standard silicon band. Amazon let me send that one back and they replaced it with a brand new one. The new one works perfectly. I've had no issues. I love it.\"),\n",
       " Document(metadata={'source': 'ACCFZGAQJGYCYDCM', 'row': 351, 'product_title': 'BoAt Rockerz 235v2 with ASAP charging Version 5.0 Bluetooth Headset', 'rating': '5', 'summary': 'Just wow!'}, page_content=\"review: Ti's is my first Bluetooth headset it is wonderful and color is more attractive and the sound quality is good and it is good product and value of money is 5star and battery is good\"),\n",
       " Document(metadata={'source': 'B0DLHTTWVB', 'row': 222, 'product_title': 'Apple MacBook Air 13-inch M3 (2024)', 'rating': '5', 'summary': 'Finally transitioned from Windows to Apple ..'}, page_content='review: Having all the Apple products (iPhone, iPad, iwatch) decided might as well transition to an Apple laptop so that I can have everything “sync”d. As expected , setup was easy and all apps/settings from iPhone were easily sync’d.Just the perfect size, light and enough battery hours.No complains based on the easy of use.'),\n",
       " Document(metadata={'source': 'ACCFZGAQJGYCYDCM', 'row': 356, 'product_title': 'BoAt Rockerz 235v2 with ASAP charging Version 5.0 Bluetooth Headset', 'rating': '5', 'summary': 'Excellent'}, page_content=\"review: It's a Awesome purchase. Value for money. I can't expect that type of sound and connectivity will get in this price range. Last time I bought Boult ear buds and refunded due to charging issue and connectivity issue.  That sound was not as powerful as this Boat headphone provides. Really happy to advise all of you if are searching for Bluetooth headphones please go for it. You will get everything you are searching for.  Thanks Flipcart. And request all of you please go for only Indian Products.\"),\n",
       " Document(metadata={'source': 'ACCFHGZFS7GB9CVM', 'row': 366, 'product_title': 'realme Buds Wireless Bluetooth Headset', 'rating': '5', 'summary': 'Super!'}, page_content=\"review: These earbuds are the best you could buy. good build quality, excellent sound and bass. Mic works excellent even while riding a bike. Audio is clear and the battery last long too. Idk exact hours.Realme, you've outdone it😍\"),\n",
       " Document(metadata={'source': 'ACCFVWN4PGNTEFGY', 'row': 596, 'product_title': 'realme Buds Q Bluetooth Headset', 'rating': '3', 'summary': 'Good'}, page_content='review: Pocket friendly worth buying sound quality is awesone bass is also good battery backup is also quite good.10/09'),\n",
       " Document(metadata={'source': 'B0CQ3VXJ3J', 'row': 81, 'product_title': 'Samsung Galaxy Book4 Pro 16-inch Laptop', 'rating': '5', 'summary': \"It's good overall\"}, page_content=\"review: I've been using it for half a year now.I think everything is good, except it has a serious overheating problem. Kinda hard to put it on your leg.I do love the touch screen, performance is average. Pretty light weight.\"),\n",
       " Document(metadata={'source': 'ACCFVWN4PGNTEFGY', 'row': 604, 'product_title': 'realme Buds Q Bluetooth Headset', 'rating': '5', 'summary': 'Worth every penny'}, page_content='review: good sound quality🤩'),\n",
       " Document(metadata={'source': 'B0B4MWCFV4', 'row': 144, 'product_title': 'Fitbit Versa 4 Fitness Smartwatch', 'rating': '5', 'summary': 'Works great, with one exception'}, page_content='review: Ordered this device as an upgrade to my Fitbit Charge 2, which I’d had for well over 10 years.The functionality is great and there are so many new features. If you don’t look close, you would think you have on an iWatch.My issue was with the band which is made of silicone. Bands for the older device were plastic but contained no silicone. I encountered an allergic reaction/chemical burn (see photo) after wearing it for about 4 days. Had to leave it off for about a week until the area healed. While waiting I ordered cloth bands which work perfectly for me.'),\n",
       " Document(metadata={'source': 'ACCFKYE2ARGG67WC', 'row': 492, 'product_title': 'realme Buds 2 Wired Headset', 'rating': '5', 'summary': 'Simply awesome'}, page_content='review: Pros: 1.Sound is crisp and Clear 2.Bass is Awsome 3.Design and build quality excellent4.Cable organizer is usefull to carry pick up your earphone safetly5.Call quality is clearly delivered to whos speak with uscons:1. its a straight cable not triangle2.Not Gold plated 3.5mm Jack'),\n",
       " Document(metadata={'source': 'B0CQ3VXJ3J', 'row': 119, 'product_title': 'Samsung Galaxy Book4 Pro 16-inch Laptop', 'rating': '1', 'summary': 'Disappointed'}, page_content=\"review: For the second time in a row I'm thoroughly disappointed with a Samsung laptop. After service and the warranty by asurion is even worse.\"),\n",
       " Document(metadata={'source': 'ACCFSKBJYWZKXGCP', 'row': 632, 'product_title': 'U&I Titanic Series - Low Price Bluetooth Neckband Bluetooth Headset', 'rating': '5', 'summary': 'Wonderful'}, page_content='review: Very good quality bluetooth neckband. The battery backup is amazing and it has good sound and bass qaulity. It is a worth buying product. It holds value for  money. Very much satisfied.'),\n",
       " Document(metadata={'source': 'ACCEVQZABYWJHRHF', 'row': 723, 'product_title': 'BoAt BassHeads 100 Wired Headset', 'rating': '3', 'summary': 'Nice'}, page_content=\"review: Nice headphone.I have used both 100 and. 225 bassheads.the wire quality is also not so bad compared to bass head 225 and the best thing is in 225 the bass is over normal and so normal treble and vocal get suppress.But in 100 bass heads the sound is just balanced and bass is super and over all sounds awesome , if want a earphones and don't want over bass with suppressed treble and vocals then go with bass heads 100 where everything is balanced and. awesome.\"),\n",
       " Document(metadata={'source': 'ACCFHGZFS7GB9CVM', 'row': 360, 'product_title': 'realme Buds Wireless Bluetooth Headset', 'rating': '5', 'summary': 'Fabulous!'}, page_content=\"review: I will tell you some hidden features that you might have not heard and will summarize my review as follows first:👉Sound quality is 4/5👉Build and quality 5/5👉Features 5/5👉Looks 5/5👉 Battery 6/5 yes its 6/5👌👉Overall price to product 5/5👈👌If your Budget allows you can buy them they are really greatNOW SOME HIDDEN Features not actually hidden but yah that many you have not heardRead the full para for correct infoThe major con you hear is that it doesn't have ⚡off button ⚡But...\"),\n",
       " Document(metadata={'source': 'ACCFKYE2ARGG67WC', 'row': 505, 'product_title': 'realme Buds 2 Wired Headset', 'rating': '5', 'summary': 'Best in the market!'}, page_content=\"review: This is the best for daily use. It feels like nothing when in the ear and it's easy to keep organised, thanks to the magnets and organizer. It also has two extra buds one small and large which you can use according to your preference. It also has a tangle free wire. And Flipkart packing and delivery is always the best. No doubt about that.\"),\n",
       " Document(metadata={'source': 'B0C33XXS56', 'row': 270, 'product_title': 'Sony WF-1000XM5 Wireless Noise Canceling Earbuds', 'rating': '3', 'summary': 'Ok ear buds with bad mic quality'}, page_content=\"review: I am writing this review as of December 2nd 2024I bought this one on release day because my previous WF1000xm4 ( the previous generation ) stopped working due to the right earbud battery drain issue that affected many users. This version got slight improvements on some stuff but no improvements on other parts.Comfort - the earbuds feel a bit smaller and got a better fit to my ears compared to the previous version. The ear tips got improvements as well, now they have a tiny net inside that prevents anything from reaching the inside of the earbuds. They still use the memory foam pad but I'm not sure if it is the same or not compared to xm4s.Sound Quality - I don't notice any different between xm5 vs xm4 . I use Tidal as my music streaming service. I have prioritize quality setting on the sony app and highest quality streaming on Tidal.The charging case is smaller and easier to carry around. The charging is fairly easy. Now the case have a pairing button instead of holding both earbuds for the last generation. Also for first time pairing, a pop up will show on the screen to set up and connect the device to the phone.Sony headphone app - the app is awful. They have upgraded to a newer version but it is still awful mainly for the updates. I always get notifications on my phone about the battery percentage of the earbuds. Updates have weird requirements and it takes long.Mic quality - I don't use the mic often but i used it a lot during a vacation to call my family/friends without having to hold my phone. I was told that my voice wasn't clear enough and was asked to repeat what i said multiple times. Two times i was told that the mic quality is bad.  I couldn't tell how bad it is, i can't call my self and find out. What I did is that I opened my camera app, selected video recording and chose the mic from the earbud instead of the phone. When I heard the recording, i lt was so flexible l horrible but I'm not sure if that was something wrong with the camera app or what.Connectivity - it is bluetooth. Easy to connect. For first time, open the case and a pop up will show. After that, just open the case and put on the earbuds and they will work. No loss in connection if it was already paired. There is one issue that was in the xm4 and still is in this one . I notice sometimes that when I return the earbuds to the case, they will still be connected to the phone. I had this issue on my previous phone with the same earbuds and never had them with different brands. Sometimes I notice it if I watch a video and no audio comes from my phone speaker but many times I return them to the case and do something else then find out later that they have been connected to my phone and never disconnected then I'd have to charge them again even though they were inside the case. I think sometimes they don't sit right inside the case which causes the issue I'm facing.I'd consider this one if I prefer convenience and comfort over sound/mic quality.\"),\n",
       " Document(metadata={'source': 'ACCEVQZABYWJHRHF', 'row': 739, 'product_title': 'BoAt BassHeads 100 Wired Headset', 'rating': '5', 'summary': 'Best in the market!'}, page_content=\"review: Cute color, wonderful sound and fits good to ear. I am using these for a week now and I'm really liking it.\"),\n",
       " Document(metadata={'source': 'ACCFVA3KZ2EYMYX3', 'row': 520, 'product_title': 'OnePlus Bullets Wireless Z Bass Edition Bluetooth Headset', 'rating': '4', 'summary': 'Good choice'}, page_content=\"review: The sound quality is really good and it's worth every penny. But the unit I received had some manufacturing defect so after around 3 months of use, the volume in the left side kept decreasing for a week and then completely stopped. Thanks to the one year warranty I took it to the service centre for replacement. And they said I'll get the new one in 7 to 10 days! That's a long time for a music lover to stay without earphones... I also checked the OnePlus website and there were a lot of people ...\"),\n",
       " Document(metadata={'source': 'ACCFVWN4PGNTEFGY', 'row': 592, 'product_title': 'realme Buds Q Bluetooth Headset', 'rating': '5', 'summary': 'Super!'}, page_content='review: All are good but Noice cancelation on call not good .'),\n",
       " Document(metadata={'source': 'ACCFKYE2ARGG67WC', 'row': 481, 'product_title': 'realme Buds 2 Wired Headset', 'rating': '4', 'summary': 'Wonderful'}, page_content='review: Sound very good Punchy bassClear soundBut look is not so good especially in green color it’s looks so simple I mean quality Overall great purchase'),\n",
       " Document(metadata={'source': 'ACCEVQZABYWJHRHF', 'row': 758, 'product_title': 'BoAt BassHeads 100 Wired Headset', 'rating': '4', 'summary': 'Value-for-money'}, page_content=\"review: Good earbuds at this price Range and Boat provides good product at Low budget and I think if you're looking for a earbuds that is good and your budget is Low than must Buy.\"),\n",
       " Document(metadata={'source': 'ACCFKYE2ARGG67WC', 'row': 475, 'product_title': 'realme Buds 2 Wired Headset', 'rating': '5', 'summary': 'Classy product'}, page_content=\"review: It's a allrounder. I used this for playing pubg , footsteps is clearly audible, music is awesome . I suggest you to purchase this earphone if your budget is under 600. I am happy with the product.\"),\n",
       " Document(metadata={'source': 'ACCFSKBJYWZKXGCP', 'row': 642, 'product_title': 'U&I Titanic Series - Low Price Bluetooth Neckband Bluetooth Headset', 'rating': '5', 'summary': 'Terrific purchase'}, page_content='review: Wonderful ProductAwesome product.This is really very good neckband.Awesome sound quality.Battery life long lasting.Mic is very solid.Battery back up is very good.Bass is also superb.Overall the product is must buy at very affordable price.Highly recommended.Just go for it.'),\n",
       " Document(metadata={'source': 'B0C33XXS56', 'row': 263, 'product_title': 'Sony WF-1000XM5 Wireless Noise Canceling Earbuds', 'rating': '1', 'summary': 'Great as headphones but...'}, page_content=\"review: I've used WF1000XM4s for a while before upgrading to these in July of 2023. In fact, I ordered 2 of them so that when 1 pair died, I'd have another pair to use. Excessive, but effective. However, much like the XM4s, I think there are some quality control problems. By February, the first pair (XM5s) I ordered started acting up. It was having issues with voice calls where people would say they could not hear me at all no matter what I did, I went through all the troubleshooting steps with Sony and they told me to send the faulty pair to them. Which is okay, this stuff happens, but I also had problems with the XM4s that made me also go back to Sony support as well. the problems with my XM4s were that they would not charge and drained too quickly, as well as have problems where one of the buds would stop playing sound completely.So, I wanted to try the XM5s to see if all these issues were fixed. To be fair, they were fixed. The battery drain isn't quick, the sound quality is better, battery life overall and uneven draining is improved. They are a step up from the XM4s and I can confirm that. However, there are some issues with the XM5s currently. First of all, the call quality seems to be bugged out as my second pair has started to have issues just like the first. I’ve been using these comply tips and it could be the tips themselves but for whatever reason, there is a significant muting of sounds when the headphones are in vs when are out which didn’t seem to be the case before. It seems that these headphones have a problem with longevity and the quality control is pretty consistently not up to par with the price.It's a shame that in my review of headphones, it took this long to get to the sound quality of the headphones themselves. The EQ settings have been improved and you get some more curation based on your preferences. I think for BT, they sound great, Early into getting the pair, there were moments where it was so clear, I had to pop a bud out to make sure the sounds weren’t coming from somewhere else.The multipoint connections are still a little buggy.  I would have them connected to my phone and desktop and I’d get spammed by a message asking me to go back to my last used device. Only way to remedy this issue was to block that notification. For these reasons and issues, I just can’t recommend paying for these headphones unless they’re under a hefty discount. I don’t think you can justify the price while having all these glaring issues. The quality control and reliability of these headphones is extremely subpar and this has persisted through the XM4s and continues, unfortunately into the lifecycle of the XM5s.Update: mic issue has persisted and cannot get them to work anymore. I am constantly plagued by issues with the headphones that I favor the EAH-AZ80s over them as they are much more reliable. I do not recommend these headphones at all.\"),\n",
       " Document(metadata={'source': 'B0BN95FRW9', 'row': 199, 'product_title': 'Apple iPhone 14 Pro 128GB (Renewed)', 'rating': '4', 'summary': 'Fair Purchase'}, page_content='review: Overall, this is a good purchase. The iPhone 14 pro came scratch-free (super-clean). My only complaint is that battery-life is 86%. The product worked as described by the seller.'),\n",
       " Document(metadata={'source': 'B0B4MWCFV4', 'row': 127, 'product_title': 'Fitbit Versa 4 Fitness Smartwatch', 'rating': '5', 'summary': 'Elegant and lots of features'}, page_content='review: The media could not be loaded.                                                                                            I still am exploring it but I liked it so far. I have had it for few days now..- You can receive phone calls on the watch and have the option to answer or hang up.- You can receive text messages and read them. You can even reply with an emoticon that will pop up on the watch.- You can receive email notifications on your watch, archive them, clear them or open them.- In order to receive calls/texts/e-mails, you need to plug your watch (charge it) and go on your Fitbit App to activate this feature, after clicking on your picture.You also need to ensure in your phone settings, that you have notifications ON for your phone and you will be able to receive all those notifications on your watch.- In order to enjoy the functionality of your watch to its maximum potential, you need to invest time to explore its different features.  I find the e-mails I receive from Fitbit very useful to teach how to use. That is how I learnt. Or else, I wouldn\\'t be able to automatically receive the notifications.- GPS: I have not been able to use it yet, but plan on doing so soon. However, when you put Google Maps on your phone (Android), you should be able to receive the notifications (of turn right on X street, keep straight, turn left, etc...) on you watch. Which is cool.- Weather: you can have the weather at your fingertips! It showcases the weather in the area you are in automatically. If you tap on it, it will let you see a forecast of 2 hours at a time, as well as next 2 days! Isn\\'t it cool!?- Heart Rate (when active and when at rest!) Cool feature!- Steps/Miles/Calories/Exercise like any Fitbit- Clock: If you go on the app online, you can actually add up to 5 clock backgrounds! For Free if you click from Fitbit. Otherwise, there are some tier parties that either do for Free, or Charge a minimal fee.It is easy and fast to change and download!- Timers: there are 2 preset timers (5 and 10 minutes), or you can click on the 3 dots and select/customize your timer! When time is up, it will vibrate on your hand and give you the option to end it or repeat it.- Double Click: it gives you options- Press long on the left button: and you can program it on your Fitbit App, to lock to the feature of your liking! I chose the \"Find my phone\" feature, which is pretty loud and works well!I am sharing a detailed review because I wish I found one similar to explain all the features.If you like my review and find it useful, please click on the thumbs up. Thank you!'),\n",
       " Document(metadata={'source': 'B0CHX7R6WJ', 'row': 1, 'product_title': 'Apple Watch SE 2nd Gen 40mm GPS', 'rating': '5', 'summary': 'Amazing, my favorite purchase'}, page_content='review: Absolutely love this watch! It’s my first smart watch, so I decided to start with the SE and if I wanted to upgrade to the Series 9/10 I could later. But this little watch does everything I need it to. I don’t work out a lot, but I enjoy using it when I dance and go on walks. I like that you can text or answer calls quickly when you’re away from your phone. I have a very hands-on job, but the screen looks good, some scratches if you look reallly hard, but no large cracks. I also really like the starlight color, it’s a nice warmer silver that matches more of my outfits/jewelry. Vernal, very happy with it.'),\n",
       " Document(metadata={'source': 'ACCFHGZFS7GB9CVM', 'row': 405, 'product_title': 'realme Buds Wireless Bluetooth Headset', 'rating': '5', 'summary': 'Super!'}, page_content='review: It was a very good product and I like it . It is a very good choice for this price.'),\n",
       " Document(metadata={'source': 'B0C33XXS56', 'row': 281, 'product_title': 'Sony WF-1000XM5 Wireless Noise Canceling Earbuds', 'rating': '3', 'summary': 'Nice Sound, Mediocre Experience'}, page_content='review: In a sense, these are great earbuds because they manage the two most important tasks: they fit comfortably in my ears and they sound good (for earbuds).Unfortunately, everything else about them is a mess of questionable implementation decisions -- to the point that I felt compelled to review them.While they are comfortable, the design is _strange_ and requires a sort of twisting motion to \"lock in\" to the earlobe. From one angle, this is good: I do think this makes them fairly secure and helps prevent them from falling out. From a usability angle, though, they\\'ve got a weird shape which means they never fit into my ear the same way.This is a problem because the touch sensitive component is never where I expect it to be. This makes pausing or playing audio a trial-and-error affair as I search for the touch area.They\\'re also small, though. So pulling them out means I will _always_ hit the touch area. I\\'ve found it to be almost impossible to remove the right bud without also starting my podcast playing again.Even that wouldn\\'t be so bad except the in-ear detection is laughably bad. This negates multiple features like \"remove to pause\" and \"switch the other ear to transparency mode when an earbud is removed\". Those features just may as well not exist.Also, at random points, it will just tell me the current time and that I have no notifications.At other random points, it will just tell me that it\\'s able to read notifications. Again, at random, based on no action that I\\'ve taken.Finally, I was expecting the noise canceling to be better. This could be because I\\'m using the smaller tips than I should be using: but that\\'s required to avoid pain. And the seal is tight enough to cause me to feel like there\\'s a pressure in my head, so I think this is a valid complaint.That said, they do work. And they sound nice. And the multipoint support works for non-Apple devices (which is the main reason I didn\\'t get another pair of AirPods Pro).But on the software and design side, they just don\\'t really live up to the other reviews I\\'ve seen. Which is really surprising since I _adore_ my WH-1000MX3 and WH-1000MX5 noise-canceling over-the-ear headphones. So I know Sony can do better. Maybe next time.'),\n",
       " Document(metadata={'source': 'B0C33XXS56', 'row': 277, 'product_title': 'Sony WF-1000XM5 Wireless Noise Canceling Earbuds', 'rating': '4', 'summary': 'Good for a bluetooth headphone but not as good of sound as with quality wired in-ear headphones'}, page_content='review: These earbuds work well once you have figured how to fit them. I had to go to some Azla aftermarket caps to get a good seal and decent sound. The wireless freedom is nice and they are comfortable. I have a pair of Etymotic ER4s and their clarity and power efficiency and sound isolation is far better, but having in ear earphones and being wired is not for everyone.'),\n",
       " Document(metadata={'source': 'ACCFVA3KZ2EYMYX3', 'row': 516, 'product_title': 'OnePlus Bullets Wireless Z Bass Edition Bluetooth Headset', 'rating': '5', 'summary': 'Best in the market!'}, page_content='review: Quality is very goodAndSound and bass is also very good But battery is not good Battery backup is not 17hours Battery backup only 10 hours on full volumeAnd this earphone is very good on all condition But battery is not on markAnd 10 to 12 it charge 70 to 80 and playback time upto 8 hoursAnd it completely charge in 20 to 30 minutes But no warning for low batteryI check two time i can not seen low battery warningOverall great product in this price'),\n",
       " Document(metadata={'source': 'ACCEVQZABYWJHRHF', 'row': 752, 'product_title': 'BoAt BassHeads 100 Wired Headset', 'rating': '5', 'summary': 'Mind-blowing purchase'}, page_content=\"review: Perfect bass perfect build quality i hv been use it for past 2 months and it comes out with great performance... really Worth it :') for genuine music lovers...\"),\n",
       " Document(metadata={'source': 'ACCFHGZFS7GB9CVM', 'row': 408, 'product_title': 'realme Buds Wireless Bluetooth Headset', 'rating': '5', 'summary': 'Classy product'}, page_content='review: It is too good it has good battery backup and quality is mind blowing and sounds too good and is the worth product....'),\n",
       " Document(metadata={'source': 'ACCFKYE2ARGG67WC', 'row': 488, 'product_title': 'realme Buds 2 Wired Headset', 'rating': '5', 'summary': 'Great product'}, page_content=\"review: I don't know much about the technicality of the earphones but the sound output from these earphones  is pretty good for its price , sound coming from them is crystal clear ,these are undoubtedly the best earphones in this price range.\"),\n",
       " Document(metadata={'source': 'B0BN95FRW9', 'row': 200, 'product_title': 'Apple iPhone 14 Pro 128GB (Renewed)', 'rating': '4', 'summary': 'Almost flawless'}, page_content='review: Phone looks like it’s been in a case and screen protector it’s whole life, not a single scratch or blemish on it, I have nothing I can see physically that’s wrong with it, only complaint is the battery health came at 91% but that may vary phone by phone, but it was a well and good purchase and I recommend for anyone looking for the pro iPhone and doesn’t have 1299$ to spend on one, 8.5/10'),\n",
       " Document(metadata={'source': 'ACCFHGZFS7GB9CVM', 'row': 401, 'product_title': 'realme Buds Wireless Bluetooth Headset', 'rating': '5', 'summary': 'Super!'}, page_content=\"review: The product is amazing. The sound quality is great, it is so light you won't even feel it's there, battery backup is huge. Lasts for 2 days easily. If less use than maybe a week. Easy to clean. They give extra earbuds. Bluetooth range is great. Sound clarity is great. Everything is great.\"),\n",
       " Document(metadata={'source': 'ACCFVA3KZ2EYMYX3', 'row': 515, 'product_title': 'OnePlus Bullets Wireless Z Bass Edition Bluetooth Headset', 'rating': '5', 'summary': 'Must buy!'}, page_content=\"review: This review i was posted after 1 week using this 1+ bass editions neckband. It's sound quality is awesome bass effect also awesome then call audio quality also super when i receive this project it was 100% changed i was used more then 4 days in this neckband using audio and video player per day i am used 3 hrs approximately after 4 days i got 40% of remaining charger. i changed this neckband with in 10 minutes its fully charged. its worth for money.\"),\n",
       " Document(metadata={'source': 'ACCFKYE2ARGG67WC', 'row': 465, 'product_title': 'realme Buds 2 Wired Headset', 'rating': '5', 'summary': 'Excellent'}, page_content='review: nice earphones with smooth sound. even the build quality is best . this earphone is better for bass lover . and also  for smooth playback'),\n",
       " Document(metadata={'source': 'B0BN95FRW9', 'row': 187, 'product_title': 'Apple iPhone 14 Pro 128GB (Renewed)', 'rating': '4', 'summary': 'Good Option for Refurbished'}, page_content='review: Everything looks great! No scratches that I can see. Only downside is the phone came with 84% Battery Health. Wish it was closer to 90%.'),\n",
       " Document(metadata={'source': 'B0CHX7R6WJ', 'row': 18, 'product_title': 'Apple Watch SE 2nd Gen 40mm GPS', 'rating': '4', 'summary': 'Satisfied'}, page_content='review: The media could not be loaded.                                                                                            The only reason I ordered it from Amazon not the official website was because the price was lower. It arrived in a perfect condition. As for the product, I’m satisfied with it just like any other Apple products. I’ve had it for a month but I don’t wear it all day just because I don’t like having anything on my wrist. It’s mostly for workout purposes. The only thing I don’t approve of is the battery life. The battery runs out fast even when I leave it on a counter all day. But like I said, since I don’t wear it often. It doesn’t bother me too much.'),\n",
       " Document(metadata={'source': 'B0DLHTTWVB', 'row': 246, 'product_title': 'Apple MacBook Air 13-inch M3 (2024)', 'rating': '5', 'summary': 'Awesome deal! Battery life is great!'}, page_content=\"review: Bought this one during Black Friday deals and it works great. Had to replace my old Macbook as the screen and battery was becoming faulty. In the interim, I was using an older laptop after I retired my Macbook. After getting this new Macbook Air, I was very happy that the battery life was so much better as I had forgotten how long it had been since I didn't have to constantly charge the laptop. I charge the laptop once every two days or so as the charge genuinely lasts that long. Even with a million tabs on my browser (yes, I am one of those people), there is no lag at all. The laptop barely gives off any heat at all even when I push it to run multiple programs.\"),\n",
       " Document(metadata={'source': 'B0CQ3VXJ3J', 'row': 110, 'product_title': 'Samsung Galaxy Book4 Pro 16-inch Laptop', 'rating': '5', 'summary': 'great so far!'}, page_content='review: I am really enjoying this laptop, it is fast, strong and elegant. No issues so far!'),\n",
       " Document(metadata={'source': 'B0B4MWCFV4', 'row': 142, 'product_title': 'Fitbit Versa 4 Fitness Smartwatch', 'rating': '4', 'summary': 'Review'}, page_content='review: It would be great if you could call or text.'),\n",
       " Document(metadata={'source': 'ACCFSDGXX3S6DVBG', 'row': 702, 'product_title': 'BoAt Airdopes 131 Bluetooth Headset', 'rating': '4', 'summary': 'Nice product'}, page_content=\"review: This is good only... If your looking for fast beat with high bass, then don't go with this product. Else go for it and it will be worth for amount.\"),\n",
       " Document(metadata={'source': 'B0B4MWCFV4', 'row': 134, 'product_title': 'Fitbit Versa 4 Fitness Smartwatch', 'rating': '4', 'summary': 'Updated: Google/Fitbit provided excellent warranty support to resolve issues'}, page_content='review: Google/Fitbit customer service provided excellent warranty support to replace defective watch within a week.  Now it is working fine with the replacement provided.  Watch build quality seems good on the outside but concerned about touchscreen electronics failing due to some design issues....PREVIOUS:Worked okay at start, but now touch sensitivity is erratic to the point of making the watch useless - a watch should last more than a year.  Others reporting the same issue on forums.'),\n",
       " Document(metadata={'source': 'B0DLHTTWVB', 'row': 252, 'product_title': 'Apple MacBook Air 13-inch M3 (2024)', 'rating': '5', 'summary': 'Great Apple laptop for college'}, page_content='review: Great laptop computer for my high school senior granddaughter to take with her to college.  Third one I’ve purchased for senior grandchildren going off to school.'),\n",
       " Document(metadata={'source': 'B0B4MWCFV4', 'row': 151, 'product_title': 'Fitbit Versa 4 Fitness Smartwatch', 'rating': '5', 'summary': 'Gives me an adjective on a daily basis!'}, page_content='review: Not Teck Savy but can understand what I need too.Helped me to understand my sleep rating that is actually good!'),\n",
       " Document(metadata={'source': 'ACCFSDGXX3S6DVBG', 'row': 685, 'product_title': 'BoAt Airdopes 131 Bluetooth Headset', 'rating': '5', 'summary': 'Terrific purchase'}, page_content='review: Boat is just super noone can beat ....in this range best earpods .... battery is super and sound is terrificFast delivery by Flipkart thanks'),\n",
       " Document(metadata={'source': 'B0CHX7R6WJ', 'row': 34, 'product_title': 'Apple Watch SE 2nd Gen 40mm GPS', 'rating': '4', 'summary': 'Does the job'}, page_content='review: Received this watch & has everything I need to monitor my lifestyle. I wish the battery would last longer & didn’t have to charge it so often'),\n",
       " Document(metadata={'source': 'ACCFR3Q77R6RRGAC', 'row': 458, 'product_title': 'OnePlus Bullets Wireless Z Bluetooth Headset', 'rating': '5', 'summary': 'Worth every penny'}, page_content='review: 1)Sound Quality Is Best.2)Bass superb but less than OnePlus bullet 2.3) Design and Build quality is best.4) Battery Back-up is very very Awesome. Standby time is 8-9 hour in 10 min charging..5) Full charge backup 19-20 hours really good and Best..6) Latency is Awesome i am tested this in Call of Duty..7) Noise cancellation is in Average mode ..8) Full charge in 25-30 min..In 10 min 50-60 % charge.9) connectivity is Awesome working in OnePlus...Other devices take time 5-10 se...'),\n",
       " Document(metadata={'source': 'B0C33XXS56', 'row': 307, 'product_title': 'Sony WF-1000XM5 Wireless Noise Canceling Earbuds', 'rating': '5', 'summary': 'Yes, It worth an upgrade!'}, page_content=\"review: I was looking for the best noise canceling earbuds as I was tired of using a mediocre Galaxy Buds 2. So I started my research on earbuds that I can use for long hours and don't want to feel pain in my ears. Since I had Sony over-the-ear headset WH-1000XM4, I decided to go for Sony. I picked up XM4 earbuds from Amazon, connected with my Galaxy S23 Ultra and right away I was blown away by the crisp sound quality of XM4. I used it for a week, however, it was not comfortable at all. XM4 are bigger, heavier and the overall design is bulkier. So I returned those after getting pain in my ear canal and I completely dropped the idea of using in-ear buds. I bought Apple Airpod Pro 2 to counter the experience that I have just had with XM4 because it was cheaper than WF-1000XM5 and was highly rated. Though I am using Android flagship, but Apple Airpod Pro 2 can be configured using an ipad and macbook which I already have so I was able to configure it and use it with my Android phone. Other than spatial sound, I could use the Airpods pro 2 at their best. To my surprise, Airpods work amazing with Android espacially after I installed equilizers and increasing the bit rates. It even sounded better than when connected to an ipad. But within a week, I started to feel that it doesn't create an air tight seal to give the best music quality possible. I almost lost an Airpod without noticing that it fell out of my ear. Also while walking around, moving head too much, Airpods tend to get lose. I gave up on those also as it was not justified to pay premium price but not getting the features I need.So I went to the latest and greatest WF-1000XM5. These are smaller than XM4, lighter, made with premium material and you can tell right away that these earbuds are top notch. I connected my phone, enabled LDAP (Sony proprietary codec for bluetooth) and then up the bitrate in Android developers mode to maximum. Gave it some reverb and slightly increase the mids of XM5 and wow they sounded best of all that I have tried so far. It has memory foam tips, which are not that bad in the ear. I can wear those for hours without noticing that I have something in my ear. It creates a good air tight seal, ANC is amazing, sound quality is great. Some people have complained about ANC not be that good in crowded place, but in my use case I haven't encountered a situation where ANC is not up to mark. I personally think it was worth an upgrade from XM4 and it has given me better music on S23 Ultra than using Airpods. Sony knows how music sound great. These are earbuds until Sony makes the next upgrade XM6.\"),\n",
       " Document(metadata={'source': 'B0DLHTTWVB', 'row': 244, 'product_title': 'Apple MacBook Air 13-inch M3 (2024)', 'rating': '5', 'summary': 'Very happy with my purchase'}, page_content='review: I have prepared for my purchase of a laptop for 1 yr. I had not narrowed it to a particular brand until about two months ago. After much research, I decided the Apple MacBook Air M3 fit exactly my needs.The construction of the aluminum case feels very study. I am finding the Apple system and support are a big plus. The laptop was super easy to set up for my needs.The battery charge last a long time. My last charge lasted 4 days. Now I’m not a gamer. I use my laptop for everything from communications on emails, some social media, watching news, reading research articles and doing some excel spreadsheets.I am very happy with my purchase. It is light enough for easy portability. I look forward to years of using the MacBook.I will add that if you have concerns about finger prints on the case, get the silver. I have had zero finger print issues with this color.'),\n",
       " Document(metadata={'source': 'B0CQ3VXJ3J', 'row': 75, 'product_title': 'Samsung Galaxy Book4 Pro 16-inch Laptop', 'rating': '3', 'summary': 'Sweet looking, but terrible keyboard'}, page_content=\"review: I was trying out a number of computers for work and this was one of them. It's a nice laptop, good internals, solid build, overall it looks nice and runs well. It is a bit heavy and the build is essentially a copy of the Macbook Air.The whole reason why I would not recommend this laptop is because of the keyboard. Typing on this is absolutely terrible. Gave me the ick by typing on it. After spending a day with it I knew this was a terrible keyboard.I ended up going with the Zenbook Duo 2024 from ASUS. Great laptop, highly recommended.\"),\n",
       " Document(metadata={'source': 'ACCFSDGXX3S6DVBG', 'row': 693, 'product_title': 'BoAt Airdopes 131 Bluetooth Headset', 'rating': '3', 'summary': 'Does the job'}, page_content=\"review: Don't expect bass... decent audio quality not so great ... Good for calls and mic works well ..fits perfectly in ear but continues usuage will get pain in ears as the size is little bigOverall value for money product\"),\n",
       " Document(metadata={'source': 'ACCFVWN4PGNTEFGY', 'row': 589, 'product_title': 'realme Buds Q Bluetooth Headset', 'rating': '5', 'summary': 'Worth every penny'}, page_content='review: Best Quality buds'),\n",
       " Document(metadata={'source': 'B0CHX7R6WJ', 'row': 37, 'product_title': 'Apple Watch SE 2nd Gen 40mm GPS', 'rating': '5', 'summary': 'Perfect and Affordable!'}, page_content='review: I’ve been steadily growing my collection of Apple products, and always had the Apple Watch on my list. The SE is the perfect buy for anyone looking for a sleek, stylish, and functional smartwatch at a fair price. It is compatible with the latest iOS and has all of the application features I was looking for (and then some)! Plus it has loads of cute watch faces to choose from - you can even easily switch between faces by adding them to your “Favorites.” All-in-all I’m very happy with my purchase!'),\n",
       " Document(metadata={'source': 'ACCFVA3KZ2EYMYX3', 'row': 512, 'product_title': 'OnePlus Bullets Wireless Z Bass Edition Bluetooth Headset', 'rating': '4', 'summary': 'Really Nice'}, page_content=\"review: This review i was posted after 1 week using this 1+ bass editions neckband. It's sound quality is awesome bass effect also awesom then call audio quality also super when i receive this project it was 100% changed i was used more then 4 days in this neckband using audio and video player per day i am used 3 hrs approximately after 4 days i god 40% of remaining charger. i changed this  neckband with in 10 minutes its fully charged. its worth for money.\"),\n",
       " Document(metadata={'source': 'ACCEVQZABYWJHRHF', 'row': 733, 'product_title': 'BoAt BassHeads 100 Wired Headset', 'rating': '1', 'summary': 'Very poor'}, page_content='review: look wise good but after 15 days it is available for just looks  only ,, very bad in 15 days one side is not working properly'),\n",
       " Document(metadata={'source': 'B0DLHTTWVB', 'row': 225, 'product_title': 'Apple MacBook Air 13-inch M3 (2024)', 'rating': '5', 'summary': 'Love it! :)'}, page_content=\"review: I've had this computer for about 2 months now and I love it. I use it more for school and craft stuff. I wish the storage were a little bit more for the price but it is worth it! I've had an 8 GB one for a while, but when that died down I needed a new one and this was worth every penny. No issues with the setup and also transferring over files from my old Macbook to this one.\"),\n",
       " Document(metadata={'source': 'B0C33XXS56', 'row': 272, 'product_title': 'Sony WF-1000XM5 Wireless Noise Canceling Earbuds', 'rating': '4', 'summary': 'Clear, quiet, smaller and lighter than the XM4'}, page_content='review: I use a range of Sony headphones and earbuds, from the MDR-Z1R to the IER-M9 to consumer models like the WH-1000XM and WF-1000XM series. It all depends on where I am (at home, on the go locally, or traveling) and what equipment I\\'m using (a Sony digital music player with a balanced headphone output jack or Bluetooth LDAC support, or a simple iPhone that only supports the Bluetooth AAC codec).My WF-1000XM5 pair arrived July 28, 2023 (the day before I wrote this review). After testing them and completing the initial update to the 2.0.1 firmware (by the time you read this, there may be a newer version), I found that I just left the earbuds in for the rest of the day, whether I was listening to music, making calls, or enjoying some quiet time. They\\'re smaller, lighter, and more comfortable than my WF-1000XM4 pair, to the point that I don\\'t really notice I\\'m wearing them.Sound-wise, there is a noticeable improvement in bass and in the midrange. I didn\\'t notice much of a difference in treble, although I like less bass and more treble than the average person (hence my choice of the IER-M9 over the two alternatives in that product line).The noise-canceling has improved across the board. As always, it\\'s important to try the different tips, including the possibility that you will need a different size in each ear. I was surprised to see that mentioned in the in-app tutorial!I am used to third-party expanding foam tips for my WF-1000XM4 pair, so we\\'ll see whether third-party vendors offer something similar for the new model. For now, the stock tips work fine. They remind me of the alternate-texture tips that come with the IER-M9.Now, a few flaws, worth mentioning given the price of this product...First, Sony\\'s model numbering is stupid and not consumer-friendly. Normal people can get excited about \"AirPods\" but not about \"WF-1000XM5s\".Second, the charging case, though now significantly smaller, still lacks any sort of finding feature. It would have been a simple matter for Sony to add the ability, through the clunky Headphones Connect app, to make a pair of earbuds in the case play a loud sound so you could find the case if you\\'d misplaced it. Apple of course makes precisely locating its products very easy.Third, in their hubris, product designers at Sony have made something small and lovely but forgotten about the environments in which it will be used. There is NO tactile feedback to let us distinguish the left earbud from the right. The L and R marks are tiny (just millimeters tall) and the use of dull grey for L and red for R makes them invisible in the dark. If I\\'m out walking in the evening without the case, have taken off the earbuds for a moment, and am putting them back on, I should not have to use my iPhone\\'s flash to tell left from right.Last but not least, the Headphones Connect app is becoming an ever more elaborate trainwreck. There are just too many options and features. With no distinction between what\\'s essential and what\\'s not, you have to open three tabs in succession, scroll down, and open endless settings panels (each accessed by a gear icon) to cover everything. Pesty notifications come back every time you start the app, even if you deleted them the last time. Sony tries again and again to make you sign up for various accounts, and is of course gathering information about you, your cell phone, and your listening activity every time you use their app. Since Sony\\'s 360 spatial audio only works with a handful of paid, proprietary music apps (a big gap, compared to the more-or-less universal, iOS-level support for this feature with Apple wireless headphones and earbuds), I don\\'t even bother setting it up.Overall, the WF-1000XM5 is an excellent pair of wireless earbuds in terms of sound, noise canceling, and comfort, and Sony could make improvements by renaming them, adding a raised plastic dot to make the right earbud distinguishable by touch, and ditching the Headphones Connect app in favor a lightweight (and ideally, data-privacy-conscious) control panel.'),\n",
       " Document(metadata={'source': 'ACCFVWN4PGNTEFGY', 'row': 595, 'product_title': 'realme Buds Q Bluetooth Headset', 'rating': '4', 'summary': 'Worth the money'}, page_content='review: Good product.'),\n",
       " Document(metadata={'source': 'ACCFSDGXX3S6DVBG', 'row': 664, 'product_title': 'BoAt Airdopes 131 Bluetooth Headset', 'rating': '4', 'summary': 'Worth the money'}, page_content=\"review: Bass is not upto the mark. Sound quality is excellent. Cryastal clear sound. Boat should improve the bass quality in this airdopes. Boats other headphones having best bass .overall it's good and value for money.\"),\n",
       " Document(metadata={'source': 'B0DLHTTWVB', 'row': 259, 'product_title': 'Apple MacBook Air 13-inch M3 (2024)', 'rating': '4', 'summary': 'Misleading info'}, page_content='review: The GPU only has 8 cores- not 10 as advertised.  Misleading info. in the description.'),\n",
       " Document(metadata={'source': 'ACCFVWN4PGNTEFGY', 'row': 583, 'product_title': 'realme Buds Q Bluetooth Headset', 'rating': '1', 'summary': 'Not recommended at all'}, page_content='review: One bud stopped working just after 10 days, now flipkart is not returning or exchanging the product, do not buy this product'),\n",
       " Document(metadata={'source': 'ACCFSKBJYWZKXGCP', 'row': 630, 'product_title': 'U&I Titanic Series - Low Price Bluetooth Neckband Bluetooth Headset', 'rating': '5', 'summary': 'Excellent'}, page_content='review: Nice & I love this product sounds quality is superb and nice design'),\n",
       " Document(metadata={'source': 'ACCFZGAQJGYCYDCM', 'row': 354, 'product_title': 'BoAt Rockerz 235v2 with ASAP charging Version 5.0 Bluetooth Headset', 'rating': '5', 'summary': 'Highly recommended'}, page_content='review: Awsome Sound Quality 5 * !!Bass Is Awsome 5* !!Degin is Good 3* !!Battery backup much Good 4* !!'),\n",
       " Document(metadata={'source': 'ACCFZGAQJGYCYDCM', 'row': 359, 'product_title': 'BoAt Rockerz 235v2 with ASAP charging Version 5.0 Bluetooth Headset', 'rating': '5', 'summary': 'Best in the market!'}, page_content=\"review: I think for this price range, it's one of the best available in market. sound quality is good and loudness is nothing short of excellence. Bluetooth connectivity is too good. Satisfactory with looks and build quality, could have been better.\"),\n",
       " Document(metadata={'source': 'ACCFSKBJYWZKXGCP', 'row': 649, 'product_title': 'U&I Titanic Series - Low Price Bluetooth Neckband Bluetooth Headset', 'rating': '5', 'summary': 'Worth every penny'}, page_content='review: Nice product ...❤️❤️ Nice sound.❤️💰Nice bass quality.❤️❤️.  And good battery backup.❤️❤️     This had phone value for money..And .... good parking ...i am so happy ...    And thanks for flipkart...❤️❤️❤️❤️'),\n",
       " Document(metadata={'source': 'ACCFSDGXX3S6DVBG', 'row': 665, 'product_title': 'BoAt Airdopes 131 Bluetooth Headset', 'rating': '5', 'summary': 'Excellent'}, page_content='review: Loved the sound quality loved the base and the bild quality is awesome 👍👍👍👍 I love it plzzz go for it best airpods in this price buy it right now n for pubg also best it is 🔥🔥👍👍'),\n",
       " Document(metadata={'source': 'B0DLHTTWVB', 'row': 211, 'product_title': 'Apple MacBook Air 13-inch M3 (2024)', 'rating': '5', 'summary': 'Great little present'}, page_content='review: Bought for my husband, for home use. The 2024 MacBook Air with the M3 chip is a fantastic laptop for anyone who needs a powerful, portable, and stylish machine. Its exceptional performance, stunning display, and all-day battery life make it a top contender in the premium laptop market.'),\n",
       " Document(metadata={'source': 'ACCFSKBJYWZKXGCP', 'row': 640, 'product_title': 'U&I Titanic Series - Low Price Bluetooth Neckband Bluetooth Headset', 'rating': '5', 'summary': 'Simply awesome'}, page_content='review: Very very good product value for money Bass good volume good Best battery'),\n",
       " Document(metadata={'source': 'B0CHX7R6WJ', 'row': 31, 'product_title': 'Apple Watch SE 2nd Gen 40mm GPS', 'rating': '4', 'summary': 'Watch'}, page_content='review: Nice watch however I’m still trying to figure some things out. I had a Fitbit  versa 2 prior to this Apple Watch.Seems like my text messages are not received by my phone. Maybe I need a new iPhone I’m still using my old 11. And the battery life does dwindle quick. Otherwise it’s a super cute watch and has many options. I did talk on it and was able to answer my phone on the watch and the sound was awesome. 😎'),\n",
       " Document(metadata={'source': 'B0B4MWCFV4', 'row': 169, 'product_title': 'Fitbit Versa 4 Fitness Smartwatch', 'rating': '5', 'summary': 'Fitbit Watch Versa 4'}, page_content='review: A great watch for the more technological savvy.'),\n",
       " Document(metadata={'source': 'B0CQ3VXJ3J', 'row': 95, 'product_title': 'Samsung Galaxy Book4 Pro 16-inch Laptop', 'rating': '5', 'summary': 'Easy to use!'}, page_content='review: I love this laptop!  It is easy to use and love the fact there is an area that has the number to the right like a regular computer keyboard.  Beautiful screen!'),\n",
       " Document(metadata={'source': 'B0BN95FRW9', 'row': 180, 'product_title': 'Apple iPhone 14 Pro 128GB (Renewed)', 'rating': '4', 'summary': 'Almost perfect!'}, page_content='review: I chose the excellent refurbished 256gb space black model. So far I’m loving this phone, I was originally planning on upgrading to the 16 pro, but for what I do and functionality wise, I saved myself around $400ish buying this instead. Everything is perfect other than the battery, from what I see it’s sorta a gamble on the battery health however for being at 93%, this phone doesn’t die quick at all. If you have an older phone like a iPhone 12, this is definitely a big upgrade and worth the money. 9/10'),\n",
       " Document(metadata={'source': 'ACCFVWN4PGNTEFGY', 'row': 573, 'product_title': 'realme Buds Q Bluetooth Headset', 'rating': '5', 'summary': 'Super!'}, page_content='review: Good proudct excellent ear buds nice sound good battery backup nice design and very light weight.Thanks realme........Fabulous product by realme🙏🙏👍👍👌👌🍫🍫'),\n",
       " Document(metadata={'source': 'ACCFZGAQJGYCYDCM', 'row': 313, 'product_title': 'BoAt Rockerz 235v2 with ASAP charging Version 5.0 Bluetooth Headset', 'rating': '5', 'summary': 'Super!'}, page_content='review: Nice headphone, bass was very good and sound is clear. I am purchase for calling purpose and best choice even riding on bike wear in one ear and opposite end voice was clear and no complaint for calling.. Battery backup 1 full day'),\n",
       " Document(metadata={'source': 'ACCFR3Q77R6RRGAC', 'row': 440, 'product_title': 'OnePlus Bullets Wireless Z Bluetooth Headset', 'rating': '4', 'summary': 'Pretty good'}, page_content=\"review: 1.Build quality could have been a bit better..2.Bass is gud though i don't know why people are complaining..3.Battery is life is phenomenal you will get tired of listening..3.Mic quality is great..4.Magnetic connection is strong compared to realme buds..5.looks are great and flexibility is there for protecting it from accidental stretches.6.moreover its splash resistant.7.I have been using realme buds since it's launch, Compared to realme buds bass is just 1 or 1.5 points low out of 5....\"),\n",
       " Document(metadata={'source': 'ACCFZGAQJGYCYDCM', 'row': 337, 'product_title': 'BoAt Rockerz 235v2 with ASAP charging Version 5.0 Bluetooth Headset', 'rating': '4', 'summary': 'Really Nice'}, page_content='review: Excellent voice clarity superb bass for music lovers. Overall a very good product.'),\n",
       " Document(metadata={'source': 'ACCFKYE2ARGG67WC', 'row': 484, 'product_title': 'realme Buds 2 Wired Headset', 'rating': '4', 'summary': 'Good quality product'}, page_content='review: every thing is great in this earphone just lacks clarity a bit and i guess its because of bass. cable: braidedlooks cool with black yellow combinationi like the magnetic earbuds'),\n",
       " Document(metadata={'source': 'B01D93Z89W', 'row': 67, 'product_title': 'Canon EOS Rebel T7 DSLR Camera Bundle', 'rating': '5', 'summary': 'LOVE LOVE LOVE'}, page_content=\"review: I am not a professional photographer but did have a Nikon camera years ago before DSLRs came out and basically taught myself photography. Nothing special, and mainly used the Auto function. This camera has taken the place of that Nikon Dinasaur and I like it as much as the Nikon. The pictures come out so clear and clean. I am flabbergasted at the price of special lenses, but I will save up for some that I want. The auto-focus works perfectly. Very easy to learn on. And you can't go wrong with the price. I guess if I had to say how this kit could be improved, would be if the kit had different lenses other than the ones that came with the kit. But then, that would jack the price up on the total kit.HIGHLY recommend, regardless.\"),\n",
       " Document(metadata={'source': 'ACCFVA3KZ2EYMYX3', 'row': 519, 'product_title': 'OnePlus Bullets Wireless Z Bass Edition Bluetooth Headset', 'rating': '5', 'summary': 'Fabulous!'}, page_content='review: It was a fantastic experience using this earpiece its just awesome and i loved it like anything it has all the features qnd a definitely good base with good sound quality..i was bit unhappy with its clarity else i was really impressed by its working'),\n",
       " Document(metadata={'source': 'ACCFZGAQJGYCYDCM', 'row': 319, 'product_title': 'BoAt Rockerz 235v2 with ASAP charging Version 5.0 Bluetooth Headset', 'rating': '1', 'summary': 'Worthless'}, page_content=\"review: This headphone is good but not that much as i expected*Pros- 1Good battery backup             2Good sound quality*Cons-1 There's a voice gap between video activity and voice. Voice comes after video activity not both comes together. It is ok when you watch movies and music but if you play pubg with it you will clearly feel the big gap it matters a lot for me. It is not working after 4 month very much disappointedOverall not goodDon't buy please\"),\n",
       " Document(metadata={'source': 'ACCFKYE2ARGG67WC', 'row': 468, 'product_title': 'realme Buds 2 Wired Headset', 'rating': '5', 'summary': 'Simply awesome'}, page_content='review: Best in the market 😍😍😍. Enjoying its feel the real bass 😌😌. Good qualities of wire, comfortable to wear, and great sound quality 🥰🥰 . Value for money 🤑🤑.'),\n",
       " Document(metadata={'source': 'ACCFSKBJYWZKXGCP', 'row': 610, 'product_title': 'U&I Titanic Series - Low Price Bluetooth Neckband Bluetooth Headset', 'rating': '5', 'summary': 'Perfect product!'}, page_content=\"review: I am very happy with this product. The U&I Titanic series sports neckband is just awesome. The sound and bass is too good. It has also very good battery life and I haven't charged it since 3 days and more to go. It is comfortable to wear and has perfect sound quality. I had an excellent experience of this neckband. It is also economical. A must buy for all.\"),\n",
       " Document(metadata={'source': 'ACCFVA3KZ2EYMYX3', 'row': 510, 'product_title': 'OnePlus Bullets Wireless Z Bass Edition Bluetooth Headset', 'rating': '5', 'summary': 'Highly recommended'}, page_content='review: Good battery 🔋 👌 Sound awesome 👌 Bass 🔊  super Overall good 👍  product in one plus'),\n",
       " Document(metadata={'source': 'B0C33XXS56', 'row': 279, 'product_title': 'Sony WF-1000XM5 Wireless Noise Canceling Earbuds', 'rating': '3', 'summary': \"Good size, doesn't block noise with stock tips\"}, page_content=\"review: My favorite ear buds were the Jabra Elite 75t, but unfortunately the volume in the right bud got too soft and they stopped making them, so I replaced them with the Jabra 7 pros.  The Jabra 7 pros sounded better, but the case was too bulky, the microphones were useless (no one could understand me on phone calls), and they were super glitchy.  Several times it became impossible to use both earbuds at once and I had to reset them, or one of the buds just didn't charge in the case.  I got Elevoc Clear buds just so I could make phone calls, but having two pairs of earbuds was not practical.  I thought of getting the Bose QC 2, but the battery life of 6 hours was just not enough for me.  So when these Sony WF1000xm5 came out with an 8 hour ANC battery life, I thought they might be right for me...The good:  The charging case is tiny, reminiscent of the Jabra 75ts--maybe even smaller.  There's multipoint and all the features you could want.  I had no trouble pairing them with my Pixel 7 pro and my linux laptop.  I've tested on phone calls and people have no problem understanding me.  So I don't know know if the mics are as good as the Elevoc clear, but at least these are good enough for phone calls (unlike the Jabra 7 pros).  Unlike what is claimed in other reviews, there is a small little spike on top of the left earbud, so you can easily tell the left and right apart even in the dark.The bad:  The noise cancellation did not work at all, because the ear tips don't seal in my ears.  Fortunately, the Sony android app will let you test for this, but I tested all four tip sizes and couldn't get any of them to seal.  Eventually what I did was take the tips off my Jabra 7 pros and put them on the Sony WF1000XM5s, and that got a seal.  That's not a great solution because I still might want to use my Jabras as backup.  (Moreover, the Sony ear tips have an ear wax filter, whereas the Jabras don't, so I'm worried this could be a long-term problem.)  I ordered the both the AZLA Crystal and the AZLA XELASTIC tips, and found that the large XELASTIC tips worked well for me, but not the Crystal (even though Crystal is a newer supposedly better product).  So now I have good headphones, but incurred an additional expense and shipping delay for tips on top of already expensive ear buds.Some more minor criticisms:  The buds are a little hard to get out of the case because they are so smooth.  The controls aren't quite as flexible as on the Jabra--there are just two configurations possible for each ear bud, as opposed to being able to attach any function you want to any action (single, double, triple press, etc.).  I experienced one minor glitch, where the passthrough did not work on the left ear bud, even though I could switch between ANC and passthrough by tapping that ear bud; the problem was fixed when I put the ear buds in the case and removed them again.Overall, despite the issues, I'm excited to have a tiny pair of ear buds again that are good for both listening to media and making phone calls.  I just think that for the price, this should be a product that just works out of the box and doesn't require after-market tips.  Maybe my ears are weird, but I've never had a fit problem with either of the Jabra buds I owned, or the two pairs of wired Shure ear buds I had before that.  (I did find etymotic ear buds uncomfortable until I got custom molded tips.)\"),\n",
       " Document(metadata={'source': 'B0B4MWCFV4', 'row': 166, 'product_title': 'Fitbit Versa 4 Fitness Smartwatch', 'rating': '5', 'summary': 'Love it'}, page_content='review: Love the watch its light  charges quickly love the rose gold color  feel like it tracks better then my old watch. Only thing I feel like the touch screen is super sensitive at times when scrolling. Im not a huge fan of the band it.comes with.  But 5 star'),\n",
       " Document(metadata={'source': 'B0CHX7R6WJ', 'row': 21, 'product_title': 'Apple Watch SE 2nd Gen 40mm GPS', 'rating': '5', 'summary': 'Love, love, love it'}, page_content='review: I am so happy with this watch. I should have gotten it sooner. All these years with a phone, I forgot how nice it is to hear have a watch. I love seeing the temperature at a glance, and what my next appointment is. I love the ease of health monitoring, controlling music playback, and receiving messages even if I’m not near my phone.I don’t care for the band, but there are endless replacement possibilities. I was thrown off by the USBC charger, but it’s no big deal now. I also bought normal-USB-compatible backup chargers for my car and my office. The charging speed is good. I bought a screen protector/cover and it’s already pretty banged up, so I’m glad I did.'),\n",
       " Document(metadata={'source': 'B0CHX7R6WJ', 'row': 15, 'product_title': 'Apple Watch SE 2nd Gen 40mm GPS', 'rating': '5', 'summary': 'Great gift'}, page_content='review: Got this as a gift and they loved it! Works well and looks very nice!'),\n",
       " Document(metadata={'source': 'B0CHX7R6WJ', 'row': 0, 'product_title': 'Apple Watch SE 2nd Gen 40mm GPS', 'rating': '5', 'summary': 'Great tool for busy mom'}, page_content='review: First time Apple Watch user and I am very happy with the purchase. As a mom of toddler, this is very helpful tool so that I get notification while my phone is inside stroller or diaper bag and chasing my child in the park. I also love the GPS and emergency notification that I can share with my family. I have started to work out little more and care for health as it encourage to stand up, track movement etc which is very helpful. I’m impressed with the battery life and how fast it charges too! I’ve been using iPhone since it came out and MacBook but Apple Watch was something I didn’t think I needed. It’s not something you need, but it is well worth investing to make your life easier. Watch quality and size is perfect for my arm and it is durable and water resistance so I don’t have to worry about it while playing in the splash pad or parks too!'),\n",
       " Document(metadata={'source': 'ACCFKYE2ARGG67WC', 'row': 489, 'product_title': 'realme Buds 2 Wired Headset', 'rating': '5', 'summary': 'Super!'}, page_content=\"review: bass Is awesome And  Clarity Is also Descent Bulit Quality Is really good Very Durable Cable Quality really Liked The Products Let's See How Long does It Last for?\"),\n",
       " Document(metadata={'source': 'ACCEVQZABYWJHRHF', 'row': 715, 'product_title': 'BoAt BassHeads 100 Wired Headset', 'rating': '4', 'summary': 'Good choice'}, page_content='review: Got it by the next day of order! Excellent service by Flipkart! The earphone is awsome! the Bass and treble is as perfect to hear! If your device has Dolby Atmos or any sound enhancements them the sound is as perfect as a nature sound. Wire is enogh long. Pros:1. The sound is excellent.2. wire is enough long.3. 3.5mm jack makes it good fr any smartphone.4. It also has mic.5. It has an premium look.Cons:1. Wire is little bit soft.2. Ear buds are mat finish.'),\n",
       " Document(metadata={'source': 'B0CQ3VXJ3J', 'row': 86, 'product_title': 'Samsung Galaxy Book4 Pro 16-inch Laptop', 'rating': '3', 'summary': 'Heating issues.'}, page_content='review: The laptop has decent specs, but it heats up way to fast just on standby.'),\n",
       " Document(metadata={'source': 'ACCFR3Q77R6RRGAC', 'row': 424, 'product_title': 'OnePlus Bullets Wireless Z Bluetooth Headset', 'rating': '1', 'summary': 'No BASS at all!! Not for music'}, page_content=\"review: I'm fan for Oneplus since their first product. I have bought the series of products along their launch. Very first product from oneplus which did not meet my expectations is 'oneplus bullets wireless-z bluetooth headset'. It has no BASS effect at all!!! if you are buying for listening music and music lover, better to avoid. However, call quality, voice clarity  and battery backup are at its best. One of the best headset to consider for day to day usage.\"),\n",
       " Document(metadata={'source': 'ACCFSDGXX3S6DVBG', 'row': 709, 'product_title': 'BoAt Airdopes 131 Bluetooth Headset', 'rating': '5', 'summary': 'Classy product'}, page_content='review: Fabulous just can say this word only. Awesome design, awesome fitting and loved the Voice ..  A+'),\n",
       " Document(metadata={'source': 'ACCFHGZFS7GB9CVM', 'row': 374, 'product_title': 'realme Buds Wireless Bluetooth Headset', 'rating': '5', 'summary': 'Super!'}, page_content=\"review: amazingly superb... very good product and i strongly recommended to all who searching good Bluetooth headset with good sound quality and long lasting battery backup. i'm using it since 1 week and didn't charge it yet isn't it amazing.\"),\n",
       " Document(metadata={'source': 'B0DLHTTWVB', 'row': 226, 'product_title': 'Apple MacBook Air 13-inch M3 (2024)', 'rating': '5', 'summary': 'Love my Mac'}, page_content=\"review: This is the perfect size laptop for me. It is light weight so it's easy to take with me whether I am commuting back and forth from the office or traveling.  It fits easily into all of my work bags.  I am a fan!\"),\n",
       " Document(metadata={'source': 'B01D93Z89W', 'row': 48, 'product_title': 'Canon EOS Rebel T7 DSLR Camera Bundle', 'rating': '4', 'summary': 'Very Good overall'}, page_content='review: Really easy to use, it brought so many things! I was a bit worried that it wasnt going to be delivered on time but it did, I guess it was a very difficult time due to high demand on Christmas.'),\n",
       " Document(metadata={'source': 'ACCFSKBJYWZKXGCP', 'row': 633, 'product_title': 'U&I Titanic Series - Low Price Bluetooth Neckband Bluetooth Headset', 'rating': '5', 'summary': 'Just wow!'}, page_content='review: Best quality earphone ever I used excellent sound quality superb battery backup looking Also Good fully worth'),\n",
       " Document(metadata={'source': 'ACCFZGAQJGYCYDCM', 'row': 314, 'product_title': 'BoAt Rockerz 235v2 with ASAP charging Version 5.0 Bluetooth Headset', 'rating': '5', 'summary': 'Terrific purchase'}, page_content='review: Sound quality super battery backup super quality super this price range super and this value for money'),\n",
       " Document(metadata={'source': 'ACCFKYE2ARGG67WC', 'row': 463, 'product_title': 'realme Buds 2 Wired Headset', 'rating': '5', 'summary': 'Terrific'}, page_content='review: woww fantastic experience 😍 👍 and mainly discuss about this earphones is built quality is awesome 👌👍im fully satisfied with this earphones 👌👌👍   prons 1. built quality is awesome2. sound quality is just super 3. bass , treble,mid ranges are just good4. long and comfortable cable cons 1. missed L shape jackfinally my overall rating is 9.6 /10'),\n",
       " Document(metadata={'source': 'ACCFVA3KZ2EYMYX3', 'row': 528, 'product_title': 'OnePlus Bullets Wireless Z Bass Edition Bluetooth Headset', 'rating': '5', 'summary': 'Worth every penny'}, page_content='review: Compared to OnePlus bullets z this has far better bass and also built quality is good. The sound quality is also good....not as good as LDAC sound system but it is decent overall.'),\n",
       " Document(metadata={'source': 'ACCFVA3KZ2EYMYX3', 'row': 513, 'product_title': 'OnePlus Bullets Wireless Z Bass Edition Bluetooth Headset', 'rating': '5', 'summary': 'Brilliant'}, page_content='review: I\\'ve been using this product for the last 3 days. This might be too early to write an elaborate review but I\\'ve known enough about this neckband to be \"eligible\".1. Sound Quality: The drivers definitely produce a very balanced sound that is surely going to satisfy most of the people including me. Whether it\\'s about mid frequencies, vocals or the high frequency trebles, or even the lower frequencies, this neckband deals all of those with superior performance. Undoubtedly.2. Bass: Bass is...'),\n",
       " Document(metadata={'source': 'ACCFSDGXX3S6DVBG', 'row': 697, 'product_title': 'BoAt Airdopes 131 Bluetooth Headset', 'rating': '5', 'summary': 'Highly recommended'}, page_content=\"review: The best in class airdopes. Great sound, perfect fit and at this price it's just awesome. Highly recommended.The only issue is that Boat has mentioned additional earmuffs with the package but it is not available in the box or it is missing.\"),\n",
       " Document(metadata={'source': 'B0CQ3VXJ3J', 'row': 89, 'product_title': 'Samsung Galaxy Book4 Pro 16-inch Laptop', 'rating': '3', 'summary': 'Great looking but quality'}, page_content=\"review: I returned the one bought. It's a nice looking and looks like a quality built. However, when get the using it needs work. It comes with a lot bloat ware. One I purchased had updating issue and just wouldn't update. It keeps restarting but yet wouldn't update. The track pad is super loud and some areas wasn't responsive at all. The battery is horrible, at least on the one I purchased. Samsung make some good smart phones why can't they produce quality laptops as well. A MacBook air will do you better. This is from someone that would prefer to buy a Samsung laptop over Apple. But Samsung have left a bad taste in my mouth.\"),\n",
       " Document(metadata={'source': 'ACCFHGZFS7GB9CVM', 'row': 397, 'product_title': 'realme Buds Wireless Bluetooth Headset', 'rating': '4', 'summary': 'Worth the money'}, page_content=\"review: Nice earphones but have a small issue with button can't press perfectly as it is close to each other have a good battery backup and connection.As for the comfort basis its ok Rubber band is sterdy at neck wire is a bit graded so good quality but could be more better....\"),\n",
       " Document(metadata={'source': 'B0CHX7R6WJ', 'row': 28, 'product_title': 'Apple Watch SE 2nd Gen 40mm GPS', 'rating': '5', 'summary': 'Fiance Loves It'}, page_content=\"review: My fiance has never had a smart watch and she would often talk about how cool it would be. But she doesn't make a ton of money so it's always been a bit of a pipe dream. Well her birthday came around and this watch was at a great price, so I had to pick it up for her. She absolutely loves it. Perfect functionality. It's not too big, but still big enough to be useful.Personally I'm a Samsung guy and I've got a Galaxy Watch that I love, but she sure loves her Apple Watch and so far it appears to be a big winner.\"),\n",
       " Document(metadata={'source': 'B0CQ3VXJ3J', 'row': 108, 'product_title': 'Samsung Galaxy Book4 Pro 16-inch Laptop', 'rating': '5', 'summary': 'Best Windows Laptop'}, page_content='review: If battery is your priority get the MacBook Air M3, this Samsung laptop watching Netflix and Youtube can last up to 8 hours.'),\n",
       " Document(metadata={'source': 'B0CQ3VXJ3J', 'row': 98, 'product_title': 'Samsung Galaxy Book4 Pro 16-inch Laptop', 'rating': '5', 'summary': 'VERY PLEASED WITH THE SAMSUNG GALAXY BOOK 4'}, page_content='review: This is a very high quality PREMIUM PRICED product primarily for those who are SAMSUNG enthusiasts such as myself. The only downside is that I wish Samsung would have provided either an integrated or on board 5G SIM wireless access slot.'),\n",
       " Document(metadata={'source': 'ACCFKYE2ARGG67WC', 'row': 472, 'product_title': 'realme Buds 2 Wired Headset', 'rating': '5', 'summary': 'Brilliant'}, page_content=\"review: Realme rma155 vs boat 225 vs senhieser 180I have used all of them for 2 year boat , 6month senhiser , currently using realme since 2 week.Sound qualityRealme 9/10Boat 8/10Senhieser 10/10Volume Realme  10/10(11.2 mm drivers)BOat 9/10Senhieser 7/10BassRealme 9/10BoAt 10/10Senhiser 7/10Build quality Realme 9/10Boat 10/10Senhieser 5/10If you are only bass lover and don't care about lyrics then go for boat If you are only true music lover each and every notes matters for y...\"),\n",
       " Document(metadata={'source': 'B0B4MWCFV4', 'row': 136, 'product_title': 'Fitbit Versa 4 Fitness Smartwatch', 'rating': '4', 'summary': 'Love it'}, page_content='review: I love my Fitbit. It stays charged for days on end, tracks my sleep, my exercise, my steps so well. My only complaint is the strap it comes with rubs on the arm and leaves a mark other then that nothing bad to say!'),\n",
       " Document(metadata={'source': 'B0DLHTTWVB', 'row': 213, 'product_title': 'Apple MacBook Air 13-inch M3 (2024)', 'rating': '5', 'summary': 'Nice laptop'}, page_content=\"review: I bought this laptop this past November and am very happy with it.  I upgraded from the M1 Airbook and have no regrets.  The MagSafe connector for charging is much better than having to use a USB-C cable.  It's a fast computer and battery life is pretty good.  I don't use it for any heavy duty applications, but just everyday web surfing, email checking, etc.\"),\n",
       " Document(metadata={'source': 'ACCFVA3KZ2EYMYX3', 'row': 532, 'product_title': 'OnePlus Bullets Wireless Z Bass Edition Bluetooth Headset', 'rating': '4', 'summary': 'Good choice'}, page_content='review: Super delivery within one day. Thaks for the filpkart delivery. Best value for price. Durable product. If u looking for a standard bluetooth headset, then go for it'),\n",
       " Document(metadata={'source': 'ACCEVQZABYWJHRHF', 'row': 755, 'product_title': 'BoAt BassHeads 100 Wired Headset', 'rating': '5', 'summary': 'Wonderful'}, page_content='review: nice product..  color is exactly shown in the pic.  best headset in this price range..  worth buying..  i ll suggest this product under this cost..  loved this headset from boAt.'),\n",
       " Document(metadata={'source': 'ACCFVA3KZ2EYMYX3', 'row': 548, 'product_title': 'OnePlus Bullets Wireless Z Bass Edition Bluetooth Headset', 'rating': '4', 'summary': 'Good quality product'}, page_content='review: Good not bad'),\n",
       " Document(metadata={'source': 'ACCFKYE2ARGG67WC', 'row': 483, 'product_title': 'realme Buds 2 Wired Headset', 'rating': '5', 'summary': 'Brilliant'}, page_content='review: Best product to buy 🌟🌟🌟🌟🌟It is good in realme Narzo 10A good base and high quality worth in price 🥰🥰'),\n",
       " Document(metadata={'source': 'ACCFSDGXX3S6DVBG', 'row': 679, 'product_title': 'BoAt Airdopes 131 Bluetooth Headset', 'rating': '5', 'summary': 'Wonderful'}, page_content='review: Best product you can buy in this price range. Sound quality is good and connecting speed is really fast and battery backup is also good.'),\n",
       " Document(metadata={'source': 'ACCFSKBJYWZKXGCP', 'row': 643, 'product_title': 'U&I Titanic Series - Low Price Bluetooth Neckband Bluetooth Headset', 'rating': '5', 'summary': 'Just wow!'}, page_content='review: Good u&i titatnic series  bluetooth neckband. It has good  sound quality and good bass. Battery backup is very good. Awesome design and built quality. Good in this price range.'),\n",
       " Document(metadata={'source': 'B0B4MWCFV4', 'row': 125, 'product_title': 'Fitbit Versa 4 Fitness Smartwatch', 'rating': '1', 'summary': 'Poor GPS performance'}, page_content=\"review: Do not buy this watch to track runs.I’ve had a persistent problem with the Versa 4 where the first mile or so of GPS tracking is wildly inaccurate even on perfectly clear days.  It doesn’t always fail, but maybe 50% of the time or more, and appears to be getting worse lately.  The two screenshots are of the same loop run.  One shows a reasonable track, the other shows the issue I'm having with the watch, where the GPS tracking inaccurate and thus incorrectly reports distance and pace.I purchased this watch in December 2023 for my son who didn’t use it.  I started using it 6 or 7  months later when my Versa 3 died.I have 30+ years of experience debugging and resolving issues, a master’s degree in computer science and work as a director of engineering.  I’ve owned both Garmin and the prior Versa 3 GPS watches.I contacted fitbit support last November as I was fed up with the poor performance.  They were cheery and stated their commitment to resolving the issue.Support:  try loosening the watchband as far as possible.Me:  I don’t like a loose watch while running, but I’ll try it.  No luckSupport:  keep the watch away from your bonesMe:  The watch generally sits by the wrist bone, but since I’ve loosened it up, I’ll try sliding it up my forearm.  The problem persists.Support:  Factory reset the watch.Me:  I went through the tedious factory reset process and appeared to have success on the first following run.  But the problem reappeared on the next runSupport:  Your fitbit app is out of date, it’s 4.34.11 and needs to be 4.35Me:  I’m not having problems with the fitbit application, I’m having problems with the watch.  I went to update to 4.35 on my Android phone, but it wasn’t available.Support:  You need to wait for 4.35 to come out in order for us to continue this case.Me:  I waited for 4.35 to come out and resent the screen-shots of my failed runs.Support:  In the fitbit application go to exercises/run and make sure GPS is enabled.Me:  There are no exercise/run settings in the phone app, but there are on the Versa 4 watch.  I’ve sent them many screen-shots of the GPS tracked runs using the Versa 4.  Sent them a picture of GPS being enabled on the watch.Support:  Make sure the phone app has GPS always privileges and has privileges to run in the background.Me:  What does this have to do with the GPS on my watch?  Sent screenshots to show that GPS is always enabled on the phone app and it is permitted to run in the background.[I'm now waiting for another response, but they continue to throughout seemingly unrelated solutions to the fundamental issue]Note:  I’ve noticed now, with V4.35 of the fitbit application on my phone, that the Versa 4 will immediately report “GPS Connected” when I start a run, even if I’m in the house with both my phone and watch.  Neither can access the GPS satellites.  I suspect, with this version of the phone app, the watch is using the phone’s location services to indicate GPS connection, even if the phone is using Cell or WiFi to get approximate location.  The initial mile or so of my runs remains inaccurate, even though the watch starts off with “GPS connected”.Fitbit support does not seem to be focused on the source of my issue, the poor performance of the GPS system on this Versa 4 watch.  Is my watch faulty, or does the Versa 4 have a weak GPS system in it’s design?  I don’t know.This watch is not useful for tracking runs.  I would recommend anyone looking for a run-tracking watch look elsewhere.  The Versa 3 took a little time to get initial GPS lock, but then tracked without problems.  The Garmins locked quickly and were accurate.\"),\n",
       " Document(metadata={'source': 'ACCFVA3KZ2EYMYX3', 'row': 553, 'product_title': 'OnePlus Bullets Wireless Z Bass Edition Bluetooth Headset', 'rating': '5', 'summary': 'Mind-blowing purchase'}, page_content='review: 1.sound & bass❤️❤️❤️❤️2.Product😊😊😊👌👌👌👌👌🔥🔥🔥🔥🔥'),\n",
       " Document(metadata={'source': 'ACCFSKBJYWZKXGCP', 'row': 625, 'product_title': 'U&I Titanic Series - Low Price Bluetooth Neckband Bluetooth Headset', 'rating': '5', 'summary': 'Mind-blowing purchase'}, page_content='review: This is very useful product and quality high rated and playback time 10hr  base to best the other company neckband clear voice and clear output responce.'),\n",
       " Document(metadata={'source': 'B0CQ3VXJ3J', 'row': 92, 'product_title': 'Samsung Galaxy Book4 Pro 16-inch Laptop', 'rating': '3', 'summary': 'The box'}, page_content='review: The laptop seems to be fine however the box was not sealed.'),\n",
       " Document(metadata={'source': 'B01D93Z89W', 'row': 63, 'product_title': 'Canon EOS Rebel T7 DSLR Camera Bundle', 'rating': '5', 'summary': 'Amazing Camera, \"Okay\" bundle'}, page_content='review: The camera is 5 stars quality but the bundle makes it 2 stars. Using cell phones to take picture\\'s really had me thinking I was a bit of a natural and worse, a professional photographer. However, I\\'ve had expensive camera\\'s before by Kodak and Nikon and they were easy to use when I brought them. I LOVE taking photo\\'s and scrap booking  family so, I thought I should buy a good camera to make my photo\\'s look better. I also brought the T6 because of the name \"rebel.\" Silly idea. I opened the camera and I thought I could just cut it on and you have to charge a battery and then add a battery AND the like memory card. And its not like you can just take a picture and then edit the exposure, brightness and so on. You have to like master the settings and read the manual before you can do anything. My brother had a friend come over with his T6I and he helped me with the settings so I could take basic photo\\'s. He told me to keep my setting in \\'program\\' and he set me up in the \\'raw\\' format.  The reviews said the lens and flash are not compatible with the T6 so, I have a lot of things I can\\'t use until I take a class or buy a book for Dummies. I mostly take photo\\'s of people but, I brought the bundle to use the lens to take picture\\'s of nature, the sun, tree\\'s and flowers or sky scrapers so the lens are a disappointment. The camera itself is so amazing, I look forward to spending money on quality lens. The camera itself is 5 stars. I am a beginner and I see the different in quality. As a beginner, right now, I use app\\'s to edit my photo\\'s, not the camera. But, I love the way people seem to \\'pop\\' out in photo\\'s and how natural light looks with this camera.The order came really faster and I expected it much later. The package was set up perfectly and maybe its not the camera and its me. Cells phones have me all messed up but, I learned how to edit pictures with cell phone app\\'s so maybe it will help me later'),\n",
       " Document(metadata={'source': 'ACCFVWN4PGNTEFGY', 'row': 601, 'product_title': 'realme Buds Q Bluetooth Headset', 'rating': '1', 'summary': 'Worst experience ever!'}, page_content=\"review: Flipkart provide me a damage product. Return rejected. Don't buy this.\"),\n",
       " Document(metadata={'source': 'B0CQ3VXJ3J', 'row': 93, 'product_title': 'Samsung Galaxy Book4 Pro 16-inch Laptop', 'rating': '4', 'summary': 'Buena laptop, mala batería'}, page_content='review: Jamás tuve una laptop con un rendimiento de batería tan malo. Por lo demás, al menos de momento, no tengo quejas.'),\n",
       " Document(metadata={'source': 'ACCFSDGXX3S6DVBG', 'row': 671, 'product_title': 'BoAt Airdopes 131 Bluetooth Headset', 'rating': '5', 'summary': 'Wonderful'}, page_content='review: First thanks to flipkart for super fast delivery.Boat has brought great airdopes in such a affordable price.Sound quality is good .Light weight .Good colors.Bass could have been better.Overall great product from Made in India Brand Boat.'),\n",
       " Document(metadata={'source': 'B0B4MWCFV4', 'row': 132, 'product_title': 'Fitbit Versa 4 Fitness Smartwatch', 'rating': '4', 'summary': 'Quick startup but step counter way off'}, page_content='review: Update to the update--------------------------I found where I could get rid of the stupid weather, and also function rearranging.I\\'m happy. Back to 4 stars.What a Rollercoaster.Update - about 20+ uses in.-------------------------------Watch keeps pausing my exercises. And I dont usually figure it out til I\\'m done, which by then it\\'s too late.  The chance to count the calories burned has already past.The \"smart features\" it has are very problematic.  It\\'ll randomly want to start recording an excercise, and will also - as mentioned - pause my exercises mid way through.It tries to do too much on it\\'s own...and it wouldnt be that bad if it wasnt wrong so often.I just want a watch that can track my heart rate, count calories, and track time & distance.I want it to start only when I tell it to, and stop only when I tell it to.The hardware might also need to be rethought.  The on/off button seems to engage when I\\'m curling my wrist backwards.Last complaint, and a worthy one..The app doesn\\'t seem to give you any control over the functions on the watch.Example, to get to the exercise function on the watch...I have to scroll past the weather.Nobody wants to see the fuXing weather.  Get rid of it....or give me the chance to remove it from the navigation.This isn\\'t advanced tech, this is old tech. And that\\'s okay if you they would have just kept it simple.If anyone in that company is reading this...just remember that applying common sense will go a long ways.Don\\'t get this watch. It\\'s annoying.End of update------------------Second day of having this watch.  A+ for simplicity, speed, and common sense layout.  F- for the step counter.I was laying on my couch drinking coffee and it tracked that I had taken 480 steps and walked up one flight of stairs. I was only half way through my first cup. Umm..huh?We\\'ll see how it goes. Feeling cautiously optimistic.  Might just have to ignore the step counter when I\\'m not exercising.'),\n",
       " Document(metadata={'source': 'B0C33XXS56', 'row': 287, 'product_title': 'Sony WF-1000XM5 Wireless Noise Canceling Earbuds', 'rating': '3', 'summary': 'Sony has us fooled'}, page_content='review: TL/DR: Sony makes sleek looking, clean sounding headphones with all the bells and whistles, and they\\'ve parlayed that into an image of \"the best\". They\\'re not... Not by a long shot.I bought the XM4s because they had every feature you could imagine and all the reviews said they were the best, and I enjoyed them, despite the fact that they became extremely painful to wear after an hour or so. Bought the XM5s because they were supposed to be the same but lighter and smaller, but the pain still came, just after two hours instead of one.Sennheiser was my favorite brand before Sony and the Momentum 3 buds have 90% feature parity, so I ordered a pair to see if they were any more comfortable, and whether I\\'d even miss LDAC.My first impression was that the Senns felt more premium and the touch controls were easier to use. I loaded up the app and found that to be a much better experience, with far deeper customization options. I set the touch controls exactly how I wanted them - something I could never do with Sony\\'s app - and sat playing with the sound personalization widget for the better part of an hour, marveling at how it was able to highlight the specific tone and details I enjoy most without muffling everything else like Sony\\'s basic eq does. Then I started in on my test reel, and had to swap from Sony to Senn multiple times to make sure I wasn\\'t hallucinating...Sony sound is clean, slightly warm, well balanced, with a surprisingly open soundstage. All in all it\\'s better than average and generally inoffensive. \"Good enough\" for most people, myself included, or so I thought.Sennheiser sound is music injected directly into your brain. The highs soar, the bass thunders, and every drum beat is a Muay Thai whip kick to the cortex. The Sonys are simply laughable in back to back comparison testing.Even when listening to the few streaming services that support LDAC I can\\'t tell any difference from APTx, and the Senn quality absolutely annihilates Sony regardless of source. After a while with the Senns I realized that there hadn\\'t been a single cutout, something I had grown used to with the Sonys. Went running and immediately noticed the absence of the hollow thudding noise that accompanied every footfall while wearing the Sonys. The noise cancellation is close enough as makes no difference, and the ambient mode works well. All the automatic on/off, start/pause, etc stuff is there, and the Senns can connect to 3 devices at a time vs Sony\\'s 2. Best of all: no pain, none. Where the Sonys are very comfortable at first and get increasingly uncomfortable over time, the Senns start off feeling slightly intrusive and then disappear from awareness entirely.Sound is very subjective so I can\\'t promise that everyone will share my experience, but if you appreciate sound quality at all, you owe it to yourself to test them side by side. I honestly can\\'t fathom how an professional reviewer could do so and not put the Senns on top by a wide margin. Having done so myself, I feel like I\\'ve been living in the Sony matrix for the last two years, and Sennheiser just unplugged me.'),\n",
       " Document(metadata={'source': 'B0BN95FRW9', 'row': 184, 'product_title': 'Apple iPhone 14 Pro 128GB (Renewed)', 'rating': '4', 'summary': 'iPhone 14 pro'}, page_content='review: I was really satisfied with the phone I bought. I originally bought a different phone from Walmart and it came locked when they said it was “unlocked.” I bought this one from here and it came unlocked which made me really happy. I’d rate this a 5 star but it came with some scratches but it’s alright.'),\n",
       " Document(metadata={'source': 'ACCFVWN4PGNTEFGY', 'row': 607, 'product_title': 'realme Buds Q Bluetooth Headset', 'rating': '5', 'summary': 'Great product'}, page_content='review: Unbelievable sound quality!!! Nothing is as good as this Realme Buds Q. Awesome Product!!!!'),\n",
       " Document(metadata={'source': 'B0C33XXS56', 'row': 297, 'product_title': 'Sony WF-1000XM5 Wireless Noise Canceling Earbuds', 'rating': '5', 'summary': 'Great headphones IF you know how to read'}, page_content='review: My review is going to upset some, but unfortunately after reading a few of the negative ones I felt the need to write my own.Background: after going through THREE pairs of Apple AirPod Pro 2 I decided to pick these up, and I have used them heavily over the last 24 hours (~3 hours of yard work in 90F+ heat, ~1 hour in the gym doing weights, ~20 minutes cardio running outdoors).TL;DR: Overall these headphones do what they claim, provide awesome sound quality (note: not an audiophile, audio geek or whatever) compared to my previous Apple headphones, and the ANC is spot on. YOU MUST USE AND CONFIGURE THE HEADPHONE APP to get the full functionality and experience with these headphones. Furthermore, you need to actually CONFIGURE these headphones. If you don\\'t, you are missing 80% of the features (ANC, transparent mode, geofencing), at which point I just order a cheaper pair.Pros:- Sound quality is spot on for the price range.- Personally, compared to the Airpods the fit is a lot better. I do wear foam earbuds a bit with my actual noise cancelling headphones, so I am used to them and prefer them over the silicone ones.- WHEN CONFIGURED CORRECTLY, the ANC and transparent mode blow away the Apple Airpods. Hands down.- The app has some pretty sweet functionality, such as an EQ tutorial which allows you to finetune the sound to what you prefer without understanding frequencies, adaptive mode (basically detects what you are doing, walking or standing still, and either turns on ANC or transparent mode OR however you configure it), and there the gesture thing, although I think is a bit gimmicky, can be cool for some.- The actual controls are configurable on the headphones as well within the app, and they work sell with Mechanix gloves on.- Unlike others, I had no connectivity issues. Phone was in my left pocket, and earbuds were in. I am 6 foot tall, ~225lb for an example of distance between headphones and device.Cons:- You require the app. You have multiple people on here claiming things like \"oh there is no ANC\" or \"oh boy I can\\'t get transparent mode to work\". Yea, because if you read the damn insert that came with the package you would realize the app is required. I will say that there is a TON of functionality that is baked in, but it is somewhat cumbersome to figure out. I am fairly technical, and I even had to Google a thing or two to find the appropriate settings.- The case feels cheap. The Apple Airpods, love them or hate them, has a premium feel to the case, whereas these headphones are not exactly the best.- The adaptive mode is bit of a PITA to configure, especially if you are using these for the ANC to ensure you aren\\'t blowing your ears out. For example, if I whistle it thought I was talking and then would shut the music off. It finally learned that it wasn\\'t me actually talking but whistling, but still an annoyance. Furthermore, the adaptive mode will turn on transparent mode IF you are running/walking, and this occurred when I was using my mower. Not the most pleasant feeling.'),\n",
       " Document(metadata={'source': 'ACCEVQZABYWJHRHF', 'row': 745, 'product_title': 'BoAt BassHeads 100 Wired Headset', 'rating': '5', 'summary': 'Best in the market!'}, page_content='review: simply awesome, nice quality but earpiece should little convenient with ears and the cable need atleast 6\" more. have a excellent sound quality and deep bass. love this product. keep it up boat.'),\n",
       " Document(metadata={'source': 'ACCFR3Q77R6RRGAC', 'row': 446, 'product_title': 'OnePlus Bullets Wireless Z Bluetooth Headset', 'rating': '5', 'summary': 'Super!'}, page_content=\"review: Great product Very much useful for us. It has all the best... Like sound quality, battery back up, buid quality, fitting in the 👂.. I recommend it for buy everyperson who's like wireless headphones...\"),\n",
       " Document(metadata={'source': 'ACCFZGAQJGYCYDCM', 'row': 344, 'product_title': 'BoAt Rockerz 235v2 with ASAP charging Version 5.0 Bluetooth Headset', 'rating': '4', 'summary': 'Nice product'}, page_content='review: Boat rockerz 235 v2 is the budget blutooth hearphone. All are very good performance only sound quality is slightly poor.. vibration and battery backup is the best part in this product. Bass also very great .. just lysric clearing not proper'),\n",
       " Document(metadata={'source': 'ACCFSDGXX3S6DVBG', 'row': 704, 'product_title': 'BoAt Airdopes 131 Bluetooth Headset', 'rating': '4', 'summary': 'Delightful'}, page_content='review: If You really want to use a wireless airpod at this Budget you can definitely go for it... The Sound Quality is very good with low bass.! One thing I dont like about the product is the continuous flickering of the blue light in the ear. Overall a product worth for 1300/-'),\n",
       " Document(metadata={'source': 'B0C33XXS56', 'row': 291, 'product_title': 'Sony WF-1000XM5 Wireless Noise Canceling Earbuds', 'rating': '4', 'summary': 'Good overall, meh mic'}, page_content=\"review: I'm pleased. It has good sound quality,--I can hear new details in my music. They haven't  slipped out of my ears even when I go up and down stairs and feel quite secure. The battery life has been good--lasts around 2 days for me without issue. Good noise canceling--blocks out background chatter well and quiets subway noise decently. My only caveat is the mic. I've been told by multiple people that I sound far away.\"),\n",
       " Document(metadata={'source': 'ACCFVA3KZ2EYMYX3', 'row': 536, 'product_title': 'OnePlus Bullets Wireless Z Bass Edition Bluetooth Headset', 'rating': '5', 'summary': 'Super!'}, page_content='review: Good sound effectBattery backup is super and bass is excellent worth of rate in this productAwesome 👍'),\n",
       " Document(metadata={'source': 'ACCFSKBJYWZKXGCP', 'row': 655, 'product_title': 'U&I Titanic Series - Low Price Bluetooth Neckband Bluetooth Headset', 'rating': '4', 'summary': 'Very Good'}, page_content='review: Great product low price best quality 👍'),\n",
       " Document(metadata={'source': 'ACCFZGAQJGYCYDCM', 'row': 318, 'product_title': 'BoAt Rockerz 235v2 with ASAP charging Version 5.0 Bluetooth Headset', 'rating': '4', 'summary': 'Delightful'}, page_content='review: First of all the Delivery boy is a good guy. Nice receive and responce. Product is super. Packing also good.  I fell Red color is not sufficient for me. Otherwise totally awesome product. Delivery is too long. Iam taking one week after booking. Thankyou flipcart and boat 235v2 also.'),\n",
       " Document(metadata={'source': 'ACCFSKBJYWZKXGCP', 'row': 638, 'product_title': 'U&I Titanic Series - Low Price Bluetooth Neckband Bluetooth Headset', 'rating': '5', 'summary': 'Wonderful'}, page_content='review: Very good product..sound clearly is very good ..battery is long lasting... Full day battery works while talking and watching movies .. Worth it'),\n",
       " Document(metadata={'source': 'B0C33XXS56', 'row': 280, 'product_title': 'Sony WF-1000XM5 Wireless Noise Canceling Earbuds', 'rating': '3', 'summary': 'They Really Missed An Important Mark'}, page_content=\"review: Coming from owning so many various BT earbud, with the XM4 having been my favorite overall (albeit wound up dropping because of TERRIBLE longevity from short lived battery lifespan), I expected equal or better results from the XM5.While sound quality and overall performance were increased, these fell absolutely FLAT on their face in an area for me that cannot be overlooked. The handling of them is absolutely terrible! The size is so much smaller than the previous gen buds, which is nice, but the finish being slick and glossy around the spots where you grip them is a massive miss. Having big fingers makes them a total PITA to remove from the case first and foremost. The XM4 you simply grab and go, these I fumble with losing grip and the magnets sucking them back in. Just became a real headache to deal with. Not to mention getting them seated in the ears, as that slick surface made them more of a pain to tweak.Onto the sound. They do not fail to impress there. Sound is a tad but better than the previous gen offerings, even being so much smaller. That was nice to see. I did however, have more complaints from people while on calls vs the XM4. I also don't use the included eq as I have eqfy and that gives me greater overall control no matter what output device is attached, so I'd take that with a grain of salt. I don't think there are many out there that use standard settings much anyway, so sound is subjective.Pairing was fine, no issues at all with a single or 2 device connection between my computer, tablet or phone. They just bind and go.The other area that wound up forcing my return of them was that the left would drop connection while music was playing arbitrarily when I'd turn my head. Now granted they have the new  tweaks that have head position features, which I turned off, but for some reason that left one kept popping in and out of connection. Never in almost 2 years of owning the XM4 had this problem. I simply can't deal with that and they went back in the 30 days. Very unfortunate as I had high hopes.Ultimately, if you've got thin or small fingers and can handle them easier, they're probably a no-brainer choice for you. If you've got fatter or bigger fingers, you'll fight em every step of the way. Sony absolutely should have flipped the matte finish from the face to the handling areas and made the face the glossy part. Big fumble there. I guess I'll be looking into Sennheiser or B&W for my next buds.\"),\n",
       " Document(metadata={'source': 'ACCEVQZABYWJHRHF', 'row': 734, 'product_title': 'BoAt BassHeads 100 Wired Headset', 'rating': '1', 'summary': 'Very poor'}, page_content='review: I purchased one month back. now when insert into mobile phones the volume automatically reduced to zero  without headset the volume function works normally. same connect to other phone also volume reduced. when we hear through other headset the volume function works effectively'),\n",
       " Document(metadata={'source': 'B0DLHTTWVB', 'row': 216, 'product_title': 'Apple MacBook Air 13-inch M3 (2024)', 'rating': '5', 'summary': 'Great laptop, too small for my workflow'}, page_content=\"review: Objectively speaking, the M3 16 gb ram w/ 512 storage is a 5-star computer all day, so I am giving 5-stars.This is a great device, but everyone already knows that, so I am focusing on two big considerations that I had - specs and size. I am just a layperson who primarily uses this device for office work.In sum, wish I could keep this one, but it's just too small. This size is will be great for many users. Further, I will not ever buy a base model (8/256), but many people would probably be fine with base model.Specs-I originally bought a base model M2 (8/256) but swapped it out for the M3 16/512. With a brand new base model M2, I was constantly using memory swap and in yellow memory pressure. This happened immediately and took almost nothing. In addition, I only had ~80 gb of memory left after MacOS, iMessage, etc. took up most of the space on my hard-drive. I spent 2 days trouble-shooting this issue with Apple - turns out my only real option was to spec up. I bought the base model thinking I would be okay since I use cloud based services for everything. I was wrong. For ME, the super savings on the base model are NOT worth it. The savings will be worth it for other people with different needs and preferences. (And, again, I am a just layperson w/ tech. Just trying to share my lay opinion from my experience. Take with grain of salt.)Size-I actually love the size of the 13-inch, but for my work use, the screen is just too small. I use this laptop for work and personal, but my workflow is the most important consideration. I tend to multitask and juggle multiple word processing documents, pdfs, excel spreadsheets, and internet browser tabs. I also use split screen. I just cannot see enough text at once when I review documents - this causes decreased productivity and a far less comfortable experience.So, I have to size up to the 15-inch. If this was JUST a personal laptop, I would keep the 13-inch and absolutely love it.Also, I went to a store and tested out both sizes before purchasing, but that did not help me. Unfortunately, I had to test drive with my actual workflow before I realized the 13-inch was insufficient for my needs.Oh, one other thing. I love the midnight color. But all the fingerprint concerns are 100% legit (even with the M3, which I really did not notice the supposed improvement). I happen to find the beautiful color to be worth the fingerprints, but if that bothers you - do not buy midnight.Good luck, everyone!\"),\n",
       " Document(metadata={'source': 'B0B4MWCFV4', 'row': 128, 'product_title': 'Fitbit Versa 4 Fitness Smartwatch', 'rating': '4', 'summary': 'Few Improvements, More Restrictions'}, page_content='review: The media could not be loaded.                                                                                            *I\\'m a Fitbit Versa 2 owner, going to Fitbit Versa 4 I have been using this new watch since late Decemeber*BATTERY:Seemed fine to me. I\\'m not a person that doesn\\'t ever charge my watch though. I always charge it when I shower. The charger is WAY better than Versa 2\\'s charging cradle. No more fiddling around with it, dreading the \"not enough power\" error. This sits right on top of the charger.APPS:-- There is no music support-- they have the \"find my phone\" app. Works like it should.-- THERE IS NO CALCULATOR APP! WHY!?!-- no 3rd party supported apps. Whatever you have already installed is what you get. You can\\'t get ANY other apps other than preinstalled. No notes app, no calculator, no memos, NOTHING. Hugely disappointing!!! Why would they do this?GOOGLE:--Google wallet is great and very easy to set up. You don\\'t have to have the google wallet app on your phone to set it up; it\\'s all through fitbit.NAVIGATION:Navigation works....but I don\\'t think I would use it when you\\'re driving. It\\'s just not as easy to glance at or give as much detail as your phone will. You can have both your watch and phone navigating at the same time. I thought it might vibrate when to indicate an upcoming turn or something but it doesn\\'t.DISPLAY:Crisp, clear display. Touch screen is very reactive, as is the button on the side. The watch is supposed to come on when you lift your arm, but this is very fidley and I find it only works half the time.CALLS:Calls are fantastic. You can hear clearly and be heard just as well. You can\\'t make calls, only accept them.CLOCKS:-- I was disappointed to find that my Fitbit Versa 2 clocks would not be compatible with Versa 4. Honestly, I\\'m not sure why Fitibit doesn\\'t have a fully customizable clock face, with custom settings and custom pictures. No, they leave that for other developers to figure out. I loved using Maxim clock faces, as everything could be customized (stats,colors,time, placements, and photo). No such luck here. There are a lot of options, and I did find one suitable for me. Should be offered by Fitbit themselves though. They have to know that most people want a personal picture on their device. If you are just looking for a cool background, there are tons to choose from.I found a photo clock that worked for me named Photo 2 by Wim Van Aerschot. There\\'s a free version and a Premium versionPROS:-- Slim, lightweight-- No trouble syncing-- Google wallet is 1000x better than fitbit pay, which only supports certain banks. None of my cards (sam\\'s club visa, capital one credit/debit) worked with fitbit pay. They work perfectly with google-- While you now have \"tiles\" that show your apps one by one as you swipe left or right (On versa 2 you swiped down and selected from a list) isn\\'t as user friendly, you CAN rearange the tiles how you please. And you can add shortcuts via long press of the button, if you want. You can also choose to hide tiles you don\\'t want.-- Calories burned seems very accurate. They reflect my suggested metabolic rateCONS:-- The style of the band is odd. The material is great, but for some reason they thought it would be wise to tuck the extra bit UNDER the band, not on top. It isn\\'t irritating like I thought it would, but it makes it a big pain to take off and put back on. The extra bit also means you might have to readjust size because the extra bit is tighter on your wrist. It leaves marks on your arm. Even most off brand bands still feature the \"under loop\" fastener, but you can buy silicone \"band keepers\" that slip right over the band, allowing you to fasten as normal.-- Lost Calories. For some reason, I have LOST calories, particularly after syncing or charging. I\\'ve lost 200-300 cal this way. Very irritating and it can make a huge difference if you are in a calorie deficit. I haven\\'t had it happened since, but worth noting.--It doesn\\'t show calories eaten on any of the tiles. Furthermore, the \"calories left\" on the \"today\\'s tile\" does NOT reflect calories eaten. Previously in the Versa 2, the Fitbit app would show how many calories you have left in that moment of time, whereas the watch would show how much you had left based on predicted calorie burn for the day. This watch only shows calories left to burn, based on your chosen \"calories burned\" goal.-- Stats don\\'t stack as they used to on Versa 2. You can rearrange them for sure, and that helps, but you otherwise have to keep swiping to see each stat separately. It seemed cleaner when they stacked on top of each other and you have to scroll down. Scrolling down from the clock face only shows settings, no quick select for google wallet (although you can set up shortcuts for long press on the button)You can get around this somewhat; for instance, I put the \"today\\'s tile\" on top of the list and the weather tile on the bottom. A swipe to the right brings up today\\'s tile quickly. A swipe to the left brings up the weather. Otherwise, you have to keep swiping to get different stats.-- while there is never trouble syncing, if you step away from your phone for too far or too long, you will have to resync. This was a problem with Versa before. I work in a fairly small, single story building and very few times can I actually respond to text messages without getting the error to resync. Fitbit desperately needs to increase the range of the bluetooth.-- you can\\'t \"write\" messages, like you can with Apple watches. You can respond either with voice (which does work well to be fair) or choose from a few quick responces from a list.FINAL THOUGHTS: I do love this watch, but keep in mind there are few improvements with many missing features. For a casual wearer, I think the update is well worth it. Downsides in customization, stats, and absent apps should be considered, however, and given that this watch has been out for a long while, it is unlikely to change. I\\'d say if your happy with your old Fitbit model, just keep it and skip on this.'),\n",
       " Document(metadata={'source': 'ACCFR3Q77R6RRGAC', 'row': 427, 'product_title': 'OnePlus Bullets Wireless Z Bluetooth Headset', 'rating': '1', 'summary': 'Hated it!'}, page_content='review: I have been using this product from couple months. This headset will absolutely not work for calls. The reason is, the build of Wireless Z will not get mic near our mouth. However, it works if you have absolute patience to hold the mic in front of your mouth for hours you talk or be in meetings. This headset is only nice for listening songs compromising on Bass ! Only good thing I found is battery backup... You keep charge, go drink tea and come back. It will do for the whole day. ...'),\n",
       " Document(metadata={'source': 'B0BN95FRW9', 'row': 185, 'product_title': 'Apple iPhone 14 Pro 128GB (Renewed)', 'rating': '4', 'summary': 'Had a software bug'}, page_content='review: After I transferred data from an older IPhone, the 14 Pro developed a problem. The opening menu Lwelcome  etc started cycling rapidly and it would not proceed when I swiped upwards. I had to carry phone to Genius Bar at anApple store for them to wipe the data and restore the original starting menu. The phone battery was at 89% and it passed all of the diagnostic tests. The phone did not have anyThe phone worked as normal.  However I am nervous that this problem may reoccur.Otherwise it was a great buy'),\n",
       " Document(metadata={'source': 'B0B4MWCFV4', 'row': 145, 'product_title': 'Fitbit Versa 4 Fitness Smartwatch', 'rating': '4', 'summary': \"Working so far! Dexcom g6 compatible. Here's how I connected it...\"}, page_content='review: I bought this because I loose my dexcom receiver once in awhile.  Attached to my wrist, I won\\'t loose it!  I was leery that it works.  I had to switch phones, my Motorola was not supported by dexcom software, see dexcom website for compatibility.1. Make sure you phone will receive dexcom.  The phone reads it, and just sends data to the watch.  Phone has to be within about 20 feet of you.  A. When phone is out of your area..you will loose Bluetooth connection.  B.  If that happens, all I have had to do is open the fit it app on my phone and it starts syncing again .2. Download fitbit app to your phone.  Fitbit is owned by google, now.  You will need a gmail account.  They are free.-- the fitbit app is very clear, follow the menus and change your phone settings to ensure it works well!  The watch will auto connect if everything is set correctly.3. Download the Dexcom app onto your phone.  This software is very good, as well.  It walks you thru any setting s that need adjustment. You do not need Clarity, just the main Dexcom app!--you are successful when your phone starts reading you cgm!  Ps. You need your sensor and transmitter numbers! My transmitter # had to come from my Dexcom receiver!  The sensor...dug in the trash! Found it!4. Last step.  Go to your fitbit app on your phone.  There is a blue icon to select screens, see YouTube videos for visuals!  Search for \"Glance\".  It was created for this use.  download it for your fit it watch.Now you are ready to wear your watch!!! Done!Ps. There are some good YouTube videos that discuss Versa 4 connecting to a dexcom g6 and g7.Hey, fitbit...get on the ball and create 1 software to download and give a set of screen gui\\'s!  Make it easy for people!!Its been a couple weeks.  I had to adjust my alert settings.  It was buzzing me all night.  It DID wake me up to say I was going low.  Does a good job with heart rate and sleep patterns is interesting.What does NOT work? The step counter.  My first 8 hours, I was asleep.  It was going nuts with alert vibrations.  The FitBit was VERY proud I had walked 150,000 steps at night, asleep.  I must get tons of work out.  No wonder I don\\'t sleep well! 😁😁😁😁😂😂 it counted each vibration on all the alerts all night as steps!!! Stupid watch.  I have not tried to fix it.  Don\\'t care about that function.I really like the convenience for CGM. I still need my regular receiver.  But this is a quicker glance and a quieter alert.  Its also nice to have weather, and maybe Alexa and Google maps.  Have not tried the maps yet.  Google voice is not loud enough unless its held on your ear!'),\n",
       " Document(metadata={'source': 'ACCFR3Q77R6RRGAC', 'row': 450, 'product_title': 'OnePlus Bullets Wireless Z Bluetooth Headset', 'rating': '5', 'summary': 'Excellent'}, page_content='review: Every thing is great but battery backup is super great i liked it'),\n",
       " Document(metadata={'source': 'B0B4MWCFV4', 'row': 156, 'product_title': 'Fitbit Versa 4 Fitness Smartwatch', 'rating': '5', 'summary': 'Great Product!'}, page_content='review: Great product! Fast and easy set up with great battery life!'),\n",
       " Document(metadata={'source': 'ACCFSKBJYWZKXGCP', 'row': 617, 'product_title': 'U&I Titanic Series - Low Price Bluetooth Neckband Bluetooth Headset', 'rating': '5', 'summary': 'Just wow!'}, page_content='review: U&i Titanic quality is awesome and looks are pretty sober the sound quality is also good bass lovers will love it  I had a minor audio very clear and awesome voice quality long hour battery back up 8 hours very awesome neck band'),\n",
       " Document(metadata={'source': 'B0BN95FRW9', 'row': 207, 'product_title': 'Apple iPhone 14 Pro 128GB (Renewed)', 'rating': '5', 'summary': '100% satisfecho'}, page_content='review: Esta en perfectas condiciones. Estaba un poco nervioso por algunos comentarios, pero estoy completamente satisfecho con la compra. funciona perfecto. Llego con un 87% de condiciones de batería.Este tipo de productos siempre es una lotería. Pero en mi caso en particular ha valido completamente la pena. (y si estas entre comprar cualquier modelo de iPhone, este me parece la mejor opción a dia de hoy. sobre todo a este precio)'),\n",
       " Document(metadata={'source': 'B0CQ3VXJ3J', 'row': 83, 'product_title': 'Samsung Galaxy Book4 Pro 16-inch Laptop', 'rating': '4', 'summary': \"Camera doesn't work\"}, page_content=\"review: Pretty good laptop, but camera doesn't work for my zoom calls\"),\n",
       " Document(metadata={'source': 'ACCFHGZFS7GB9CVM', 'row': 407, 'product_title': 'realme Buds Wireless Bluetooth Headset', 'rating': '5', 'summary': 'Mind-blowing purchase'}, page_content='review: reviewing after using for one week. - great battery back-up charged it only 2 times on whole day usage- nice built and best part is it automatically starts when u insert your headphone in ur ears.,- nice bass'),\n",
       " Document(metadata={'source': 'ACCFVA3KZ2EYMYX3', 'row': 530, 'product_title': 'OnePlus Bullets Wireless Z Bass Edition Bluetooth Headset', 'rating': '1', 'summary': 'Hated it!'}, page_content='review: This earphone is good only for music and gaming. The sound quality over call is very poor. The sound is very low for phone calls. Not recommended to purchase if using for good phone call experience'),\n",
       " Document(metadata={'source': 'B0B4MWCFV4', 'row': 165, 'product_title': 'Fitbit Versa 4 Fitness Smartwatch', 'rating': '5', 'summary': 'Replacing Blaze'}, page_content=\"review: My Fitbit Blaze I'd had since 2016 (or 2017?) was no longer holding a charge for me, and was becoming increasingly difficult to get to sync. I saw this one for a great price and decided to give it a shot. It's turning out to be a great choice. If I was an apple user I might've tried an apple watch, but I like my android phone. This Vera Fitbit is doing everything I need it to do, plus some, for less money and no extra charge on the phone bill.\"),\n",
       " Document(metadata={'source': 'B0B4MWCFV4', 'row': 135, 'product_title': 'Fitbit Versa 4 Fitness Smartwatch', 'rating': '4', 'summary': 'Love the updated features'}, page_content=\"review: I ordered this watch because my Fitbit Versa was about 10 years old and wasn't working as well.  I absolutely do not like the watch band!  I have a small wrist and the band is bulky, rubbery and uncomfortable.  I've ordered a different band and hopefully it will be a better product. Just wish I could find a more delicate style.\"),\n",
       " Document(metadata={'source': 'ACCFKYE2ARGG67WC', 'row': 497, 'product_title': 'realme Buds 2 Wired Headset', 'rating': '3', 'summary': 'Nice'}, page_content='review: Boat basshead 220 have better bass than buds2. But vocal of buds2 is better than boat 220...  It produces very clear sound 🔊 loved 😍 by music lover... Must buy but warranty must 1 year 😔'),\n",
       " Document(metadata={'source': 'ACCFSKBJYWZKXGCP', 'row': 637, 'product_title': 'U&I Titanic Series - Low Price Bluetooth Neckband Bluetooth Headset', 'rating': '5', 'summary': 'Wonderful'}, page_content='review: Awesome quality this headfone and sound quality is very nice best disgn and thank flipkart'),\n",
       " Document(metadata={'source': 'ACCFSKBJYWZKXGCP', 'row': 654, 'product_title': 'U&I Titanic Series - Low Price Bluetooth Neckband Bluetooth Headset', 'rating': '4', 'summary': 'Value-for-money'}, page_content='review: Quality is good as er price'),\n",
       " Document(metadata={'source': 'ACCFKYE2ARGG67WC', 'row': 461, 'product_title': 'realme Buds 2 Wired Headset', 'rating': '5', 'summary': 'Terrific purchase'}, page_content='review: The build quality is really good and the design also looks great. The magnets of earbuds are also really useful. The best part is the cable organizer which is really useful. The bass is good and the sound quality is also good you will not be disappointed buying this product at this price. The call quality is also good and the placement of buttons is very functional and useful. Buy without any doubt.'),\n",
       " Document(metadata={'source': 'ACCEVQZABYWJHRHF', 'row': 730, 'product_title': 'BoAt BassHeads 100 Wired Headset', 'rating': '5', 'summary': 'Perfect product!'}, page_content=\"review: very good product in this price segmentBass is not high that's a pretty good thing.Vocal is also good.overall it's value for money.ND Flipkart delivered it to me in 2 days that's also good.\"),\n",
       " Document(metadata={'source': 'B0C33XXS56', 'row': 292, 'product_title': 'Sony WF-1000XM5 Wireless Noise Canceling Earbuds', 'rating': '3', 'summary': 'Good Quality, Bad Design'}, page_content='review: It\\'s a high-end Sony audio device, so you know the sound quality is at least very good. I\\'m not an audiophile, but I think these sound great. In addition, the noise-cancelling and hear-through are the best I\\'ve experienced.However, the case and buttons leave much to be desired. The smooth, rounded design of the earbuds make them VERY hard to remove from the case. In addition, the \"buttons\" on each pod are touch, not tactile, so even when you do remove the pods from the case, you will invariably press at least one button by mistake.The touch buttons are also sensitive enough that leaning your head against something will trigger them; don\\'t even think about trying to use them in bed.Given the price, I find this unacceptable. My Jabra Elites are much better in regards to design and are indistinguishable in terms of sound quality.Perhaps If you have small hands or fine fingers, you won\\'t have the same issues. However, I find these so cumbersome that I end up re-pairing other pods rather than trying to use these.'),\n",
       " Document(metadata={'source': 'ACCFZGAQJGYCYDCM', 'row': 340, 'product_title': 'BoAt Rockerz 235v2 with ASAP charging Version 5.0 Bluetooth Headset', 'rating': '5', 'summary': 'Excellent'}, page_content='review: The product was good enough.. Stylish blur color with well designed earphones.. Coming to the specifications sound and bass was superb... Value for money... Batery backup is also good around 6 hours life.... No lag in PUBG... Highly satisfied but have to wait and see how long it works like this'),\n",
       " Document(metadata={'source': 'ACCFSKBJYWZKXGCP', 'row': 648, 'product_title': 'U&I Titanic Series - Low Price Bluetooth Neckband Bluetooth Headset', 'rating': '5', 'summary': 'Best in the market!'}, page_content='review: This U&I neckband is awesome I mean seriously I got the best earphones till now. Sound is so good bass music. Easily get connected with phone, very light weighted. Very comfortable.'),\n",
       " Document(metadata={'source': 'B0DLHTTWVB', 'row': 255, 'product_title': 'Apple MacBook Air 13-inch M3 (2024)', 'rating': '5', 'summary': 'Loving it'}, page_content='review: I have wanted a MacBook Air for a long time. I am transferring from  Microsoft systems to iOS which involves a steep learning curve .'),\n",
       " Document(metadata={'source': 'B0C33XXS56', 'row': 261, 'product_title': 'Sony WF-1000XM5 Wireless Noise Canceling Earbuds', 'rating': '5', 'summary': 'Darn near perfection.'}, page_content='review: I have used pretty much every credible earbud in the last few years. Sony, Apple, Beats, Bose, B&W, Samsung, Klipsch, M&D, and more. I have also used every generation of Sony buds. In terms of overall use and features, these are not a giant change from the last gen XM4 buds. However, there are significant improvements in key areas. Here is the breakdown:Sound: There are moderate sound improvements here, over the last generation Sony\\'s, which were already close to class leading. Sony put a larger driver in here and it makes a difference. Additionally, Sony added a lot of processing horsepower here. The put in their latest chip for audio, but then added a separate chip to handle all of the ANC duties. Sony argues, that by separating the tasks here, they were able to more finely tune the audio. You can hear the difference. Bass is thumping, highs are even more crisp, and the mid vocals definitely pop more. I am no audiophile but these are really good. To me, these sound better than the latest Bose and Airpod Pro buds. You have to get into the really high-end audio companies to find sound this good. As always, you get Sony\\'s LDAC here if you can use it for high-end audio options and the DSEE Extreme tech that upscale regular more compressed audio. The DSEE really shines here. Your Spotify or Apple music app has never sounded so good. I think most folks will be very satisfied with what Sony has done here and, at the end of the day, sound quality is a big reason to make such an investment.Active Noise Cancellation (ANC): These are the best ANC buds Sony has ever made which is saying something. They were already 1b to the latest from Bose, but these have improved dramatically to me. The new dedicated chip just gets it done. These buds adjust the ANC to the noise around you. I honestly hear pretty much nothing other than my music when I have these in. The latest Quiet Comfort\\'s from Bose are still at least as good to me in this arena, but that is pretty much the only area that Bose still is really on equal footing. At least in my opinion. Fit really determines great ANC, so while these are great, there is definitely some subjectivity that comes into play here. I think most will be very happy with the results they get here though.Form Factor: This is an area that Sony has absolutely nailed it and I am going to just say, FINALLY! Every bud Sony has made has always had an asterisk for me. \"They sound so good but they just aren\\'t that comfortable\" was what I often told folks. Not anymore. Sony has made these buds significantly smaller and by adding the glossy interior, has created a bud I hardly notice in my ear. They have gone from a \"yeah but\" to a class leader in the fit and comfort space. I really cannot emphasize enough how good these are. These buds have an IPX4 rating so they should handle the gym with no issues. Sony has included a revised version of their hybrid foam tips from last year and they are great. They just hold the buds in snug and really help block ambient sound. Just so so good Sony. Thank you for the thoughtful redesign. I also want to give Sony a nod for the case redesign. Same battery (3 charges) but much smaller. I love it.Battery and Connectivity: The battery life is the same from last year. About 7 to 8 hours of real use. It is fine. Not class leading but not bad either. Connection here is BT 5.3 so the latest. Same as last gen. However, Sony said that these buds will be LE compatible when they finally start rolling this out over the coming year so you can expect even better sound and perhaps even battery life someday soon. This essentially future proofs these buds.Call Quality: Not much to say here other than these are about as good as it gets. Sony added bone conductive tech here and you can tell. Your calls sound great.Intangibles: There are too many features to unpack here. You really need to read all that Sony has packed into these. From the upscaling audio, to one touch audio play, to speak to pause tech to gestures and so so so much more. You can literally get lost in the app. Almost too much is going on here. Regardless, there is almost nothing that these buds can\\'t do. Oh, I almost forgot to mention that Sony has multipoint connection option here as well. It is only two devices, so there are more robust options out there, but this should be fine for most in real life application. Very good stuff.So, should you buy these? If you are an Android user, the answer is 100% yes. Apple users have to consider that Airpods are more tightly integrated into their space. Further, Apple is getting ready to launch their high end sound codec as well, which these will not support. They are still worth considering though as Sony has just made a better sounding product. To me, these might be the best all around buds I have ever tried. From sound to calls to comfort, Sony has just nailed all of it. There are companies that offer buds that do one thing better perhaps, but none are as complete as these in my opinion. So, yes, buy these. You will not regret it. I will update as I go here.'),\n",
       " Document(metadata={'source': 'B0C33XXS56', 'row': 276, 'product_title': 'Sony WF-1000XM5 Wireless Noise Canceling Earbuds', 'rating': '4', 'summary': 'Comparison to XM4 and Bose QC2'}, page_content='review: I\\'ll keep it brief since others have reviewed more thoroughly.First thing, and I\\'m shocked to say this-- they actually are tricky to pull out of the case because of the shape and smoothness.  It\\'s unbelievable that a huge company can make a product so good in some ways and then just like, what, not actually try to use it before mass-production?  It\\'s genuinely worth removing a star for.  They could have put just a ring of textured area or a silicone band embedded; or just a little ribbing.  It would have been trivial, and should have been obvious from the first test.I think I read someone say they wanted a way to distinguish between left and right.  There is a small but obvious bump on the left bud, for this purpose.Bose are more comfortable-- there just is no comparison.  If you get a combination of tips and wings that fit your ear, it\\'s like you\\'ve got nothing at all in your ear.  It is THAT good.  The Sony XM4 was irritating by kind-of rubbing against the inner ear when fully inserted.  The XM5 have resolved that by being very slightly shorter.  They are comfortable if you are used to in-ear buds, especially well-sealing ones.  They will never be as comfortable as the Bose.XM5 sound quality is very similar to XM4.  I prefer the sound of the XM5 to Bose for almost anything.  The Quietcomfort 2 really emphasizes a kickdrum and then bass is muted.  It\\'s probably somewhat adjustable in the app EQ, but I didn\\'t try.  Percussion like shakers, cymbals, hats, etc all sound more realistic on the XM5 than the Bose-- the Bose makes them sound both synthesized/\"fake\" and undefined at the same time.  Mind you, the Sony is not audiophile grade-- if you have nice cans then you will definitely find the Sonys lacking.  But they\\'re great for what they are, and better than the Bose.Bose takes longer to turn on and connect (several seconds), but they take less time to get comfortably situated in the ear.Noise cancellation-- Bose are noticeably (10-15%) better at cancelling white noises (fans, air purifier, airplane).  So for a long-haul flight where that and comfort are most important, the Bose win.  Sony, however, did better at cancelling out sudden noises and voices, as well as background music.  So for the gym, Sony\\'s win.But really, for most people, it\\'s a toss-up.  I wouldn\\'t recommend upgrading from the XM4, and the difference between the Sony and Bose will mostly come down to preference for comfort.  If you never find earbuds comfortable, get the Bose, be happy, and don\\'t look back.  If you like the Sony sound signature and fit, and are due for a new pair, I do recommend the Sony WF-1000XM5.I\\'ll update this when I figure out a way to mod the buds to be easier to remove from the case.  Probably  a little light sanding to the shell, or a few tiny dots of epoxy'),\n",
       " Document(metadata={'source': 'ACCFR3Q77R6RRGAC', 'row': 426, 'product_title': 'OnePlus Bullets Wireless Z Bluetooth Headset', 'rating': '4', 'summary': 'Very Good'}, page_content=\"review: Those who are looking for good voice quality in this price range , these OnePlus Bullets are the best you can find.• doesn't miss any single beat even at the lowest volume levels.•fast charging - 50% in 10 minutes & 100% within 25 minutes.•deffinately has a long run time and yes you do get upto 20hours of play time for a full charge (depending on the volume level you choose to play)• very user friendly. one can listen for long time without any issue, for it u'll have to try the different...\"),\n",
       " Document(metadata={'source': 'ACCFR3Q77R6RRGAC', 'row': 437, 'product_title': 'OnePlus Bullets Wireless Z Bluetooth Headset', 'rating': '5', 'summary': 'Classy product'}, page_content='review: Excellent sound and great battery backup 💓 awesome design...I am happy with ONE PLUS 👍👍👍'),\n",
       " Document(metadata={'source': 'B0C33XXS56', 'row': 294, 'product_title': 'Sony WF-1000XM5 Wireless Noise Canceling Earbuds', 'rating': '5', 'summary': 'New Favorates'}, page_content=\"review: First, I just received these a day ago, so this is very limited first impressions.  I have used many different earbuds, most much cheaper. My first impressions are: Noise cancellation and Ambient Sound are the best I have ever used. I have never been impressed with Ambient Sound. Generally, I find it to be too much and annoying. However, these achieve a balance that is close to perfect. When in ambient sound mode I can hear the birds, cars and all the normal sound my ears would hear without ear buds in. Since I use these to walk the dog, being aware of cars and other sounds is very important. I listened to a Podcast and some music with these in this morning and found the sound quality excellent while in ambient sound mode. Since I have never been happy with the ambient sound mode on other earbuds, I made sure I could use one earbud at at time. In actual use I have found the single bud use to be seamless and a very good experience and can use right or left with no problem. The noise cancellation is excellent, if you have the correct in ear fit. I have only experimented with it a little, but the sound with listening to music while in sound isolation mode to be very full and rich. (Of course my 69 year old ears may not hear all the frequencies and tones younger ears might pick up on. While I have installed the app on my iPhone, I have not used it except for setup. At this point the app does not seem as if it provides much value, similar to all the other earbud apps I have used. Sometimes it seems like earbud manufacturers make an app because other earbuds do, but don't seem to be able to increase the listening value of the earbuds with the app. I do plan on exploring it and will update my impression if it changes. Having to bounce between the web site and the app to set the app up was more than a little annoying. That process should be much more seamless on a product of this caliber for a company that knows how to do electronics.Update: So far these are working great for me. The only downside is when you tap on the left earbud to go from ambient sound to noise canceling they only make a tone, so the only way to confirm what the status is, is to check the app. For example, when putting the left earbud in I may tap the earbud and unknown number of times, thereby switching mode any number of times. This can be confusing and I get confused which tone is for noise cancelling and which is for ambient sound. That said, these are still the best earbuds that I have used.\"),\n",
       " Document(metadata={'source': 'B0CHX7R6WJ', 'row': 27, 'product_title': 'Apple Watch SE 2nd Gen 40mm GPS', 'rating': '4', 'summary': 'Great little watch except for one important thing'}, page_content='review: I’ve owned a couple of these Apple watches that are great products with the exception of one major problem. I have also purchased non-apple watches that cost much less that have had a much longer battery life than the Apple Watch. I don’t understand why the Apple Watch has a pathetic battery life wherein the much cheaper watches are Incredibly proficient in their battery life. The battery life for an Apple Watch is on the average is 24 hours wherein the other much less expensive non-Apple watches can go for days or even weeks. Shame on Apple.'),\n",
       " Document(metadata={'source': 'ACCFKYE2ARGG67WC', 'row': 467, 'product_title': 'realme Buds 2 Wired Headset', 'rating': '5', 'summary': 'Brilliant'}, page_content=\"review: It's a interesting product so I'm writing this after 24 hours of burn out.. so stay tuned to know the full story.. eartips are silicone tips very comfortable but doesn't stay in my ear much well, but your mileage may vary.. build is great but after receiving my item I noticed scuffs and nylons coming off a little from the part near 3.5 mm port.. otherwise it's built really well.. speakers for calls is tremendous easily putting mi basics to shame.. it's great for people like me who talks a lot...\"),\n",
       " Document(metadata={'source': 'ACCFSDGXX3S6DVBG', 'row': 677, 'product_title': 'BoAt Airdopes 131 Bluetooth Headset', 'rating': '5', 'summary': 'Great product'}, page_content='review: Worth buying, great product in this price, looking stylish, I like one feature in this we can also connect one earbud with one phone and 2nd with another phone, so that 2 people can use this with different device.'),\n",
       " Document(metadata={'source': 'ACCFSDGXX3S6DVBG', 'row': 678, 'product_title': 'BoAt Airdopes 131 Bluetooth Headset', 'rating': '5', 'summary': 'Super!'}, page_content='review: I think it is worth....Sound :- Sound quality is good but sometime music is stop for mili sec...btw in this price range no company provide like this...Build quality :-is good but the blue blinking light irritate me and beacuse of blue light it looks cheap...Battery :- good battery backup ...no problem'),\n",
       " Document(metadata={'source': 'ACCFVWN4PGNTEFGY', 'row': 566, 'product_title': 'realme Buds Q Bluetooth Headset', 'rating': '4', 'summary': 'Good quality product'}, page_content=\"review: First of all, size of the product is very small and handy, it can easily fit in your pocket. Battery backup is good as of now.Call quality is average, not expecting more...Sound quality is good for bass lovers, but not crispy. I'm using sony Headset (wired) while compared it's average.Usb type c is missing but not a issue.Interfaces - touch controls are average. Overall your budget is 1500 to 2000 consider to buy.\"),\n",
       " Document(metadata={'source': 'ACCFSDGXX3S6DVBG', 'row': 695, 'product_title': 'BoAt Airdopes 131 Bluetooth Headset', 'rating': '5', 'summary': 'Must buy!'}, page_content=\"review: So actually these are very impressive at such low price. Boat has been always knows for delivering great sound. Its just the product quality should have been a bit more high because it will get scratches on the go.. One thing is that you cannot hold it for longer as the ear start paining. short duration is ok to use. I already owe One plus z buds , those are really very comfy. Haven't tested the backup but I believe it will pass that too.♥️The sound part is actually a bit heavy and not so c...\"),\n",
       " Document(metadata={'source': 'B0CHX7R6WJ', 'row': 38, 'product_title': 'Apple Watch SE 2nd Gen 40mm GPS', 'rating': '5', 'summary': 'Really good!'}, page_content='review: The delivery was delayed, but the watch is really good!'),\n",
       " Document(metadata={'source': 'ACCFVWN4PGNTEFGY', 'row': 581, 'product_title': 'realme Buds Q Bluetooth Headset', 'rating': '1', 'summary': 'Utterly Disappointed'}, page_content=\"review: After 2 months they are not connecting, right bud is not working since 1st week now left one also stopped connectingNote - replacement taken within a week as right side bud stopped working same happened in new also, now this review is for replaced oneDon't buy\"),\n",
       " Document(metadata={'source': 'ACCFSDGXX3S6DVBG', 'row': 687, 'product_title': 'BoAt Airdopes 131 Bluetooth Headset', 'rating': '5', 'summary': 'Just wow!'}, page_content=\"review: It is definitely a good purchase at this price, those who don't care for loud bass and thing, they can go for this, these Airdopes are perfectly balanced in terms of sound, the sound doesn't breaks at high volumes, you can still enjoy your songs smoothly. The normal calling with this works perfectly, no as such issues there, but you may find bit issues on WhatsApp calls, as voice tends to break sometimes. You can use one airdope at a time and it works perfectly.Lastly, the battery backup, i...\"),\n",
       " Document(metadata={'source': 'ACCFVA3KZ2EYMYX3', 'row': 554, 'product_title': 'OnePlus Bullets Wireless Z Bass Edition Bluetooth Headset', 'rating': '4', 'summary': 'Worth the money'}, page_content='review: Super sound quality'),\n",
       " Document(metadata={'source': 'ACCFZGAQJGYCYDCM', 'row': 349, 'product_title': 'BoAt Rockerz 235v2 with ASAP charging Version 5.0 Bluetooth Headset', 'rating': '4', 'summary': 'Pretty good'}, page_content=\"review: Above from my expectation, after reading the review i opted for not to purchase this product but guys you won't believe it really work, too good sound quality, superb bass overall it is lovelly one....will make ur day sweet.......bass lover will loved it.This boat 235v2 is better than boult pro bass product coz i ordered both the earphone jst as to compare the quality and boat rockerz is jst uncomaprable...perfect tune...superb acaustic....voice calling is far better that boult earphone........\"),\n",
       " Document(metadata={'source': 'B01D93Z89W', 'row': 60, 'product_title': 'Canon EOS Rebel T7 DSLR Camera Bundle', 'rating': '5', 'summary': 'Perfect DSLR camera for starters'}, page_content='review: Absolutely the best. Always loved canon cameras, and this bundle came with everything !'),\n",
       " Document(metadata={'source': 'B0DLHTTWVB', 'row': 249, 'product_title': 'Apple MacBook Air 13-inch M3 (2024)', 'rating': '5', 'summary': 'Amazing!'}, page_content=\"review: I bought this for art school and it's so perfect.\"),\n",
       " Document(metadata={'source': 'ACCFVWN4PGNTEFGY', 'row': 572, 'product_title': 'realme Buds Q Bluetooth Headset', 'rating': '5', 'summary': 'Mind-blowing purchase'}, page_content='review: If u want earbuds for gaming like pubgm and cod and listening to music go for it If u want for call purpose go for some other cause u have to speak very very loud so that the other person could hear my voice but all the rest things are perfect specially battery backup is so good I almost get atleast 7 hours at 70% volume when gaming from when i take the buds out of the charging caseThe design is good.There is no led in buds but only one in charging case to show that the case is charging o...'),\n",
       " Document(metadata={'source': 'ACCFVWN4PGNTEFGY', 'row': 608, 'product_title': 'realme Buds Q Bluetooth Headset', 'rating': '1', 'summary': 'Useless product'}, page_content='review: Sound and battery life is good but touch response is very poor and not working properly'),\n",
       " Document(metadata={'source': 'ACCEVQZABYWJHRHF', 'row': 729, 'product_title': 'BoAt BassHeads 100 Wired Headset', 'rating': '5', 'summary': 'Must buy!'}, page_content=\"review: The best earphones I've ever ordered. They are very handy, cute and the sound quality is superb! The delivery was before time. Got it 3 days before the due date. Thank you Flipkart !\"),\n",
       " Document(metadata={'source': 'B0DLHTTWVB', 'row': 241, 'product_title': 'Apple MacBook Air 13-inch M3 (2024)', 'rating': '5', 'summary': 'Savings'}, page_content=\"review: Great deal from a great product. You won't find a better value for your money anywhere else. This product is top quality and will exceed all of your expectations. Don't miss out on this amazing offer! Get yours today before it's too late\"),\n",
       " Document(metadata={'source': 'ACCFZGAQJGYCYDCM', 'row': 316, 'product_title': 'BoAt Rockerz 235v2 with ASAP charging Version 5.0 Bluetooth Headset', 'rating': '4', 'summary': 'Pretty good'}, page_content='review: Awesome colour! Amazing experience .. but only the charging data cable is not of good quality and adjustable clip is not so tight.'),\n",
       " Document(metadata={'source': 'ACCFSDGXX3S6DVBG', 'row': 676, 'product_title': 'BoAt Airdopes 131 Bluetooth Headset', 'rating': '5', 'summary': 'Excellent'}, page_content='review: I never bought any kind of Bluetooth pairs, this was my first purchase and I can say this was the best purchase at this segment. The quality of the product and music is outstanding and I never expected that to in this price. Thank you, Flipkart for the express delivery which you offered.'),\n",
       " Document(metadata={'source': 'ACCFZGAQJGYCYDCM', 'row': 310, 'product_title': 'BoAt Rockerz 235v2 with ASAP charging Version 5.0 Bluetooth Headset', 'rating': '5', 'summary': 'Terrific purchase'}, page_content=\"review: 1-more flexible2-bass is very high3-sound clarity is good 4-battery back up to 6 to 8 hour's 5-main thing is fastest charging system is available in that. Only 20 min charge and get long up to 4 hours back up 6-killing look awesome 7-for gaming that product does not support 100% if you want for gaming then I'll recommend you please don't buy but you want for only music then this product is very well for you.. 8-no more wireless headphones are comparing with that headphones at this pric...\"),\n",
       " Document(metadata={'source': 'B0DLHTTWVB', 'row': 250, 'product_title': 'Apple MacBook Air 13-inch M3 (2024)', 'rating': '5', 'summary': 'Smoth working'}, page_content='review: Nice. Working on After Effects so smothly'),\n",
       " Document(metadata={'source': 'ACCFKYE2ARGG67WC', 'row': 500, 'product_title': 'realme Buds 2 Wired Headset', 'rating': '5', 'summary': 'Classy product'}, page_content='review: The Sound quality is superb and the base quality is also good ..The point thing which I liked in this earphone is that its durability ..the wire quality is good ..before I was using the sennheiser cx275 ..the wire got cut from middle ..I am happy with this earphones.'),\n",
       " Document(metadata={'source': 'B0BN95FRW9', 'row': 190, 'product_title': 'Apple iPhone 14 Pro 128GB (Renewed)', 'rating': '4', 'summary': 'iPhone 14pro'}, page_content='review: Great quality. Excellent battery life. 10/10 recommend.'),\n",
       " Document(metadata={'source': 'ACCFVWN4PGNTEFGY', 'row': 571, 'product_title': 'realme Buds Q Bluetooth Headset', 'rating': '4', 'summary': 'Really Nice'}, page_content=\"review: This buds gives such a good quality experience of listening. Fine bass and good build quality. Bt battery backup stands extremely good . I have purchased this Bud's 10 days ago since then I got fine performance from this buds.I must say worth of every Penny I spent on it.\"),\n",
       " Document(metadata={'source': 'B0BN95FRW9', 'row': 178, 'product_title': 'Apple iPhone 14 Pro 128GB (Renewed)', 'rating': '4', 'summary': 'battery health on excellent refurbished condition.'}, page_content='review: I bought the “excellent” condition and it’s pretty brand new from what I can tell, however there is some dirt in the crevices of the phone including the silent switch and speaker holes. the battery life is also a little disappointing at 84%. however I’m sure it varies. But I did get what I paid for, Iphone, charger and charger box. the packaging did have me skeptical at first but that’s about it. pretty good phone just wish the battery health wasn’t worn out.'),\n",
       " Document(metadata={'source': 'ACCFKYE2ARGG67WC', 'row': 485, 'product_title': 'realme Buds 2 Wired Headset', 'rating': '5', 'summary': 'Worth every penny'}, page_content='review: Comparison Between Boat 225 , Realme Buds 2, Sennheiser CX 180Bass:-#1 Realme Buds 2 (Excellent Extra Bass)#2 Boat 225 ( It has also a good extra bass but not good as Realme Buds 2)#3 Sennheiser CX 180( it has no extra bass but the bass is just perfect when it required u feels a great bass)Build:-#1 Boat 225 ( boat is clearly winner on its build quality it feels more premiums than other two with its metal build and tangle free wire)#2 Realme Buds 2 ( It has also have a great build...'),\n",
       " Document(metadata={'source': 'B0C33XXS56', 'row': 278, 'product_title': 'Sony WF-1000XM5 Wireless Noise Canceling Earbuds', 'rating': '4', 'summary': 'Great sounding earbuds that will stay in your ears'}, page_content='review: Likes:Excellent sound overallGood noise cancellationThey stay in ears even during light exersizeDurable - mine have been dropped twice but still work well.Dislikes:(Biggest gripe) Fiddly charging contacts - even after cleaning - need to ensure they are well seated in their case to ensure the earbuds themselves are chargingBattery life could be a bit better.Overall happy with this purchase.  If they could come up with a design that gives more confidence that the earbuds are actually making contact with the charging nodes this would be 5 stars.  Would probably purchase again.'),\n",
       " Document(metadata={'source': 'ACCEVQZABYWJHRHF', 'row': 722, 'product_title': 'BoAt BassHeads 100 Wired Headset', 'rating': '5', 'summary': 'Perfect product!'}, page_content='review: very good product . satisfied with it. good sounds quality. and very good while gymming. Worth it.'),\n",
       " Document(metadata={'source': 'ACCFSKBJYWZKXGCP', 'row': 652, 'product_title': 'U&I Titanic Series - Low Price Bluetooth Neckband Bluetooth Headset', 'rating': '4', 'summary': 'Delightful'}, page_content='review: Super product very nice'),\n",
       " Document(metadata={'source': 'B0CQ3VXJ3J', 'row': 84, 'product_title': 'Samsung Galaxy Book4 Pro 16-inch Laptop', 'rating': '4', 'summary': 'Slim, nice quality'}, page_content=\"review: I haven't gotten to use this much yet, but so far my only complaint is that there is no built in web cam...which I didn't realize before purchase.\"),\n",
       " Document(metadata={'source': 'ACCFZGAQJGYCYDCM', 'row': 330, 'product_title': 'BoAt Rockerz 235v2 with ASAP charging Version 5.0 Bluetooth Headset', 'rating': '3', 'summary': 'Does the job'}, page_content='review: Hi Seekers, I am writing this review after 2 weeks of daily use, lets start with pros and cons Pros-✓Sounds Quality is good✓ Bass is good enough✓ Look is okay as per this price range ✓ All essential controls are provided✓ Backup is decentConsxx Bluetooth range is too short (even if you are walking by holding phone in your hand you will feel connection disturbances at all times)xx In case of battery get low it continuously gives you a voice signals in every 2 seconds I found its ver...'),\n",
       " Document(metadata={'source': 'ACCFKYE2ARGG67WC', 'row': 474, 'product_title': 'realme Buds 2 Wired Headset', 'rating': '1', 'summary': 'Unsatisfactory'}, page_content='review: sound is good i mean it have very loud sound. but speaking about bass im not too happy with it because bass is soo powerful but not soo clear as jbl have'),\n",
       " Document(metadata={'source': 'ACCFHGZFS7GB9CVM', 'row': 396, 'product_title': 'realme Buds Wireless Bluetooth Headset', 'rating': '5', 'summary': 'Just wow!'}, page_content='review: I m writing this review after 2days of extensive use of this product. I find a lot of good things like its design and build quality believe me it is in this segment like its flexibility and black yellow combination matches your outfits. Coming to its sound quality it is smooth for all kind of musics but a little bit higher bass makes odd sometimes i think this is negligible. And last its battery back up after receiving this product i first go for charging and make it full of charge and coming...'),\n",
       " Document(metadata={'source': 'ACCEVQZABYWJHRHF', 'row': 718, 'product_title': 'BoAt BassHeads 100 Wired Headset', 'rating': '5', 'summary': 'Perfect product!'}, page_content='review: perfect one for music lovers.. Amazing bass and treble was also good.. loving it.. its a budget range gadget, I recommend it to everyone..'),\n",
       " Document(metadata={'source': 'ACCFR3Q77R6RRGAC', 'row': 410, 'product_title': 'OnePlus Bullets Wireless Z Bluetooth Headset', 'rating': '5', 'summary': 'Terrific purchase'}, page_content='review: first of all with mi 18 watt charger,it got full charged in 20mins.that was amazing and 16-18hrs playtime is best at this price range.I searched for a wireless earphone and bought many but finally settled with this.sound quality is good but build quality is premium.overall i would say it is the best earphone to go with and I guarantee you will not regret.drop like if you find it useful.'),\n",
       " Document(metadata={'source': 'B0B4MWCFV4', 'row': 123, 'product_title': 'Fitbit Versa 4 Fitness Smartwatch', 'rating': '5', 'summary': 'Great for working out'}, page_content='review: This fitbit is great for tracking my steps, sleep, exercise and food intake. I like that it tracks my micronutrients and calorie intake and output. The only two issues are the bands give my arm a rash. I wear it on one wrist during the day and the other at night. Be sure to wipe down after sweating under it to further prevent rash. The second issue is the oxygen saturation sensor is iffy only capturing once in a while. Recommend.'),\n",
       " Document(metadata={'source': 'B0CQ3VXJ3J', 'row': 70, 'product_title': 'Samsung Galaxy Book4 Pro 16-inch Laptop', 'rating': '5', 'summary': 'Amazing laptop for an astoundingly low price'}, page_content='review: Very powerful laptop, beautiful screen, perfect size for more demanding work, great battery life, checks all the boxes for a professional work laptop.I ordered through Amazon Renewed that was marked as \"acceptable\" and this laptop is literally in perfect condition, not a scratch on it. As far as I can tell, this laptop was opened, held on to for a short time, and returned. I will definitely be looking to buy from Amazon Renewed in the future.'),\n",
       " Document(metadata={'source': 'B0BN95FRW9', 'row': 181, 'product_title': 'Apple iPhone 14 Pro 128GB (Renewed)', 'rating': '4', 'summary': 'Device looks/works flawlessly'}, page_content='review: Purchased device in excellent condition and it’s actually 10/10 with no visible scratches or dings, it even came with a free screen protector installed. The only downside is that the device took a long time before it was shipped.'),\n",
       " Document(metadata={'source': 'B0DLHTTWVB', 'row': 256, 'product_title': 'Apple MacBook Air 13-inch M3 (2024)', 'rating': '5', 'summary': 'Perfect'}, page_content='review: The most perfect laptops one can ever wish for. Apple always gives best.'),\n",
       " Document(metadata={'source': 'ACCEVQZABYWJHRHF', 'row': 717, 'product_title': 'BoAt BassHeads 100 Wired Headset', 'rating': '5', 'summary': 'Must buy!'}, page_content=\"review: The earphones looks so stylish and it's performance is amazing it offers a Great bass and it's supersonic looks is Wonderful ❤️ Thanks to Flipkart and boat for such a great product. Thank you thank you Thank you Flipkart so so much ❤️\"),\n",
       " Document(metadata={'source': 'ACCFKYE2ARGG67WC', 'row': 479, 'product_title': 'realme Buds 2 Wired Headset', 'rating': '1', 'summary': 'Worthless'}, page_content=\"review: After using 3 months, having mike issues. When you are playing songs it's good but when you are on call it's not a worthy enough\"),\n",
       " Document(metadata={'source': 'ACCFKYE2ARGG67WC', 'row': 496, 'product_title': 'realme Buds 2 Wired Headset', 'rating': '5', 'summary': 'Terrific purchase'}, page_content=\"review: It is the best in ear earphone in its price.nice built and noise isolation is good. You can feel every beats of bass.HD crystal clear sound. But the voice clarity could had been improved with the dual drivers. But still the best earphone in this budget. The build quality is also good and it doesn't feel cheap budget earphone.One more thing.... The cable organizer helps a lot while keeping the earphone safe and organized while travelling and keeping in jeans pocket.Hope realme buds 3 will co...\"),\n",
       " Document(metadata={'source': 'B01D93Z89W', 'row': 57, 'product_title': 'Canon EOS Rebel T7 DSLR Camera Bundle', 'rating': '3', 'summary': \"Camera is great. Don't get the Bundle.\"}, page_content='review: The camera is great, 5 stars. The accessories are cheap and not worth the getting the bundle. Just buy the base kit and buy quality accessories separately.'),\n",
       " Document(metadata={'source': 'B0C33XXS56', 'row': 284, 'product_title': 'Sony WF-1000XM5 Wireless Noise Canceling Earbuds', 'rating': '3', 'summary': 'Excellent sound quality, minimal ANC, uncomfortable fit.'}, page_content=\"review: Update: I contacted Sony and they sent some extra ear tips made of silicone instead of the included foam. Part of the issue was that the air tightness test glitches, so I thought the foam tips were passing - there was no error message, it just didn't test. I was able to get the the airtight ear test to pass with these tips (the app still glitches and doesn't complete the test sometimes) and with airtight tips the ANC was detectible, though I expected more for the price. Even with silicon tips, I found the Earbuds uncomfortable after an hour and often had to push them back in when eating, moving, or talking. Hopefully the foam tips or complimentary silicone tips work better for others.***I really wanted to love these, but I am returning them because the ANC is negligible and they are uncomfortable for more than 30 minutes of use. I tried all of the generously included sizes of ear tips, adjusted ambient sound, noise cancelling, updated firmware, reset, etc. With noise cancellation on, there is the slightest difference in ambient noise, but I can still clearly hear everything from the air conditioner to the sounds of the gently tumbling laundry in a washing machine two rooms away. Nearby voices sound the virtually same on whether ambient sound is on, noice cancellation is on, or ANC is completely off. The biggest difference between ANC settings seems to be more about EQ changes when music is playing rather than cancellation of ambient sounds. The only way to avoid noise seems to be to turn the music volume up past the comfortable or healthy level - which also works on earbuds without ANC. I listened to multiple genres and loved the sound quality. However, half-way through each album my ears hurt where the buds pressed upon my ear both above and below the ear canal, regardless of the ear tip size I tried. I had to take breaks from using these earbuds. For the price I hoped the active noise cancellation would be effective and the fit would be comfortable for at least the duration of an album. Instead they have minimally detectible ANC and hurt after about 30 minutes of use.\"),\n",
       " Document(metadata={'source': 'ACCFSKBJYWZKXGCP', 'row': 653, 'product_title': 'U&I Titanic Series - Low Price Bluetooth Neckband Bluetooth Headset', 'rating': '4', 'summary': 'Very Good'}, page_content='review: very nice'),\n",
       " Document(metadata={'source': 'ACCFHGZFS7GB9CVM', 'row': 363, 'product_title': 'realme Buds Wireless Bluetooth Headset', 'rating': '5', 'summary': 'Simply awesome'}, page_content='review: in love with thisthe auto turn off when magnet sticks is very handy and saves batteryaudio quality good...balances between the highs and the lows good mids alsoi have used skullcandy inkd as well as boat rockerz 225as a comparison, skullcandy handles every frequencies without any distortion, gives a great quality and feel to the audioboat adds bass to the normal audio which makes it distorted at large volumes and long usage timescoming to realme, it is far beyond boat in terms of audio...'),\n",
       " Document(metadata={'source': 'ACCFVA3KZ2EYMYX3', 'row': 521, 'product_title': 'OnePlus Bullets Wireless Z Bass Edition Bluetooth Headset', 'rating': '5', 'summary': 'Wonderful'}, page_content='review: The quality of the headphone is awesome. Easy to connect to any mobile and PC. Sound quality and bass are satisfactory and worth every penny. Go for it!'),\n",
       " Document(metadata={'source': 'ACCFHGZFS7GB9CVM', 'row': 381, 'product_title': 'realme Buds Wireless Bluetooth Headset', 'rating': '3', 'summary': 'Fair'}, page_content='review: Everything is just fine, but in sound, music and bass I would say that the boult probass curve band sounds much better crisp and clear that this. And the price for that is lower than this.'),\n",
       " Document(metadata={'source': 'ACCFHGZFS7GB9CVM', 'row': 377, 'product_title': 'realme Buds Wireless Bluetooth Headset', 'rating': '4', 'summary': 'Good choice'}, page_content='review: Pros-Very good battery backup(10hrs)          Good sound(loud)          Nice build quality          Magnetic on off is superbCons- bass is not satisfying            Not fits in ear(speaker drum is too big)            charging point is opentips- use bass booster for great bass experience'),\n",
       " Document(metadata={'source': 'B0CHX7R6WJ', 'row': 14, 'product_title': 'Apple Watch SE 2nd Gen 40mm GPS', 'rating': '5', 'summary': 'It wakes me up in the morning by tapping my wrist, without waking up anyone else'}, page_content='review: My last watch the glass kind of chipped and started breaking so I figured to get a new watch.I think I went down as far as what features the Watch can do to this SE watch. But it still has the functions that I actually want. For example, it wakes me up when the alarm goes off; that way, it doesn’t wake up anyone else because it’s not beeping. It’s just tapping my wrist.I can also use the other functions that has such as answering the phone and answering texts. You can also check the weather and you can see the pictures that people sent you.There are really so many features to it that I’m not really sure that I would need the watch that has more features because this is really a good watch!I highly recommend this watch. It’s really good and it looks nice and the feature where it wakes me up without having to go off, but just tap my wrist, is the reason I actually bought this watch.I highly recommend this watch! you should get it!'),\n",
       " Document(metadata={'source': 'ACCFKYE2ARGG67WC', 'row': 509, 'product_title': 'realme Buds 2 Wired Headset', 'rating': '5', 'summary': 'Just wow!'}, page_content=\"review: It's sound is osum and bass too , earphone material also very good and trust me guys I am writing this review after 7 month and it is perfect for you so buy this earphone\"),\n",
       " Document(metadata={'source': 'ACCFKYE2ARGG67WC', 'row': 476, 'product_title': 'realme Buds 2 Wired Headset', 'rating': '5', 'summary': 'Awesome'}, page_content=\"review: Using since May 6th. And it is exceptional. Especially for pubg it's wonderful you can hear the footsteps form where they are coming. There were no problem listing music for long hours. Active noise cancellation is superb you did not hear anything around you when you plug and play. I previously used Mi basic after 1 year one side went not working. This one has better bass and sound clarity than Mi basic headset. Go for it guys\"),\n",
       " Document(metadata={'source': 'B0DLHTTWVB', 'row': 239, 'product_title': 'Apple MacBook Air 13-inch M3 (2024)', 'rating': '5', 'summary': 'Wonderful'}, page_content='review: Extremely impressive and very happy with my purchase!'),\n",
       " Document(metadata={'source': 'ACCFKYE2ARGG67WC', 'row': 498, 'product_title': 'realme Buds 2 Wired Headset', 'rating': '5', 'summary': 'Worth every penny'}, page_content=\"review: I bought its because of their build quality, the sound quality is moderate. But they produce too much bass and lite and comfortable as you wear nothing. They are lite and well fitted in my ears with default buds.To conclude this might be the best pair of earphones you can get under Rs. 600. If your priorities are that the wire lasts long as it's don't get twitch easily. Don't think too much, just buy it. You will not regret it.v.\"),\n",
       " Document(metadata={'source': 'ACCFSKBJYWZKXGCP', 'row': 622, 'product_title': 'U&I Titanic Series - Low Price Bluetooth Neckband Bluetooth Headset', 'rating': '5', 'summary': 'Terrific purchase'}, page_content='review: This is one of the most favourite bluetooth earphone for me i used regular 2 days and its baatery backup is fanatastics and its balck clour is looks lovely for my neck anf gets it at affordable price and also charge in 1 hour full charge once agin i like so much this earphone'),\n",
       " Document(metadata={'source': 'ACCFZGAQJGYCYDCM', 'row': 324, 'product_title': 'BoAt Rockerz 235v2 with ASAP charging Version 5.0 Bluetooth Headset', 'rating': '5', 'summary': 'Wonderful'}, page_content='review: Wow flip cart super fast service like  express speed delivery I order 11 am delivery At 5pm I am very happy,  boAt Bluetooth headset is very very excellent product fast charging super totally user friendly go for it'),\n",
       " Document(metadata={'source': 'ACCFSKBJYWZKXGCP', 'row': 635, 'product_title': 'U&I Titanic Series - Low Price Bluetooth Neckband Bluetooth Headset', 'rating': '5', 'summary': 'Great product'}, page_content='review: Quality is Very good  must buy  at this price segment , sound & bass  is  very nice  ,battery back up is around  7 to 8 hours easily,  easy to use, build quality is quite  impressive  over all I just love it ❤❤❤'),\n",
       " Document(metadata={'source': 'ACCFKYE2ARGG67WC', 'row': 482, 'product_title': 'realme Buds 2 Wired Headset', 'rating': '5', 'summary': 'Mind-blowing purchase'}, page_content='review: absolutely great product sound quality bass is great I did not expect that ,built quality is also great go & purchase guys but some cons are also there connector is not L shape treble will be improved in next version over all osm product bass lovers go for this earphones'),\n",
       " Document(metadata={'source': 'B0B4MWCFV4', 'row': 130, 'product_title': 'Fitbit Versa 4 Fitness Smartwatch', 'rating': '4', 'summary': 'Poor replica of Versa 2'}, page_content='review: After 2.5 years my Fitbit Versa 2 stopped working: the side button would not respond and the touch screen would not respond. I purchased a Fitbit Versa 4 because the device worked well until problems started a week before it didn\\'t work at all. With that background info, I have used my Versa 4 less than 24 hours. So far the watch is OK, not great. My Versa 2 is the first type of this device technology so I only have this comparison to go by. There seems to be no flexibility with the apps that are pre-installed. There are no apps to add a very limited selection for a clock face. I haven\\'t encountered anything that \"wows\" me. I\\'ll update my review if things change. Typically things change for the better but not to this device! So sad.'),\n",
       " Document(metadata={'source': 'ACCFVA3KZ2EYMYX3', 'row': 535, 'product_title': 'OnePlus Bullets Wireless Z Bass Edition Bluetooth Headset', 'rating': '5', 'summary': 'Simply awesome'}, page_content=\"review: Awesome looking and stylish all my friends are asking me for testing this product and some of them are buying. that's batter and I like that thing. Also the phone has low latency mode that's also help me in game overall good performance. Must buy 🤗\"),\n",
       " Document(metadata={'source': 'ACCFSDGXX3S6DVBG', 'row': 666, 'product_title': 'BoAt Airdopes 131 Bluetooth Headset', 'rating': '4', 'summary': 'Very Good'}, page_content='review: I ordered the product in the sale on 22nd Aug & immediately received it on the morning of 23rd Aug.I must say at this price point the product is quite good. Good sound quality, good hardware, comfortable to ears & one part I liked is that it has C type charging port.Just one thing is missing which is mentioned on the box of product - Additional earmuffs for which I will be writing to Flipkart.Rest as of now is great. Time shall tell how great this product is.'),\n",
       " Document(metadata={'source': 'B0C33XXS56', 'row': 304, 'product_title': 'Sony WF-1000XM5 Wireless Noise Canceling Earbuds', 'rating': '4', 'summary': 'great earbuds'}, page_content='review: sound quality and noise cancellation better than airpod pros. the only complaint i had is the tips of the earbuds are dense foam, i got silicone tips for them and it made the comfortably and noise cancellation way better.'),\n",
       " Document(metadata={'source': 'ACCFHGZFS7GB9CVM', 'row': 391, 'product_title': 'realme Buds Wireless Bluetooth Headset', 'rating': '5', 'summary': 'Super!'}, page_content='review: Best bluetooth headset so far. I have used JBL, Boat, Portronics. This one is lightweight, sounds perfect and the charge lasts for days. The best part is that it has an amazing mic, unlike any other BT headset I used in past.'),\n",
       " Document(metadata={'source': 'ACCFZGAQJGYCYDCM', 'row': 323, 'product_title': 'BoAt Rockerz 235v2 with ASAP charging Version 5.0 Bluetooth Headset', 'rating': '1', 'summary': 'Useless product'}, page_content=\"review: Mic is not proper recipient persons can't hear proper sound ( every time for call I heard from front I can't hear you so I have to again talk to through Mobile phone no Option useless of wirless meaning)  and sound quality is so loud. Like local headphones. not comfortable to wear for more than1 hrs of uses.tere is no meanings to get replaced again you get same product therefore this is wast of money.\"),\n",
       " Document(metadata={'source': 'ACCFR3Q77R6RRGAC', 'row': 447, 'product_title': 'OnePlus Bullets Wireless Z Bluetooth Headset', 'rating': '5', 'summary': 'Perfect product!'}, page_content='review: I sanitize this oneplus bullets wireless fully satisfied for this product very nice build quality and sound quality very very good battery backup at this price. I have using this headphone for my oneplus 7 Pro device its perfect pair lots of love for oneplus .. thanks Flipkart for delivery on this critical condition all over world'),\n",
       " Document(metadata={'source': 'ACCFVA3KZ2EYMYX3', 'row': 544, 'product_title': 'OnePlus Bullets Wireless Z Bass Edition Bluetooth Headset', 'rating': '4', 'summary': 'Nice product'}, page_content=\"review: I'm loving this bluetooth ☺️😍\"),\n",
       " Document(metadata={'source': 'B0B4MWCFV4', 'row': 133, 'product_title': 'Fitbit Versa 4 Fitness Smartwatch', 'rating': '4', 'summary': 'My Fitbit'}, page_content=\"review: It was working fine and I was going to charge it this morning. It will not come on. What am I supposed to do. I can't get it to come on.\"),\n",
       " Document(metadata={'source': 'ACCFHGZFS7GB9CVM', 'row': 380, 'product_title': 'realme Buds Wireless Bluetooth Headset', 'rating': '5', 'summary': 'Terrific purchase'}, page_content='review: in love with realme products .. Good thank you flipkart  &realme good experience with realme x2 pro with this headphone..'),\n",
       " Document(metadata={'source': 'B0BN95FRW9', 'row': 172, 'product_title': 'Apple iPhone 14 Pro 128GB (Renewed)', 'rating': '4', 'summary': 'Decent but not perfect.'}, page_content='review: Decent renewed phone. It was supposed to be excellent condition but did have a slight small scratch on corner and battery was exactly at 80%. Didnt feel like returning and dealing with finding another. Shipped and sold by Amazon but came in a non amazon packaging so not sure if it was amazon renewed or not compared to others i have purchased from amazon that come in their boxes.'),\n",
       " Document(metadata={'source': 'ACCFR3Q77R6RRGAC', 'row': 436, 'product_title': 'OnePlus Bullets Wireless Z Bluetooth Headset', 'rating': '5', 'summary': 'Must buy!'}, page_content='review: Really great earphones.. very comfortable and very easy to use. If u love high bass then this are not for u other then that this are pretty good if u wanna buy them just do it. I totally recommend this'),\n",
       " Document(metadata={'source': 'ACCFVA3KZ2EYMYX3', 'row': 559, 'product_title': 'OnePlus Bullets Wireless Z Bass Edition Bluetooth Headset', 'rating': '3', 'summary': 'Fair'}, page_content=\"review: I bought this blootooth 1+one last Dec 2020 . Sound quality is good, Battery backups is very nice. But I have facing connectivity issue. It will be take 1 minutes . Overall product ok.  But I'm not satisfied with connectivity.\"),\n",
       " Document(metadata={'source': 'B0C33XXS56', 'row': 283, 'product_title': 'Sony WF-1000XM5 Wireless Noise Canceling Earbuds', 'rating': '3', 'summary': 'I really wanted to like them'}, page_content='review: PROS- Very tiny and pocketable case with a flat bottom (stands up on its own)- Lightweight and small earbuds- \"Bragging rights\"CONS- Very slippery/glossy earbud sides- ANC on and off sounded 100% the same to me- Case felt cheap/fragile- Sony app is a disaster/often did not recognize earbuds even after connecting to Bluetooth- Battery life wasn\\'t all thatI bought these buds to replace my aging Jabra 75t Active. They supposedly sounded amazing and had top tier ANC. They do sound slightly better, but ANC didn\\'t work for me at all. I tried all ear tip sizes multiple times, tried jamming them into my ears to the point of hurting myself, and ANC did not work at all. I\\'d turn it on and off a bunch of times in a row and heard absolutely no difference whatsoever. I knew the right fit was very important for ANC to work and tried everything I could. So either I have alien ears or my earbuds were defective.The sides of the earbuds are glossy and very slippery. It\\'s difficult getting them out of the case. I felt like I never really had a good grip on them and was deathly afraid of dropping my very expensive earbuds. The feeling is the same taking them out of my ears to put them in the case. Being constantly afraid of dropping them didn\\'t work for me.The hinge and the top half of the case felt really thin and cheap. It felt like it could snap in half with just a little bit of force. Not a huge issue, though.The Sony app is a clusterduck of epic proportions. It\\'s like they put the sales committee in charge of designing it. It\\'s just awful in every way. Everything is hidden in an unnecessary menu and has a weird name/description. And having to create a Sony account to use certain features was the last straw.I expected much better battery life according to their specs. It\\'ll probably last the full 8 hours, but don\\'t count on it if you need them for something important towards the second half of your day. They did last longer than my aging 75t Active, but not by a substantial amount. I had ANC on at all times, trying to notice any difference between having it on of off. I never tested the battery life on these with ANC off.Other than Sony\\'s app not recognizing the earbuds after connecting them to Bluetooth, I had zero issues with connectivity. They connected every time and I never experienced drops.I just didn\\'t get enough benefits to justify the price of these earbuds. I then bought the Jabra Elite 8 Active and, although they\\'re not \"high-end\" (no bragging rights), they\\'re a huge upgrade to everything I care about. The ANC works very well and I barely have to place the earbuds in my ears. They\\'re a lot easier to grip and feel secure in my hands and ears. The battery life is absurd. I charge my case once every 5 or 6 days (with ANC on 24/7). If I turned it off, I might not have to recharge them until next year.I\\'ve been eyeing Sony\\'s earbuds since the XM3, but never felt they were worth the price vs. features. After the XM5 came out, I finally thought there was a chance they were good enough. Unfortunately, that didn\\'t happen to me.'),\n",
       " Document(metadata={'source': 'B0DLHTTWVB', 'row': 232, 'product_title': 'Apple MacBook Air 13-inch M3 (2024)', 'rating': '5', 'summary': 'Tool for life'}, page_content=\"review: It's an Apple laptop: everything works great.  The touchpad is perfect and keyboard woes are well in the past (butterfly can trigger).  Underneath is *nix, available in the Terminal, so all good. Battery lasts long enough you can rely on it for many hours.\"),\n",
       " Document(metadata={'source': 'ACCFSKBJYWZKXGCP', 'row': 658, 'product_title': 'U&I Titanic Series - Low Price Bluetooth Neckband Bluetooth Headset', 'rating': '5', 'summary': 'Must buy!'}, page_content='review: Its wonderful product in budget price..'),\n",
       " Document(metadata={'source': 'ACCFVWN4PGNTEFGY', 'row': 587, 'product_title': 'realme Buds Q Bluetooth Headset', 'rating': '1', 'summary': 'Worst experience ever!'}, page_content=\"review: Within the return period it will work perfectly but after that too many problems you will face so don't buy this earbuds i have brought this on 12 jan and on 22 jan it's showing its true colours....I'm having connection issues, charging issue and more yet to come . Opening the box is very complicated\"),\n",
       " Document(metadata={'source': 'B0BN95FRW9', 'row': 198, 'product_title': 'Apple iPhone 14 Pro 128GB (Renewed)', 'rating': '5', 'summary': 'Great purchase!'}, page_content='review: Showed up two days earlier than expected thanks to FedEx. Was super easy to do the iPhone to iPhone transfer and got it working in less than 30 mins! Would recommend this option for buying newer iPhones than some pesky contract BS with a company/carrier. Personally use straight talk and it works amazing!'),\n",
       " Document(metadata={'source': 'ACCFZGAQJGYCYDCM', 'row': 336, 'product_title': 'BoAt Rockerz 235v2 with ASAP charging Version 5.0 Bluetooth Headset', 'rating': '5', 'summary': 'Must buy!'}, page_content='review: Best product at this price loved it. Thank you flipkart for safe delivery 💯😃'),\n",
       " Document(metadata={'source': 'ACCFSDGXX3S6DVBG', 'row': 673, 'product_title': 'BoAt Airdopes 131 Bluetooth Headset', 'rating': '5', 'summary': 'Great product'}, page_content='review: Everything is fine, just need improve the bass, and one thing many users have said does not work one side, tell them u reset once  and then both will work, the battery is very good and excellent performance but many people will have a slight pain in the ear while using it first time, but will not do it when they get used to it after a few days, in the last I will just say that u will not get any good from it at such a low price,  THANKS boAt INDIA & THANKS Flipkart😍😍'),\n",
       " Document(metadata={'source': 'B0DLHTTWVB', 'row': 229, 'product_title': 'Apple MacBook Air 13-inch M3 (2024)', 'rating': '5', 'summary': 'Mi primer Macbook, excelente experiencia!'}, page_content='review: mas de 20 años usando windows y este año decidí pasarme al ecosistema de apple. No ha sido una transición fácil, los comandos y las costumbres marcan, sin embargo los beneficios han sido muy notorios:Inicio inmediato del sistema, ningún lag pese a que uso múltiples exploradores y programas al tiempo, imagen impecable, muy buena duración de batería, excelente integración con tu iPhone, conectividad perfecta.Sobre el color, es muy elegante y me ha gustado mucho, con los case combina muy bien y no molesta para las huellas sobre el material.Por mejorar podría ser el material de las teclas que asume un desgaste de huella prematuro y se va viendo brillante, aunque veo que es fácil y económico comprarlas y cambiarlas con los años.'),\n",
       " Document(metadata={'source': 'B0DLHTTWVB', 'row': 251, 'product_title': 'Apple MacBook Air 13-inch M3 (2024)', 'rating': '5', 'summary': 'Highly satisfied'}, page_content='review: Love it! Super fast processor'),\n",
       " Document(metadata={'source': 'ACCFHGZFS7GB9CVM', 'row': 395, 'product_title': 'realme Buds Wireless Bluetooth Headset', 'rating': '5', 'summary': 'Simply awesome'}, page_content='review: NICE WONDERFUL & JUST AMAZING AND AWESOME...BATTERY BACKUP I JUST APPRECIATE THIS ....'),\n",
       " Document(metadata={'source': 'ACCEVQZABYWJHRHF', 'row': 740, 'product_title': 'BoAt BassHeads 100 Wired Headset', 'rating': '4', 'summary': 'Nice product'}, page_content=\"review: For whom i bought it she got surprised & also satisfied with this product & ofcourse i had a great faith on Boat headphones. I'm using since 2017.♥️♥️\"),\n",
       " Document(metadata={'source': 'ACCFZGAQJGYCYDCM', 'row': 358, 'product_title': 'BoAt Rockerz 235v2 with ASAP charging Version 5.0 Bluetooth Headset', 'rating': '5', 'summary': 'Terrific purchase'}, page_content='review: First of all it looks very perfect and is non fragile and awesome experience using this.....just fast delivery and well packed ....just perfect qs a product can be...and the best part is its mindblowing sound quality thunping my ears.....'),\n",
       " Document(metadata={'source': 'B0CQ3VXJ3J', 'row': 97, 'product_title': 'Samsung Galaxy Book4 Pro 16-inch Laptop', 'rating': '5', 'summary': 'Excellent laptop!'}, page_content=\"review: This is the second 14-inch laptop I have bought from Samsung. My previous laptop also was from Samsung. I use it for work every day and for travel. I like that this laptop is light and that the design is beautiful. I was afraid to buy it online. Usually, I purchase such expensive items in a retail store, but stores don't carry this model.It was fine. The packaging was good. And Amazon Prime delivered it within 24 hours.\"),\n",
       " Document(metadata={'source': 'B0BN95FRW9', 'row': 205, 'product_title': 'Apple iPhone 14 Pro 128GB (Renewed)', 'rating': '4', 'summary': 'No scratch'}, page_content='review: Nice product but battery health was 87%'),\n",
       " Document(metadata={'source': 'B0CQ3VXJ3J', 'row': 99, 'product_title': 'Samsung Galaxy Book4 Pro 16-inch Laptop', 'rating': '5', 'summary': 'Beautiful, fast computer!'}, page_content='review: Wow! This baby is so, so fast & beautiful!'),\n",
       " Document(metadata={'source': 'B0C33XXS56', 'row': 274, 'product_title': 'Sony WF-1000XM5 Wireless Noise Canceling Earbuds', 'rating': '4', 'summary': 'Worthy upgrade from WF-1000XM4'}, page_content=\"review: I've had a pair of the previous generation XM4s for a couple of years. They were fabulous buds, but the battery life on them started to go way down. It was time to replace them. I decided to give the latest generation a try. Once again, Sony has hit it out of the park with the XM5s. The sound quality and noise cancellation are incredible. The new buds are physically smaller and lighter than the previous ones. The case is slimmed down a bit. The magnets that hold the buds in the case are not as strong, making it easier to get them out. The battery life on these new ones is fantastic!Some of the cons: The bass is a bit more punchy than the old ones, but that's not a huge deal. I just went into my music player app and reduced the bass a little. The buds themselves are very smooth, and can slip out of the fingers pretty easily. Would be nice to have a rubberized coating for more traction. In the Sound Connect app, it would be nice to be able to select a default option for Ambient Sound Control when wearing just one bud.Conclusion: If you have a pair of XM4s that still work, you would do fine to stick with them for the time being. But when they do die, get yourself a pair of XM5s. You'll be pleased!\"),\n",
       " Document(metadata={'source': 'ACCFVA3KZ2EYMYX3', 'row': 526, 'product_title': 'OnePlus Bullets Wireless Z Bass Edition Bluetooth Headset', 'rating': '5', 'summary': 'Must buy!'}, page_content='review: Too good... At last 1+ improved in sound dept. You can feel each and every single note and the most good thing is you can hear tempo in one bud and others in the 2nd bud. I mean, the surround sound sistem is too good'),\n",
       " Document(metadata={'source': 'ACCFR3Q77R6RRGAC', 'row': 412, 'product_title': 'OnePlus Bullets Wireless Z Bluetooth Headset', 'rating': '5', 'summary': 'Worth every penny'}, page_content=\"review: LONG BUT WORTH READING.Honest review after one week. Just go for it. Dont get affected by negative reviews. Totally worth every penny and far ahead of its competition. The battery backup is splendid. Sound quality is very good nothing to complain here. Comfortable in the ears. Connectivity perfect. I haven't experienced any lag with normal media usage. I am a student and watch video lectures at sometimes 2x speed and never once I faced voice lag while changing video speed. Just go for it. Ju...\"),\n",
       " Document(metadata={'source': 'B0BN95FRW9', 'row': 179, 'product_title': 'Apple iPhone 14 Pro 128GB (Renewed)', 'rating': '4', 'summary': 'Great phone less than great battery health'}, page_content='review: The phone is great physically. No scratches or blemishes whatsoever. Everything was operating as expected. However the battery health came on 83% which isn’t ideal but it lasts me 14 hrs on a single charge which still isn’t that bad so let’s call it a winnish win'),\n",
       " Document(metadata={'source': 'ACCFVA3KZ2EYMYX3', 'row': 524, 'product_title': 'OnePlus Bullets Wireless Z Bass Edition Bluetooth Headset', 'rating': '3', 'summary': 'Just okay'}, page_content='review: Product is good but as the name says baas edition it has not such a good bass but its decent sound quality is good but bass is not so satisfying'),\n",
       " Document(metadata={'source': 'B0B4MWCFV4', 'row': 149, 'product_title': 'Fitbit Versa 4 Fitness Smartwatch', 'rating': '3', 'summary': 'Interesting, entertaining, but not inconsistent.'}, page_content='review: Lightweight. Rapid charge. Nice display.I can\\'t rate connectivity, since the wifi at my house is lousy.I am diabetic and like the way I can enter BS readings.I believe I set it to display when I shake my arm - it doesn\\'t.I can be going through the screens - and it goes dark.The Fitbit/watch will say \"no data available\" -- but I find/see the data is on my phone!It only seems to \"lose\" 25-30% of my steps, because I am usually carrying something so my arm does not swing.Even worse - I climbed 1.5 floors of steps -- and it only count one step!!!I can walk 3K steps and then sit down to watch a movie - and it tells me to walk.I can walk for hours -- and it tells me to take it easy!I use it as a watch rather than directing my activity.For the cost it\\'s provided some entertainment and definitely a handy watch.However, I don\\'t believe I would purchase again.'),\n",
       " Document(metadata={'source': 'B0C33XXS56', 'row': 268, 'product_title': 'Sony WF-1000XM5 Wireless Noise Canceling Earbuds', 'rating': '4', 'summary': 'Immersive stellar sound, quirky fit'}, page_content=\"review: 8/8/24 update: I replaced the Sony OEM earbud tips with the Sedna Earfit Max, the ML size. Wonderful fit. Never a problem with air tightness. Sony is still sending me some alternate earbud tips for free. I have no idea how they'll work but I'm getting them mid-month.  Sony's sound quality is spoiling the p30i's for me but I'm still keeping them as a backup._____________________I had a pair of XM4s that crapped out on the left earbud after eight months. Was able to return them and get a refund. I replaced them with Anker Soundcore p30i's as a stopgap until Prime Day. I really like them for the most part. And for the price the sound is great. But I can't help remembering the sound of the XM4, although I wasn't sure if I was like building it up in my mind to an unrealistic degree. I wasn't.I just bought these on Prime day. I was really happy with the p30is and I still am. But the sound of the XM5s are so good, compared to the great at the price sound of the p30i's. XM5 sound is immersive, clear, round, rich, and beautiful whether I'm listening to opera, EDM, or K-pop. No flatness or separation between me and the sound. It's just so good in my head.Fit-wise the Sony earbuds are really hard to get airtight and I tried a couple of tip sizes. I recall with the XM4 I had to wait for the tips to warm up in my ears before they became airtight.  I have some replacement silicone ear tips, nothing special. Just some cheapies I had bought for the p30i but they didn't fit. These work better with the XM5 with the air tightness. Not quite sure whether the sound is as good as with the OEMs, so I'll have to compare.I'm going to keep the p30i as my second pair. You just can't go wrong at the price and the quality (and the battery life). They were a replacement for the Soundcore p40i which just didn't fit my ears at all and would fall out regardless of the size of ear tips I used.  But I have a feeling that the longer I keep listening with these XM-5s I'm going to have to get used to accepting or tolerating a not as great sound the the p30i delivers .For the price, the p30i are really good. Is the XM5 worth like $170-ish more? Yeah, I think so. My ears are so happy with this sound.Fit-wise the p30i don't fit any better than the XM5 But so far they haven't fallen out like the p40i did. Soundcore earbuds have tails and I'm really not used to them. And they tend to stick out of my ears a little bit more. The angle at which I have to put the earbuds in is a little weird for me. But it's acceptable and as I said, for the price, the sound is really great. Just not as great as the XM5.ANC- meh on the Soundcores (although they have good sound isolation); better on Sony.Controls- definitely better on Sony. Every time I touched the  the Soundcores to adjust them in my ears (which I had to do a lot with the p40i), it would change something in the settings.Battery life- p40i long battery life was one of the key reasons why I bought them. The p30i isn't bad either, just not quite as long as the p40i, But I've been getting three or four charges out of the case before hitting 20% on the buds and have to charge the case again. I don't know how long the XM5 lasts. But I do remember what the XM4 battery life kept shortening. I was only getting about 3 or 4 hours after a while. So I will be looking at that.UPDATE: getting good battery life from the Sony's. I can use the charging case three times before I have to recharge the whole thing. And I can just recharge the case alone. Usually I can have these in my ears for like 6 hours before I get a low battery which happens at 20%.I'm subtracting a star for price and that sort of quirky fit.\"),\n",
       " Document(metadata={'source': 'B0CQ3VXJ3J', 'row': 100, 'product_title': 'Samsung Galaxy Book4 Pro 16-inch Laptop', 'rating': '5', 'summary': \"It's worth getting just for the awesome display\"}, page_content=\"review: Beautiful, crisp 120Hz display. Very good keyboard and touch pad. Solid metal and glass implementation of the slim, gorgeous design. Great battery life. Integrates perfectly with the Samsung ecosystem (Tabs, Galaxy phones, Buds Pro, etc.). I couldn't be happier.\"),\n",
       " Document(metadata={'source': 'B0BN95FRW9', 'row': 171, 'product_title': 'Apple iPhone 14 Pro 128GB (Renewed)', 'rating': '5', 'summary': 'Excellent Quality so far.'}, page_content='review: My boyfriend got me this just because and it’s amazing the phone looked amazing almost brand new and battery life was at 90%. Everything works beautifully from the phone speed and response to the camera quality. It just super amazing. It’s indeed more than what I expected. I have only had it for two days but will check in should anything change. Thank'),\n",
       " Document(metadata={'source': 'ACCFR3Q77R6RRGAC', 'row': 425, 'product_title': 'OnePlus Bullets Wireless Z Bluetooth Headset', 'rating': '5', 'summary': 'Simply awesome'}, page_content=\"review: It's definitely worth. But it's not a basshead earphones, I've seen some reviews saying it's got such an amount of base but in reality it's a balanced headphones adequate amount of bass nothing much more.This one plus sounds good when it comes to overall sound quality, it's all balanced Product quality is superb at this price range you can't complainMagnetic on/off is very helpful in saving battery life and convenient too, you don't have to switch it off and on, just detach it and it in...\"),\n",
       " Document(metadata={'source': 'ACCFZGAQJGYCYDCM', 'row': 341, 'product_title': 'BoAt Rockerz 235v2 with ASAP charging Version 5.0 Bluetooth Headset', 'rating': '5', 'summary': 'Worth every penny'}, page_content='review: Boat headset is very clear voice and bass is v good and plus point is fast charging 20 mint to 4 hrs batery backup... One of the best bluetooth headset....osmmm products'),\n",
       " Document(metadata={'source': 'B0BN95FRW9', 'row': 195, 'product_title': 'Apple iPhone 14 Pro 128GB (Renewed)', 'rating': '4', 'summary': 'Producto con conprado'}, page_content='review: Cumple con lo ofrecido la única observación es no detallar con que batería viene solo dice excelente reacondicionado y vino con 85%'),\n",
       " Document(metadata={'source': 'ACCFR3Q77R6RRGAC', 'row': 451, 'product_title': 'OnePlus Bullets Wireless Z Bluetooth Headset', 'rating': '5', 'summary': 'Worth every penny'}, page_content='review: Sound clarity is perfect,design built quality also good,most important thing is battery backup it superbb👌👌🔥🔥but bass is not that much good overall product is awesome 🔥🔥🔥😍😍'),\n",
       " Document(metadata={'source': 'B0B4MWCFV4', 'row': 164, 'product_title': 'Fitbit Versa 4 Fitness Smartwatch', 'rating': '4', 'summary': \"I don't know how I feel about this watch!\"}, page_content=\"review: I bought it for multiple reasons. One if the bigger reasons was to work with my Google Assistant. What I've learned since buying and using this watch surprised me. Google owns Fitbit, but Fitbit Versa 4 is not compatible with Google Assistant. I am not impressed with (No Offense Amazon) Alexa who is the only Voice Assistant on the watch. I don't have any devices that use Alexa other than my Fitbit and does not fit well in my setup. If I knew know before I ordered it, I would have picked a different Smartwatch. With that being said, be new to Smartwatchs, this one still isn't half bad.\"),\n",
       " Document(metadata={'source': 'ACCFSDGXX3S6DVBG', 'row': 691, 'product_title': 'BoAt Airdopes 131 Bluetooth Headset', 'rating': '3', 'summary': 'Decent product'}, page_content='review: I wish to point out one very basic thing the earbuds are designed well but the material used for covering the sound outlet is no good it in good brands its steel or metal based very fine mesh, in this case it  just came out to be nothing but a cloth based thin layer pasted with low quality glue. Not a good experience. Earbud without this cover is firstly exposed and not so appealing anymore.'),\n",
       " Document(metadata={'source': 'ACCFR3Q77R6RRGAC', 'row': 422, 'product_title': 'OnePlus Bullets Wireless Z Bluetooth Headset', 'rating': '4', 'summary': 'Good quality product'}, page_content='review: Best budget Bluetooth earphones by one plus ....sound quality superb.....bass also good .... vry good built quality ....fix 15 hours play back ....very fast order delivery by flipkart ....over all good'),\n",
       " Document(metadata={'source': 'ACCFR3Q77R6RRGAC', 'row': 442, 'product_title': 'OnePlus Bullets Wireless Z Bluetooth Headset', 'rating': '5', 'summary': 'Worth every penny'}, page_content=\"review: PROS : 1. Long lasting battery life (About 18 hours)            2. Full charge in 30 minutes.             3. Excellent balanced sound.             4. Quick Switching between my phone and laptop CONS : 1. Bass is moderate.            2. Magnetic control only pause the audio, but can't play while separating the buds in my Redmi NOTE 7 Pro.\"),\n",
       " Document(metadata={'source': 'B0B4MWCFV4', 'row': 163, 'product_title': 'Fitbit Versa 4 Fitness Smartwatch', 'rating': '5', 'summary': 'works as intended'}, page_content='review: Works as intended'),\n",
       " Document(metadata={'source': 'B0CQ3VXJ3J', 'row': 96, 'product_title': 'Samsung Galaxy Book4 Pro 16-inch Laptop', 'rating': '2', 'summary': \"It's okay...\"}, page_content='review: The screen is amazing which is the only positive thing for this laptop. Battery life is abysmal, it needs to be plugged in at all times and I have it set to 60Hz instead of 120. I may have to reset it to get rid of all the samsung bloatware and see if that will improve battery life. The cooling is pretty bad too. The fan is loud and the keyboard becomes kind of hot.'),\n",
       " Document(metadata={'source': 'ACCFKYE2ARGG67WC', 'row': 504, 'product_title': 'realme Buds 2 Wired Headset', 'rating': '4', 'summary': 'Delightful'}, page_content='review: Good bass over all nice i get Rs599 MRP price is 699 if you are getting under 500 then best'),\n",
       " Document(metadata={'source': 'ACCFSDGXX3S6DVBG', 'row': 694, 'product_title': 'BoAt Airdopes 131 Bluetooth Headset', 'rating': '5', 'summary': 'Highly recommended'}, page_content=\"review: Super good build quality price is better than other brands I'm fully satisfied thank you boAt\"),\n",
       " Document(metadata={'source': 'B0C33XXS56', 'row': 296, 'product_title': 'Sony WF-1000XM5 Wireless Noise Canceling Earbuds', 'rating': '3', 'summary': 'Impressive, but lacking vital features.'}, page_content='review: The sound of these earbuds is pretty good, you can mess around with the EQ and find something you like. The noise cancelation is great, as well. The ambient sound mode is very impressive as well. They are comfortable to wear and you don\\'t feel tired by them. However, I do feel like Sony has lots of work to do, still. For the kind of money, these earbuds are not very durable. I have run into issues with connection stability, touch controls won\\'t work, an earbud won\\'t turn on when taking them out of the case, and other issues. I actually reached out to Sony and they did replace my unit... only for the second one to start having similar issues again. Sony finally worked on the app, which was an utter disaster. It\\'s much nicer now. But still, key features are missing. There is NO \"find\" function for the case or the earbuds, which is so ridiculous given that we are almost in 2025. Voice controls would make an awesome addition as well. Other, less capable brands have done it, and I don\\'t see why Sony wouldn\\'t be able to. When these things are fixed, these will be the greatest earbuds available.'),\n",
       " Document(metadata={'source': 'ACCFKYE2ARGG67WC', 'row': 508, 'product_title': 'realme Buds 2 Wired Headset', 'rating': '5', 'summary': 'Brilliant'}, page_content='review: Best earphone under this price range i have bought sony buds which was available Rs100 more than this price but its sound was low in compare to realme buds2 best earphone under this price range with boosted bass bass is best'),\n",
       " Document(metadata={'source': 'B0CHX7R6WJ', 'row': 16, 'product_title': 'Apple Watch SE 2nd Gen 40mm GPS', 'rating': '4', 'summary': 'you have to charge it everyday'}, page_content='review: the battery does not last very long.'),\n",
       " Document(metadata={'source': 'ACCFR3Q77R6RRGAC', 'row': 414, 'product_title': 'OnePlus Bullets Wireless Z Bluetooth Headset', 'rating': '5', 'summary': 'Simply awesome'}, page_content='review: The bass provided is a decent one and the sound clarity is pretty good.And all the other features are exceptional.U can surely go for this one for the price range..will not regeret.'),\n",
       " Document(metadata={'source': 'ACCFVWN4PGNTEFGY', 'row': 562, 'product_title': 'realme Buds Q Bluetooth Headset', 'rating': '3', 'summary': 'Just okay'}, page_content='review: Good and well but still some batter time improved it will be good and I have a small fear that these buds or not fitting properly some times and may fall down that is a draw back.'),\n",
       " Document(metadata={'source': 'B0B4MWCFV4', 'row': 152, 'product_title': 'Fitbit Versa 4 Fitness Smartwatch', 'rating': '5', 'summary': 'Great product!'}, page_content='review: Great size, has long battery life, easy to connect to phone, easy to use app, charges fast, easy to monitor heart rate!'),\n",
       " Document(metadata={'source': 'ACCFVA3KZ2EYMYX3', 'row': 547, 'product_title': 'OnePlus Bullets Wireless Z Bass Edition Bluetooth Headset', 'rating': '5', 'summary': 'Terrific purchase'}, page_content='review: Useful products'),\n",
       " Document(metadata={'source': 'B0C33XXS56', 'row': 293, 'product_title': 'Sony WF-1000XM5 Wireless Noise Canceling Earbuds', 'rating': '4', 'summary': 'Good sound, mediocre design and software.'}, page_content='review: <Note- I worked in technology for a major division of Sony that didn’t include personal audio equipment> I’ve been using these for about a week.  NOTE- they sound flat and lacking in depth until properly broken in. After approximately 25 hours of listening, and changing out the crappy included ear tips for the boxed ones, the sound really warmed up a lot. I still can’t give the sound better than 4 stars as there are competitors in this price range that do a better job, but if you’re moving up from iPod Pros they you’ll be happy with the much better sound.Downsides- Design sucks. Why they used a curved outer edge can be chalked up to the cool looking factor. Sony wants their products to make you feel rich and powerful, to set you apart, so I get it. Not easy to get out of the case or ears, kinda hard to tell where the button is when in use, but Sony has always been form over function for many of their electronics.The software is crap- Another Sony hallmark. It’s usable but falls far behind literally every other headphone manufacture I’ve ever used. It’s not a big deal, but I’d expect more at this price point.That said, I’m still deciding weather to keep these or trade them in for a pair that I know are superior at the same price point (lost one of those buds in vacation so I thought I’d try the Sony’s).'),\n",
       " Document(metadata={'source': 'ACCFHGZFS7GB9CVM', 'row': 383, 'product_title': 'realme Buds Wireless Bluetooth Headset', 'rating': '5', 'summary': 'Perfect product!'}, page_content=\"review: It's a very nice headset with great bass and treble delivery with a nice build quality and it's so light that one cannot feel it after putting around the neck. The connectivity is good enough but the range could be a little better and love those features offered in this price range and the sound quality is also great with crisp treble and semi high bass Some minor highlights to be noticed :1) Sound quality is great in this earphones but with different devices you need to configure the sound...\"),\n",
       " Document(metadata={'source': 'ACCEVQZABYWJHRHF', 'row': 757, 'product_title': 'BoAt BassHeads 100 Wired Headset', 'rating': '3', 'summary': 'Fair'}, page_content=\"review: It's a really perfect earphone. I love it . Sound quality and base is too good in this cost.\"),\n",
       " Document(metadata={'source': 'ACCFR3Q77R6RRGAC', 'row': 431, 'product_title': 'OnePlus Bullets Wireless Z Bluetooth Headset', 'rating': '4', 'summary': 'Pretty good'}, page_content=\"review: Everything think is good but bass is low But after updating my OnePlus device The wireless z  earphone sounds better than priviousBecause it's got support Of Dolby Atmos soundsOver all best for OnePlus device s\"),\n",
       " Document(metadata={'source': 'ACCFZGAQJGYCYDCM', 'row': 339, 'product_title': 'BoAt Rockerz 235v2 with ASAP charging Version 5.0 Bluetooth Headset', 'rating': '5', 'summary': 'Best in the market!'}, page_content='review: It is an amazing product.. For this price... Less weight.. Flexible.. Super sound... Extra feature is call vibration.. Nice one.. Try it..'),\n",
       " Document(metadata={'source': 'ACCFZGAQJGYCYDCM', 'row': 345, 'product_title': 'BoAt Rockerz 235v2 with ASAP charging Version 5.0 Bluetooth Headset', 'rating': '5', 'summary': 'Best in the market!'}, page_content='review: If you are a bass lover then blindly go for it . And I think 8 hours of backup is enough and 4 hours charge in 20 mins .what else we want . Superb'),\n",
       " Document(metadata={'source': 'ACCFR3Q77R6RRGAC', 'row': 453, 'product_title': 'OnePlus Bullets Wireless Z Bluetooth Headset', 'rating': '5', 'summary': 'Mind-blowing purchase'}, page_content=\"review: I dont know why some people are complaining about low bass , on the contrary they have quite adequate bass and when you pair them with devices having dolby audio , it just works like a charm.-Best build quality-Battery backup is one of the best in its segments -Sound quality is actually more than awesomeAnd its more than just value for money , in 2k their's no other good alternative .Got them at only at 1850 /-\"),\n",
       " Document(metadata={'source': 'B0CHX7R6WJ', 'row': 22, 'product_title': 'Apple Watch SE 2nd Gen 40mm GPS', 'rating': '5', 'summary': \"Okay, I'm a convert\"}, page_content=\"review: I really loved my Fitbit Luxe for its small size and stylish look. I didn't really need all the extras an Apple watch offers, and I didn't want to wear the big clunky Apple. But when Google took over and my last Fitbit died for the final time. it appeared that it really wasn't being supported any longer. Why did I wait so long? This watch is waaaay more than I really need, but I love it! There are lots of replacement bands available to lessen the utilitarian appearance.\"),\n",
       " Document(metadata={'source': 'ACCFSDGXX3S6DVBG', 'row': 692, 'product_title': 'BoAt Airdopes 131 Bluetooth Headset', 'rating': '5', 'summary': 'Wonderful'}, page_content='review: Awesome product with this price range. Nice build quality and very comfortable for long duration use. Impressed with the battery backup. Go for it.😊👍'),\n",
       " Document(metadata={'source': 'ACCFHGZFS7GB9CVM', 'row': 409, 'product_title': 'realme Buds Wireless Bluetooth Headset', 'rating': '4', 'summary': 'Very Good'}, page_content='review: Writing it after 27 days of usage. Its design really stands out, be it the metal body or unique colour combination. Built seems solid. Battery life is decent, around 12 hrs on vol around 40%. Charges from 0 to full within 2-2.5 hrs. Auto shut off feature is very useful,(auto resume after they are turned on would have been great). Fits well into the ears. Sounds quality is quite interesting, initially I was a bit disappointed as I usually use Sony MDR-XB450(they sound phenomenal) but comparing...'),\n",
       " Document(metadata={'source': 'B0CQ3VXJ3J', 'row': 76, 'product_title': 'Samsung Galaxy Book4 Pro 16-inch Laptop', 'rating': '5', 'summary': 'Excellent work computer'}, page_content='review: A couple years back, my mom gifted me an Alienware laptop since my Omen\\'s screen was acting up, and it\\'s served me well as both a work computer and gaming laptop but the thing is definitely a bit on the heftier side lol.At any rate, I actually came across this laptop while browsing for an upgrade for my Samsung tablet. This was definitely one of those \"impulse purchases but it\\'s for work\" kind of things lol. But at the end of the day, I\\'m very happy with the Galaxy Book 4 pro. It\\'s smaller and weighs a fraction of what my Alienware does. It performs well and is extremely portable. The built-in webcam is high enough quality that I can use it for my work video calls.This particular laptop was sold at a discount as \"used like new\" - one of the 2 manufacturer sticker seals on the box had been partly torn but not opened completely, and the other was untouched. As far as I can tell, the box had never actually been opened, so it seems like I got a pretty solid discount for just some minor packaging damage lol.I can\\'t speak to its gaming capabilities. I haven\\'t tried to play anything on the Galaxy Book - I\\'m sure I have a couple games on Steam that it could handle, but as I mentioned, I have a gaming laptop - This one is basically for everything else, from personal projects to all my work stuff!I\\'ve been a fan of Samsung for a long time, but this is my first computer purchase from this brand and I\\'m definitely sold! This laptop is lightweight and highly portable, and I\\'d recommend it for anyone who wants a solid machine for work or school.'),\n",
       " Document(metadata={'source': 'B0CHX7R6WJ', 'row': 3, 'product_title': 'Apple Watch SE 2nd Gen 40mm GPS', 'rating': '5', 'summary': 'Great battery life and seamless integration!'}, page_content='review: I recently acquired the Apple Watch SE (2nd Gen) with the Starlight Aluminum Case and Starlight Sport Band, and I must say it has been a game-changer for me. As a graduate student pursuing a master\\'s in computer science at the University of Florida and a research assistant at the Learn Dialogue Lab, I needed a smartwatch that could seamlessly integrate into my active lifestyle, help me stay on top of my health, and even assist in my research tasks. The Apple Watch SE has exceeded my expectations in all these aspects.One of the standout features for me is the fitness and sleep tracking capabilities. With my busy schedule, it\\'s crucial to keep tabs on my physical activity and sleep patterns. The Apple Watch SE does an excellent job of tracking my steps, calories burned, and even encourages me to move when I\\'ve been sitting for too long. The sleep tracking feature has been a revelation, providing insights into the quality of my sleep and helping me make adjustments for better rest.Being a tech enthusiast and someone deeply involved in the IT sector, I appreciate the crash detection and heart rate monitoring functions. Safety is paramount, and the watch\\'s ability to detect a potential fall and initiate an emergency call is a reassuring feature, especially when I\\'m out traveling or in the middle of a research project. The heart rate monitor keeps me informed about my cardiovascular health during workouts and daily activities.As someone who loves teaching and mentoring, the Apple Watch SE also helps me manage my busy schedule. The calendar notifications and reminders keep me on track for meetings with my mentees and colleagues at the lab, which is essential for our collaborative projects, such as \"Collaborative sports,\" \"Amby: Language model for middle schoolers,\" and \"Integrate AI.\"Moreover, the watch seamlessly integrates with my iPhone, allowing me to respond to messages, emails, and calls without taking out my phone, which is incredibly convenient during our frequent lab meetings and while I\\'m on the go.In conclusion, the Apple Watch SE (2nd Gen) has become an indispensable part of my daily life. Its fitness and health-tracking features, coupled with its integration into my professional and academic activities, make it a must-have for anyone in the IT sector aiming to be a leader in future IT solutions. Whether I\\'m teaching React JS or exploring new states in the USA, this smartwatch has proven to be a reliable companion. Highly recommended!'),\n",
       " Document(metadata={'source': 'ACCFR3Q77R6RRGAC', 'row': 430, 'product_title': 'OnePlus Bullets Wireless Z Bluetooth Headset', 'rating': '5', 'summary': 'Awesome'}, page_content='review: Best in class !! I am using this with my iphone 7 (no connectivity issues)Sound quality is good with balanced bass n treble(Soft Bass) Overall A very good product in this price range!'),\n",
       " Document(metadata={'source': 'ACCFHGZFS7GB9CVM', 'row': 394, 'product_title': 'realme Buds Wireless Bluetooth Headset', 'rating': '5', 'summary': 'Perfect product!'}, page_content='review: Super bass, easy to pair, crystal clear sound, excellent product in this price range.'),\n",
       " Document(metadata={'source': 'ACCFVA3KZ2EYMYX3', 'row': 538, 'product_title': 'OnePlus Bullets Wireless Z Bass Edition Bluetooth Headset', 'rating': '5', 'summary': 'Terrific'}, page_content='review: Very good 👍 sound 🎤 quality nice bass and treble all over excellent l.battery backup is also nice 👏👏👏thanks to Flipkart for delivery next to the day I ordered 📑'),\n",
       " Document(metadata={'source': 'B0BN95FRW9', 'row': 173, 'product_title': 'Apple iPhone 14 Pro 128GB (Renewed)', 'rating': '5', 'summary': 'Better than expected!'}, page_content='review: With refurbished I thought it would come with an aftermarket screen and perhaps an aftermarket battery and maybe have minor scuffs.  My phone arrived in a generic white box with aftermarket charger but the phone itself was in MINT condition.  I could not find a single scratch or scuff.  It was perfect physically.  Battery health was at 88%, that was the only indication that I could tell it had been used.  You can check if it had repairs done to it by going into Settings > General > About and if there is an option that shows “parts & services” then you know it was worked on and you can further see if the parts serviced are genuine when you click on it.  When I checked that option was not showing so that means it didn’t have any replacements or services done to it. That should not be the expectation when buying refurbished so I consider myself quite lucky and I am very happy with this purchase.'),\n",
       " Document(metadata={'source': 'ACCFVWN4PGNTEFGY', 'row': 602, 'product_title': 'realme Buds Q Bluetooth Headset', 'rating': '5', 'summary': 'Terrific'}, page_content='review: Bass is very goodOverall nice product at this range I got it @1599'),\n",
       " Document(metadata={'source': 'B0CHX7R6WJ', 'row': 26, 'product_title': 'Apple Watch SE 2nd Gen 40mm GPS', 'rating': '5', 'summary': '1st time Apple Watch wearer!'}, page_content='review: And I love it!'),\n",
       " Document(metadata={'source': 'ACCFSKBJYWZKXGCP', 'row': 627, 'product_title': 'U&I Titanic Series - Low Price Bluetooth Neckband Bluetooth Headset', 'rating': '5', 'summary': 'Just wow!'}, page_content='review: 💖💖Sound is osm & bass is very good & build is super & the most important thing its battery 🔋 backup is more than 8+ hrs so this is very osm superb & awesome bluetooth headset i like it very much🔥🔥🔥🔥Sound-4.8/5Build quality-4.7/5Battery-5/5Value for money-5/5'),\n",
       " Document(metadata={'source': 'B0CQ3VXJ3J', 'row': 78, 'product_title': 'Samsung Galaxy Book4 Pro 16-inch Laptop', 'rating': '4', 'summary': 'Solid laptop'}, page_content=\"review: Solid laptop. Could be better in some areas, especially for the price, but overall I'm happy with it.Pros:- Excellent build quality with no creaks anywhere, although there's a little bit of screen wobble- Gorgeous display that gets plenty bright for indoor use. Scrolling is very smooth thanks to the 120hz refresh rate and you get those deep blanks thanks to the panel being OLED- Light for a 16incher- Great CPU performance. Very snappy with minimal fan noise even under heavy load, although it can get kinda hot in the space above the keyboard after awhile. Can't comment on GPU performance since I don't play games, although I imagine a dedicated gaming laptop with a dedicated graphics card would be better if you're a hardcore gamer.- Samsung integrations. I have a bunch of other Samsung products like the Galaxy S24, Tab S8, and Buds2 Pro and I appreciate the integrations between the laptop and these other products. I probably won't be using most of them but they're still nice to have. The most convenient ones for me have been the Buds auto-switching, Samsung Notes, Quick Share, and Second Screen.- Fingerprint reader works greatCons:- Keyboard. It's not a bad keyboard, it's just meh. The key travel is pretty shallow. Also all the keys are off-center thanks to the number pad on the right which messes with my muscle memory. Will take some getting used to.- Battery Life. Haven't been able to get more than about 5 hours of screen on time even with light use (web browsing and streaming). Might just need to wait about a week for all the optimizations to take place, but I'm hoping it gets better.- Speakers. Not the worst speakers, just meh. Could be better for the price. Turning on Dolby Atmos makes a noticeable improvement, but I've had much cheaper laptops with better speakers. Will definitely be using my earbuds most of the time.\"),\n",
       " Document(metadata={'source': 'ACCFVA3KZ2EYMYX3', 'row': 522, 'product_title': 'OnePlus Bullets Wireless Z Bass Edition Bluetooth Headset', 'rating': '4', 'summary': 'Really Nice'}, page_content='review: Bought these headphones 3 weeks backPros:1. excellent build quality2. Great bass and sound3. light weight and handy4. gives me 10hrs of battery back up5. really good quick chargeCons:1. Missing quick switch button'),\n",
       " Document(metadata={'source': 'ACCEVQZABYWJHRHF', 'row': 725, 'product_title': 'BoAt BassHeads 100 Wired Headset', 'rating': '1', 'summary': 'Waste of money!'}, page_content=\"review: After 6 month it won't work properly it's better to select other product than this even warranty is of no use they don't provide proper information it's better to select other than this even it's normal than other earphone\"),\n",
       " Document(metadata={'source': 'ACCFVA3KZ2EYMYX3', 'row': 543, 'product_title': 'OnePlus Bullets Wireless Z Bass Edition Bluetooth Headset', 'rating': '5', 'summary': 'Just wow!'}, page_content='review: Nice'),\n",
       " Document(metadata={'source': 'ACCFVA3KZ2EYMYX3', 'row': 517, 'product_title': 'OnePlus Bullets Wireless Z Bass Edition Bluetooth Headset', 'rating': '4', 'summary': 'Value-for-money'}, page_content=\"review: 1. Call quality is Good. I have tested the call infront of high volume TV. The call was pretty good and didn't hear much noise if TV music. 4.5/52. Music is good. Bass is not as expected. But if you adjust the Equalizer, the Music is good. 4/5.3. Comfort is Pretty good. 5/5.4. Battery is also really good. 5/5.\"),\n",
       " Document(metadata={'source': 'B01D93Z89W', 'row': 54, 'product_title': 'Canon EOS Rebel T7 DSLR Camera Bundle', 'rating': '5', 'summary': 'Charger - EURO Plug'}, page_content='review: The charger that was with this camera was not compatible with the wall plug here in the US.  Had to order a new charger in order charge the battery.  Other than that, this was a great value.'),\n",
       " Document(metadata={'source': 'ACCFHGZFS7GB9CVM', 'row': 373, 'product_title': 'realme Buds Wireless Bluetooth Headset', 'rating': '5', 'summary': 'Classy product'}, page_content=\"review: I would like to thank Flipkart  for delivered this product with in time ... It's really amazing .. nice battery backup and inbuilt quality... But you need to improve bass quality .. thankyou ..\"),\n",
       " Document(metadata={'source': 'B0C33XXS56', 'row': 301, 'product_title': 'Sony WF-1000XM5 Wireless Noise Canceling Earbuds', 'rating': '3', 'summary': 'Beware: used product sent as \"new\"'}, page_content=\"review: The headphones are great, but -2 stars because the first pair I received were clearly heavily used.The first pair I ordered came in a completely sealed box that looked brand new. However, upon opening them, there were a lot of clues something was off. The case was shiny and lightly scuffed up. I thought maybe I was mistaken, so I paired them to my phone and started testing them out. Noise cancelling didn't seem to work at all, but I thought maybe the headphones were just worse than everyone said. I couldn't get the ear cups to fit. It appeared that I'd gotten two of the sized SS ear cups but no size medium. Then, when I was looking through the settings, I saw they were already registered to a different device.I requested a replacement and sure enough all of the problems went away and I love them.Amazon sold a re-packaged used headset as brand new, and not just one that had cosmetic issues one that wasn't functioning properly and was missing components. Someone had to go through all the work of putting a new seal on both the headphone case and the box itself, so it clearly wasn't a mistake.If you get a bad pair, return them and try again.\"),\n",
       " Document(metadata={'source': 'ACCFKYE2ARGG67WC', 'row': 466, 'product_title': 'realme Buds 2 Wired Headset', 'rating': '5', 'summary': 'Simply awesome'}, page_content=\"review: What a immersive experience on the headphones...when i listen music on them it feels like i'm sitting in any live show... best sound quality i've ever experienced on this price range.  superb realme it wroth the price.. Its looks are also cool to see with yellow lines. The button of the remote are tactile and easy to use and differentiate. The sound goes to extreme volume no trouble after long hours of use.\"),\n",
       " Document(metadata={'source': 'B0CQ3VXJ3J', 'row': 116, 'product_title': 'Samsung Galaxy Book4 Pro 16-inch Laptop', 'rating': '1', 'summary': 'Damage'}, page_content='review: When ever I turn on my laptop the screen turns black.'),\n",
       " Document(metadata={'source': 'B0CQ3VXJ3J', 'row': 114, 'product_title': 'Samsung Galaxy Book4 Pro 16-inch Laptop', 'rating': '1', 'summary': 'Do not buy! Broken screen'}, page_content='review: Title. Good luck if you buy this. Never dropped, hell almost never touched. Must be faulty or just broken when bought. Nothing I can do since its past the return window. Look at reddit for all the people talking about this!! Hundreds of people and posts.Do not buy. Waste of your money.'),\n",
       " Document(metadata={'source': 'ACCEVQZABYWJHRHF', 'row': 727, 'product_title': 'BoAt BassHeads 100 Wired Headset', 'rating': '5', 'summary': 'Just wow!'}, page_content='review: best sound products for me strong bass I got this in earphones thank u boat & thank u flipkart'),\n",
       " Document(metadata={'source': 'B0CQ3VXJ3J', 'row': 103, 'product_title': 'Samsung Galaxy Book4 Pro 16-inch Laptop', 'rating': '5', 'summary': 'feliz'}, page_content='review: Me encantó,  desde hace algunos meses quería  comprar mi portátil, esperé a.que fuera ofertado por amazon'),\n",
       " Document(metadata={'source': 'ACCFHGZFS7GB9CVM', 'row': 399, 'product_title': 'realme Buds Wireless Bluetooth Headset', 'rating': '5', 'summary': 'Perfect product!'}, page_content=\"review: After using a month, reviewing The best wireless earbuds within this price guys1. Best at bass2. Very nice quality of sound3. I use it for 5-7 hours a day and one charge goes upto 7 days for sure4. Used it in gym as well - no tension about sweat as it's waterproof5. Apart from the black one, other colours could have been better6. Coz of being the best this has got highest rating on 5 start\"),\n",
       " Document(metadata={'source': 'B01D93Z89W', 'row': 45, 'product_title': 'Canon EOS Rebel T7 DSLR Camera Bundle', 'rating': '5', 'summary': 'Canon camera'}, page_content='review: In love with this camera I have been wanting a camera for years and never followed through with it if you are looking for a good first camera with good qualities 100% recommend'),\n",
       " Document(metadata={'source': 'B0BN95FRW9', 'row': 175, 'product_title': 'Apple iPhone 14 Pro 128GB (Renewed)', 'rating': '3', 'summary': 'I got what I paid for and it’s not terrible'}, page_content='review: I bought the acceptable one and the phone came with little to no scratches or dents a few scruffs on the edges and a prominent scratch on the middle top of the screen but it’s an upgrade from my XR so I don’t mind. The physical quality is good but the internal is where I’m like “yeah this is definitely ‘acceptable’ ” because the battery life was at 84% when I got it but I don’t mind since it’s a 1TB phone I will get the battery replaced. I also noticed the phone overheating a bit while transferring my data from my old phone i have felt it get warm a bit when downloading apps a bit concerning. But other than that it’s okay.'),\n",
       " Document(metadata={'source': 'ACCFVWN4PGNTEFGY', 'row': 588, 'product_title': 'realme Buds Q Bluetooth Headset', 'rating': '5', 'summary': 'Best in the market!'}, page_content='review: Good'),\n",
       " Document(metadata={'source': 'B0DLHTTWVB', 'row': 243, 'product_title': 'Apple MacBook Air 13-inch M3 (2024)', 'rating': '5', 'summary': 'Good product'}, page_content='review: We love its sleek design and smooth operating system. First time to use MacOS and we love it.'),\n",
       " Document(metadata={'source': 'ACCFSDGXX3S6DVBG', 'row': 683, 'product_title': 'BoAt Airdopes 131 Bluetooth Headset', 'rating': '5', 'summary': 'Simply awesome'}, page_content='review: Premium design + comfortable fit + awesome funky colours + universal compatibility with bluetooth enabled devices + great price + flipkart trust + vocals clarity + instrumental separation clear even at low volume +  value for money ...Love my own latest pink boat airdope 131...😍'),\n",
       " Document(metadata={'source': 'ACCFSKBJYWZKXGCP', 'row': 641, 'product_title': 'U&I Titanic Series - Low Price Bluetooth Neckband Bluetooth Headset', 'rating': '5', 'summary': 'Awesome'}, page_content='review: Nice product with good quality sound, bass, most important it is Indian Product, Bass-5/5Sound-5/5Quality-5/5Really awesome product good investment on good product.'),\n",
       " Document(metadata={'source': 'ACCFVA3KZ2EYMYX3', 'row': 523, 'product_title': 'OnePlus Bullets Wireless Z Bass Edition Bluetooth Headset', 'rating': '5', 'summary': 'Super!'}, page_content='review: Simply outstandingReview after 5days of heavy usageFirst thing to look after when we have earphones like these is battery and it these r fentastic charge for 10mits and it serves you a whole day and even more too.The second best thing is the bass and sound quality and it is simply the best.The next thing is design and pricing. These Bullets reached these specifications too..Overal rating is 10/10 perfect.'),\n",
       " Document(metadata={'source': 'ACCFZGAQJGYCYDCM', 'row': 326, 'product_title': 'BoAt Rockerz 235v2 with ASAP charging Version 5.0 Bluetooth Headset', 'rating': '4', 'summary': 'Very Good'}, page_content=\"review: It's very good and its bass is very high This bluetooth is very good best value or money but battery is too tiny.....Battery backup is not long time but it's realy fast charging support so little battery is comfortable with fast charging\"),\n",
       " Document(metadata={'source': 'B0DLHTTWVB', 'row': 218, 'product_title': 'Apple MacBook Air 13-inch M3 (2024)', 'rating': '4', 'summary': 'Screen is Damaged after little useage'}, page_content='review: I like the idea of having a MacBook Air laptop.  I have had one in the past and it worked out well.  This one is taking me a bit to get used to and the screen is already damaged after very little use.  (I just pulled it out of the box a couple of days ago.).  It’s also heavier than I remembered.  It won’t keep me from getting a new one when I get the chance, but it is a little disappointing to have a damaged screen after so little time using it.'),\n",
       " Document(metadata={'source': 'ACCEVQZABYWJHRHF', 'row': 736, 'product_title': 'BoAt BassHeads 100 Wired Headset', 'rating': '3', 'summary': 'Fair'}, page_content='review: i purchased this headphones about 1 yr ago 1st six month they run perfectly & nicely but after 6 month 1 side  stops working sound comes only when i adjust the wire here & there but they gave you 1 yr warranty time so i got replacement of this produ but again after 6 month one side stops working & only runs if you adjust the wire basically this headphones has 1 yr life (by my experience)confused but still want to buy this coz in moderate price (375) it runs 1 yr this is my Honest re...'),\n",
       " Document(metadata={'source': 'ACCFSKBJYWZKXGCP', 'row': 650, 'product_title': 'U&I Titanic Series - Low Price Bluetooth Neckband Bluetooth Headset', 'rating': '5', 'summary': 'Classy product'}, page_content='review: Nice Products'),\n",
       " Document(metadata={'source': 'ACCFR3Q77R6RRGAC', 'row': 449, 'product_title': 'OnePlus Bullets Wireless Z Bluetooth Headset', 'rating': '5', 'summary': 'Simply awesome'}, page_content='review: The BEST under 2k. The magnetic control is awesome. Neck band is really comfortable. The bass is not that good. But the overall sound is very very balanced and enriched. I had an awesome experience with it. The battery life is great. Easily gave me 20 hours of backup. This is an overall value for money product. Go for it.'),\n",
       " Document(metadata={'source': 'ACCEVQZABYWJHRHF', 'row': 746, 'product_title': 'BoAt BassHeads 100 Wired Headset', 'rating': '4', 'summary': 'Very Good'}, page_content='review: l am happy with that purchase.... l like the design of the headphone.... l like the quality of the bass also...'),\n",
       " Document(metadata={'source': 'ACCFZGAQJGYCYDCM', 'row': 311, 'product_title': 'BoAt Rockerz 235v2 with ASAP charging Version 5.0 Bluetooth Headset', 'rating': '5', 'summary': 'Terrific purchase'}, page_content='review: Super sound and good looking I like that prize'),\n",
       " Document(metadata={'source': 'ACCFR3Q77R6RRGAC', 'row': 441, 'product_title': 'OnePlus Bullets Wireless Z Bluetooth Headset', 'rating': '5', 'summary': 'Terrific purchase'}, page_content='review: Excellent product by one plus .....and best earphone from all brands in this range .......sound quality is awesome....  ...bass is good .....not average......best things this earphone is battery backup .....I get 2 day batter.....approx 19 hour backup ......'),\n",
       " Document(metadata={'source': 'B0DLHTTWVB', 'row': 245, 'product_title': 'Apple MacBook Air 13-inch M3 (2024)', 'rating': '5', 'summary': 'It’s a McAir'}, page_content='review: Of course, what can I say negative about this awesome laptop .  I love it'),\n",
       " Document(metadata={'source': 'B0C33XXS56', 'row': 289, 'product_title': 'Sony WF-1000XM5 Wireless Noise Canceling Earbuds', 'rating': '3', 'summary': 'XM5 vs XM4 vs AIRPODS PRO 2 -- WHY THE XM5s ARE GOING BACK'}, page_content='review: Ever since they were released, and until recently, the Sony XM4 earbuds have been my favorite, ahead of my AirPods Pro 2 and Sennheiser Momentum True Wireless 2. I say \"until recently,\" because the most recent firmware updates to the AirPods Pro 2 dethroned the XM4 at the top. In fact, if you haven\\'t heard the Pro 2 running the latest firmware, you haven\\'t really heard them at all. I\\'ve had the Pro 2 since release date, too, and while I felt they were an excellent update to the first gen Pro, the XM4s still bettered them in ANC and sound quality. Not any longer. The degree to which Apple improved both ANC and sound quality through firmware updates is not something I would have believed was possible. In fact, for a recent trip that involved a 9 hour nonstop flight each way, I left my Airpods Max headphones at home, only took my Pro 2 earbuds and didn\\'t miss the Max one bit.SO... I was very anxious to hear what Sony accomplished with the XM5s, 2 years after the superb XM4s. And after spending the past week listening to them, I\\'ll be sending them back. My issues:Fit: The only way I could get a \"good seal\" per the Sony app was by using the largest ear tips, which I found grew quickly uncomfortable in my ear. Even then, I had to twist the earbuds in deeply \"just so\" or the app would tell me to adjust them again. WAY too finicky to achieve what was ultimately an uncomfortable fit anyway. I don\\'t have this issue with the XM4s or my Pro 2s. Plus, the Sony XM5 tips include an ear wax filter which I\\'m assuming is there for a reason, so I\\'d be hesitant to replace them with more comfortable tips that lack a filter.The Thud: As others have noted, the XM5s very audibly \"thud\" each time your foot hits the ground when jogging, running or even briskly walking.ANC & Sound Quality: Sony has definitely bettered the XM4 somewhat in both areas. Not dramatically, but still there. Measured testing I\\'ve seen shows that the XM5 better the Pro 2 a bit in cancelling lower frequency noise while the Pro 2 does better in the mid and upper frequency sound. I\\'d call it a draw. Similarly, while I prefer the sound signature of the Pro 2 running the latest firmware--it\\'s a more open, natural and less processed sounding to my ear--others might prefer Sony\\'s bassier sound. Since neither is objectively \"better\" than the other, I\\'d call this a draw, too. BUT... you\\'ve got the fit and thud issues with the Sony. If you can\\'t get the fit of the XM5s to \"seal,\" and stay that way, both sound quality and ANC take a big hit. Plus the thuds are a constant annoyance that can overwhelm the sound quality.Bottom line: the AirPods Pro 2 remain at the top of the pack for me. And while the XM5s definitely improve on the ANC and sound quality of the XM4s, they introduce new issues which, for me, negate these improvements and leave the XM4s my preference in actual day-to-day use. For these reasons the XM5s are going back. BUT... if you like the XM5 sound signature, can live with the thudding and can manage to get a sealed fit easily whenever you put them in, you\\'ll be happy with the XM5s.'),\n",
       " Document(metadata={'source': 'ACCFZGAQJGYCYDCM', 'row': 338, 'product_title': 'BoAt Rockerz 235v2 with ASAP charging Version 5.0 Bluetooth Headset', 'rating': '5', 'summary': 'Mind-blowing purchase'}, page_content='review: This earphone is just awsome yaar , everything is just so perfect yaar just go for it blindly ,i tell you u cant find a best product at this price its awsome👌👌👌👌'),\n",
       " Document(metadata={'source': 'ACCFVA3KZ2EYMYX3', 'row': 558, 'product_title': 'OnePlus Bullets Wireless Z Bass Edition Bluetooth Headset', 'rating': '5', 'summary': 'Just wow!'}, page_content='review: nice'),\n",
       " Document(metadata={'source': 'ACCFR3Q77R6RRGAC', 'row': 456, 'product_title': 'OnePlus Bullets Wireless Z Bluetooth Headset', 'rating': '5', 'summary': 'Highly recommended'}, page_content='review: This is a wonderful product Unless you have received a faulty unit. Let me help you here Pros -Best in class buildBest in class features (quick pairing and switching, super quick charge)Best in class battery lifeMost comfortable earphone (i have tried nearly all good earphones under 3000 both wired and wireless. Comfort of these are superb)Cons -Sound is like a typical 1000rs earphone.Bass is there but not that much.But still i am rating it 5* why because my friend No OTHER wirele...'),\n",
       " Document(metadata={'source': 'ACCFKYE2ARGG67WC', 'row': 470, 'product_title': 'realme Buds 2 Wired Headset', 'rating': '2', 'summary': 'Bad quality'}, page_content='review: seriously abnormal bass guys...which is a big. negative about this earpiece ... ..i dont know why nobody paid attention to this bass boost feature , which is  annoying. ...you will never be able to listen to the originally recorded song ....but  will  hear  abnormal extreme bass in every song you play ..which may not be pleasing ....and you want to turn off the feature ...but you can not  coz it is a default  feature in this earpiece...sound clarity is good ..build also good .......but i wil...'),\n",
       " Document(metadata={'source': 'B0BN95FRW9', 'row': 201, 'product_title': 'Apple iPhone 14 Pro 128GB (Renewed)', 'rating': '4', 'summary': 'Good'}, page_content='review: Had some scratches I think as excellent it could still be cleaner…'),\n",
       " Document(metadata={'source': 'ACCFR3Q77R6RRGAC', 'row': 457, 'product_title': 'OnePlus Bullets Wireless Z Bluetooth Headset', 'rating': '5', 'summary': 'Just wow!'}, page_content=\"review: This product is fabulous in this price range ..... In 2k I have 18hours playback. Earlier I thought that this product should give atleast 12 hours backup, but on other hand terrific battery life. If you are searching for wireless earphone then go for it. Just not because I'm saying, it just worth it.\"),\n",
       " Document(metadata={'source': 'ACCFHGZFS7GB9CVM', 'row': 388, 'product_title': 'realme Buds Wireless Bluetooth Headset', 'rating': '4', 'summary': 'Pretty good'}, page_content='review: Sound quality awesomeCall quality ok Bluetooth range unpredictable at this price point superb connection.Design just wow and classy not too long not too short.Battery backup amazing Just one con which is sound delay in pubg Not recommended for pro pubg players they should use wired one.If u liked the review pls give a live'),\n",
       " Document(metadata={'source': 'B0DLHTTWVB', 'row': 236, 'product_title': 'Apple MacBook Air 13-inch M3 (2024)', 'rating': '5', 'summary': 'LOVE My MacBook'}, page_content=\"review: This is my first MacBook and I LOVE it. I've never had a MacBook before and when I first started using it I was very frustrated. It definitely takes some getting used to, but now I love it. Automatically syncs from my iPhone and I love the finger print feature that signs me into any account. I'm really glad I went with the 13 inch option because it's big enough without being bulky.\"),\n",
       " Document(metadata={'source': 'ACCFVWN4PGNTEFGY', 'row': 576, 'product_title': 'realme Buds Q Bluetooth Headset', 'rating': '5', 'summary': 'Great product'}, page_content='review: Bought them in 1499 20 days ago...battery is 2 hrs for songs 1.5 hrs for call for a single bud. But the box can fully charge them in 30 minutes so no problem ..mic connectivity during call is also very good seems like hd calling but for a better experience you may require a calm place. Overall with brand support like real me one can buy blindfull'),\n",
       " Document(metadata={'source': 'B01D93Z89W', 'row': 44, 'product_title': 'Canon EOS Rebel T7 DSLR Camera Bundle', 'rating': '4', 'summary': 'Great camera, easy to use but needs a power cord.'}, page_content='review: I bought this camera to take photos of jewelry I\\'m going to be selling and for family events. It\\'s pretty easy to use. It comes with a lot of stuff that I probably won\\'t ever need, but they are nice to have anyway. I think it is a good value. The only thing that bothers me is that it depends so much on the battery being charged. There is no power cord to plug into a wall socket so that you can shoot table-top objects without the battery. You have to rely on the battery all the time. It can get tedious remembering \"Oh yeah, I need to charge the battery — AGAIN\". Down time. I was able to download photos into my Macintosh (which is 8 years old) without the battery being charged. That being said, you can\\'t charge the battery while it\\'s in the camera from the computer. I do like the quality of the photos and even though it comes with the two extra lenses, the one it comes with is very good. Overall, I am happy with this purchase. Just wish it came with a power cord.'),\n",
       " Document(metadata={'source': 'ACCFR3Q77R6RRGAC', 'row': 416, 'product_title': 'OnePlus Bullets Wireless Z Bluetooth Headset', 'rating': '4', 'summary': 'Nice product'}, page_content='review: Thanks to flipkart fot super fast delivery in our rural area.Got it within 3 days.Super earphones using it for online pg classes,comes with handy backup hrs.5/5 for sound quality4/5 for bass(not as high,for competitor like sony310,or realme wireless)5/5 for build qualityWill rewrite a review after a month use'),\n",
       " Document(metadata={'source': 'ACCFSDGXX3S6DVBG', 'row': 689, 'product_title': 'BoAt Airdopes 131 Bluetooth Headset', 'rating': '4', 'summary': 'Good choice'}, page_content='review: Nice headsets. Great sound quality. Finest design.Will be better if bass also gets improved.overall nice and best @ this price range👌'),\n",
       " Document(metadata={'source': 'ACCFSKBJYWZKXGCP', 'row': 615, 'product_title': 'U&I Titanic Series - Low Price Bluetooth Neckband Bluetooth Headset', 'rating': '5', 'summary': 'Super!'}, page_content=\"review: This is Bluetooth earphone is of very good quality and make. This looks very much durable and long-lasting. Battery backup is good enough to listen to day-long music. And feels comfortable in the ears and looks unique.  Bluetooth coverage is good enough to walk around the house and keep the phone somewhere else. Also the clarity and sound quality are good too. This looks like premium made and quality.  And it's for a great value,  Recommended to buy.\"),\n",
       " Document(metadata={'source': 'ACCEVQZABYWJHRHF', 'row': 731, 'product_title': 'BoAt BassHeads 100 Wired Headset', 'rating': '4', 'summary': 'Pretty good'}, page_content='review: Clarity os good but the bass is low and the treble is high. Wired is comparatively good as per it is not the braided cable.'),\n",
       " Document(metadata={'source': 'ACCEVQZABYWJHRHF', 'row': 742, 'product_title': 'BoAt BassHeads 100 Wired Headset', 'rating': '5', 'summary': 'Excellent'}, page_content=\"review: very good sound value of money . Best in the market, can't get so good earplugs in this money\"),\n",
       " Document(metadata={'source': 'B0C33XXS56', 'row': 295, 'product_title': 'Sony WF-1000XM5 Wireless Noise Canceling Earbuds', 'rating': '3', 'summary': 'Good earbuds but disappointing overall'}, page_content='review: First off I\\'ll say that these are good ear buds. If you don\\'t have something comparable and just want the latest and greatest then these will be a fine purchase. With that said however, they are a disappointing \"upgrade\" to previous generation and even somewhat for other sony true wireless earbuds.I try out a lot of earbuds. So I have tried a ton of stuff on the market from basic low end stuff to Bose QCs and the Sony offerings. I\\'ve always been a fan of the sony line of truely wireless earbuds since the first time I tried them. The sound profile has always been much to my liking and I\\'ve always felt like the noise canceling worked pretty well.These XM5s however just miss the bar. The bass from these is terrible. There are better bass notes on the lower priced Link Buds S. That said, the sound is generally clearer and higher quality than the Link Buds S otherwise. In fact other than the bass these are definitely some of the clearest and high quality sounding ear buds I have ever tried.As for noise canceling, I really don\\'t know what Sony did here but it\\'s seems to be a step down from the XM4s. If I compare them back to back sitting in the same location with the same ambient noises and noise canceling on, I hear a lot more sounds getting through on the XM5s. I can hear the AC unit in my room with them on where as with the XM4s I cannot. I\\'m positive I\\'m using the best ear bud fitment for me (as I said before I buy and try out a lot of different earbuds, so I know how to chose the correct bud size). I don\\'t know if it\\'s just an inferior chip with them trying to reduce size and extend battery, or if it\\'s just bad firmware that needs to be patched.As for the fit / weight, they are more comfortable than the XM4s. I\\'ve worn them now for multiple 3 - 4 hour sessions and never had any discomfort from them. They are noticeably lighter and smaller than the XM4s. I will mention the glossy exterior and smaller size does make them a tad tricky to get out of the case. Could also be the magnet holding them in is stronger, but I\\'ve slipped trying to pull them out a couple of times now.Battery life I would call on par for modern day ear buds. Nothing amazing, but definitely would consider it good. Even after a 4 hour session with ANC on the lower of the two earbuds was still at 33%. They claim 8 hours but that is only if you have ANC and everything off.Overall as I said, these are good ear buds, just disappointing that the ANC seems worse, and the bass tones are so bad.'),\n",
       " Document(metadata={'source': 'B0C33XXS56', 'row': 306, 'product_title': 'Sony WF-1000XM5 Wireless Noise Canceling Earbuds', 'rating': '3', 'summary': 'Music great/ calls sucks'}, page_content='review: I don’t like the fact on my phone calls anywhere I’m at the less. It’s really quiet. The calls are not good. I thought I was supposed to be crystal clear and everybody could hear you, but that’s not the case with these. I’ve already gone through one pair of earbuds Pair defective second pair. I don’t know what’s going on with them and one of the Sony people was rude as hell I was trying to figure out what’s wrong with my earbuds. I don’t know if he dropped the call on purpose because it was closing time for them or if the call just dropped, but I doubt the call just dropped , so yeah I don’t like that wasn’t helping me very well nor did he call me back after the fact the call was lost for Sony tech service so therefore I’m not very pleased with these earbuds because I’m in a noisy environment at work and I need them to work  Wise anywhere else they’re great for music but phone calls with this pair suck. My Sony fives, the big headset that goes over. My ears are so much better for music and phone calls problem with them. They’re not sweat proof that’s the  only qualms with my big headset compared to these earbuds. I love the fact that these earbuds are sweat proof and water resistant, but call feature sucks for some reason with this pair. And as much money as I am spending on these darn things, I’m not happy about it so I think I’m gonna try to get my money back or new pair because it hasn’t even been a year yet. I’m very disappointed in the call feature.'),\n",
       " Document(metadata={'source': 'ACCFVWN4PGNTEFGY', 'row': 594, 'product_title': 'realme Buds Q Bluetooth Headset', 'rating': '5', 'summary': 'Fabulous!'}, page_content='review: Osm product'),\n",
       " Document(metadata={'source': 'ACCEVQZABYWJHRHF', 'row': 721, 'product_title': 'BoAt BassHeads 100 Wired Headset', 'rating': '4', 'summary': 'Nice product'}, page_content='review: Very good clarity, bass is also very good. I have previously used boat 225, compared to that , product is very light and prefectly fits in ear. Bass is slightly lesser than 225, clarity is very good somewhat better than 225, can hear every beat, microphone is also very good.Download a decent equalizer and you are all set.Last but not least ,awesome delivery by flipkart.'),\n",
       " Document(metadata={'source': 'ACCFZGAQJGYCYDCM', 'row': 312, 'product_title': 'BoAt Rockerz 235v2 with ASAP charging Version 5.0 Bluetooth Headset', 'rating': '5', 'summary': 'Super!'}, page_content='review: Very much satisfied with the device at this price point being from an awesome brand. Design wise , I liked it more than rockerz 255 model.Bought the model blindly on its very first day with zero reviews and it was a wonderful choice I must say.Bluetooth 5.0 enables us to connect devices simultaneously. And vibration motor for calls , its too good.'),\n",
       " Document(metadata={'source': 'ACCFVWN4PGNTEFGY', 'row': 580, 'product_title': 'realme Buds Q Bluetooth Headset', 'rating': '5', 'summary': 'Great product'}, page_content='review: Very handy and also very useful product 😊i like it ❤️'),\n",
       " Document(metadata={'source': 'B01D93Z89W', 'row': 53, 'product_title': 'Canon EOS Rebel T7 DSLR Camera Bundle', 'rating': '4', 'summary': 'Spectacular'}, page_content='review: My camera arrived in Jamaica fast, all accessories came that were listed, picture quality is good the autofocus sometimes takes a while to focus but all in all the battery hold a decent charge and the camera is easy to use.'),\n",
       " Document(metadata={'source': 'ACCFZGAQJGYCYDCM', 'row': 346, 'product_title': 'BoAt Rockerz 235v2 with ASAP charging Version 5.0 Bluetooth Headset', 'rating': '4', 'summary': 'Nice product'}, page_content=\"review: Review after about 2months of usage.Before starting let me be clear, THIS DEVICE IS NOT FOR SERIOUS MUSIC LOVERS/AUDIOPHILES.I'm not gonna repeat the same technical aspects of it, you already know what's inside it. So...Coming to the sound, if you just love some BASS and heavy sounds this earphone will become your best buddy in no time. The volume on this is insane. I only use it at 20-30% max. It's very loud. So no complaints there.If you've used some premium earphone from brands lik...\"),\n",
       " Document(metadata={'source': 'B0BN95FRW9', 'row': 209, 'product_title': 'Apple iPhone 14 Pro 128GB (Renewed)', 'rating': '5', 'summary': 'Great!! And fast shipping!'}, page_content='review: Just got it today and I open it up phone looks brand new!!. I dont see no scratches on it what so ever!. Good phone so far.. Will buy again from seller.'),\n",
       " Document(metadata={'source': 'B0C33XXS56', 'row': 298, 'product_title': 'Sony WF-1000XM5 Wireless Noise Canceling Earbuds', 'rating': '5', 'summary': 'Ear tip seal is key.  Sony will send you better tips for free!'}, page_content=\"review: When I first received my WF-1000xm5 earbuds I was very disappointed.  If it wasn't for the Sound Connect app, I would have returned them.  The app has an audio test that evaluates how well the ear tips are sealed to your ear canal.  Most times I would fail the test but sometimes I passed.  If you have trouble getting a good seal, they refer you to a link where they will send more rounded ear tips for free!  Literally the next day I had them and found the perfect fit. (See pic)  The WF-1000xm5s are now my over all favorites for sound quality and noise cancelling.\"),\n",
       " Document(metadata={'source': 'B0DLHTTWVB', 'row': 238, 'product_title': 'Apple MacBook Air 13-inch M3 (2024)', 'rating': '5', 'summary': 'Hermosa MacBook'}, page_content='review: 10/10 Vino en el tiempo estimado y muy bien empacado, hasta el momento no tengo problemas con la pc'),\n",
       " Document(metadata={'source': 'ACCFVA3KZ2EYMYX3', 'row': 527, 'product_title': 'OnePlus Bullets Wireless Z Bass Edition Bluetooth Headset', 'rating': '5', 'summary': 'Must buy!'}, page_content=\"review: I am happy with the product I received. Packed tightly and got genuine product.This is after 10days review.I charged for 3time only- battery backup really niceNo irritation at all while placingThere is no noise cancellation i think but voice will be clear for receiving personSounds are really amazing I will re edit again after 20daysDesign, build quality is nice and I don't feel wires will sustain for long periods use.No irritation even after placing it for 10hrs.Nice one... Good ...\"),\n",
       " Document(metadata={'source': 'B0CHX7R6WJ', 'row': 25, 'product_title': 'Apple Watch SE 2nd Gen 40mm GPS', 'rating': '5', 'summary': 'Easier than going to the store.'}, page_content=\"review: When my original Apple Watch started having problems, I thought I was going to have to go wait in store to buy a new watch but when I found this one on Amazon, I thought it would be too good to be true. This watch is exactly the same as what you would buy in store, but without the wait. I have always liked this Apple Watch because I've never needed the newest one. The functionality, sound quality, Watch quality, and weight were always some of my favorite things about it. I love that this one came with the more cream/rose colored band. But for work I usually just used my old band so I don’t damage the new one. If you want an Apple Watch at a good price and don’t need the newest one, I would suggest this one. I like the price of it a lot better too.\"),\n",
       " Document(metadata={'source': 'ACCFKYE2ARGG67WC', 'row': 487, 'product_title': 'realme Buds 2 Wired Headset', 'rating': '4', 'summary': 'Pretty good'}, page_content=\"review: The best value for money product and also the  build quality is good and lite wait and I also like that yellow strip it's very useful\"),\n",
       " Document(metadata={'source': 'B0BN95FRW9', 'row': 177, 'product_title': 'Apple iPhone 14 Pro 128GB (Renewed)', 'rating': '4', 'summary': 'Nice phone…'}, page_content='review: Received phone as described (minor scuff on casing lens), cable included was NOT the cable for the phone, so had no way of charging phone until I ordered cable with plug from another seller (this was disappointing considering how much I spent on the phone)… Didn’t bother getting in touch with seller, guess I should have so they could issued a correct charging cable and plug.'),\n",
       " Document(metadata={'source': 'ACCFR3Q77R6RRGAC', 'row': 428, 'product_title': 'OnePlus Bullets Wireless Z Bluetooth Headset', 'rating': '4', 'summary': 'Good choice'}, page_content=\"review: I love the build quality.... Love the battery life... Low latency mode is also working perfectly while playing PUBG ... Accessories are pretty good....But if I'm talking about the bass... Bass is not as good as compare to the realme buds wireless... Realme buds have powerful and heavy bass compare to this...Except this, everything is perfect...If you're ok with medium bass then you should go for it... you'll not regret for that...Also call quality is crystal clear... So don't think so muc...\"),\n",
       " Document(metadata={'source': 'B0CQ3VXJ3J', 'row': 105, 'product_title': 'Samsung Galaxy Book4 Pro 16-inch Laptop', 'rating': '2', 'summary': 'Nice bit pricey.'}, page_content='review: I returned the laptop immediately after I opened it. It looks great and feels well made. But realize that if your security information on your microsft account is not up to date you will not be able to use the laptop. Pretty dumb if you ask me.'),\n",
       " Document(metadata={'source': 'ACCFKYE2ARGG67WC', 'row': 480, 'product_title': 'realme Buds 2 Wired Headset', 'rating': '5', 'summary': 'Awesome'}, page_content=\"review: The Real Buds 2 (Feel The Real Bass)Design & Fit 5 - ⭐⭐⭐⭐⭐Sound Clarity & Bass 5 - ⭐⭐⭐ ⭐⭐Value For Money  5 - ⭐⭐⭐⭐⭐I Am Using For My OnePlus 6T ,I Got Best Budget Earphone From Realme 🙏🙏& Thanks To Flipkart Team For Within 2day FastDelivery ...Just Add To Cart & Buy This , Don't Wait.........\"),\n",
       " Document(metadata={'source': 'B0C33XXS56', 'row': 264, 'product_title': 'Sony WF-1000XM5 Wireless Noise Canceling Earbuds', 'rating': '3', 'summary': \"Bluetooth connection issues w/ PC, ANC isn't as good as Bose\"}, page_content='review: Short version:- ANC is pretty good but the ANC is definitely better on the Bose QuietComfort Ultra earbuds- These are fine for use with a phone, but they absolutely suck at connecting to a PC- Case is nice and small, wireless charging is a nice feature, fit is good (they don\\'t fall out of your ear), and sound quality is greatDetailed version:1) ANCIf you\\'re buying for the ANC noise cancelling then skip these and buy the Bose QuietComfort Ultra earbuds. I have both and the ANC is noticeably better on the Bose. All I care about is ANC and I couldn\\'t tell from reviews which one was actually going to be better. Bose is better.I mainly use them during lunch in different restaurants to block out people talking and whatever music the restaurant is playing. I don\\'t know why there\\'s mixed reviews about this. Having tried both, Bose is clearly better. I did tons of reading and research and it\\'s hard to get a clear answer for some reason. I don\\'t even have the Bose QuietComfort Ultra II, I have the original ones (although I read that Bose didn\\'t change the ANC between those models).There\\'s 2 minor downsides to the Bose ones compared to these:A) On the Bose ones, when you\\'re not playing any audio there is an extremely faint hum in the background. As soon as you play any audio it\\'s gone, but these Sony ones don\\'t have any hum when you\\'re not playing audio.B) With the Bose ones, if you have ANC on and you get in your car and shut the door, something about the air pressure change makes the Bose ones make an annoyingly loud popping sound. These Sony ones don\\'t do that.I tried every earbud attachment with the Sony, including the silicon ones they ship you for free when you complain the standard ones don\\'t work. I tried both in multiple environments. In every situation Bose blocks outside noise better.2) Connecting to a PCConnecting to your PC Bluetooth for the first time is so counterintuitive it\\'s absurd. You won\\'t be able to do it without looking up step by step instructions. Then once they are connected, they have all kinds of problems. Using one set of bluetooth earbuds and the battery died? Want to switch quickly to these Sony earbuds mid game or mid TV show? No. No quick switching at all. I usually have to restart my computer to get them to actually work. They\\'ll say \"connected\" but I won\\'t have any sound. Apparently Windows doesn\\'t support whatever codec Sony uses and you can buy an alternative driver/codec thing but that\\'s ridiculous. If you spend this kind of money on earbuds they should just seamlessly work with any modern bluetooth device.They work fine with my phone (Android) so if that\\'s all you\\'re using them for then you\\'ll be fine. There\\'s an app I downloaded to update the firmware on the earbuds but then I deleted it since the features seem pointless and I\\'m sure they datamine with it.3) The sound quality is obviously very good, but that\\'s to be expected. Between these and the Bose I don\\'t notice much a difference, music sounds great on both. I don\\'t use either for calls so I haven\\'t really tested the microphone.The charging case is nice and small. Very pocket size, I liked that, and I like that it has wireless charging (the Bose case does not charge wirelessly). The fit is good, I don\\'t notice them even after extended use. They come with 4 different sizes of earbuds that are all a kind of stiff foam.If you go in the app settings you can do a seal test where it runs some kind of test to determine if the fit and seal in your ear is good. If you get it to say the seal is not good (before running the test don\\'t press them firmly in your ears, just have them barely not falling out then do the test) then on the screen where it says the seal isn\\'t good there\\'s a link you can click that takes you to an order page where you can put in your address and they\\'ll ship you 4 more earbuds that are soft silicon instead of foam for free.Overall I\\'m not happy with them. For how pricey they are I shouldn\\'t have to deal with Bluetooth connection issues with a brand new Windows 11 laptop. At this price point I should get perfection, and at the very least they should be easy to use. I\\'ve spent way too long troubleshooting the connection issues with my computer.I highly recommend Bose QuietComfort Ultra instead of these, especially if you\\'re main reason for buying them is noise cancelling.'),\n",
       " Document(metadata={'source': 'B0C33XXS56', 'row': 266, 'product_title': 'Sony WF-1000XM5 Wireless Noise Canceling Earbuds', 'rating': '2', 'summary': 'Shockingly bad user experience...'}, page_content='review: I\\'ve used many different brands of earbuds, and for the price, these are probably the worst I\\'ve used, to a degree I\\'m struggling to comprehend. Let\\'s get one thing out of the way: they sound good. It\\'s better than my AirPods Pro 2s. Everything else, and I mean everything else, is so much worse. Let\\'s start at the top.These things are so slippery that I struggle to get them out of the case without dropping them. And for me, the shape is hard to get into my ears. Also, the case feels cheap. They charge $300 for these?Setup is a chore. You are required to use the app to access any of its features. And boy, is it a piece of work. From opening the app to first listening to anything took just over an hour. AN HOUR! You must log into a Sony account to get most of the high-end features to work, which is nonsense. And lord help you if you had a Playstation account 15 years ago. I appreciate the trouble Sony has gone to for security, but I had to do a 10-part captcha from hell twice to get into the account. And the translation to English in the app is poor at best, making the whole experience a head-scratching mess. The device pairing process is easy, however.The noise canceling is about as good as my 70-dollar no-name Chinese buds. Seems better at high-pitched things than general background noise, which is a strange feat as the former is much harder to pull off. I struggle to hear dogs barking, but my AC is as clear as a bell. The ambient pass-through is barely acceptable, not even in the same league as the AirPod Pros. Your voice tends to be over-amplified and slightly delayed, making talking to and understanding others a mess. The feature that mutes whatever you are listening to and turns off ANC when you start talking is hit or miss. It works about half the time when I start talking. The other half kicks on when any noise is picked up. Very annoying.Now, the reason I purchased these is Multipoint Bluetooth. This feature lets devices connect to multiple devices simultaneously and quickly switch between them. It\\'s crucial for any work that has you bouncing between phone calls and working on a PC. Let me tell you, Sony\\'s implementation is worse than useless. Can I connect to two devices? Sure. Can I stay connected to two devices? Absolutely not. When they are connected, does it switch seamlessly between the two? Also, absolutely not. If one is already making a sound, the other device can\\'t be changed without silencing the first device. So, say you are listening to YouTube on your PC and get a call. To switch to the call, pause YouTube and anything else making sound, then answer the call. And about 50% of the time, it will switch. Otherwise, you have to change it manually. What is even the point? Even more fun is that the second device can\\'t be switched to after some time, between 5 minutes and who knows how long, without manually going into settings and reconnecting first. Then you get another 5 minutes to a couple of hours of flaky \"fast switching\".The battery life is an actual lie. They claim 8 hours, but with all features turned off except playback, I got closer to 6. With ANC on, I may have gotten 4-5 hours. Each bud\\'s battery seems to drain at different speeds as well. So, while one may have 10% left, the other is already dead.I would be less critical if these were $100 instead of $300. Crucially, though, even at $100, I would still return them. Other than sounding great, they are terrible to use. And for $100, I can get earbuds that sound just as good but aren\\'t so finicky.In closing, I\\'m surprised Sony released such a poor product. They\\'re so bad that it\\'s tarnished my view of the company.'),\n",
       " Document(metadata={'source': 'B0CQ3VXJ3J', 'row': 115, 'product_title': 'Samsung Galaxy Book4 Pro 16-inch Laptop', 'rating': '2', 'summary': 'Just two week of used and 😶'}, page_content='review: Battery just 6 hoursIt over heatCustomer support 3 of 10'),\n",
       " Document(metadata={'source': 'ACCEVQZABYWJHRHF', 'row': 753, 'product_title': 'BoAt BassHeads 100 Wired Headset', 'rating': '5', 'summary': 'Mind-blowing purchase'}, page_content='review: Amazing headset no words for it. sound quality is very very good. Bass quality is awesome. Looks very beautiful and decent. Thanks to flipkart for providing this amazing product.'),\n",
       " Document(metadata={'source': 'ACCFSKBJYWZKXGCP', 'row': 646, 'product_title': 'U&I Titanic Series - Low Price Bluetooth Neckband Bluetooth Headset', 'rating': '4', 'summary': 'Delightful'}, page_content='review: Super quality super sound bass good super battery backup, super super super'),\n",
       " Document(metadata={'source': 'ACCFSKBJYWZKXGCP', 'row': 628, 'product_title': 'U&I Titanic Series - Low Price Bluetooth Neckband Bluetooth Headset', 'rating': '5', 'summary': 'Terrific purchase'}, page_content='review: Nice bass. Nice sound. Nice clarity. You will not find anything better in this range.'),\n",
       " Document(metadata={'source': 'B0DLHTTWVB', 'row': 253, 'product_title': 'Apple MacBook Air 13-inch M3 (2024)', 'rating': '5', 'summary': 'Love it.'}, page_content='review: Amazing value.  Love this unit.  Huge performance improvement over my 2017 macbook pro.'),\n",
       " Document(metadata={'source': 'B0C33XXS56', 'row': 262, 'product_title': 'Sony WF-1000XM5 Wireless Noise Canceling Earbuds', 'rating': '4', 'summary': \"Almost perfect (don't like the foam tips)\"}, page_content=\"review: I have over-the-ear Sony's but wanted something for the gym, that's right I work out. These are very light and unobtrusive, the sound is fine, probably too bass heavy for audiophiles but you can adjust, noise canceling is okay--I'm using the biggest of the foam tips because I want a tight fit to keep them secure *and* to help block noise, but the foam is just not dense enough so it never feels that secure and you get sound leakage the ANC can't block. Seems incredible to produce this high-tech wizardry and then cheap out on the foam so it ruins the effectiveness but come on, I'm sure that $0.000013 savings adds up.\"),\n",
       " Document(metadata={'source': 'ACCFVA3KZ2EYMYX3', 'row': 529, 'product_title': 'OnePlus Bullets Wireless Z Bass Edition Bluetooth Headset', 'rating': '4', 'summary': 'Pretty good'}, page_content=\"review: No doubt this neckband was a beast but reason for giving 4 star is sometimes when I use microphone during games it doesn't work properly my teammates didn't hear me properly BTW it's good choice for me only I face sometimes microphone issue.\"),\n",
       " Document(metadata={'source': 'B01D93Z89W', 'row': 58, 'product_title': 'Canon EOS Rebel T7 DSLR Camera Bundle', 'rating': '5', 'summary': 'Great value, Good Package, not all \"Canon\" equipment'}, page_content='review: Based on the fact that this package was $100 less than any other store (including retail and wholesale conventional stores), I was very concerned that there would be some sneaky practice involved such as swapping out the Canon lens that comes in the standard kit and replacing it with a cheaper lens. So far as far as I can tell, there is no such trickery. All of the items are packed in one big box as one item. Mine came in an additional outer amazon box. If that is surely the case there is absolutely no reason to buy this camera anywhere else, especially if you have Prime. I personally ordered it on Tuesday and it arrived on Thursday even though it was only guaranteed by Friday.As you might suspect everything except the camera kit itself (body, 1 lens, neckstrap, etc.) are not Canon brand. As shown in the picture the memory cards are transcend, and the rest is a blend between a few brands, mostly Vivitar and Xit Photo (the brand for the additional two lenses). I am not as qualified as I would like to be to comment on the quality of the two additional lenses, and so will update this review once I have a true photographer friend check them out.As for the camera itself, the big disappointment thus far has been the \"Wi-fi\" capability. We were upgrading from a Rebel T1, and the majority of the functions for this camera are the same and work great. If you bought this you were looking for an entry-level DSLR, and that is exactly what you get. The Wi-Fi function however is fairly horrendous. Yes, TECHNICALLY you can upload photos directly from the camera to a certain set of web services (including google drive which is my choice), but not without first installing software on your PC and/or phone and going through a complicated set up process. Once you have all that set up you quickly find there is no way to simply \"upload all\" photos from your camera, but you have to select and send them one by one. The only possible exception to this is the Canon service itself which I have no intention of using. I have not tried photos set up for HDR yet, but I am relatively sure it will have a hard time for that as it wasn\\'t even advertised.Everything else about this camera is great, and the wife loved unpacking all the accessories. So far every item I have tested has worked great (the two memory cards, the memory card reader, the lens cap saver thingy, tripod. So many little things in here she didn\\'t know she needed. I will update this review as I use more items or have relevant information.'),\n",
       " Document(metadata={'source': 'B0BN95FRW9', 'row': 176, 'product_title': 'Apple iPhone 14 Pro 128GB (Renewed)', 'rating': '5', 'summary': 'For refurbished this iPhone 14 Pro looks and acts perfectly new.'}, page_content='review: I like the fact that this phone has a feature to where you don’t have to go to your phone service provider to swap over all your data from your old phone to the phone I purchased, there was also no need to put a SIM card into this phone because it has a digital SIM card, so not only was transferring my data a breeze so was having my same number transferred as well, the phone looks like and works like new, for the money this was a great buy. It’s durable the screen is clear and has not one make on it, do yourself and don’t buy new again at some ungodly price, this was the Best Buy yet.'),\n",
       " Document(metadata={'source': 'ACCEVQZABYWJHRHF', 'row': 724, 'product_title': 'BoAt BassHeads 100 Wired Headset', 'rating': '4', 'summary': 'Value-for-money'}, page_content=\"review: This earphones are recommended by mePros1. Very good sound quality, bass is well balanced with trible. 2. Light weight.3. Good wire quality.4. Mic is good and button is very useful for pause and play next song, also end call.5. Strap is useful. Cons1. Lack of 'L' shaped 3.5mm jack. 2. Position of buds are curved so always need to see which one is left or right.\"),\n",
       " Document(metadata={'source': 'ACCFZGAQJGYCYDCM', 'row': 322, 'product_title': 'BoAt Rockerz 235v2 with ASAP charging Version 5.0 Bluetooth Headset', 'rating': '1', 'summary': 'Terrible product'}, page_content=\"review: After using for about 8 days, right side of the earphone is not working properly and the volume on right side is  very low. I didn't expect this.\"),\n",
       " Document(metadata={'source': 'ACCFR3Q77R6RRGAC', 'row': 432, 'product_title': 'OnePlus Bullets Wireless Z Bluetooth Headset', 'rating': '5', 'summary': 'Simply awesome'}, page_content='review: Best in this price range..( used others from sony,jbl,noise)Saw youtubers saying this has low bass...No.not at all..Sounds incredible on my asus 6z.little tuning in the audiowizard and these sound like expensive studio quality headphones.Pros:Great sound qualityTop notch build qualityThumping bass..low frequency bass response is goodGood battery backup with quick chargeCons:Low Latency mode only works with one plus phones Thanq #ONE PLUS for this fantastic product.'),\n",
       " Document(metadata={'source': 'B0CHX7R6WJ', 'row': 17, 'product_title': 'Apple Watch SE 2nd Gen 40mm GPS', 'rating': '5', 'summary': 'Happy with watch'}, page_content='review: Happy with this watch. Has all the functions I need and use. A charge usually lasts me two days. Would buy again.'),\n",
       " Document(metadata={'source': 'ACCFVA3KZ2EYMYX3', 'row': 557, 'product_title': 'OnePlus Bullets Wireless Z Bass Edition Bluetooth Headset', 'rating': '5', 'summary': 'Great product'}, page_content=\"review: I've choose red color it's amazing...🥰\"),\n",
       " Document(metadata={'source': 'ACCEVQZABYWJHRHF', 'row': 759, 'product_title': 'BoAt BassHeads 100 Wired Headset', 'rating': '4', 'summary': 'Wonderful'}, page_content='review: a very good earphone in budget sound is awesome very pure sound but the bass is ok ok..  you can go for it without thinking much'),\n",
       " Document(metadata={'source': 'B0CQ3VXJ3J', 'row': 101, 'product_title': 'Samsung Galaxy Book4 Pro 16-inch Laptop', 'rating': '5', 'summary': \"It's amazing laptop\"}, page_content='review: Book4 pro has amazing display, light, perfectI had Macbook pro late 2016Now my phone and tablet are also from Samsung.No regretIf you are not sure which to choose, Book4 or Book4 Pro? Go with Pro because it has better display and faster refresh rate (120 Hz)'),\n",
       " Document(metadata={'source': 'B0BN95FRW9', 'row': 206, 'product_title': 'Apple iPhone 14 Pro 128GB (Renewed)', 'rating': '4', 'summary': 'Esperaba una calidad mejor'}, page_content='review: El estado de la batería es 89%, tienen varios rasguños en los lentes un pequeño golpe en la parte superior de la pantalla y un rasguño en la pantalla al lado izquierdo abajo, en rendimiento me parece bien y se comporta bien, sin embargo esperaba más al seleccionar renovado excelente premium.'),\n",
       " Document(metadata={'source': 'ACCFR3Q77R6RRGAC', 'row': 413, 'product_title': 'OnePlus Bullets Wireless Z Bluetooth Headset', 'rating': '5', 'summary': 'Terrific'}, page_content='review: writing review after using it for two days ..first of all its having best battery backup among other wireless headphones.only drained 20% battery aftr usage of some 8hrs.. build quality is above the mark.. bass wise its lil low.. bt its ok .. go for it .. it wont disappoint you .. a great thumbs-up for flipkart delivery teams👍🏻👍🏻'),\n",
       " Document(metadata={'source': 'ACCFVWN4PGNTEFGY', 'row': 567, 'product_title': 'realme Buds Q Bluetooth Headset', 'rating': '3', 'summary': 'Just okay'}, page_content=\"review: I am writing this review after using this product for more than 4 months now. ~Sound quality ( bass ) is good but not great. If you are a bass lover buy local earphones, they provide more bass than this product. Overall, sound quality is good.~Voice calls via Bluetooth is not at all impressive. If you are at a quiet place you can expect these to work just fine but if you are at public place don't even try to talk via these ear buds.~ Design is great. I love the design, fits well in ears an...\"),\n",
       " Document(metadata={'source': 'B0CQ3VXJ3J', 'row': 87, 'product_title': 'Samsung Galaxy Book4 Pro 16-inch Laptop', 'rating': '4', 'summary': 'Works fine'}, page_content=\"review: I don't know about laptops but I expected alot mote technology coming from a new Samsung product.\"),\n",
       " Document(metadata={'source': 'ACCFSKBJYWZKXGCP', 'row': 613, 'product_title': 'U&I Titanic Series - Low Price Bluetooth Neckband Bluetooth Headset', 'rating': '5', 'summary': 'Wonderful'}, page_content='review: This product is really good. The quality is good must buy at this price. The sound & bass is nice. Battery life  lasts for a day easily. The connectivity is also great. The clarity and sound is superb. It’s very handy and not heavy. It’s easy to carry.'),\n",
       " Document(metadata={'source': 'ACCEVQZABYWJHRHF', 'row': 741, 'product_title': 'BoAt BassHeads 100 Wired Headset', 'rating': '4', 'summary': 'Worth the money'}, page_content=\"review: This Ear phones is very nice. But it's not comfortable to use calls because the volume controller and voice mic is too long that's Y it's not comfortable to take calls Otherwise it is excellent Sound and base Volume after 6(Six) Months it's not working\"),\n",
       " Document(metadata={'source': 'ACCFHGZFS7GB9CVM', 'row': 379, 'product_title': 'realme Buds Wireless Bluetooth Headset', 'rating': '5', 'summary': 'Super!'}, page_content='review: Awesome I think I have made a good choice especially as I travel to work so this will be my good partner..😉'),\n",
       " Document(metadata={'source': 'B0DLHTTWVB', 'row': 221, 'product_title': 'Apple MacBook Air 13-inch M3 (2024)', 'rating': '5', 'summary': 'the best deal to get macOS AND Windows in your bag.'}, page_content=\"review: M3 / 16gb macbook air with full 1 yr apple warranty for hundreds less. Came factory sealed in original packaging. With my usage - about 2 hours a day - i charge it less than once a week.Installed VMware Fusion (free) and Windows 11 for ARM and now have both environments in a very long lasting and super portable package. Even with windows running and giving 8gb to both OS'es, I do not feel any sluggishness on either side. Having no fan means I dont have to worry about sitting it on my lap.\"),\n",
       " Document(metadata={'source': 'B01D93Z89W', 'row': 50, 'product_title': 'Canon EOS Rebel T7 DSLR Camera Bundle', 'rating': '5', 'summary': 'Great'}, page_content=\"review: Still learning how to operate it effectively and with the multiple lenses and filters, I feel spoiled for choice. But it's been great so far. I have found that it's not worth the hassle of connecting your phone through WiFi to export pictures. Just use the memory card and an adapter for the phone or the given USB adapter for PC.\"),\n",
       " Document(metadata={'source': 'ACCFZGAQJGYCYDCM', 'row': 320, 'product_title': 'BoAt Rockerz 235v2 with ASAP charging Version 5.0 Bluetooth Headset', 'rating': '5', 'summary': 'Simply awesome'}, page_content=\"review: It's a very good product ... I'm so happy with this BCz its bass quality & sounds is too good & batry back up Also super\"),\n",
       " Document(metadata={'source': 'ACCEVQZABYWJHRHF', 'row': 754, 'product_title': 'BoAt BassHeads 100 Wired Headset', 'rating': '5', 'summary': 'Awesome'}, page_content='review: One of the best earphones I have ever tried....I highly recommend this to anyone who is looking for best budget earphones for PUBG....and also for listening music!'),\n",
       " Document(metadata={'source': 'ACCFSDGXX3S6DVBG', 'row': 696, 'product_title': 'BoAt Airdopes 131 Bluetooth Headset', 'rating': '5', 'summary': 'Terrific purchase'}, page_content=\"review: Some People mentioned that it had a bad bass. But its an excellent product, worthy to your money. Excellent sound and bass. batteruly Backup is good too.And also you can't expect apple airpods in such range of 1299Rs.\"),\n",
       " Document(metadata={'source': 'ACCFHGZFS7GB9CVM', 'row': 362, 'product_title': 'realme Buds Wireless Bluetooth Headset', 'rating': '5', 'summary': 'Terrific purchase'}, page_content='review: nice very beautiful Realme buds Very good soundbass quality very nice battery backup good'),\n",
       " Document(metadata={'source': 'B0CHX7R6WJ', 'row': 7, 'product_title': 'Apple Watch SE 2nd Gen 40mm GPS', 'rating': '5', 'summary': 'Great apple watch'}, page_content='review: Bought this for my sister after we bough a used one that barely worked. This works perfect and my sister absolutely loves it. We got it for her birthday and she says it fits her perfect and works amazing. She said the battery life is great and it charges fine. My sister does manual labor and said the watch has taken a beating but doing really good. She loves it so much and it is a great product. I have grown fond of apple but still they need to work on some things haha.'),\n",
       " Document(metadata={'source': 'ACCFKYE2ARGG67WC', 'row': 494, 'product_title': 'realme Buds 2 Wired Headset', 'rating': '5', 'summary': 'Best in the market!'}, page_content='review: I am happy good quality  product. Nice bass and sound clarity'),\n",
       " Document(metadata={'source': 'ACCFSKBJYWZKXGCP', 'row': 619, 'product_title': 'U&I Titanic Series - Low Price Bluetooth Neckband Bluetooth Headset', 'rating': '4', 'summary': 'Really Nice'}, page_content=\"review: It's a stunning and fabulous product..😍 Sound quality is good... I think wire is quite thinner... 🔋 battery backup is amazing as described.... Best item for the price segment.just go for it.... 👈\"),\n",
       " Document(metadata={'source': 'B0CQ3VXJ3J', 'row': 117, 'product_title': 'Samsung Galaxy Book4 Pro 16-inch Laptop', 'rating': '1', 'summary': 'Laptop'}, page_content=\"review: This laptop started to glitch a lot, I returned it and I haven't received my money back for over a month now 🤬🤬🤬\"),\n",
       " Document(metadata={'source': 'ACCEVQZABYWJHRHF', 'row': 710, 'product_title': 'BoAt BassHeads 100 Wired Headset', 'rating': '5', 'summary': 'Worth every penny'}, page_content='review: Very Good sound clarity with bass, build quality is good, wire is tangled free , affordable price with good quality ☺ happy with this product.'),\n",
       " Document(metadata={'source': 'ACCFHGZFS7GB9CVM', 'row': 400, 'product_title': 'realme Buds Wireless Bluetooth Headset', 'rating': '5', 'summary': 'Awesome'}, page_content='review: Nice product smooth and slim .. quality is best like it'),\n",
       " Document(metadata={'source': 'ACCFR3Q77R6RRGAC', 'row': 433, 'product_title': 'OnePlus Bullets Wireless Z Bluetooth Headset', 'rating': '1', 'summary': \"Don't waste your money\"}, page_content='review: When I am starting for use..I  am facing much more problems,,1 , on, off issue... not connect fast sometime  sensor not working properly,,.. sound quality good but not excellent, .. And battery capacity is max 8 hour ..🙏🙏🙏 i am not happy with us...'),\n",
       " Document(metadata={'source': 'B0CQ3VXJ3J', 'row': 102, 'product_title': 'Samsung Galaxy Book4 Pro 16-inch Laptop', 'rating': '5', 'summary': 'Very good'}, page_content='review: Good quality for the price'),\n",
       " Document(metadata={'source': 'B0CQ3VXJ3J', 'row': 80, 'product_title': 'Samsung Galaxy Book4 Pro 16-inch Laptop', 'rating': '2', 'summary': 'Very buggy and slow'}, page_content=\"review: The media could not be loaded.                                                                                            I bought this laptop with the intention of primarily studying and working on coding projects while being able to take advantage of the Samsung ecosystem. However, I've found that the computer randomly gets incredibly laggy when there are few to no programs running in background. I have tried restarting, checking for any driver updates, malware detection, and troubleshooting guidelines. It becomes unbearable when even my music on spotify starts freezing and lagging. Writing this review on this laptop itself was quite annoying as well (see the lag in attached video).I bought this laptop less than 3 weeks ago on Cyber Monday and the sheer number of bugs it has compared to my old 2018 Macbook Pro has made it a pretty regretful purchase for me. I normally do not write reviews but my negative experience in such a short amount of time has been very frustrating.Even with most of my devices being Samsung, I would not recommend this product for the ecosystem nor do I think it even contributes much to it. My Galaxy Buds 3pro rarely connect, Quick Share doesn't work most the time, and Samsung Flow definitely does not feel very flowy.\"),\n",
       " Document(metadata={'source': 'ACCFVA3KZ2EYMYX3', 'row': 531, 'product_title': 'OnePlus Bullets Wireless Z Bass Edition Bluetooth Headset', 'rating': '4', 'summary': 'Very Good'}, page_content=\"review: Very good product. Sound clarity is fine but due to extra bass some instruments and vocals are faded sometimes! Design and build is good too except there is no cover for the type-c port! Battery backup is too good...no issues there. And comfortable too, itchiness or something like that doesn't happen after using for long hours. Microphone is good, no issues from the other side. And low latency mode best in this price range...even with a non-Oneplus device( I've a Samsung phone ). Overall valu...\"),\n",
       " Document(metadata={'source': 'B01D93Z89W', 'row': 46, 'product_title': 'Canon EOS Rebel T7 DSLR Camera Bundle', 'rating': '5', 'summary': 'Reliable camera.  Nice picture quality and easy for a novice to use.'}, page_content=\"review: This is the 3rd Canon Rebel I have owned.  I had one before the era of digital cameras and then I purchased my first digital version 12 years ago.  My 12 year old very outdated Canon Rebel was still taking good pictures but the lag time and some other issues had me looking to finally upgrade to a newer version.  After reading reviews, I decided to go with the T6 and the package deal offered here on Amazon.This camera is everything I expected it to be.  An upgraded and better version of my older one.  All of my Canon lens and my Canon Flash attachment can be interchanged.  I still haven't had a chance to figure out how the Wi-Fi features works but will get to that feature shortly.I am strictly a novice photographer. I really have no idea how to use any of the manual settings.  This camera helps a novice feel more like a pro.  The quality of the pictures is impressive.  I highly recommend this camera for anyone that enjoys photography but may feel a bit intimidated by some of the more complex and expensive SLR cameras.  This camera is easy enough for anyone to figure out.I also recommend this package.  Although I won't use everything that was included, the memory cards, the UV filters ,and the two screw on lens attachments make it worth purchasing the bundle.  As for the UV filter it's good to use just to protect your camera. Sometimes I remove itbefore taking a picture and then screw it back on when I am finished. It's a great extra layer of protection.\"),\n",
       " Document(metadata={'source': 'ACCFR3Q77R6RRGAC', 'row': 420, 'product_title': 'OnePlus Bullets Wireless Z Bluetooth Headset', 'rating': '4', 'summary': 'Pretty good'}, page_content=\"review: By now u have seen 100's of review by now ... Everything u have read is true ... 5/5 in all but not in bass... If u havnt brought and u r a base head pls look for different headset but like me if u r stuck with this there is A FIX TO BASS.... SIMPLY CHANGE THE EAR TIP TO LARGER SIZE ... It improves the bass significantly at the cost of slight discomfort .... It works .. trust me Pls upvote this comment , So more people can improve the bass\"),\n",
       " Document(metadata={'source': 'B0B4MWCFV4', 'row': 153, 'product_title': 'Fitbit Versa 4 Fitness Smartwatch', 'rating': '5', 'summary': 'Everything I hoped (expected)'}, page_content=\"review: So I got the Versa 4 when it was on sale this holiday season and am very happy with it. It does all the things my Charge 2 did (it was from 2017 but worked perfectly) and more. I really just wanted a bigger watch face so decided to finally upgrade. It was fairly easy to set up - just followed a couple of videos on Youtube for that and to get a better idea how to work everything. Only had it for about a week but in that short time, I've really enjoyed it. I love the bigger screen, I like having access to Alexa on my wrist, I like being able to check the weather, I like being able to choose which apps I want notifications from, I like that it has built-in GPS. And of course, it does all the usual fitness tracking. I don't really care about the heart rate tracker (also not sure how accurate) but it does have it. I don't love the strap that comes with it - so I'll probably change that in the near future. Overall, I would really recommend this to anyone looking for the things I mentioned.\"),\n",
       " Document(metadata={'source': 'ACCFR3Q77R6RRGAC', 'row': 415, 'product_title': 'OnePlus Bullets Wireless Z Bluetooth Headset', 'rating': '5', 'summary': 'Simply awesome'}, page_content='review: ONEPLUS THE BEST 🌟Crystal clear sound .Treble & Bass are well balanced.Bass is developed compared to OP Bullets 2 .Massive Battery Backup within 10-15minutes of charging.Built Quality is too good which gives premium feel .Magnetic On/Off will be very much useful .Finally , OnePlus gave us the best affordable wireless earphones 🌟 🌟 🌟 🌟 🌟'),\n",
       " Document(metadata={'source': 'B0DLHTTWVB', 'row': 227, 'product_title': 'Apple MacBook Air 13-inch M3 (2024)', 'rating': '5', 'summary': 'Apple 2024 MacBook Air 13'}, page_content=\"review: Wife loves her new 2024 MacBook Air. This replaced her MacBook Air 13-inch from 2013. Huge improvement for her. Only reason we replaced her 2013 Air was it was 11yrs old and Apple could no longer upgrade the iOS. Won't buy anything but a Mac!\"),\n",
       " Document(metadata={'source': 'ACCFR3Q77R6RRGAC', 'row': 438, 'product_title': 'OnePlus Bullets Wireless Z Bluetooth Headset', 'rating': '5', 'summary': 'Great product'}, page_content=\"review: Best wireless earphones at 2k price range! Hands down, the best call quality, build quality (so light that you won't even realise it is there), great warranty, wonderful features and God, that battery and charging is magic. Also, the music experience is pretty good, yes, the base could be better, but nothing at all that you can notice. Don't think for a second, I did a lot of research before buying and it is worth it!\"),\n",
       " Document(metadata={'source': 'B0C33XXS56', 'row': 300, 'product_title': 'Sony WF-1000XM5 Wireless Noise Canceling Earbuds', 'rating': '4', 'summary': 'Amazing'}, page_content='review: I have had 3 different brand /model of wireless, noise cancelation earbuds in the last 4 weeks. The first pair were Bose Quiet Comfort Earbuds 2. By far they had the best @ noise cancelation (I could hear nothing outside of the sweet music that they were creating.  The sound quality was as expected from Bose. The set up was easy and quick. However, at the end of the week I was ready to trash them (I sent them back) - they would not stay connected to either my iPhone 12 Pro Max or my MSI WS-75 Workstation. They were good for about 10 minutes, and then would have to reconnect.I then decided to try something different - Beyer Dynamics is a big name in studio monitor quality speakers, headphones and mics. They have a solution - the \"FreeByrds\".\" Three drivers in each ear - unsurpassed sound and clarity...\"  They did have good sound, they stayed connected, but the noise cancelation was non-existant (The reason that I wanted new NOIsE CANCELING earbuds for). I have a pair of 12 yr old Bose wired earbuds that block more sound than those were, and they aren\\'t (weren\\'t) catigorized as being noise blocking or canceling. The set up was long and complicated. Those should be back at the music store today.So I sprung for about $100 more and ordered a pair of Sony WF-1000XM5\\'s. They stay connected. They sound really good (as good as the Bose? It\\'s been a few weeks, too long to honestly compair...but these sound really good), they stay connected (actually you can connect to 2 sources at the same time if you want), and the noise cancellation is amazing, but I think not quite as good as the Bose (why I gave them 4 starts instead of 5). The set up was a bit more compilicated than the Bose were, and these fit inside your ear canal, where the Bose where more of an external fit.  I wish I would have gotten these first...oh, and battery life is great. With the Auto Abmient setting off, I am easily going to get 10 hours out of a single charge today - and that is sitting at my desk enjoying great music all day with no other sound to degrade what I am hearing...and the case is good for two full charges.Based on what I know after 4 or 5 days - I would buy these again.'),\n",
       " Document(metadata={'source': 'ACCFVA3KZ2EYMYX3', 'row': 545, 'product_title': 'OnePlus Bullets Wireless Z Bass Edition Bluetooth Headset', 'rating': '4', 'summary': 'Worth the money'}, page_content='review: Good battery back up, sound should be improved'),\n",
       " Document(metadata={'source': 'B0BN95FRW9', 'row': 188, 'product_title': 'Apple iPhone 14 Pro 128GB (Renewed)', 'rating': '4', 'summary': 'Looks New But 85% Battery'}, page_content='review: Phone Looks And Feels Brand New. Battery Health Is At 85% Only Flaw'),\n",
       " Document(metadata={'source': 'ACCFSKBJYWZKXGCP', 'row': 624, 'product_title': 'U&I Titanic Series - Low Price Bluetooth Neckband Bluetooth Headset', 'rating': '5', 'summary': 'Simply awesome'}, page_content='review: This product is good for daily use. The sound quality is much better that I was expected. Overall neckband is worth of money. So you can buy it for daily use'),\n",
       " Document(metadata={'source': 'ACCFZGAQJGYCYDCM', 'row': 347, 'product_title': 'BoAt Rockerz 235v2 with ASAP charging Version 5.0 Bluetooth Headset', 'rating': '4', 'summary': 'Wonderful'}, page_content='review: Im a jbl user ..boat 235v2 battery is too good to stay 2 days..fast charging..bass is 5 of 5 but sound of vocal is 4 of 5.. mic is good ..although i bought this in 1299 ..in this range its good'),\n",
       " Document(metadata={'source': 'B0CHX7R6WJ', 'row': 11, 'product_title': 'Apple Watch SE 2nd Gen 40mm GPS', 'rating': '5', 'summary': 'I purchased a watch front  & back cover to keep it nicer.'}, page_content='review: I’m liking that I can change my watch bands. My other Apple Watch I could’t get the watch band on one side the button would not push in no how no way. I could actually set the watch up to my phone myself!'),\n",
       " Document(metadata={'source': 'ACCFKYE2ARGG67WC', 'row': 460, 'product_title': 'realme Buds 2 Wired Headset', 'rating': '5', 'summary': 'Highly recommended'}, page_content='review: Nice head set good fit nice quality good to handily poli aytem anu magnet pora kolllam migacha aytem'),\n",
       " Document(metadata={'source': 'B0BN95FRW9', 'row': 202, 'product_title': 'Apple iPhone 14 Pro 128GB (Renewed)', 'rating': '4', 'summary': 'highly recommend!!'}, page_content='review: so far so good my seller watch the Tech Exange one it came with a screen protector already on in a box with a charger. no hassle about putting the phone on a plan! the battery capacity was at 85% not bad. plus there was like 2 minor scratches that are barley noticeable and the sides of the phone have a little wear. but that’s it it’s complete worth it. don’t let the other reviews scare you away from a great purchase! and it came very fast with prime.'),\n",
       " Document(metadata={'source': 'ACCFVWN4PGNTEFGY', 'row': 606, 'product_title': 'realme Buds Q Bluetooth Headset', 'rating': '5', 'summary': 'Super!'}, page_content='review: Mindblowing productGood sound qualityBattery backup to goodBut calling issuesI am parches 1564/-rs'),\n",
       " Document(metadata={'source': 'ACCFSKBJYWZKXGCP', 'row': 659, 'product_title': 'U&I Titanic Series - Low Price Bluetooth Neckband Bluetooth Headset', 'rating': '1', 'summary': 'Horrible'}, page_content='review: In a month only one earpiece stopped working'),\n",
       " Document(metadata={'source': 'B0B4MWCFV4', 'row': 155, 'product_title': 'Fitbit Versa 4 Fitness Smartwatch', 'rating': '4', 'summary': 'Love the look'}, page_content='review: I would love to give this a 5 but not every thing works on this tracker. It’s beautiful and is comfortable. It does track my steps and exercises. But will never connect to phone calls and sometimes not my messages. I have uninstalled and reinstalled several times. Also did a factory reset. That worked for ab a half hour. Not sure if I got a dud.'),\n",
       " Document(metadata={'source': 'ACCFVWN4PGNTEFGY', 'row': 584, 'product_title': 'realme Buds Q Bluetooth Headset', 'rating': '3', 'summary': 'Does the job'}, page_content=\"review: Writing this review after one and half months of purchasing. Pros:-1) Battery backup is good, not great but you can't expect more from this2) Sound is good. If you're an audiophile don't go for it, though sounds good but it would disappoint you.2) Bass is good. Cons:-1) You would hate it for its turbulences. Right pair of the bluetooth headset got corrupted in just 45 days of light using and doesn't gets connected. After talking to the customer representative, they fu*king suggested m...\"),\n",
       " Document(metadata={'source': 'ACCFZGAQJGYCYDCM', 'row': 328, 'product_title': 'BoAt Rockerz 235v2 with ASAP charging Version 5.0 Bluetooth Headset', 'rating': '5', 'summary': 'Awesome'}, page_content=\"review: This review is after 1 month of use .Pro:- 1.Battery backup is genuinely too good, runs almost 1.5 -2 days on a single charge.. and 8hrs on continuous playback.2. Charge very fast,,, 40% just in 15-20 minutes3. Sound is crisp,clear and decent, not too loud.  4. Build quality is awsome nd stylish as well.5.connectivity is super fast nd good with phones.6. Last but not the least,,, its really comfort able nd i didn't feel any discomfort or pain even after continous use of 5 hrs which i ...\"),\n",
       " Document(metadata={'source': 'B0CHX7R6WJ', 'row': 33, 'product_title': 'Apple Watch SE 2nd Gen 40mm GPS', 'rating': '5', 'summary': 'Bought in Prime Days n Worth It'}, page_content='review: I’ve been eye balling these watches for awhile. When I saw the pricing on this one during Amazon Prime Days I bought it. No regrets really. I like that it measures how many calories I’ve burnt at the gym, being able to talk to someone while I’m busy working without having to hold my phone. It also is an easy reference for checking notifications whether texts or prompts from sources I’ve chosen. The watch does charge fast as it will lose battery life if worn all day'),\n",
       " Document(metadata={'source': 'ACCFR3Q77R6RRGAC', 'row': 444, 'product_title': 'OnePlus Bullets Wireless Z Bluetooth Headset', 'rating': '5', 'summary': 'Classy product'}, page_content='review: I heared in you tube review that bass is low.But trust me amazing bass amazing sound.The call quality is astoundingly great.'),\n",
       " Document(metadata={'source': 'ACCFVWN4PGNTEFGY', 'row': 563, 'product_title': 'realme Buds Q Bluetooth Headset', 'rating': '4', 'summary': 'Good choice'}, page_content='review: Genuine review (after 1 week of use), I was quiet confused whether to buy these earbuds or oppo enco w11 or boat airdopes 441. Atlast I bought realme buds q in 1565/-Pros - Sound very goodBass very goodInstant connectivity to Bluetooth.Battery backup goodLight weightPremium lookLink appWater and sweat proofGaming modeCons -Not having a good responsive touch. It makes delay responses.Call quality average, not bad but not that good in outdoors.Not having that good connectivity r...'),\n",
       " Document(metadata={'source': 'ACCFVWN4PGNTEFGY', 'row': 565, 'product_title': 'realme Buds Q Bluetooth Headset', 'rating': '5', 'summary': 'Fabulous!'}, page_content=\"review: Awesome product in such a low price...didn't expected..I never loved any earphone than samsung in ear headphones even akg headphones couldn't beat that and this realme bud is exactly like samsung in ear...loved it must buy\"),\n",
       " Document(metadata={'source': 'ACCFSDGXX3S6DVBG', 'row': 707, 'product_title': 'BoAt Airdopes 131 Bluetooth Headset', 'rating': '5', 'summary': 'Simply awesome'}, page_content=\"review: It's a nice product in this price range, but I would say a few points which boat needs to work on:1. boat should manufacture protective covers for the outer case, as I feel that it's really fragile and I'm unable to find some cover.2. It would be really good if they would have added touch controls in it. 3. The blue led which flashes in every 5 second should be turned off. It gives a really cheap look.\"),\n",
       " Document(metadata={'source': 'ACCFSKBJYWZKXGCP', 'row': 656, 'product_title': 'U&I Titanic Series - Low Price Bluetooth Neckband Bluetooth Headset', 'rating': '2', 'summary': 'Could be way better'}, page_content=\"review: After 1day of use I am writing this reviewBuild quality 3/5 (the wires to the speakers are very thin. Not durable)Sound 5/5 (it's very loud)Bass 4/5 ( It's just okay type) Backup 5/5( this is something commendable. I have turned it on yesterday at 4:30 pm. Now today it's 11:52pm, it's charging for the 1st time. I have used it for almost 14-15 hours including 5-6 hours of calling. Even yesterday night I forgot to turn it off so it was powered on for whole night)I shall update from time t...\"),\n",
       " Document(metadata={'source': 'ACCFSKBJYWZKXGCP', 'row': 639, 'product_title': 'U&I Titanic Series - Low Price Bluetooth Neckband Bluetooth Headset', 'rating': '5', 'summary': 'Great product'}, page_content='review: Bass, super sound, very nice best quality, like this hair phone ❤❤❤ And Buy Now'),\n",
       " Document(metadata={'source': 'ACCFHGZFS7GB9CVM', 'row': 365, 'product_title': 'realme Buds Wireless Bluetooth Headset', 'rating': '5', 'summary': 'Excellent'}, page_content='review: I am writing this review after using this product for 3 weeks and I am very happy with this product I am giving it five star ???? ? ? I must say it is a very nice product and you can buy this product blindfold it is a very great battery backup and the song quality is very very nice and it is light and easy to use'),\n",
       " Document(metadata={'source': 'B01D93Z89W', 'row': 51, 'product_title': 'Canon EOS Rebel T7 DSLR Camera Bundle', 'rating': '4', 'summary': 'Capturing Moments with Excellence'}, page_content=\"review: I recently invested in a Canon camera, and it has truly exceeded my expectations, delivering exceptional performance and capturing moments with unparalleled clarity.The image quality is outstanding, thanks to the advanced technology packed into this camera. Whether shooting in low light or bright sunlight, the Canon camera consistently produces sharp, vibrant images with incredible detail. The color reproduction is true to life, and the dynamic range allows for stunning contrast in various lighting conditions.One standout feature is the autofocus system, which is lightning-fast and incredibly accurate. It ensures that I never miss a moment, especially when capturing fast-paced scenes or spontaneous shots. The ability to customize focus points adds an extra layer of control, catering to both beginners and seasoned photographers.The camera's ergonomic design and intuitive controls make it a pleasure to use. The menu system is user-friendly, allowing easy navigation and quick access to a plethora of features. The build quality is robust, providing durability without compromising on portability.I appreciate the versatility of this camera. Whether I'm exploring photography or videography, it delivers outstanding results. The video quality is top-notch, with smooth and cinematic footage that adds a professional touch to my projects.The Canon camera's connectivity options, including Wi-Fi and Bluetooth, simplify the process of transferring and sharing images. Once I was able to figure out how to get it to actually connect to my Wi-Fi, it seamlessly integrates with various devices and applications, enhancing the overall user experience.In conclusion, the Canon camera has become an indispensable tool in my creative journey. Its exceptional image quality, rapid autofocus, and user-friendly design make it a standout choice for both enthusiasts and professionals. If you're in the market for a reliable and high-performing camera, Canon undoubtedly delivers on its promise of excellence.\"),\n",
       " Document(metadata={'source': 'ACCFHGZFS7GB9CVM', 'row': 402, 'product_title': 'realme Buds Wireless Bluetooth Headset', 'rating': '5', 'summary': 'Worth every penny'}, page_content='review: Design was good 5/5Bass also good 5/5Sound good 4.5/5Light weight,I think battery was also good'),\n",
       " Document(metadata={'source': 'ACCFR3Q77R6RRGAC', 'row': 411, 'product_title': 'OnePlus Bullets Wireless Z Bluetooth Headset', 'rating': '5', 'summary': 'Fabulous!'}, page_content='review: I am using this product from 2 daysLet me share with you my experienceThis is my genuine and humble review 1st the delivery of flipkart is too good and then awesome packingThen comming to productThe experience of sound is really great we catch every instrumental sounds clearly and be joyful while listening and my rating is 4/5And then about bass, actually I expected too about bass boost but it not reached then that just good actually but I satisfied with that and my rating is 3/5Then ...'),\n",
       " Document(metadata={'source': 'ACCFSDGXX3S6DVBG', 'row': 661, 'product_title': 'BoAt Airdopes 131 Bluetooth Headset', 'rating': '4', 'summary': 'Nice product'}, page_content='review: Very good option at this pricePros: Build quality, clear sound, Lightweight, branded product at low price, perfect fitting, insta wake up technology Good bass and sound(by using other music players mentioned below) Cons: Low bass which can control by other music players like Google play music, Dub music player or third party equaliser app. You will get perfect sound by playing music on this players.'),\n",
       " Document(metadata={'source': 'B0CHX7R6WJ', 'row': 24, 'product_title': 'Apple Watch SE 2nd Gen 40mm GPS', 'rating': '3', 'summary': \"It's OK\"}, page_content=\"review: This watch has some nice features: being able to receive emails and phone calls on it from your iPhone is very convenient, as is the sleep schedule/wind down feature. The wide choice of watch faces that show different information (or none at all if that's what you want) is nice to have.I had a Fitbit Charge 5 (which I opted not to replace when it died bc Fitbit seems to have reliability issues) & some of the features I loved about that watch were that it showed real-time info on your heart rate without having to click off to another screen, and it tracked SPO2 info, which this watch does not & you will have to buy a separate pulse oximeter. You will need to charge this watch every day, as opposed to every 4-5 days with a Fitbit. And the band that came with the watch kept popping off. I ended up buying a set of silicone watchbands from a third-party seller on Amazon that had a rectangular stud instead of a round one & that solved the popping-off problem.I'm still trying to figure out the Activity app on this watch bc i don't find it easy to follow & don't feel that it provides good real-time info on your activity levels, but maybe that's just bc I haven't figured it all out yet.It seems like this watch is really more for people who want the convenience of having a mini-iPhone on their wrist than for people who want to track their health and fitness.\"),\n",
       " Document(metadata={'source': 'ACCFR3Q77R6RRGAC', 'row': 418, 'product_title': 'OnePlus Bullets Wireless Z Bluetooth Headset', 'rating': '5', 'summary': 'Terrific'}, page_content=\"review: Looking nice product...I got just 1day delivery..11th I ordered...12th I received...in this price range this product is no1..I got blue...i gift to dear one.. must buy.. don't go other products on this price range is this best....next level headset...no other gives this much battery life 20hrs...mind blowing OnePlus bullet z.. presently I'm using realme wireless buds, both are best in this segment but OnePlus is more battery life n extra multiple device connectivity button n latest design...\"),\n",
       " Document(metadata={'source': 'B0DLHTTWVB', 'row': 254, 'product_title': 'Apple MacBook Air 13-inch M3 (2024)', 'rating': '5', 'summary': 'great product no complains'}, page_content='review: sleek clean design, got to use it more to get used to but so far no complaints'),\n",
       " Document(metadata={'source': 'ACCFVA3KZ2EYMYX3', 'row': 511, 'product_title': 'OnePlus Bullets Wireless Z Bass Edition Bluetooth Headset', 'rating': '5', 'summary': 'Super!'}, page_content='review: Very nice product with amazing battery back up and deep bass.. Awsome sound clarity.it is very flexible  Length of wire is little low.'),\n",
       " Document(metadata={'source': 'ACCFSDGXX3S6DVBG', 'row': 700, 'product_title': 'BoAt Airdopes 131 Bluetooth Headset', 'rating': '4', 'summary': 'Nice product'}, page_content=\"review: This product sound quality and comfort is good, fit very well in my ears.Connection gets interrupted when moving to another room, so connection range isn't  great, just Okay.It's my first airdopes, got them for 1274/- and overall recommended for this price.\"),\n",
       " Document(metadata={'source': 'ACCFSKBJYWZKXGCP', 'row': 612, 'product_title': 'U&I Titanic Series - Low Price Bluetooth Neckband Bluetooth Headset', 'rating': '5', 'summary': 'Excellent'}, page_content='review: Great experience... awesome sounds quality.. noise reduction .very much comfortable in ears .. awesome build quality .stylish look that makes it different from other brand . happy...Good packing on this price range...'),\n",
       " Document(metadata={'source': 'B0DLHTTWVB', 'row': 237, 'product_title': 'Apple MacBook Air 13-inch M3 (2024)', 'rating': '5', 'summary': 'Perfect laptop'}, page_content=\"review: Excellent quality and exactly what you'd expect from Apple, but at a much bigger savings than in the Apple Store.  Very happy that we purchased this from Amazon.\"),\n",
       " Document(metadata={'source': 'ACCFZGAQJGYCYDCM', 'row': 335, 'product_title': 'BoAt Rockerz 235v2 with ASAP charging Version 5.0 Bluetooth Headset', 'rating': '4', 'summary': 'Really Nice'}, page_content=\"review: I think it is the best product in this price segment I buy this product after seeing it's sell figure and my decision got right u must buy this product I love it's sound quality but the build quality must be improved and they must give charging adaptor out of the box\"),\n",
       " Document(metadata={'source': 'B0BN95FRW9', 'row': 194, 'product_title': 'Apple iPhone 14 Pro 128GB (Renewed)', 'rating': '4', 'summary': \"I'm in love with this phone\"}, page_content='review: Phone is small but everything about it is great everything works perfect'),\n",
       " Document(metadata={'source': 'ACCFHGZFS7GB9CVM', 'row': 378, 'product_title': 'realme Buds Wireless Bluetooth Headset', 'rating': '5', 'summary': 'Best in the market!'}, page_content='review: Built quality is very good. Sound is clear & crisp, you can hear without losing any  beat. Vocals are also good. Bass is quite balanced.Great connectivity. Battery long almost 11 hoursI got it with my Realme X2 Pro. But even if I have to pay then worth the price. Thank you Realme for this awesome product.'),\n",
       " Document(metadata={'source': 'B0CQ3VXJ3J', 'row': 77, 'product_title': 'Samsung Galaxy Book4 Pro 16-inch Laptop', 'rating': '2', 'summary': 'The battery life is not as advertised'}, page_content='review: The battery is not as good as was said in the information. In using it now for about 3 months I have discovered that the battery will only hold a charge for about 4-5 hours at best. I am very unhappy with this. The screen is crisp, colors are bright. Speed is good also. But the battery will not be able to hold a charge for 12 or 15 hours as is in the info. I only do my banking, check email, have a few word docs, and some other items. I am not a gamer nor do I have multiple tabs open at one time. I also do not have a lot of apps on my computer. If I were to fly to Hawaii the computer would be dead upon arrival. Very disappointing and not worth the money.'),\n",
       " Document(metadata={'source': 'ACCFSDGXX3S6DVBG', 'row': 662, 'product_title': 'BoAt Airdopes 131 Bluetooth Headset', 'rating': '5', 'summary': 'Mind-blowing purchase'}, page_content=\"review: I hope you guys find this review helpful, well it's too soon for a review but I think it's worth every penny, Sound - Do not have high expectations for bass atleast, rest of the sound is amazing, you get a clear voice even if it turns a bit windy on roads, songs when played have a clear voice, good for casual song listening, you can watch movies and browse, sound is good even when you play games on phone.Battery backup - is amazing, I've been using it the whole day, as soon as you put the...\"),\n",
       " Document(metadata={'source': 'ACCFVA3KZ2EYMYX3', 'row': 542, 'product_title': 'OnePlus Bullets Wireless Z Bass Edition Bluetooth Headset', 'rating': '5', 'summary': 'Best in the market!'}, page_content='review: Battery backup is good. Charging speed also very fast. Not best but good sound quality. Worth for price. I am enjoying the product'),\n",
       " Document(metadata={'source': 'ACCFR3Q77R6RRGAC', 'row': 435, 'product_title': 'OnePlus Bullets Wireless Z Bluetooth Headset', 'rating': '5', 'summary': 'Super!'}, page_content=\"review: Writing review after 3 days usage.... battery backup is really nice......am using redmi fast charger it's fully charged within 10min..... sound quality is really awesome..... decent bass....if you need heavy bass it's not your option....I really like this....\"),\n",
       " Document(metadata={'source': 'ACCEVQZABYWJHRHF', 'row': 750, 'product_title': 'BoAt BassHeads 100 Wired Headset', 'rating': '5', 'summary': 'Highly recommended'}, page_content=\"review: Prefer buying JBL C200SI, but at this price point, its good. If the jack would have been gold plated, it would have been the best wired earphone. It's design is great and is really comfortable. If you use it rough, it could last by mid of 4th month from the date of purchase. So yeah it's good.\"),\n",
       " Document(metadata={'source': 'ACCFSDGXX3S6DVBG', 'row': 681, 'product_title': 'BoAt Airdopes 131 Bluetooth Headset', 'rating': '4', 'summary': 'Pretty good'}, page_content=\"review: Fabulous in this range.. 1. Sound quality is very good2. Premium built quality and look.. from inside it may feel like plastic3. Battery backup is good..4. If you love bass the don't go for it..5. It doesn't block your ear.. you can hear surrounding voice while using it\"),\n",
       " Document(metadata={'source': 'ACCFKYE2ARGG67WC', 'row': 486, 'product_title': 'realme Buds 2 Wired Headset', 'rating': '5', 'summary': 'Awesome'}, page_content='review: Writing review after 6 months of daily use..Personally i use earphones on daily basis. When i upgraded to these earphones, their design and build quality impressed me. In the first month it became too wet due to rain but still these works the same way as they were on first day.Good product.'),\n",
       " Document(metadata={'source': 'ACCFVA3KZ2EYMYX3', 'row': 533, 'product_title': 'OnePlus Bullets Wireless Z Bass Edition Bluetooth Headset', 'rating': '3', 'summary': 'Just okay'}, page_content='review: One thing I tell you that it has high bass. Bass lover will love it. But non bass Love it is headache. But sound quality and build quality is outstanding.'),\n",
       " Document(metadata={'source': 'ACCFSKBJYWZKXGCP', 'row': 645, 'product_title': 'U&I Titanic Series - Low Price Bluetooth Neckband Bluetooth Headset', 'rating': '5', 'summary': 'Terrific'}, page_content='review: Excellent quality sound in my budget, build quality is amazing and has a perfect length wire and fits well into ears, light weight and loud sound, battery lasts a day with music and calls'),\n",
       " Document(metadata={'source': 'B01D93Z89W', 'row': 68, 'product_title': 'Canon EOS Rebel T7 DSLR Camera Bundle', 'rating': '5', 'summary': 'I’m a Canon Fan'}, page_content='review: Thanks to circumstances beyond my control my camera swam in the ocean! This camera came to the rescue!!! I had a couple of jobs lined up and this is so good and so easy to work!!!The pictures were amazing thanks to a great camera!'),\n",
       " Document(metadata={'source': 'ACCFSKBJYWZKXGCP', 'row': 611, 'product_title': 'U&I Titanic Series - Low Price Bluetooth Neckband Bluetooth Headset', 'rating': '5', 'summary': 'Best Bluetooth headphones for the price'}, page_content='review: I literally use my bluetooth headsets all day long, for almost every purpose. I run and skate several times weekly, and use my headset for business calls etc.  ///I\\'ve had many \"around the neck\" bluetooth headsets, this by far seems to be the best!Super easy instructions, at initial power on, it goes automatically into pairing mode. The  answer/accept/decline is GREAT!Definately worth the money. (And I almost never say that!!!)///Positive:- The sound quality and product product quality...'),\n",
       " Document(metadata={'source': 'ACCFHGZFS7GB9CVM', 'row': 384, 'product_title': 'realme Buds Wireless Bluetooth Headset', 'rating': '5', 'summary': 'Perfect product!'}, page_content=\"review: After using 15 says I'm writing a review done quality is awesome bass is is awesome design and build is awesome  battery is great but not that much hope much you are thinking over value for money thanks Mr. madhav seth and realme\"),\n",
       " Document(metadata={'source': 'ACCFKYE2ARGG67WC', 'row': 491, 'product_title': 'realme Buds 2 Wired Headset', 'rating': '4', 'summary': 'Good quality product'}, page_content='review: Real me Buds 2 is awesome product, Great sound quality but bass is not up-to the mark. Awesome build quality. Value for money 👌👌👌'),\n",
       " Document(metadata={'source': 'ACCFSDGXX3S6DVBG', 'row': 682, 'product_title': 'BoAt Airdopes 131 Bluetooth Headset', 'rating': '5', 'summary': 'Brilliant'}, page_content='review: Nice colour nd too cute sound quality is good hope it works well'),\n",
       " Document(metadata={'source': 'ACCFVWN4PGNTEFGY', 'row': 593, 'product_title': 'realme Buds Q Bluetooth Headset', 'rating': '5', 'summary': 'Just wow!'}, page_content='review: Sound Quality 10/10Design 10/10Light Weight 10/10Battery Backup 10/10Build Quality 7/10Latency 9/10'),\n",
       " Document(metadata={'source': 'B0DLHTTWVB', 'row': 231, 'product_title': 'Apple MacBook Air 13-inch M3 (2024)', 'rating': '5', 'summary': 'This laptop is AMAZING! (Silver MacBook Air M3 16GB RAM, 256 GB Storage)'}, page_content=\"review: What a laptop! I love this machine. The 16 GB ram is superb for users who are just browsing the web, using this machine for work, watching videos, etc. If you are dependent for heavier workloads consider either the 24 GB RAM model or a base MacBook Pro. Right now the RAM is being used around 8-10 GB out of 16 GB. So thankful apple upgraded their RAM to 16 GB for free. This laptop won't let you down.\"),\n",
       " Document(metadata={'source': 'ACCFHGZFS7GB9CVM', 'row': 392, 'product_title': 'realme Buds Wireless Bluetooth Headset', 'rating': '5', 'summary': 'Simply awesome'}, page_content=\"review: hi all...  I waited  so long to purchase a nice Bluetooth earphones..  and searched a lot by considering lot of products with different  technical  specifications..  a last I found one...  it's called realme Bluetooth headset. believe me bass is really  nice...  not just nice..  it's astonishing. Positive  aspects are :- sound quality, battery life-10 hours u can expect,  build in quality, it's design is smooth  and you can feel the price, metal filters inside buds as shown in picture,  smoot...\"),\n",
       " Document(metadata={'source': 'B01D93Z89W', 'row': 61, 'product_title': 'Canon EOS Rebel T7 DSLR Camera Bundle', 'rating': '4', 'summary': 'Beginner, feels good to use'}, page_content=\"review: I've used digital cameras before, but never anything like this. The ease of use is really good for a beginner, though I do have to look some things up to figure it out as I go. The kit feels like it comes with a lot of unnecessary extras that I don't see myself using, and the tripod it came with arrived broken so that's a bit disappointing. The extra lenses it came with seem pretty good so far, I'm excited to get out and use it for my upcoming traveling.The case it comes with is also a bit small, but it does fit the extra lenses, remote switch, the filters, SD card holder, USB , battery charger with the extra battery and the cleaning accessories so I suppose I can't complain much. It's just a really tight fit is all.\"),\n",
       " Document(metadata={'source': 'ACCFVWN4PGNTEFGY', 'row': 600, 'product_title': 'realme Buds Q Bluetooth Headset', 'rating': '5', 'summary': 'Mind-blowing purchase'}, page_content='review: Awesome sound and bass. Love this product.'),\n",
       " Document(metadata={'source': 'ACCFHGZFS7GB9CVM', 'row': 368, 'product_title': 'realme Buds Wireless Bluetooth Headset', 'rating': '5', 'summary': 'Worth every penny'}, page_content='review: This is my genuine review after the use of 7 days ki The perfect wireless headphone in this range infact more than perfect .There are no cons in this earphoneSome highlighted pros due to which , daily & daily u will fall in love with it & always think urSELF Fortunate  are:A+ battery lifeA+Sound qualityMagnetic function is super 😘'),\n",
       " Document(metadata={'source': 'B0BN95FRW9', 'row': 204, 'product_title': 'Apple iPhone 14 Pro 128GB (Renewed)', 'rating': '4', 'summary': 'Muy lindo en teléfono sin rayones impecable'}, page_content='review: Sólo que la batería vino en solo 89% por eso no le pongo 5 estrellas'),\n",
       " Document(metadata={'source': 'ACCFHGZFS7GB9CVM', 'row': 371, 'product_title': 'realme Buds Wireless Bluetooth Headset', 'rating': '5', 'summary': 'Wonderful'}, page_content='review: Realme Buds Bluetooth used details and ratingBattery : 14 hour Music Playing 5/5Key Controller : 4/5Design : flexible velvet type ,-- , ~~ () 5/5Colour : Green 5/5Charging time : 1h:20m full charge 4/5 Stand by : 7 day and 3hour music playing 5/5Music and Bass : good quality , Bass 4/5Compatible  :  Good , 4/5Bluetooth connection : ●Pairing in 4 second,,, ●paired device auto connect 2 second to 4 second . ●My device 3 second auto connect . 5/5Bluetooth range : ●Straight 75...'),\n",
       " Document(metadata={'source': 'B0CQ3VXJ3J', 'row': 104, 'product_title': 'Samsung Galaxy Book4 Pro 16-inch Laptop', 'rating': '5', 'summary': 'Grad guft'}, page_content='review: This was bought for a graduation gift. It was amazing the reaction I got. Very nice performance and value for the money'),\n",
       " Document(metadata={'source': 'B0B4MWCFV4', 'row': 143, 'product_title': 'Fitbit Versa 4 Fitness Smartwatch', 'rating': '4', 'summary': 'good good'}, page_content='review: good fit, timely delivery, easy set up, does not hold charge long as the versa 2 did'),\n",
       " Document(metadata={'source': 'ACCFSKBJYWZKXGCP', 'row': 626, 'product_title': 'U&I Titanic Series - Low Price Bluetooth Neckband Bluetooth Headset', 'rating': '3', 'summary': 'Nice'}, page_content='review: The product is good but charger is small But I Loved It A Lot All family blamed me for such a order But i loved it a lot Thank U Flipkart'),\n",
       " Document(metadata={'source': 'B01D93Z89W', 'row': 69, 'product_title': 'Canon EOS Rebel T7 DSLR Camera Bundle', 'rating': '5', 'summary': 'Perfect starter kit'}, page_content='review: Great kit with everything you need to get started with photography. Absolutely great!'),\n",
       " Document(metadata={'source': 'ACCFSKBJYWZKXGCP', 'row': 614, 'product_title': 'U&I Titanic Series - Low Price Bluetooth Neckband Bluetooth Headset', 'rating': '5', 'summary': 'Fabulous!'}, page_content='review: This is amazing product, sound quality awesome, mic very solid and the very important thing is battery backup i am shocked this is giving 19 hours backup with playing songs calling and all.    I m giving five star to this product this is also low price and product is too good. Thanks flipkart love you always'),\n",
       " Document(metadata={'source': 'B0CQ3VXJ3J', 'row': 91, 'product_title': 'Samsung Galaxy Book4 Pro 16-inch Laptop', 'rating': '5', 'summary': 'Beast of a laptop. Amazing for its price.'}, page_content=\"review: Samsung should definitely consider upgrading the integrated GPU to a dedicated NVIDIA or AMD one so it sells more. Am a casual gamer but use this laptop primarily for work/coding etc. The price is quite high but for a touchscreen laptop, $1200 is a steal. Its an incredibly good deal for a 16inch laptop with such power. However, only being limited to 16GB of ram is really a pain. Worse part is that its soldered to the motherboard and you can't even upgrade! 16GB of RAM in 2024 is a real pain.\"),\n",
       " Document(metadata={'source': 'B0C33XXS56', 'row': 269, 'product_title': 'Sony WF-1000XM5 Wireless Noise Canceling Earbuds', 'rating': '4', 'summary': 'Impressive sound, Subpar ANC'}, page_content='review: I\\'ve been doing a lot of research lately. I\\'ve been running with Bose QC (1st Gen) buds for a couple years now. Aside from running into a few minor hiccups I\\'ll attribute to age, I\\'ve been more the satisfied with them. However, they are rather bulky and I do a lot of physical labor for work. It was time for a change. After a couple months of searching, I decided to try out the Sony x5\\'s.Out of the box I was immediately impressed by the size. Everyone in my house has airpod pros, so smaller earbuds aren\\'t new, but these were pleasantly small. The case was also a welcome sight. My QC1\\'s aren\\'t only bulky, the case is probably 3 times larger. Knowing I won\\'t have to carry that around in my pocket anymore was already making me happy with the decision. I\\'m also liking the wireless charging. This was one of the things that kept me away from the Bose QC Ultras(if I\\'m spending almost $300, I shouldn\\'t have to spend another $70 for a feature that should be standard in 2024).Like I said, I was kind of rushed during setup, which may have had an effect on this next take. But setup was much more in depth than I was expecting. Having to switch between multiple apps and sign ons was slightly off putting. But there was never a clear explation of why I was doing this. Having google assistant is a cool feature. But I don\\'t use it. And there was no walk through for Alexa. Also the push to use 360 audio(which is incredible, but more on that in a minute) was also confusing. You would think for how many steps you go through to get these setup, a lot of which are optional features, there would be some sort of \"quick start\" guide. But you\\'re left to figure out the touch controls on your own. Speaking of, there doesn\\'t seem to be any way to alter these, other than the long press option which is really just a short cut and not a real \"device control \". By the time I was done I only had about 10 minutes to listen to some music and cycle different sound settings before putting the kids to bed. However, I can honestly tell you that my initial reaction was not love. I wasn\\'t displeased, but for the price, I\\'d hoped to be wowed.The next day I had some running around to do so I had more time to play around with them. I will say that while I wasn\\'t overly impressed at first, day 2 made me feel much better about these in a lot of ways. The sound is incredible. The EQ options let you do so much and really do make you feel like you\\'re in the music. The bass isn\\'t quite as strong as I\\'d hoped, but I could get used to that if I had to.However, and thus probably my biggest issue with these, the Noise Cancelation isn\\'t anywhere near as good as my old Bose buds. With those, I could pop the two in, fire up my gas powered backpack leaf blower and hardly hear a hum. With the sony\\'s, I had a hard time telling sometimes if noise cancelation was on or not. Granted, I did have the voice filtering turned on. But the idea is that it let\\'s voices through but not ambient noise. In reality, it seems like it let\\'s an awful lot of background noise in. I do like that i can switch ANC on and off with a simple touch of the left bud, but while using the mode that detects your current activity (running, sitting, driving etc) and adjusts automatically, I\\'ve found that it cuts over ANC mode on its own pretty frequently. These little features are great in theory, but they aren\\'t refined enough at this point to make them useful on a daily basis and serve more as a fluff feature rather than truly useful ones.I still haven\\'t tried out phone calls, which I plan to do tomorrow. But overall, when you consider the price and the competition I\\'m still not sold on these yet. They are no doubt a great product, fit wonderfully and sound superb. They are probably ideal and good enough for a lot of people. Just not quite convinced they are what I\\'m look for'),\n",
       " Document(metadata={'source': 'B0CQ3VXJ3J', 'row': 71, 'product_title': 'Samsung Galaxy Book4 Pro 16-inch Laptop', 'rating': '5', 'summary': 'Best laptop I had'}, page_content='review: The SAMSUNG 14” Galaxy Book4 Pro Laptop is a sleek and powerful device that delivers excellent performance for both work and play. Its compact size and lightweight design make it highly portable, perfect for on-the-go use. The vibrant display offers crisp and clear visuals, ideal for multimedia consumption and productivity tasks.Under the hood, the laptop is equipped with robust hardware, ensuring smooth multitasking and fast processing speeds. The battery life is commendable, lasting through a full day of moderate use. Additionally, the build quality is solid, and the keyboard provides a comfortable typing experience. Overall, the Galaxy Book4 Pro is a great choice for those seeking a high-quality, portable laptop.'),\n",
       " Document(metadata={'source': 'B0DLHTTWVB', 'row': 215, 'product_title': 'Apple MacBook Air 13-inch M3 (2024)', 'rating': '5', 'summary': 'Great laptop'}, page_content='review: I know I’m late to the game but this is my first MacBook and I’m beyond happy with my purchase. Great quality and easy set up. I highly recommended this laptop.'),\n",
       " Document(metadata={'source': 'B0B4MWCFV4', 'row': 159, 'product_title': 'Fitbit Versa 4 Fitness Smartwatch', 'rating': '4', 'summary': 'Great guft'}, page_content=\"review: The face of the watch is a bit big and I'm still trying to get use to the rest of the stuff. I like it so far\"),\n",
       " Document(metadata={'source': 'B0B4MWCFV4', 'row': 122, 'product_title': 'Fitbit Versa 4 Fitness Smartwatch', 'rating': '4', 'summary': 'Great for fitness, limited as a smartwatch'}, page_content='review: The Fitbit Versa 4 is a strong option for fitness tracking, offering built-in GPS, heart rate monitoring, and over 40 exercise modes. Its sleek design and long battery life (up to 6 days) make it convenient for everyday wear. The sleep tracking features and Alexa integration are useful additions. However, the lack of third-party app support and music storage limits its versatility as a full-featured smartwatch. If fitness is your priority, this is a solid choice, but it may fall short for those wanting more tech options.'),\n",
       " Document(metadata={'source': 'ACCEVQZABYWJHRHF', 'row': 751, 'product_title': 'BoAt BassHeads 100 Wired Headset', 'rating': '5', 'summary': 'Excellent'}, page_content='review: Just a Wow product BoAt and amazing 🚚Delivery by Flipkart in the same day I ordered. Thank you Flipkart!!🥰🥰 Just loves it !'),\n",
       " Document(metadata={'source': 'ACCFVA3KZ2EYMYX3', 'row': 525, 'product_title': 'OnePlus Bullets Wireless Z Bass Edition Bluetooth Headset', 'rating': '5', 'summary': 'Must buy!'}, page_content='review: Sound clarity is too good in comparison of realme wireless and also bass is far better from realme wireless.bass is reaching in the core.'),\n",
       " Document(metadata={'source': 'ACCFSDGXX3S6DVBG', 'row': 708, 'product_title': 'BoAt Airdopes 131 Bluetooth Headset', 'rating': '5', 'summary': 'Highly recommended'}, page_content='review: Excellent product under such a tight budget...Overall great experience till nowHowever the left earphone gets discharged earlier everytime than the right one even if I overcharge the left one separately or in pairGives a continuous playback of 3.5 hrs microphone is also awesome5 star for the product'),\n",
       " Document(metadata={'source': 'ACCFHGZFS7GB9CVM', 'row': 390, 'product_title': 'realme Buds Wireless Bluetooth Headset', 'rating': '5', 'summary': 'Perfect product!'}, page_content='review: nice product.. good bass.. great design.. superb battery back up'),\n",
       " Document(metadata={'source': 'ACCEVQZABYWJHRHF', 'row': 716, 'product_title': 'BoAt BassHeads 100 Wired Headset', 'rating': '4', 'summary': 'Good choice'}, page_content='review: price wise quality good. sound good. Bass is good. Everything about it is good not excellent. wire length is nice not to short nor to long. wire is tangle free. Build quality is good. in ear fit is good. Budget wise one can go for it.'),\n",
       " Document(metadata={'source': 'B0CQ3VXJ3J', 'row': 106, 'product_title': 'Samsung Galaxy Book4 Pro 16-inch Laptop', 'rating': '5', 'summary': 'Perfect for work and play'}, page_content=\"review: Love this laptop. Went with the 1TB drive. Couldn't be happier.\"),\n",
       " Document(metadata={'source': 'B01D93Z89W', 'row': 62, 'product_title': 'Canon EOS Rebel T7 DSLR Camera Bundle', 'rating': '5', 'summary': 'Very good quality'}, page_content='review: The media could not be loaded.                                                                                            I am a beginner photographer and I have to say if you are looking to start photography this is the camera and kit you should get. The weight and battery life are really good. It was really easy to learn how to use it and switch the lens, the auto focus is really good. I haven’t had a change to check the WiFi connectivity but I will'),\n",
       " Document(metadata={'source': 'ACCFSKBJYWZKXGCP', 'row': 621, 'product_title': 'U&I Titanic Series - Low Price Bluetooth Neckband Bluetooth Headset', 'rating': '5', 'summary': 'Best in the market!'}, page_content='review: Using it from past one week and this product has worked above my expectations. Sound quality is very good and battery backup is pretty awesome. Bass is very defined. Overall the product is a must buy at such a cost. Must go for this.'),\n",
       " Document(metadata={'source': 'ACCFZGAQJGYCYDCM', 'row': 332, 'product_title': 'BoAt Rockerz 235v2 with ASAP charging Version 5.0 Bluetooth Headset', 'rating': '4', 'summary': 'Nice product'}, page_content='review: Awesome product happy to have one.Good sound quality in medium volume, with equalizer app could complete the high bass sound. Battery last long 20 min of charge to enjoy whole day.Very light weight, Easy to carry,'),\n",
       " Document(metadata={'source': 'ACCEVQZABYWJHRHF', 'row': 714, 'product_title': 'BoAt BassHeads 100 Wired Headset', 'rating': '5', 'summary': 'Classy product'}, page_content='review: Very good product.. loved the color and sound quality ❤️ It came with extra pairs of earbuds, overall the product is nice and worth money! Thank you Flipkart😊'),\n",
       " Document(metadata={'source': 'ACCFKYE2ARGG67WC', 'row': 490, 'product_title': 'realme Buds 2 Wired Headset', 'rating': '5', 'summary': 'Worth every penny'}, page_content='review: I literally love this product this sound quality is good i use more earphones like boat ,jbl,ubon etc but this earbuds are best I literally love this mic quality for recording.'),\n",
       " Document(metadata={'source': 'B01D93Z89W', 'row': 49, 'product_title': 'Canon EOS Rebel T7 DSLR Camera Bundle', 'rating': '3', 'summary': 'Rebel T7 Camera'}, page_content='review: Camara has been good so far. But noticed from the description that the 0.43x Auxiliary Wideangle Lens come in the package. But the package I received is missing it. I would like to know if the seller will be sending it separately or will I be getting reimbursed for the missing item which was listed as what comes with the package. I am happy with the camera and picture quality but I am not happy about the missing item since I have paid for this camera and everything that comes with it. I would recommend ordering with caution.'),\n",
       " Document(metadata={'source': 'B0B4MWCFV4', 'row': 160, 'product_title': 'Fitbit Versa 4 Fitness Smartwatch', 'rating': '4', 'summary': 'Trying another one'}, page_content=\"review: Loved, loved loved my Fitbit Versa2 that I had for just shy of 4 yrs then I didn't - Vers2 stopped tracking sleep, heartrate and no reminders to move. It became a watch and pedometer! I DID NOT want to go GOOGLE brand, hate that they bought out Fitbit.  Caught a decent price for the Versa4 even though Fitbit support sites indicated it also has issues and not being supported by GOOGLE.Versa4 screen is  not as user friendly as the Versa2 but I will have to learn to adapt.\"),\n",
       " Document(metadata={'source': 'B0B4MWCFV4', 'row': 137, 'product_title': 'Fitbit Versa 4 Fitness Smartwatch', 'rating': '4', 'summary': 'Fast deliver and product is good'}, page_content='review: I am wearing it every day. Loving the displays you can choose for it and loving how many things it can keep track of for you.'),\n",
       " Document(metadata={'source': 'B0CHX7R6WJ', 'row': 8, 'product_title': 'Apple Watch SE 2nd Gen 40mm GPS', 'rating': '5', 'summary': 'Great Watch'}, page_content=\"review: I bought this watch for my daughter & she loves it. It has alot of great features and works well with her Iphone. It's very user-friendly & the apps are easy to navigate. The battery works efficiently and last for a long time.\"),\n",
       " Document(metadata={'source': 'ACCFKYE2ARGG67WC', 'row': 464, 'product_title': 'realme Buds 2 Wired Headset', 'rating': '5', 'summary': 'Terrific'}, page_content='review: Unbelievable bass And very clear audio ear protection very strong I really prefer to purchase this fantastic realme buds thank you very much realme'),\n",
       " Document(metadata={'source': 'ACCEVQZABYWJHRHF', 'row': 711, 'product_title': 'BoAt BassHeads 100 Wired Headset', 'rating': '5', 'summary': 'Worth every penny'}, page_content='review: nice product with beautiful design and fast delivery.... once again thank you flipkart'),\n",
       " Document(metadata={'source': 'ACCFVWN4PGNTEFGY', 'row': 561, 'product_title': 'realme Buds Q Bluetooth Headset', 'rating': '5', 'summary': 'Perfect product!'}, page_content=\"review: Worth it If you think to buy a tws then it is a best option light weight easy to carry I'm Happy From This.\"),\n",
       " Document(metadata={'source': 'ACCFZGAQJGYCYDCM', 'row': 350, 'product_title': 'BoAt Rockerz 235v2 with ASAP charging Version 5.0 Bluetooth Headset', 'rating': '5', 'summary': 'Wonderful'}, page_content='review: I brought this product as I was looking for a sweat proof headset for my workouts. I got it for 899 and I have to say that am pretty satisfied with the features and the quality that the headset has to deliver. I would definitely recommend this product to my family and friends. Just go for it !!!'),\n",
       " Document(metadata={'source': 'ACCFSDGXX3S6DVBG', 'row': 680, 'product_title': 'BoAt Airdopes 131 Bluetooth Headset', 'rating': '1', 'summary': 'Did not meet expectations'}, page_content='review: Worst product ever bought. Instead, you can go and try for \"Flipkart smartbuy bass beatz\". A very decent earphones in very reasonable price. Never go for boat airdopes 131 as this is just good in look and WORST in performance. Could have given 0 star if available in option.'),\n",
       " Document(metadata={'source': 'B0CQ3VXJ3J', 'row': 111, 'product_title': 'Samsung Galaxy Book4 Pro 16-inch Laptop', 'rating': '2', 'summary': 'Fan is loud and computer gets too hot.'}, page_content='review: Fan runs almost immediately after powering up and the computer gets too hot.'),\n",
       " Document(metadata={'source': 'ACCFVWN4PGNTEFGY', 'row': 603, 'product_title': 'realme Buds Q Bluetooth Headset', 'rating': '1', 'summary': \"Don't waste your money\"}, page_content='review: First few days it works well...then after ...the case and earpods didnt charge ...'),\n",
       " Document(metadata={'source': 'ACCFVWN4PGNTEFGY', 'row': 574, 'product_title': 'realme Buds Q Bluetooth Headset', 'rating': '3', 'summary': 'Just okay'}, page_content=\"review: The product is best and sound quality also best and beti so nice range also nice disadvantages after 7 days the right earbud will not work it will work but charging will not support you should clean the box and you should keep the charging and it works you don't think that the right earbud is not working to be working but it won't get charged through you should clean one time and you will do charge means you will get charged Atlas I control my speech by saying that the real world so nice name...\"),\n",
       " Document(metadata={'source': 'B01D93Z89W', 'row': 64, 'product_title': 'Canon EOS Rebel T7 DSLR Camera Bundle', 'rating': '3', 'summary': 'Unsure about value of this'}, page_content='review: Off brand lenses.  Littlest camera bag I ever saw/more like a makeup bag. Not sure if I am keeping this.'),\n",
       " Document(metadata={'source': 'B0CHX7R6WJ', 'row': 20, 'product_title': 'Apple Watch SE 2nd Gen 40mm GPS', 'rating': '5', 'summary': 'My daughter loves it'}, page_content=\"review: Bought this for my daughter for Christmas 2023, after her wearing it pretty much everyday for a year it's still going strong and works great. She loves it.\"),\n",
       " Document(metadata={'source': 'ACCFKYE2ARGG67WC', 'row': 477, 'product_title': 'realme Buds 2 Wired Headset', 'rating': '5', 'summary': 'Mind-blowing purchase'}, page_content='review: sound quality+bass is quiet good , tangled free , and the design is great too , i give it a full 5 stars★★★★★'),\n",
       " Document(metadata={'source': 'ACCFKYE2ARGG67WC', 'row': 501, 'product_title': 'realme Buds 2 Wired Headset', 'rating': '5', 'summary': 'Simply awesome'}, page_content='review: NICE PRODUCT... WORTH BUYING.....!!!!Its a Signature sound by Realme India..I love the sound... Best in Segment.@REALME INDIA.'),\n",
       " Document(metadata={'source': 'B0C33XXS56', 'row': 286, 'product_title': 'Sony WF-1000XM5 Wireless Noise Canceling Earbuds', 'rating': '4', 'summary': \"I'm not an expert on buds but Im glad I bought them\"}, page_content='review: This is the most I ever thought I\\'d spend on earbuds. The only complaints I have is they\\'re freakin expensive and I wish they would Bluetooth to multiple devices at once and they\\'re not good for running with. They cut out a lot when/with bumps and jerks. Switching between my phone and laptop is annoying. Had only 3 months but they hold a charge awhile, charge quickly just in the case and also when plugged in. Has decent bass, my ears did hurt from wearing them after a couple days just like other people says it bothers them but I just realized writing this I haven\\'t even noticed it since I first got them. I guess they took about 2 weeks of everyday use to \"break in\". Everyone seems to have a problem with the app and the \\'tap\\' feature on the buds -I do not. I haven\\'t used the speak assist so I can\\'t speak for it. The mic works well on calls though. I make calls while riding a bicycle. I now use these for gaming too. I wear them to the gym- no problem with sweat. After buying them id be lost without them. Id say the sound quality is good idk if id say the best but for earbuds on this price range they\\'re good. Not great for meditation music but great for hip hop and Rock. For the price it should come with it\\'s own charge block. Can\\'t compare to a different brand but happy with purchase. I\\'ll update if have any problems.- I spent about a week deciding between these and the Bose so I know what it\\'s like shelling $300 for freakin rare buds. Hope this helps.'),\n",
       " Document(metadata={'source': 'B0C33XXS56', 'row': 309, 'product_title': 'Sony WF-1000XM5 Wireless Noise Canceling Earbuds', 'rating': '3', 'summary': 'UPDATE after owning for months:  NOT as good as the previous series 4.'}, page_content='review: I have quite a few sets of earbuds, but I like the EQ that is available with the Sony series.They are a low output series, but for dialogue and movies, sometimes I like a bit more separation of dialogue, or with music a bit more bass. These are smaller than the 4s which is nice. They don’t have the warmth and larger sound of the 4s to me. I got them on sale during the Prime days sale, otherwise I wouldn’t have purchased them. The batteries wore out on the 4s. These will be fine, but I’ll also send in the 4s for a new battery, 🪫 Noise cancelling; they are semi-OK, but the iPhones Pro model is better. After owning the 5 series for a few months. They are meh, mediocre. I’d much rather have the older 4 series with batteries that can be easily changed. Again, the 4 series has a much warmer and fuller sound.I use the Apple pro series 2 for jet travel. I use a wireless adapter to the airline seats. The apple work best for that. Really cuts out jet (and crying baby) noise.The case on the 5 series. Real pain trying to find the correct position to put the ear buds in.Who the heck came up with this design 🙄'),\n",
       " Document(metadata={'source': 'ACCFVA3KZ2EYMYX3', 'row': 541, 'product_title': 'OnePlus Bullets Wireless Z Bass Edition Bluetooth Headset', 'rating': '5', 'summary': 'Super!'}, page_content='review: Now from my experience, I searched for a lot of earphones and saw each and every one... What I found was this bass edition is better than most other wireless earphones though some reviews said that build quality is not good.. what I feel is.. sound quality, bass ... Very good! Very happy about it.. Connectivity is top notch... Easy to wear... No any ear pain during long hours of usage.. But battery back up... Its been 5 days now.. I have charged it only 2 twice.. 10 mins full 100%... Wow! One...'),\n",
       " Document(metadata={'source': 'B0C33XXS56', 'row': 273, 'product_title': 'Sony WF-1000XM5 Wireless Noise Canceling Earbuds', 'rating': '3', 'summary': 'Not as good as I hoped, I am returning them.'}, page_content=\"review: I am a big Sony fan with 6 of their top TV models, 4 cameras, and 5 pairs of head and ear phones in our family.  Unfortunately,  I have watched their top of the line designs (TV's and headphones in particular) change from 'cost no object quality products' to designs that are purposely simplified and cheapened to save in manufacturing costs.  A good example is the change from the XM4 headphones to XM5 models with the later looking like a sub $100 pair of headphones with weak pivot points, poor folding size, large case, cheap plastic, and thin bass sound.  Those headphones at least improved the mids and highs...which I cannot say for these WF-1000XM5 earbuds.  It seems Sony finds some great wins, then removes those that work in the next revisions to be different and does not listen to their customers.  An example is the effective voice confirmations in mode changes that now are replaced with beeps and some modes being removed.  This is very helpful in flights, when there is a lot of ambient noise.These WF-1000XM5 earbuds epitomize this cheap concept in being  too slippery (what happened to the nice matt finish in XM4's), awkward to handle and insert, weird fitting in the case as they rock around not making contact, and exuding a boomy cheap sound.  The case seems like it was designed for a different product.  To be clear, I gave them plenty of time to break in and though they improved...they plateaued way too soon.  I understand cost savings are important, but these earphones are $300 and marketed as their best and these do not exude quality like their previous models and this is immediately obvious.  The gloss finish is very slippery, not ideal for handling and looks cheap.  The attractive bronze (rose gold?) accents from the past are all but gone.  They are moderately comfortable but leak sound making you constantly guess whether or not ambient sound is on or off.  Touch control seems more irregular and modes are removed.  Conversely, I have found my XM4's (I have 2 pairs) to sometimes cause mild pain in my ears over long use which I did not experience with these XM5's though the XM5 for me feel like they are falling out with their more rounded shape.The soundstage is muddy and closed in and does not outperform the XM4 earphones, in my opinion.  Some music with perfect recordings sounds OK, but across the board they fall short in getting the  best out of the music and I listen to many types of music.  Just like the WH-1000XM5 headphones (which I returned to keep XM4's), these are no better sounding than their predecessors and for me the sound quality is first and foremost.  Accuracy has always been Sony's forte but I have found that has changed.  I have high end audio equipment including tube amps, and a full home theater so admittingly I might be a little picky; however previous models from Sony have kept me content and not a single flight I take is without their headphones or earphones.The ANC and phone call quality are very good but as the foam does not seal well there is that sound leakage in my ears no matter which tips I tried or how I turned them...meaning many will have to buy aftermarkets right away to get that softer better conforming ear pad...which is not a requirement with many of their competitors.  I truly feel like Sony's design team did not spend enough time to cross the t's and dot the i's for these headphones and the budget was too low for a high quality design.  The battery life is worse than previous models and I tested them side by side with XM4 using the same settings and same volume.  They are smaller...for those who need to save space but I would prefer sound quality improvements over reduction in size.  They are also more efficient with less more volume from a lower setting on my S23 Ultra.I did the prepurchase for these earphones and use my others daily but unfortunately I returned them and will stick with the previous models as I try others...which is disappointing.  I was surprised about the many positive professional reviews and it does make me feel like they could be a little biased.\"),\n",
       " Document(metadata={'source': 'ACCFSDGXX3S6DVBG', 'row': 699, 'product_title': 'BoAt Airdopes 131 Bluetooth Headset', 'rating': '5', 'summary': 'Great product'}, page_content='review: I using these Headset for last 2 days. The experience with my Boat Airpods 131 Bluetooth Headset is nice. But the price (Rs-1,299)of the product  is very costly. We can expect many things for these price from other brand. When we come with brand we want to sacrifice the price.Probs:1) Very good design and build for these prize2) Bluetooth connectivity is Awesome3) Type - C Port for charging the headset is good.4) 1 year warranty5) Battery backup is upto the markCons:1) Bass of the ear...'),\n",
       " Document(metadata={'source': 'B0CHX7R6WJ', 'row': 19, 'product_title': 'Apple Watch SE 2nd Gen 40mm GPS', 'rating': '5', 'summary': 'Exactly what we wanted'}, page_content='review: Ordered this watch as a replacement for an old watch. It was everything we needed and arrived in a timely manner. The watch is new and sealed, it paired fine with the phone.'),\n",
       " Document(metadata={'source': 'ACCFHGZFS7GB9CVM', 'row': 387, 'product_title': 'realme Buds Wireless Bluetooth Headset', 'rating': '5', 'summary': 'Highly recommended'}, page_content=\"review: I am very happy with this product. its just wow! i loved it.Only one thing i didn't like is led bulb is not turn red into green or other color . when its full charge it always red .so you have to check after some time.Whether full charge or not.\"),\n",
       " Document(metadata={'source': 'B01D93Z89W', 'row': 66, 'product_title': 'Canon EOS Rebel T7 DSLR Camera Bundle', 'rating': '3', 'summary': 'Forget the \"Bundle\"'}, page_content='review: As expected since the camera is a new version of a much used older camera - the camera is great and very advanced over its predecessor. But the non-canon Bundle with it is pretty unhelpful and low quality.'),\n",
       " Document(metadata={'source': 'B0BN95FRW9', 'row': 208, 'product_title': 'Apple iPhone 14 Pro 128GB (Renewed)', 'rating': '4', 'summary': 'Battery 90%'}, page_content='review: The phone is good, everything is perfect, is unlock so I can use it with a lot of companies. Screen and cameras are perfect good. No scratches or bumps. The only thing is that I paid for perfect condition and the battery was in 90%, I have it for 3 months and now is in 87% and even though I always a care about that. But it was good price too. I bought another one and the battery was 99%, so it’s good luck sometimes'),\n",
       " Document(metadata={'source': 'B0C33XXS56', 'row': 299, 'product_title': 'Sony WF-1000XM5 Wireless Noise Canceling Earbuds', 'rating': '5', 'summary': 'Sound is loud and clear'}, page_content=\"review: For my aging ears, finally found earbuds with clear and loud sound.  Tried many other brands and models, and they all try to preserve listeners hearing by limiting volume, which would be not a bad thing for my ears too, 20 or 30 years ago.  But now I found what I was looking for.  They are also quite comfortable, and reach a little deeper in ear canals than others, which is what I needed.  Equalizer interface is not most intuitive, but allows for better adjustments than anything I tried. Don't be scared by claim of recycled materials, build quality is subjectively good, with the exception of lid very slightly loose, which is not noticeable under normal use.\"),\n",
       " Document(metadata={'source': 'ACCFVA3KZ2EYMYX3', 'row': 540, 'product_title': 'OnePlus Bullets Wireless Z Bass Edition Bluetooth Headset', 'rating': '4', 'summary': 'Good quality product'}, page_content='review: Fantastic system it has but not have bass. Sound quality is average. I would like to inform you that do not waste your money by seeing ONEPLUS tag. You can buy better Wireless Earphone at very cheap price of Boat. Sound quality good but no to appreciate!'),\n",
       " Document(metadata={'source': 'B0BN95FRW9', 'row': 192, 'product_title': 'Apple iPhone 14 Pro 128GB (Renewed)', 'rating': '4', 'summary': 'Product came great!'}, page_content=\"review: It's my first time purchasing something from Amazon renewed, iPhone came great overall, no visible damages or scratches, battery came at 86% of health, unlocked. The only thing it's that it came in an ugly box, but didn't affect functionality at all, great product\"),\n",
       " Document(metadata={'source': 'ACCEVQZABYWJHRHF', 'row': 737, 'product_title': 'BoAt BassHeads 100 Wired Headset', 'rating': '5', 'summary': 'Simply awesome'}, page_content=\"review: sound quality is very clear and the bass is also very good 👌😊 worth the money... I'm fully satisfied with the product 😉😊😁\"),\n",
       " Document(metadata={'source': 'B0DLHTTWVB', 'row': 223, 'product_title': 'Apple MacBook Air 13-inch M3 (2024)', 'rating': '5', 'summary': 'I’m in LOVE!'}, page_content='review: Not only did Amazon beat everyone’s price, it’s my dream replacement! It took a little while to reach me but it was the holidays.I don’t need to review Apple products because they are what they are, which is excellent!'),\n",
       " Document(metadata={'source': 'ACCEVQZABYWJHRHF', 'row': 749, 'product_title': 'BoAt BassHeads 100 Wired Headset', 'rating': '5', 'summary': 'Mind-blowing purchase'}, page_content=\"review: I'm so so happy Very good product So so beautiful Sound effect super And also got it warranty card\"),\n",
       " Document(metadata={'source': 'B0B4MWCFV4', 'row': 140, 'product_title': 'Fitbit Versa 4 Fitness Smartwatch', 'rating': '5', 'summary': 'I love fitbit'}, page_content=\"review: The battery last daysss! That's my favorite part. The band was a little bit uncomfortable, but this new one fabric flexible feels better for my small wrist.\"),\n",
       " Document(metadata={'source': 'ACCFVWN4PGNTEFGY', 'row': 590, 'product_title': 'realme Buds Q Bluetooth Headset', 'rating': '3', 'summary': 'Does the job'}, page_content='review: Sound and build is pretty good but touch control not working properly.'),\n",
       " Document(metadata={'source': 'B0CHX7R6WJ', 'row': 23, 'product_title': 'Apple Watch SE 2nd Gen 40mm GPS', 'rating': '4', 'summary': 'Battery life'}, page_content='review: It’s a pretty good item, the battery life just doesn’t last as long as I’d expect.'),\n",
       " Document(metadata={'source': 'B0BN95FRW9', 'row': 196, 'product_title': 'Apple iPhone 14 Pro 128GB (Renewed)', 'rating': '4', 'summary': 'Nice phone.'}, page_content=\"review: I like the applications on the phone. Thought it would be a little bigger but I'm getting use to it.\"),\n",
       " Document(metadata={'source': 'B0DLHTTWVB', 'row': 234, 'product_title': 'Apple MacBook Air 13-inch M3 (2024)', 'rating': '5', 'summary': 'Great packing'}, page_content='review: The product is what it saysWas impressed with how packaged  and easy set up'),\n",
       " Document(metadata={'source': 'ACCFSDGXX3S6DVBG', 'row': 669, 'product_title': 'BoAt Airdopes 131 Bluetooth Headset', 'rating': '4', 'summary': 'Delightful'}, page_content=\"review: Good product with fine looks. Bass is not super good but it is ok u can feel beats.connectivity is good overall product is good but one thing hurts me is that it is not waterproof 😭 and this is a issue for me rest I am happy because it's design is pretty cool . I had  already one plus wireless earphone but whenever I use it it's neck wire irritates me😂\"),\n",
       " Document(metadata={'source': 'ACCFVWN4PGNTEFGY', 'row': 591, 'product_title': 'realme Buds Q Bluetooth Headset', 'rating': '1', 'summary': 'Not recommended at all'}, page_content=\"review: Don't buy this ! Doesn't catch our voice while driving ! Waste of money and also no return policy\"),\n",
       " Document(metadata={'source': 'ACCFR3Q77R6RRGAC', 'row': 439, 'product_title': 'OnePlus Bullets Wireless Z Bluetooth Headset', 'rating': '5', 'summary': 'Perfect product!'}, page_content=\"review: I use it last 10 days & everyday use 7_8h 😂👇👇👇According to price...i give 10/10Every beat is clear, if you music lover, you feel it. 10/10Base 10/10Deep bass 10/9 (if you true bass lover otherwise it's very good for long time use in a day)Lyrics are very clear Battery 10/10 ( 18_19 battery)Design & build 10/10  comfortable, no pain if you use long timeGood for bike riding.Mic very Powerful it's catches whole sounds near u.\"),\n",
       " Document(metadata={'source': 'B0C33XXS56', 'row': 275, 'product_title': 'Sony WF-1000XM5 Wireless Noise Canceling Earbuds', 'rating': '5', 'summary': 'Worth It'}, page_content='review: I am a long time user of Sony linkbuds and had a few pairs. And out of all the pairs of linkbuds overall they were good but was looking for something better. I got the Bose QC ultras and the noise cancellation on those is unmatched, but the app functionality and headphone connection issues were not like Sonys app or ambient sound control. So I returned the Bose and got these Sony XM5 buds and they are everything I hoped. No issues with them as of yet, the sound quality of the music is definitely an upgrade from the link buds. The app control and what you do with the Sony is still top for me.'),\n",
       " Document(metadata={'source': 'B0C33XXS56', 'row': 308, 'product_title': 'Sony WF-1000XM5 Wireless Noise Canceling Earbuds', 'rating': '3', 'summary': 'Poor fit, I guess'}, page_content='review: I got these after reading good reviews and having connection problems with two different pairs of Bose QC ii earbuds. I had previously tried the xm4s, and they were good but too large for my ears and hurt after wearing them just 30-ish minutes. When I got these, I couldn\\'t understand why the reviews had been so good. The ANC was just horrible. Definitely worse than the Bose and the XM4s. I\\'ve had them a couple of weeks and tried many different sets of ear tips and couldn\\'t get any improvement. I mostly use earbuds at the gym, and with these, I could still clearly hear background noise and music, even over the sound of my own music. Sometimes the noise comes through so clearly that I can\\'t believe the ANC is even turned on.Finally after two weeks using them, I tried pressing them further into my ears and holding them there. When I do that, the ANC is great, but they won\\'t stay in that deeply unless I hold them, so I\\'ll need to return them. \\xa0Apparently these are just not a good fit for my ears and I can\\'t get a decent seal.Other:*The multi-point connection is great and works really well. It\\'s ridiculous that the Bose doesn\\'t have that.*Battery life is as advertised.*These are much smaller and more comfortable than the XM4s. The case size in a lot smaller and convenient.*Having to tap four times to adjust the volume is stupid and annoying.*No \"find my device\" feature. I got a case and attached a Tile. Another ridiculous feature omission.*The earbud volume is not synced to the phone volume, at least not on my Pixel 7. This means that if I use the phone buttons to change volume, it will only change up or down to the point that the earbud volume is set at. If you want max volume, for example, you would have to max the volume on your phone and max it on the earbuds. The Bose were not like this. Adjusting the volume on the earbuds brings up the volume control on the phone.I decided to buy a used pair of the original Bose earbuds. I\\'d previously owned them and sold them when I got the Bose II. They are big and ugly, and the case is too big, but they worked properly without any of the issues or frustrations I\\'ve experienced with the Bose II and Sony XM4/XM5. (But I will say that I probably would have kept these xm5s if they had fit well enough for good noise cancellation.)'),\n",
       " Document(metadata={'source': 'ACCEVQZABYWJHRHF', 'row': 735, 'product_title': 'BoAt BassHeads 100 Wired Headset', 'rating': '5', 'summary': 'Terrific'}, page_content=\"review: I just loved it .....nalla niz product.pwoli sadhanam at a relatively affordable price, niz one it's good and worth for money\"),\n",
       " Document(metadata={'source': 'B0CHX7R6WJ', 'row': 36, 'product_title': 'Apple Watch SE 2nd Gen 40mm GPS', 'rating': '4', 'summary': 'Battery life'}, page_content='review: Love the watch itself but battery life is less than 24 hrs. Not ideal'),\n",
       " Document(metadata={'source': 'B0CQ3VXJ3J', 'row': 82, 'product_title': 'Samsung Galaxy Book4 Pro 16-inch Laptop', 'rating': '3', 'summary': 'On surface awesome, but lots of issues'}, page_content=\"review: I have always liked Samsung products.  I have a Samsung phone and watch and love them both.  So the specs on the laptop were great and the price was good.  Despite seeing a warning of lots of returns on this laptop, I purchased it.  It is a very thin, light, and powerful laptop but had so many issues, sent it back.  The BIOS was faulty as it did not recognize the TPM and thus Windows had issues.  It kept asking for the BitLocker code after ever reboot.  Then every time you click Shutdown in Windows, it just rebooted so to shut down had to do a hard reboot.  I am in IT and spent hours troubleshooting all to no avail and sent it back.  Great product, but just a fair warning on the consistent quality and usage.Update, there are places on the Internet, including Samsung's site, that says Windows 11 Pro will work on this laptop - it does not.  It requires TPM 2.0 and this laptop does NOT have TPM.  I confirmed that with 2 Samsung engineers today when Windows 11 Pro would not install.\"),\n",
       " Document(metadata={'source': 'ACCFR3Q77R6RRGAC', 'row': 459, 'product_title': 'OnePlus Bullets Wireless Z Bluetooth Headset', 'rating': '5', 'summary': 'Terrific purchase'}, page_content=\"review: Really good wireless headset. I came across a lot of reviews saying the bass is not so good. But I didn't feel so . It's really good.The sound quality is so balanced and it's perfect for movies , music and calls.\"),\n",
       " Document(metadata={'source': 'ACCFKYE2ARGG67WC', 'row': 503, 'product_title': 'realme Buds 2 Wired Headset', 'rating': '5', 'summary': 'Best in the market!'}, page_content=\"review: I am using this headphones from last 6 month , sound quality superb , bass is less in comparison of my brother's boat basshead 225 , but bass is good , built quality very good , magnit is a pros , valuable price , wire quality osm , and this is one of the  best headphones that I uses . 2nd is boat 225 ☺️☺️ must buy\"),\n",
       " Document(metadata={'source': 'B0B4MWCFV4', 'row': 147, 'product_title': 'Fitbit Versa 4 Fitness Smartwatch', 'rating': '5', 'summary': 'Super easy transition from Versa Lite to Versa 4'}, page_content=\"review: Fit is perfect; replaced  5 yr old Versa Lite; I am very happy. Color wasn't my first choice but I can replace band later. This is my 5th Fitbit product and I love the brand.\"),\n",
       " Document(metadata={'source': 'ACCEVQZABYWJHRHF', 'row': 726, 'product_title': 'BoAt BassHeads 100 Wired Headset', 'rating': '1', 'summary': 'Hated it!'}, page_content='review: not a good one  ..I buy it seeing the review  but it seems a local one ..even if you will get like the same on Flipkart at a cost of Rs 200  but only thing is no branding will be there. sound quality is not good bass is like a phata hua dhool...'),\n",
       " Document(metadata={'source': 'B0C33XXS56', 'row': 305, 'product_title': 'Sony WF-1000XM5 Wireless Noise Canceling Earbuds', 'rating': '4', 'summary': 'Great sound system quality; however, the noise canceling is no different from the ambient sound'}, page_content='review: Great sound system quality; however, the noise canceling is no different from the ambient sound'),\n",
       " Document(metadata={'source': 'ACCFHGZFS7GB9CVM', 'row': 403, 'product_title': 'realme Buds Wireless Bluetooth Headset', 'rating': '5', 'summary': 'Perfect product!'}, page_content='review: PROS:Super awsome bulid quality. Material of neckband, wire, switches & earbuds feels really premium, comfy n top notch.The design too is ergonomic and sits perfectly in ears.Main highlight is the magnetic bluetooth on/off which is super fast and smooth. It gets connected by the time you plug in the ear piece.An led light is there for battery n charging indication The black and yellow combination looks damn cool and is great attention seeking.Ear supports are removable and does their j...'),\n",
       " Document(metadata={'source': 'B01D93Z89W', 'row': 59, 'product_title': 'Canon EOS Rebel T7 DSLR Camera Bundle', 'rating': '5', 'summary': 'Easy to use'}, page_content='review: As advertised'),\n",
       " Document(metadata={'source': 'B0DLHTTWVB', 'row': 230, 'product_title': 'Apple MacBook Air 13-inch M3 (2024)', 'rating': '5', 'summary': 'Must buy!!)'}, page_content='review: Wow such a gorgeous laptop. It’s fast, easy to use, and high quality. I love how it connects to my apple watch and my iphone. It came in perfect condition too! I was worried maybe i shouldnt have bought it off amazon but it’s literally perfect. I also bought a case and a sleeve for it. This was a gift from my parents as i’m going back to school and it’s literally perfect!'),\n",
       " Document(metadata={'source': 'B0CQ3VXJ3J', 'row': 112, 'product_title': 'Samsung Galaxy Book4 Pro 16-inch Laptop', 'rating': '1', 'summary': 'Cracked screen -'}, page_content=\"review: This product is only 6 weeks old & the screen cracked. I don't not use it daily &  I never moved it & don't know how this could have happened. I have no idea if it's under warranty because I never received any paper work. Very disappointing!\"),\n",
       " Document(metadata={'source': 'ACCFKYE2ARGG67WC', 'row': 507, 'product_title': 'realme Buds 2 Wired Headset', 'rating': '3', 'summary': 'Nice'}, page_content='review: The sound and bass are really good. Bass is really powerful. After 2 weeks of use the pin end is somewhat broken from the inside. Seems wont last for more than 1-2 months at most. But all the other parts looks better built. I have very rough use and i keep my headset in a pouch. Not worth 600, flipkart smartbuy headphones are better but not much rich in sound like this one.'),\n",
       " Document(metadata={'source': 'ACCFSKBJYWZKXGCP', 'row': 636, 'product_title': 'U&I Titanic Series - Low Price Bluetooth Neckband Bluetooth Headset', 'rating': '5', 'summary': 'Excellent'}, page_content=\"review: It's such a great product😍😍, writing this review almost after 40 days. Very good sound🎧🎧, with huge bass.Product quality is likely ok. Battery🔋 backup is insane.  Range of connectivity is also good enough. Good device😉😉 Thanks ❤❤flipkart.\"),\n",
       " Document(metadata={'source': 'B0B4MWCFV4', 'row': 120, 'product_title': 'Fitbit Versa 4 Fitness Smartwatch', 'rating': '5', 'summary': 'It is just ok orginally but now two months later really good choice'}, page_content=\"review: My orginal review was correct but after getting things set up the way that I want, it is a great actvity tracker.1. Battery Life is amazing! If you are like me you hate when you are working out and the watch dies not recoding the steps or activities. This watch will last for 7 days2. The app is easy to use- If you are serious about measuring your activity great way to see how you are doing for the last several days, weeks, months...3. It measures what I care about steps and activityThe watch is not for you if you want-1. seeing emails and texts (not a strong feature)2. Trying to use it to answer callsI change my three stars to five stars after using it for awhile. The band and the orginal watch setup was not well designed but you can order a band for $10 and change the watch screen (use google to search how to do it, it is not hard but not obvious).The amazing battery life was what pushed it to 5 stars.Orginal Review-I had a Versa 2 and really liked it. I have very basic usages-steps, activity and as a watch. It did a wonderful job. It died and so I bought the Versa 4. 1. the watch ban is cheap!! the versa 2 was nothing great but this one is awful. (so i will have to buy another one to replace the one that comes with it). 2. the new watch face trys to do too much. KISS should have been there moto Keep it simple stupid. 3 the sync with the app seems to be off. I just got it so it just might take more time to get use to it.Im sure in the end it will be ok and do it's job. That is why 3 stars.\"),\n",
       " Document(metadata={'source': 'ACCFZGAQJGYCYDCM', 'row': 333, 'product_title': 'BoAt Rockerz 235v2 with ASAP charging Version 5.0 Bluetooth Headset', 'rating': '4', 'summary': 'Good quality product'}, page_content=\"review: It's a very good product... I'm so happy with this Bcz it's bass quality & sounds is too good & battery backup also superb\"),\n",
       " Document(metadata={'source': 'B0DLHTTWVB', 'row': 228, 'product_title': 'Apple MacBook Air 13-inch M3 (2024)', 'rating': '5', 'summary': 'Mackbook'}, page_content='review: I do the jump from my 2017 apple MacBook to the M3 and the speed the weigh and the system is another level. Amazon make it easy to buy it on the Cyber Monday with good prices and the Apple care bundle.'),\n",
       " Document(metadata={'source': 'ACCFKYE2ARGG67WC', 'row': 469, 'product_title': 'realme Buds 2 Wired Headset', 'rating': '5', 'summary': 'Brilliant'}, page_content='review: Nice product , nice quality , great buss, I love it'),\n",
       " Document(metadata={'source': 'ACCFVWN4PGNTEFGY', 'row': 599, 'product_title': 'realme Buds Q Bluetooth Headset', 'rating': '5', 'summary': 'Must buy!'}, page_content='review: Battery is superb Sound quality awesomeBuild quality is goodBut value for money I love it'),\n",
       " Document(metadata={'source': 'ACCFVA3KZ2EYMYX3', 'row': 551, 'product_title': 'OnePlus Bullets Wireless Z Bass Edition Bluetooth Headset', 'rating': '5', 'summary': 'Fabulous!'}, page_content='review: I loved it..'),\n",
       " Document(metadata={'source': 'B0C33XXS56', 'row': 285, 'product_title': 'Sony WF-1000XM5 Wireless Noise Canceling Earbuds', 'rating': '4', 'summary': 'Amazing noise cancelling'}, page_content='review: These earbuds are outstanding for anyone who wants or needs good noise cancelling. I use them for landscaping and they last all day going property to property. The sound quality is also really good considering the options at this price point. The connection stability does leave some to be desired though. Overall these are excellent for anyone who appreciates good sound quality with amazing noise cancelling.'),\n",
       " Document(metadata={'source': 'ACCFKYE2ARGG67WC', 'row': 499, 'product_title': 'realme Buds 2 Wired Headset', 'rating': '5', 'summary': 'Worth every penny'}, page_content='review: Sound quality is amazing and build quantity is also amazing my brother is also using this ear buds 1 for long time and its performance is still very good so I also ordered ear buds 2 and both are amazing and working up to expectations.'),\n",
       " Document(metadata={'source': 'B0B4MWCFV4', 'row': 141, 'product_title': 'Fitbit Versa 4 Fitness Smartwatch', 'rating': '4', 'summary': \"Great for biking, but still can't read heartrate on tattooed skin.\"}, page_content='review: I have owned a Fitbit Alta, Charge 4, and now this Versa 4.My biggest complaint is that the Versa 4 cannot read my heartrate on my arm that is tattooed. If I want the heartrate monitor to work, I cannot wear my fitbit on the wrist I typically wear a watch on, and that is deeply frustrating. I had the same issue with the Charge 4 and was really hoping this time would be different. (The Alta never had this issue, so I was hoping it was specific to the Charge 4 sensor. Alas!) If you have a tattoo sleeve, beware! And if you know of a fitness watch that works great on tattooed skin, I\\'d love to hear it.However, the Versa 4 has worked much better for tracking my heartrate (on my non-tattooed arm) when I am out on my bike. The Charge 4 heartrate monitor would often stop working while I was actively biking (maybe because of the jostling? How my wrist was positioned?), only working again when I was stopped at a stoplight or at the end of a ride. The Versa 4 monitor does not have this issue! It has been very reliable at tracking my heartrate while I am out on the trail, and I am much happier!I was hesitant to buy the Versa 4 because it is so much larger and bulkier than the other Fitbit models I have used in the past, but I do enjoy the \"Today\\'s Activity\" display that puts so many stats on one screen. There are also a lot of options for clock faces / displays, which I appreciate. It doesn\\'t feel as bulky to wear as I thought it would. The access to more information and displays has made it worth the larger size.My only other complaint is that I wish I could find a better option for more prominently displaying my heartrate zone while I am working out. This is the major reason I have a fitness tracker! I wanted a clock face or a tile that made this information easy to access. I figured out if I tell my fitbit to track my workout, that I can then swipe over to a screen with my heartrate zone visible. On my Charge 4, my clock face displayed this information all the time, and I loved it. I don\\'t love having to click through several menus to get this info on the Versa 4.'),\n",
       " Document(metadata={'source': 'B0DLHTTWVB', 'row': 248, 'product_title': 'Apple MacBook Air 13-inch M3 (2024)', 'rating': '5', 'summary': 'Great'}, page_content='review: The MacBook Air 2024 is an exceptional choice for individuals who engage in remote work and frequent travel. It combines exceptional high-quality and speed performance with a range of intuitive features that facilitate seamless productivity.'),\n",
       " Document(metadata={'source': 'ACCFR3Q77R6RRGAC', 'row': 423, 'product_title': 'OnePlus Bullets Wireless Z Bluetooth Headset', 'rating': '3', 'summary': 'Decent product'}, page_content=\"review: I have used this with a non OnePlus device so take that into consideration when reading this. Just want to mention that if you are not an audiophile you will never notice the difference between AAC and aptx. These earphones only support AAC and SBC.Cons:The bass is very much lacking. The treble at higher volumes sometimes (although rarely) starts tearing up. If you are interested in movies with a lot of explosions and bullets flying around it won't be a very immersive experience. Pros:S...\"),\n",
       " Document(metadata={'source': 'ACCEVQZABYWJHRHF', 'row': 744, 'product_title': 'BoAt BassHeads 100 Wired Headset', 'rating': '4', 'summary': 'Wonderful'}, page_content='review: ONE OF THE BEST HEADSET AT THIS PRICE👌👌GOOD SOUND QUALITY AND BUILD QUALITY IS ALSO AWESOME. BUT BASS IS NOT AT THAT GREAT BUT EVEN GREAT AT THIS PRICE SEGMENT. GO FOR IT GUYS. ALSO IT IS BEST FOR PUBG MOBILE.AWESOME'),\n",
       " Document(metadata={'source': 'B0CHX7R6WJ', 'row': 9, 'product_title': 'Apple Watch SE 2nd Gen 40mm GPS', 'rating': '5', 'summary': 'Apple Watch/fitness tracker'}, page_content='review: I have had this watch for over a year super functional quality to watch is amazing. Very durable. I work out with all my wrist every day and don’t even know it’s on my wrist. Due to how it’s very lightweight and it charges super quick at night it’s charged within probably an hour.'),\n",
       " Document(metadata={'source': 'B0CHX7R6WJ', 'row': 6, 'product_title': 'Apple Watch SE 2nd Gen 40mm GPS', 'rating': '5', 'summary': 'Authentic product'}, page_content='review: I’ve had it for a few months now and it’s easy to set up, affordable and very convenient for me when i’m at work. I love the color and size of it too☺️'),\n",
       " Document(metadata={'source': 'B0B4MWCFV4', 'row': 162, 'product_title': 'Fitbit Versa 4 Fitness Smartwatch', 'rating': '5', 'summary': 'Sleek and light on the wrist'}, page_content='review: I really like the new watch band. The navigation has been tightened up and the transition from one option to the next is very fluid.I’ll be testing it out after the 1st and see how well it holds up while running. So far it’s great…I highly recommend this model in particular (Versa 4) because it’s the latest model from what I’ve owned previously. This model has everything one could wish for in a fitness tracker.I look forward to when they come out with a waterproof model.'),\n",
       " Document(metadata={'source': 'ACCFVWN4PGNTEFGY', 'row': 585, 'product_title': 'realme Buds Q Bluetooth Headset', 'rating': '5', 'summary': 'Just wow!'}, page_content='review: Goof product from realme.I am quite impressed from these'),\n",
       " Document(metadata={'source': 'B0BN95FRW9', 'row': 191, 'product_title': 'Apple iPhone 14 Pro 128GB (Renewed)', 'rating': '4', 'summary': 'Not that bad'}, page_content='review: Excellent and came in good condition.'),\n",
       " Document(metadata={'source': 'ACCEVQZABYWJHRHF', 'row': 743, 'product_title': 'BoAt BassHeads 100 Wired Headset', 'rating': '5', 'summary': 'Just wow!'}, page_content=\"review: I bought 1more and boAt BassHeads 100 headphones together, sound clarity, volume, bass and treble of boAt is much better than 1More. Comfortable ear buds, Zara Hatke design, sleek packaging. You don't wanna listen to music without boAt headphones. Truly price worthy.\"),\n",
       " Document(metadata={'source': 'B0DLHTTWVB', 'row': 217, 'product_title': 'Apple MacBook Air 13-inch M3 (2024)', 'rating': '5', 'summary': 'Great laptop'}, page_content='review: This has been a great laptop for work purposes. It is fast with zoom and to complete work. The camera has been good quality for zooming.'),\n",
       " Document(metadata={'source': 'ACCFSDGXX3S6DVBG', 'row': 668, 'product_title': 'BoAt Airdopes 131 Bluetooth Headset', 'rating': '5', 'summary': 'Highly recommended'}, page_content=\"review: Worth a single penny 👍👍, big thumbs up.I am simply giving 5 star rating, it exceeds my expectations,  those who is thinking to get something in affordable range,this airdopes are made for them only 👍 .I ordered this on first sale , though I wanted to order Black color, but black was out of stock so I have to order this color which looks elegant as well. After using for a day I am writing this, this is worth to buy , don't think too much just go for it, according to price nothing is com...\"),\n",
       " Document(metadata={'source': 'B0BN95FRW9', 'row': 170, 'product_title': 'Apple iPhone 14 Pro 128GB (Renewed)', 'rating': '5', 'summary': 'Like New!'}, page_content='review: TL;DR. I got the iPhone 14 Pro gold 256 gb and it’s working decently! Sorted through the seller list and I think I picked a great one to buy from. Happy with this purchase.Seller Selection:Need to switch to a new phone since my old one has already stopped updating iOS. I was afraid of getting scammed based on some of the reviews, so I sorted through the sellers list and looked through all of their ratings. I went for a slightly more expensive buy from a seller with a better review overall (actually read the reviews and don’t believe the %positive stuff from Amazon, Amazon marks some of the reviews as “Amazon’s fault” and thus do not count them into the overall seller rating, however sometimes the reviews they crossed out are really, the seller’s product problem, which makes the review system kinda sketchy and suspicious.)I got mine from the seller “The Cell Whiz 2” (it has just an average % positive review rate, but I notice that most of the problems associated with it are minor and the seller looks very responsive to the reviews, so I picked it) and, I’m happy with it so far. In fact, I’m writing my review on this phone right now!The phone:It came in a cardboard box with a charger, both wrapped in a little plastic bag. The packaging doesn’t have any foam or other kinds of protection, so I was a bit worried upon receiving it. Fortunately, nothing cracked or seemed broken.The phone itself is so spotless I was afraid of getting my grimy fingers on it! I inspected all over the phone and only found a tiny chipped paint scratch on the frame of one of the camera lens. Honestly, no one would even find out about it. And you can’t even see it after you put a lens protection glass on.Setting up the phone was no issue, I transferred from my physical SIM to an eSIM successfully (though I was a bit nervous during the wait and when I had to click on install cellular again). Apple transferred all my data from my previous iPhone to this one very smoothly. It’s exactly like my old phone, except on a newer model.The battery capacity it came with is 89%. It’s not THE BEST, but it’s really good. I can still use it for a while before I need to change it.Overall, I’m happy with this purchase and hopefully everyone who’s reading this review can get a phone they like <3'),\n",
       " Document(metadata={'source': 'B0C33XXS56', 'row': 288, 'product_title': 'Sony WF-1000XM5 Wireless Noise Canceling Earbuds', 'rating': '5', 'summary': 'Outstanding quality and value'}, page_content=\"review: This is another pair I bought to listen to YouTube videos and not disturb my wife. The other pair is for yard work (mowing, trimming, etc). Both are proving reliable, very comfortable, and providing excellent sound. Yes, they're pricey, but quality doesn't come cheap. I don't believe you can go wrong with these.\"),\n",
       " Document(metadata={'source': 'ACCFHGZFS7GB9CVM', 'row': 389, 'product_title': 'realme Buds Wireless Bluetooth Headset', 'rating': '5', 'summary': 'Wonderful'}, page_content='review: I am giving this review after 14 days of rigorous use.Sound quality 10/10 (better than one plus z)Build quality.    9/10. (slightly lower than one+ z)Bass.               10/ 10 ( better than one+ z)Battery              7/10.  (One+ z is far ahead)All these rating are based on all earphones below 2000( wireless). If u r a corporate person and had to attend a large no. Of calls go for one plus z If u r sound lover person realms buds are a leap aheadPros- real me are great in its own wa...'),\n",
       " Document(metadata={'source': 'B0CHX7R6WJ', 'row': 35, 'product_title': 'Apple Watch SE 2nd Gen 40mm GPS', 'rating': '5', 'summary': 'Love This Watch'}, page_content='review: I purchased this watch to replace my series 4. I have really small wrists so the watch was the same size as my series 4. I do like the color of the band but I only wear the original band for a short time because it does get dirty fast.'),\n",
       " Document(metadata={'source': 'B0CHX7R6WJ', 'row': 10, 'product_title': 'Apple Watch SE 2nd Gen 40mm GPS', 'rating': '5', 'summary': 'Watch Saver'}, page_content='review: Well, my mom was out for a walk when she fell and the watch actually called 911! I didn’t know it would do this!  EMS came and cleaned her wounds up. That God for this watch!!!!'),\n",
       " Document(metadata={'source': 'B0BN95FRW9', 'row': 203, 'product_title': 'Apple iPhone 14 Pro 128GB (Renewed)', 'rating': '5', 'summary': 'iPhone 14 Pro'}, page_content='review: iPhone sin rasguño y nada malo pensé que me lo dieron nuevo completamente me salió a 93% de carga algo muy bueno mucha gente se espera 100% pero no yo la verdad ya con este tengo 2 iPhone 14 Pro este que es blanco y uno que es negro este me gusta más lo recomiendo'),\n",
       " Document(metadata={'source': 'ACCFHGZFS7GB9CVM', 'row': 398, 'product_title': 'realme Buds Wireless Bluetooth Headset', 'rating': '4', 'summary': 'Delightful'}, page_content='review: After using 1 month. 👇👇Sound:- not so clear but not bad also, it is pretty good.Base:- so satisfied need little bit of improvement.Battery:- good🌹Over all good product in this range👉PLUS POINT:- HEIGHTS BASS IN THIS PRICE RANGEMUST BUY'),\n",
       " Document(metadata={'source': 'B01D93Z89W', 'row': 42, 'product_title': 'Canon EOS Rebel T7 DSLR Camera Bundle', 'rating': '5', 'summary': 'Great first DSLR camera!'}, page_content='review: This is the first DSLR I’ve used, so I only have past point and shoots and my phone to compare it to- I’m very impressed! My TA helped me pick out this model/set to start with as I needed a DSLR for my photo class and I was lost as to what to get. I’ve been using this camera and the various inclusions for the past couple of weeks, and it has really aided in improving my photos. There are quite a few things I haven’t used yet (like the filters) but the SD cards, reader, tripods, and bag have all been helpful. In fact, I found the included “Photo4Less” bag to be a little too big for my daily use. It will definitely hold a lot of extra accessories inside of it alongside the camera and kit lens. However, for my purposes, I went ahead and purchased another smaller bag for walking around town/campus with. The included bag would probably be good for traveling though.I found the seller of this bundle, Photo4Less, to be good. I received all my items on my estimated arrival date (fast shipping with prime) and nothing was damaged or not working properly. Overall, if you’re a beginner like me, I think this is a good camera bundle to start with.'),\n",
       " Document(metadata={'source': 'ACCFZGAQJGYCYDCM', 'row': 342, 'product_title': 'BoAt Rockerz 235v2 with ASAP charging Version 5.0 Bluetooth Headset', 'rating': '3', 'summary': 'Nice'}, page_content=\"review: A fine product i would say , well crafted design and good build quality ..  good fit and comfortable to wear ... enough bass to provide u good sound experience .. although not the most premium quality but still considering the price it's well ahead of it .. manages lows and highs well, sound mixing and good listening experience when it comes to music video and others ..the only CON i noticed was the microphone .. i think this device is not built for calling ... sometimes the voice is not eve...\"),\n",
       " Document(metadata={'source': 'ACCFZGAQJGYCYDCM', 'row': 348, 'product_title': 'BoAt Rockerz 235v2 with ASAP charging Version 5.0 Bluetooth Headset', 'rating': '5', 'summary': 'Awesome'}, page_content=\"review: The boat 235v2 is really good it's sounds very clear and also good bass. If you think buy a Bluetooth headset go for It. Just sounds and battery backup is awesome.\"),\n",
       " Document(metadata={'source': 'ACCFHGZFS7GB9CVM', 'row': 361, 'product_title': 'realme Buds Wireless Bluetooth Headset', 'rating': '4', 'summary': 'Good quality product'}, page_content=\"review: PROS: best in budget, with a good bass most loved thing is 🔋 backup. 1hour charge gives minimum 10 ✌️🎧 enjoymentMagnetic attaching helps more to improve battery life more😍CONS:  (1)sec ..delay in sounds in pubg😑 the only disappointment in these, I bought this for pubg streaming but they bit late in sounds  I don't recommend these for pubg player and for gaming it's not worth  writing this after 1week  hope u find these a useful review 😘\"),\n",
       " Document(metadata={'source': 'B0CQ3VXJ3J', 'row': 94, 'product_title': 'Samsung Galaxy Book4 Pro 16-inch Laptop', 'rating': '3', 'summary': \"Attractive, light weight, slow, many apps won't load.\"}, page_content=\"review: Nice machine with a great display, nice keyboard, lower end slow Snapdragon Elite +. Does not include stylus or a place to stow one. Not an upgrade over my current 3 yr old Dell XPS. Battery life not great. Not wifi 7. Not available as 2 in 1. I'll wait a bit.\"),\n",
       " Document(metadata={'source': 'ACCEVQZABYWJHRHF', 'row': 719, 'product_title': 'BoAt BassHeads 100 Wired Headset', 'rating': '4', 'summary': 'Very Good'}, page_content=\"review: lovely one! loved the colour the design the shape the quality is absolutely fine good bass good audio quality I'm satisfied warranty card for 1 year and A small magazine is also in the box.  Go for it worth the Price 😄\"),\n",
       " Document(metadata={'source': 'ACCFSDGXX3S6DVBG', 'row': 698, 'product_title': 'BoAt Airdopes 131 Bluetooth Headset', 'rating': '5', 'summary': 'Just wow!'}, page_content='review: Mind blowing parches. Very nice headset in low budget. Go for it. I think this is the best in this price range. I ordered on 22 August and got it on 23 August. Very fast delivery. Thanks flipkart.'),\n",
       " Document(metadata={'source': 'B0BN95FRW9', 'row': 183, 'product_title': 'Apple iPhone 14 Pro 128GB (Renewed)', 'rating': '5', 'summary': 'Honestly super good quality'}, page_content='review: I was very skeptical to order a refurbished phone on Amazon because I have never ordered outside of my mobile provider before and I saw NIGHTMARE reviews on Walmart’s website for refurbished phones of folks saying they ordered a phone just to find out it had been stolen. But I said okay Amazon is really good with returns god forbid it ends up being messed up or stolen. Nope! Super good quality phone and I got it 12 hours earlier than amazon said I would. Def a great option if you don’t need the absolute newest unused phone but need to upgrade. Got 1 TB IPhone 14 Pro in excellent condition and battery came at 85% capacity and it was unscathed and undamaged. Recommend.'),\n",
       " Document(metadata={'source': 'ACCFZGAQJGYCYDCM', 'row': 329, 'product_title': 'BoAt Rockerz 235v2 with ASAP charging Version 5.0 Bluetooth Headset', 'rating': '5', 'summary': 'Excellent'}, page_content='review: I like It Boat HP Sound Quality is bestm best And Bass Quality is to good And New V2 product is to good & Fast charging is besttt to save charging  timeing....'),\n",
       " Document(metadata={'source': 'ACCFVWN4PGNTEFGY', 'row': 598, 'product_title': 'realme Buds Q Bluetooth Headset', 'rating': '5', 'summary': 'Best in the market!'}, page_content=\"review: Mind blowing purchaseIt's bass is very good & battery backup is super then only one disappointed in this that's when using to talk it didn't respond correctly and it's automatically it off\"),\n",
       " Document(metadata={'source': 'ACCFHGZFS7GB9CVM', 'row': 375, 'product_title': 'realme Buds Wireless Bluetooth Headset', 'rating': '5', 'summary': 'Worth every penny'}, page_content=\"review: Yo guys this product is much super than i have ever experienced and expectations .The bass is so good and the clarity is also is muchu better compared to boatz .if u checking this out to buy there vwill be no regret in buying this . so comfortable to carry and light weight. the magnetic this is so use full and it has a range of bluetooth of over 2 rooms . it's one hell of a product for this price range .. plz consider this if u are a budget .\"),\n",
       " Document(metadata={'source': 'B0CHX7R6WJ', 'row': 2, 'product_title': 'Apple Watch SE 2nd Gen 40mm GPS', 'rating': '5', 'summary': 'Daily watch'}, page_content='review: I bought this watch over a year ago and I do love it. It tracks my activity, I can talk on the phone, text back, it will even find my phone if I lose it! The battery tends to die fairly quick. I have to charge it once a day. The color is pretty and is a very durable watch. All in all, I highly recommend the Apple Watch!'),\n",
       " Document(metadata={'source': 'B0B4MWCFV4', 'row': 168, 'product_title': 'Fitbit Versa 4 Fitness Smartwatch', 'rating': '4', 'summary': \"Don't Buy a Cheap Brand (Like Spade & Co) - Buy a Fit Bit or other recognized brand -\"}, page_content=\"review: I have had two Fit Bits and each lasted almost four years.  I succumbed to the ads and background of Spade & Co and it failed in about 3 months.  Just ordered another Fit Bit Versa 4.  My stupid mistake - don't make the same one.  Fit Bit is very reliable.  I have had two in the last 8-9 years.\"),\n",
       " Document(metadata={'source': 'ACCFVA3KZ2EYMYX3', 'row': 549, 'product_title': 'OnePlus Bullets Wireless Z Bass Edition Bluetooth Headset', 'rating': '5', 'summary': 'Super!'}, page_content='review: Amazing productSound quality super se upper 💓Battery backup A1'),\n",
       " Document(metadata={'source': 'ACCFSKBJYWZKXGCP', 'row': 647, 'product_title': 'U&I Titanic Series - Low Price Bluetooth Neckband Bluetooth Headset', 'rating': '5', 'summary': 'Brilliant'}, page_content='review: This neckband earphone is very good in quality. Easy to use. Very comfortable and design is good. Sound quality is excellent and bass is also nice. Elegant design. According to price product is super.'),\n",
       " Document(metadata={'source': 'ACCFZGAQJGYCYDCM', 'row': 343, 'product_title': 'BoAt Rockerz 235v2 with ASAP charging Version 5.0 Bluetooth Headset', 'rating': '5', 'summary': 'Wonderful'}, page_content='review: Good product very fast delivery (with in 36 hours only) superb color love it'),\n",
       " Document(metadata={'source': 'ACCFHGZFS7GB9CVM', 'row': 369, 'product_title': 'realme Buds Wireless Bluetooth Headset', 'rating': '1', 'summary': 'Did not meet expectations'}, page_content=\"review: I'm a music producer and I find this earphones good but it's not worth the price, you can choose one plus instead or infinity by jbl for crystal clear sound quality, real me buds is loud cause of the driver (11.2) but it's not clear and you'll get a head ache after using it for a while , they say it has good bass but it doesn't , if you want good bass and clear sound of each and every instrument, go for one plus, jbl , infinity, skull candy or sony. Don't but real me buds\"),\n",
       " Document(metadata={'source': 'ACCEVQZABYWJHRHF', 'row': 747, 'product_title': 'BoAt BassHeads 100 Wired Headset', 'rating': '1', 'summary': 'Useless product'}, page_content='review: zero bass. not worth the price ..better headphones for half the price like Flipkarts very own .build quality is ok .. headphones fits good in Ur ears .but important is sound quality which it lacks'),\n",
       " Document(metadata={'source': 'ACCFKYE2ARGG67WC', 'row': 462, 'product_title': 'realme Buds 2 Wired Headset', 'rating': '5', 'summary': 'Classy product'}, page_content='review: outstanding product  best sound, good Bass, clear sound\" good job \"REALME ...👌👌👌'),\n",
       " Document(metadata={'source': 'ACCFHGZFS7GB9CVM', 'row': 372, 'product_title': 'realme Buds Wireless Bluetooth Headset', 'rating': '5', 'summary': 'Brilliant'}, page_content=\"review: Got this free with Realme X2pro, but this product is good enough in its place.1. Sound quality is good2. The rubber material is so soft n comfortable to put it on.3. I love the feature in it, that you don't need to waste your time switching it On or Off. Just detach from magnetic bond and it will b switched On n put it back to magnetic bond n it will switched off.(the best feature I have ever got to use)The only problem is there is no cap at the charging point as it is open always. Weari...\"),\n",
       " Document(metadata={'source': 'B0CQ3VXJ3J', 'row': 107, 'product_title': 'Samsung Galaxy Book4 Pro 16-inch Laptop', 'rating': '1', 'summary': \"Nope, don't do it\"}, page_content='review: I was excited to get this computer, bur since receiving it I have had nothing but problems. Slow does not describe this machine, awkward in trying to work with apps, and to best all, it completely crashed and corrupted all my work. Mind you, this is only after a week of using it. Do Not Purchase This Computer!!'),\n",
       " Document(metadata={'source': 'ACCFZGAQJGYCYDCM', 'row': 331, 'product_title': 'BoAt Rockerz 235v2 with ASAP charging Version 5.0 Bluetooth Headset', 'rating': '4', 'summary': 'Nice product'}, page_content='review: Great product.. I loved it.. As I was using level U.. This product is much more better than that.. Though battery life is just like 8hrs and bass like goosebumps... But when increased bass earplugs starts raddling.. Vibrate feature is awesome..'),\n",
       " Document(metadata={'source': 'ACCFVA3KZ2EYMYX3', 'row': 555, 'product_title': 'OnePlus Bullets Wireless Z Bass Edition Bluetooth Headset', 'rating': '5', 'summary': 'Awesome'}, page_content='review: Best earphone'),\n",
       " Document(metadata={'source': 'B0CQ3VXJ3J', 'row': 85, 'product_title': 'Samsung Galaxy Book4 Pro 16-inch Laptop', 'rating': '5', 'summary': 'Excellent as expected'}, page_content='review: All specs & weight are as announced, weight is 1.56Kg without the charger, touch screen is very responsive same as galaxy tabs, Samsung apps are good additional to windows. Could play shadow of the tomb raider with 1080p high setting at 33 FPS,  Ratchet & Clank rift apart with 720p medium setting, even I played \"Red dead redemption\" at 720p low setting. The issues are: the body is easy to be scratched, I\\'m going to buy a laptop cover, If you want to setup a fresh copy of windows, you have to be expert to bypass the WIFI definition, windows will not recognize the touch pad/keyboard/touchscreen in the start of the setup and you have to backup the drivers came with the original windows, drivers in the Samsung web site were not working for me (I don\\'t know why). After all, I\\'m happy to have this product.'),\n",
       " Document(metadata={'source': 'ACCFKYE2ARGG67WC', 'row': 502, 'product_title': 'realme Buds 2 Wired Headset', 'rating': '5', 'summary': 'Mind-blowing purchase'}, page_content=\"review: First of the design is so nice, the texture of the colour is amazing.. Now came to sound quality..I didn't expect it will be this good!! The bass is perfect for ears .. I really feel enjoyed whenever i listen any songs through this headset.. really satisfied for this product... recommend everyone to buy it and enjoy..Thank you.\"),\n",
       " Document(metadata={'source': 'ACCFZGAQJGYCYDCM', 'row': 355, 'product_title': 'BoAt Rockerz 235v2 with ASAP charging Version 5.0 Bluetooth Headset', 'rating': '5', 'summary': 'Fabulous!'}, page_content='review: It so nice but nickband so tall but otherwise is best headphone call vibraion and fast charging nice product.....'),\n",
       " Document(metadata={'source': 'ACCFSDGXX3S6DVBG', 'row': 684, 'product_title': 'BoAt Airdopes 131 Bluetooth Headset', 'rating': '5', 'summary': 'Fabulous!'}, page_content=\"review: It's nice overall mainly because of the low price. It has pressable button towards the outer part by pressing which one can receive/reject call, play/pause music. The bass is not upto the mark. Call quality is nice. But what else you need for such low cost. Good for those who don't like in-ear silicone earphones.\"),\n",
       " Document(metadata={'source': 'B0DLHTTWVB', 'row': 257, 'product_title': 'Apple MacBook Air 13-inch M3 (2024)', 'rating': '5', 'summary': 'Must buy if you’re a Mac person'}, page_content='review: I’m a Mac girlie and was due for an upgrade. I’ve only ever had MacBook Pros, but getting the Air was a great choice! Super lightweight, sleek, and so fast. Sound quality is great, screen resolution is perfect, overall value can’t be beat (especially since I got it on sale). Honestly, would buy again however I’m not expecting to upgrade for awhile!'),\n",
       " Document(metadata={'source': 'ACCFR3Q77R6RRGAC', 'row': 455, 'product_title': 'OnePlus Bullets Wireless Z Bluetooth Headset', 'rating': '4', 'summary': 'Worth the money'}, page_content='review: One of the finest headset in this prize range .And battery life is one of the greatest thing makes this product worty to buy .and talking about sound quality So one plus the name is enough 👍'),\n",
       " Document(metadata={'source': 'B0DLHTTWVB', 'row': 240, 'product_title': 'Apple MacBook Air 13-inch M3 (2024)', 'rating': '4', 'summary': 'High quality but questionable value and compatibility'}, page_content='review: I\\'ve had this for a month now. I\\'m coming from windows. I also build my own gaming PCs and like to keep up on technology. I\\'m currently using this for grad school. This is my 2 cents on the Apple Air M3.The Good:-Very high quality external hardware and build (all aluminum, very sturdy and aesthetically pleasing.- Highly compact build-Great battery life. I\\'m in grad school now and I\\'ve done 2 hours days without a charge.- Fast and responsive for the type of productivity I\\'m using it for.- \"Just works\" no major crashes or tech issues yetThe Bad:Fingerprint magnet in \"Midnight\" color. Collects smudges and finger prints very easily and visibly.-No Spotify app in the Apple store for MacBook (but is available for iPad and iPhone) I had to side download it off the Spotify website. Strange that Apple does not support this in their own store.- No virtual assistant choices. Google Assistant and Alexa are not available in the Apple store for Mac (but are available for iPad and iPhone). Cannot be officially downloaded either. Your stuck with Siri, which for me is an inferior virtual assistant and not compatible with many things outside of the Apple ecosystem such as Sony noise cancelling headphones ECT.- The M3 with 16GB of ram and 512GB SSD and no dedicated GPU cost as much as much as my Windows gaming laptop from 7 years ago (2017) that had 16GB of ram and 512GB SSD and a powerful GPU. Those specs in 2024 are low/entry level for a premium device. The fact that Apple sells an 8GB 256GB SSD version of this device for as much as it does is really insulting, not future proof, nor anywhere near market value of that hardware. This is especially true if you use demanding software outside of the Apple ecosystem.Apple fans will cry the device does not need as much ram as a non ARM Windows device and thats true, but windows makes ARM laptops now and the year is 2024, a 7 year old laptop should not be competing with this device. It\\'s overpriced and under speced.Conclusion: Overall this is a quality product and I have no regrets about buying it. I think it\\'s good to be proficient in Windows and Mac. I like owning both systems. However the value of this product (and all apple products) is questionable. A Windows Co-pilot Arm device, such as the Microsoft Surface Laptop is likely a better value in everyway unless your deeply invested in Apples Ecosystem.'),\n",
       " Document(metadata={'source': 'ACCFR3Q77R6RRGAC', 'row': 452, 'product_title': 'OnePlus Bullets Wireless Z Bluetooth Headset', 'rating': '5', 'summary': 'Best in the market!'}, page_content='review: Superb quality 👌 bass abd sound quality are also very fine... From my personal review, I like it low latency. Best for pubg and other games.'),\n",
       " Document(metadata={'source': 'B01D93Z89W', 'row': 56, 'product_title': 'Canon EOS Rebel T7 DSLR Camera Bundle', 'rating': '3', 'summary': 'Less than $20 worth of extra \"lenses\".'}, page_content=\"review: So the piece that attracted me to this package versus the other Canon packages on Amazon was the 3 included lenses. I should have known better. It DOES come with the 1 Canon kit lens. The other 2 lenses are XIT brand and the two of them together can be purchased for less than $20. They actually make the pictures worse. Also, just to note, these are not stand alone lenses. They screw onto the front of the lens like a filter would. These are completely not usable for any kind of quality pictures. An average point and shoot camera takes higher quality pictures than you will get through these lenses.If this is your first DSLR, the kit provides a decent value. All of the components are cheap, but will give you an idea if those are things you will use and should replace with better versions.The camera itself is (so far) awesome. The camera alone would have been a 5 star purchase. The package alone would be a 2 star purchase. The way it's listed and pictured is deceptive. Overall, it's worth the $10 over just the camera, but be sure to keep your expectations low.All the included components are as follows:$10.69 xit macro lens xt58wab$8.93 xit telephoto lens xt2x58$19.75 vivitar large gadget bag$22.46 xit tripod xt60trb$4.50 vivitar 4in pocket tripod$9.16 transcend 16gb flash card$16.99 transcend 32gb flash card$8.68 xit remote shutter release$4.93 xit SD/microSD card reader$7.46 pro series digital filter set$3.95 lens cap keeper (stick on)$2.94 xit universal screen protector$3.99 xit digital ultraviolet filter$3.00 vivitar cleaning kit and card wallet$14.95 slave flashTotal accessories: $142.38$449 Canon EOS Rebel T6 Digital SLR Camera Kit with EF-S 18-55mm f/3.5-5.6 IS II Lens (Black)\"),\n",
       " Document(metadata={'source': 'ACCEVQZABYWJHRHF', 'row': 720, 'product_title': 'BoAt BassHeads 100 Wired Headset', 'rating': '5', 'summary': 'Great product'}, page_content=\"review: it's a decent product from boat, decent bass treble is good .if you want to buy a earphone that explodes with bass don't go for this one, but if you want clear punch and drums sound..than you should definitely buy this as its bass doesn't blend with treble and ruin the quality...overall nice product if you'll consider the price also\"),\n",
       " Document(metadata={'source': 'ACCFVA3KZ2EYMYX3', 'row': 539, 'product_title': 'OnePlus Bullets Wireless Z Bass Edition Bluetooth Headset', 'rating': '3', 'summary': 'Just okay'}, page_content='review: Good bluetooth earphones but price was high for middle class music lovers .bass was good for listinining.mic was not clear in running or at bike.battery back up was nice.earphone 100% not fit into ur ears exactly . totally my opinion sound quality and battery backup good .price comparison was too High .'),\n",
       " Document(metadata={'source': 'ACCFZGAQJGYCYDCM', 'row': 353, 'product_title': 'BoAt Rockerz 235v2 with ASAP charging Version 5.0 Bluetooth Headset', 'rating': '5', 'summary': 'Awesome'}, page_content='review: Good quality and good product you have to take you will enjoy 👍😍 I just love it 🔥🔥🔥💞'),\n",
       " Document(metadata={'source': 'ACCFVA3KZ2EYMYX3', 'row': 556, 'product_title': 'OnePlus Bullets Wireless Z Bass Edition Bluetooth Headset', 'rating': '5', 'summary': 'Must buy!'}, page_content='review: Super super head phones.the sound quality is absolutely amazing.and battery life is good.'),\n",
       " Document(metadata={'source': 'B0B4MWCFV4', 'row': 146, 'product_title': 'Fitbit Versa 4 Fitness Smartwatch', 'rating': '5', 'summary': 'My New Versa Watch'}, page_content=\"review: So far, I'm vary pleased with this watch. It looks nice, fits comfortably and does a fine job in tracking my steps, calories burned, heart rate and sleep stages. Also, I'm pleased with how the alerts come to me on this watch. The way it notifies you of a text or incoming call is subtle but not enough not to get your attention. I have had another smart watch from a well known brand before, actually two from the same company. They were really good smart watches too but they almost had too much going on with them, so much capacity to do this and that functionality. It was like wearing a small computer on my wrist. Now, that I'm sure is great for a lot of people but I was looking for something not quite so busy in all it can do. This Versa 4 has done that for me and has done it well! I a m very pleased with this purchase and would of course recommend.\"),\n",
       " Document(metadata={'source': 'B0C33XXS56', 'row': 290, 'product_title': 'Sony WF-1000XM5 Wireless Noise Canceling Earbuds', 'rating': '4', 'summary': 'Good sound, decent fit, tap to pause touchy'}, page_content=\"review: I bought these because of the pause on speaking and the tap to pause. These are important features for me as I am constantly listening to something and frequently have others who want to talk to me.The tap to pause is touchy, after two weeks with these ear buds, I have not mastered the correct tap pressure or spot.The pause on speaking is very good, perhaps too sensitive as it will pause when, for example, clearing your throat.Battery life when using noise cancelling is on the short side.Since these are the only ear buds I have bought with the tap to pause (others that I have had used the 'press a button' on the device) and pause on speaking, I do not know how they compare to others with similar features.Build quality seems to be good, the charge case is not as easy to place the ear buds in as others I have had.\"),\n",
       " Document(metadata={'source': 'ACCFSDGXX3S6DVBG', 'row': 675, 'product_title': 'BoAt Airdopes 131 Bluetooth Headset', 'rating': '1', 'summary': 'Worst experience ever!'}, page_content=\"review: Not at all for bass lover. The music just seems to be soft nor is it loud, there's no loudness at all. According to the price it should've been a bit more worth it building up the bass & for bass lovers there's no bass at all. Giving an honest review from the day of purchase & delivered.\"),\n",
       " Document(metadata={'source': 'B0B4MWCFV4', 'row': 157, 'product_title': 'Fitbit Versa 4 Fitness Smartwatch', 'rating': '5', 'summary': 'Wife loves it like I love mine'}, page_content=\"review: I've had one of these for a couple of years, and my wife wanted one for Christmas.  She tried one of the cheap android fitness watches and didn't like it.  She loves this one for tracking steps and exercise activity.  The only thing that is different is mine originally came with a year of free premium services like oxygen levels, but hers didn't.  Mine did cost more though and hers was on sale, that might be the difference.\"),\n",
       " Document(metadata={'source': 'ACCFZGAQJGYCYDCM', 'row': 315, 'product_title': 'BoAt Rockerz 235v2 with ASAP charging Version 5.0 Bluetooth Headset', 'rating': '5', 'summary': 'Wonderful'}, page_content=\"review: Wowwww it's amezing bluetooth nice look, nice price, nice battery back up, I love always flipkart product's and Flipkart replacement and refund policy, you can return or refund after received a demegzed product\"),\n",
       " Document(metadata={'source': 'B0CQ3VXJ3J', 'row': 118, 'product_title': 'Samsung Galaxy Book4 Pro 16-inch Laptop', 'rating': '1', 'summary': 'Almaya değmez'}, page_content=\"review: I don't understand the comments. According to the price and performance, I think this computer is overrated.\"),\n",
       " Document(metadata={'source': 'B0B4MWCFV4', 'row': 126, 'product_title': 'Fitbit Versa 4 Fitness Smartwatch', 'rating': '5', 'summary': 'Pretty much love'}, page_content=\"review: I had a Samsung Active 2 watch that finally died on me. I thought that watch was pretty awesome, but hated that it had to be charged every other day, so I decided I was going to get something different.. and then I got this watch.. I get about 11 days with gps. Sooo nice!The Versa 4 has me pretty much in love.All of the things that this watch can do is just amazing. I got it to monitor health, track my steps, and routes.. it does so much more. It's missing a few things, but I can live without them.Talking on it was cool for a minute, kinda felt like inspector gadget, but I'd rather just use my phone.. lol.I really wish it was linked to my alarms on my phone.. I got used to being able to hit snooze from my watch. The alarm on my Versa is a very dull vibration that I surprisingly can feel.. and is good at waking me up, but it goes off everyday, even when it's not set to.I think the steps are off a little bit, but aren't they all?!I miss having YouTube Music linked, so I could control what my earbuds played.. but it's ok.*edit* I figured this out and can now utilize the app.All the perks that this watch offer really outweigh the 2 or 3 things it doesn't do.The band is super soft, and doesn't irritate my skin at all, which had me concerned, because I have sensitive skin, and seen that some people had issues.*edit* after several months of wear I did start getting a red, raised, itchy rash. I ended up switching out the band and the rash has since resolved.It was super easy to add the Fitbit app onto my Samsung phone and get everything set up.I decided to try the premium for the free 6 months, and I'm pretty sure I'll keep it.. I like all the extra stats that are available, and $79 a year isn't bad. I mean, I pay $13.99 a month for no commercials on YouTube, so.. there's that.*edit* I did decide to keep premium and am enjoying the benefits.When you get everything all set up through your Google account you're offered a 2 year warranty on your watch for $29.99 that covers all sorts of stuff.. enter in the serial number and it's done.Great color, stays synched, nice big screen that I can see even in the brightest light, and it does everything it's supposed to.*edit* I do have issues from time to time with my watch syncing to my phone and will need to restart my phone for it to happen. It could be that I have an older model phone, or it could be the watch, but it is a very easy fix. I had to contact support (super fast, very friendly) and they walked me through this process the 1st time.Overall, this watch was a good price, lots of perks, helps me stay motivated, and I really like everything it keeps track of for me.\"),\n",
       " Document(metadata={'source': 'ACCFSKBJYWZKXGCP', 'row': 631, 'product_title': 'U&I Titanic Series - Low Price Bluetooth Neckband Bluetooth Headset', 'rating': '4', 'summary': 'Worth the money'}, page_content='review: Pros-1. Good enough BASS.2. Battery backup is good, can last 1-2 days with moderate uses.3. Can pair 2 Phone simultaneously.4. Nice disign and buttons placement.Cons-1. When you switch it on it says Welcome....... In full volume.2. While incoming call it reads callers mob No. that too in full volume, thats irritating.'),\n",
       " Document(metadata={'source': 'ACCFHGZFS7GB9CVM', 'row': 385, 'product_title': 'realme Buds Wireless Bluetooth Headset', 'rating': '5', 'summary': 'Terrific'}, page_content='review: Got today only, one day prior, very good Flipkart and ekart. I m movie n music lover, so i search and compair too many earphones nd now i chosen realmi buds About buds Design is very great.Sound quality is much good but i think wired ear phone much better experience from this. No such deep sound quality i get from this bud, but its decent. Bass quality depends on phones equaliser, i have my realmi 2 pro so that i can hear good bass quality from that.Fitting in my ear also comfortable.Co...'),\n",
       " Document(metadata={'source': 'ACCFHGZFS7GB9CVM', 'row': 370, 'product_title': 'realme Buds Wireless Bluetooth Headset', 'rating': '5', 'summary': 'Brilliant'}, page_content='review: very nice product and best sound quality very fast delivery because i ordered yesterday and delivery in next day afternoon nice design good bass quality nice packaging clear voice quality better than boat 255f rockers'),\n",
       " Document(metadata={'source': 'B0DLHTTWVB', 'row': 242, 'product_title': 'Apple MacBook Air 13-inch M3 (2024)', 'rating': '5', 'summary': 'Excellent As Always!'}, page_content='review: Great machine, as always very fast and reliable for just about any task. Highly recommend to anyone looking for a new laptop.'),\n",
       " Document(metadata={'source': 'B0B4MWCFV4', 'row': 154, 'product_title': 'Fitbit Versa 4 Fitness Smartwatch', 'rating': '4', 'summary': 'Not same as Versa 3 Texts not shown easily'}, page_content='review: Be aware Google is getting rid of everything Fitbit and wants to sell their own branded fitness devices instead. They took some features with them. My husband especially liked previous Versa 3 feature of seeing texts on the watch screen automatically, especially when driving and exercising and navigating Spotify from watch. App functionality has been taken away. He also says battery life is shorter on 4 than 3.  RIP Fitbit, thanks for the many years of making this technology usable by the masses.Edit - He searched around online and changed some settings and now he can see text messages immediately if he turns his wrist.'),\n",
       " Document(metadata={'source': 'ACCFKYE2ARGG67WC', 'row': 473, 'product_title': 'realme Buds 2 Wired Headset', 'rating': '5', 'summary': 'Great product'}, page_content='review: Sound quality is really good... Better than boat bass 200,225.. i have used many earphones like JBL , Skullcandy,boat,bout,leaf,bose,sony etc.. but i fell this is also good as leaf bolt ...  I love it😍..'),\n",
       " Document(metadata={'source': 'B0CQ3VXJ3J', 'row': 113, 'product_title': 'Samsung Galaxy Book4 Pro 16-inch Laptop', 'rating': '1', 'summary': 'Read Reddit reviews prior to purchase; Screen spontaneously cracks with no damage'}, page_content='review: This computer was great in screen quality, but the design is faulty. Multiple redditers have dealt with the same issue of the glass breaking spontaneously on the monitor.  Dealing with Samsung Care+ was even more of a nightmare as they are nearly impossible to contact or initiate a repair'),\n",
       " Document(metadata={'source': 'B0C33XXS56', 'row': 303, 'product_title': 'Sony WF-1000XM5 Wireless Noise Canceling Earbuds', 'rating': '1', 'summary': 'Complete garbage for the price ZERO stars'}, page_content=\"review: TLDR: These are the worst sounding earbuds/headphones I've ever heard in my life. The application is trash, the touch feature is finicky and the noise cancelling is intermittent. I ended up buying the $60 Soundcore A40's and they are better in every single way.  Save your money, do not buy these Sony earbuds!!!!! I've never bought something so disappointing in all my life. I've never left such a negative review in all my life. This may all seem overly dramatic, but it's all the unvarnished truth, they are really that bad.I read the reviews, from what I can only now imagine were kickback scam review sites, and was super excited for these to arrive.These were my first wireless earbuds. I have some wireless headphones from Sennheiser that I love, but otherwise I use wired stuff for the most part. I am no audiophile, but my ears are fully functional so I can definitely tell the difference between headphone brands and models, I just don't really care about the differences.When I put these in and started a song, I laughed. I couldn't believe how trashy the sound was. In all my life I've never heard worse. Even $5 wired earbuds sound better (and the Soundcore A40's are miles ahead of these). After tweaking the EQ settings a bunch and trying my darndest to give these a fair shake, I was able to get them to a somewhat tolerable state, but wow they are still bad. I still have to chuckle writing this review how a product of this price could sound so awful.Speaking of messing with the EQ... I had to use their application, which I guess isn't uncommon with wireless earbuds. From the start it was a mess signing up, which it forces you to do (I am a 22 year professional computer tech veteran, the app was having all kinds of quirky issues).I kept getting repetitive prompts to set up voice command, which I didn't want to do and kept telling it no. It wouldn't let me pair multiple devices, so when I go in to the app and click on the text implying the capability, it pops up a window to tell me to go somewhere else in the app (which is poorly worded WHERE exactly) instead of just taking me there. Once I got it set up and had two devices paired, it requires you to USE THE APP to switch between them. My Sennheiser and my Soundcores both link to more than one device, and if one barges in audio wise, it pauses what you are doing on the other.The noise canceling seems to cut in and out, it's super obvious when the noise canceling is on as it makes an annoying sound, which I've not noticed from other noise canceling devices. If you turn off noise canceling, the sound quality gets even worse. I didn't think that as possible, but yet they managed.The touch capability is poorly executed. It does not register touches correctly. But I will say they have a nifty feature of pausing whatever you are listening to when you remove an earbud, which is nice.They are comfortable and the materials are nice.In the end I bought the Soundcore A40's and love everything about them. If you've stuck with this review this long, I can't stress enough how complete and utter trash these Sony earbuds are. I'm ashamed to share how much tech I buy from Amazon in a year and I've never been so disappointed with any tech purchase in my entire life. The saddest part is I didn't even spend my own money, so it's not like I'm bitter about a $300 purchase. Work paid for these, but even with free money this purchase made me mad over their audacity to release something so awful and put a $300 price tag on it.\"),\n",
       " Document(metadata={'source': 'B0CHX7R6WJ', 'row': 39, 'product_title': 'Apple Watch SE 2nd Gen 40mm GPS', 'rating': '5', 'summary': 'Nice'}, page_content=\"review: Great watch for the money. Goes with most of wife's outfits and she appreciates the fitness tracker.\"),\n",
       " Document(metadata={'source': 'B0DLHTTWVB', 'row': 220, 'product_title': 'Apple MacBook Air 13-inch M3 (2024)', 'rating': '4', 'summary': \"Beautiful machine, steep learning curve if you've never had a Mac\"}, page_content=\"review: When my beloved iPad Pro started rejecting its Smart Keyboard, I started looking for a replacement device - after replacing the Smart Keyboard. I did a lot of research and decided that a MacBook Air might suit my needs better since the keyboard for the iPad Pro was the source of my problems with it. I thought since the MacBook Air is in the Apple family, and since I also have an iPhone,  that the MacBook Air would work seamlessly and synch up with both the other Apple devices with no problems. Silly, silly me.The adjustment has been great because I have not used an actual laptop in years and have never used a Mac machine of any kind. I have read that it may take a couple of months to adjust so I am really trying to love it.Not being a tech person, I thought it might be helpful to others who are considering this purchase to share my thoughts.What I like: The MacBook Air is very thin and beautiful. (Thinner is always better, right?) The action of the keyboard is stellar - so smooth! - and the resolution of the screen is sharp and clear. I am able to share pictures and videos across all three Apple devices, which is why I chose the MacBook. The battery lasts for days, which is super impressive.What I don't like: The devices do not synch up as seamlessly as I thought they would. I am sure it is due to my inexperience with Mac laptops, but I would have thought it would all have been automatic with entry of my Apple ID and password. For me, the learning curve seems fairly steep, but it is because I haven't used a laptop of any kind in years (I've used only my iPad Pro) and have never used a MacBook at all.I am already happy with the purchase since the keyboard doesn't keep disconnecting like on my iPad Pro, making it necessary to utter profanities and throw the keyboard in the floor. (Not that I've ever done either of those things.) So I think it is going to be a good fit for me once I adjust to the fact that it is a laptop and not an Ipad and stop touching the screen!\"),\n",
       " Document(metadata={'source': 'ACCFZGAQJGYCYDCM', 'row': 317, 'product_title': 'BoAt Rockerz 235v2 with ASAP charging Version 5.0 Bluetooth Headset', 'rating': '5', 'summary': 'Terrific purchase'}, page_content=\"review: For the first time, I am posting a review, just because the product compelled me to do so. Icouldn't find a single aspect missed or mis-handled by Boat. Well this is called, quality engineering. Well, some people say Boat enhances bass and thus compensates with clarity, but I would give my neutral and true feedbackBass : 10/10Clarity : 9/10Comfort ease n looks : 15/10Features :10/10The best buy from flipkart yet..\"),\n",
       " Document(metadata={'source': 'B01D93Z89W', 'row': 52, 'product_title': 'Canon EOS Rebel T7 DSLR Camera Bundle', 'rating': '4', 'summary': 'Camera bag to small for camera and accessories'}, page_content='review: Returning the photography after many years, this camera seems to be an awesome way to start. The only drawback in my opinion is the camera bag is too small for the camera and the accessories that come with in this bundle.'),\n",
       " Document(metadata={'source': 'ACCFSDGXX3S6DVBG', 'row': 663, 'product_title': 'BoAt Airdopes 131 Bluetooth Headset', 'rating': '5', 'summary': 'Worth every penny'}, page_content='review: This price segment this is pretty good and love this boat product and sound quality is average bad battery backup is super I love this airdops'),\n",
       " Document(metadata={'source': 'B0CHX7R6WJ', 'row': 12, 'product_title': 'Apple Watch SE 2nd Gen 40mm GPS', 'rating': '5', 'summary': 'Apple Watch accessories'}, page_content='review: Color is nice and great fit'),\n",
       " Document(metadata={'source': 'ACCFVWN4PGNTEFGY', 'row': 597, 'product_title': 'realme Buds Q Bluetooth Headset', 'rating': '4', 'summary': 'Good quality product'}, page_content='review: Good prodect nice ❣️'),\n",
       " Document(metadata={'source': 'ACCFVWN4PGNTEFGY', 'row': 578, 'product_title': 'realme Buds Q Bluetooth Headset', 'rating': '5', 'summary': 'Worth every penny'}, page_content='review: Amazing 👏'),\n",
       " Document(metadata={'source': 'ACCFSKBJYWZKXGCP', 'row': 634, 'product_title': 'U&I Titanic Series - Low Price Bluetooth Neckband Bluetooth Headset', 'rating': '5', 'summary': 'Mind-blowing purchase'}, page_content=\"review: Sound quality is really good. Amazing looks very cool neckband. Bass is super good. I'm really very very happy with this earphones wanted this type of earphones from so long now i got it..\"),\n",
       " Document(metadata={'source': 'B0DLHTTWVB', 'row': 210, 'product_title': 'Apple MacBook Air 13-inch M3 (2024)', 'rating': '5', 'summary': \"Absolutely Amazing and one of the greatest laptops I've ever owned\"}, page_content=\"review: If any of you have ever used a windows laptop you know how it can be clunky at times, it can feel warm or even over heat, and sometimes the battery life is awful. This laptop does the opposite of all of that.I've owned this laptop for a month now. I've never once even felt that it was warm even when I was playing games. Everything on this laptop feels smooth and not once has this laptop blue screened, randomly shut down, or any applications crashed.If you want a smooth fast laptop with absolutely amazing battery life that never gets hot or even warm? This is the laptop and I'm extremely happy I bought this. It is worth every dollar.\"),\n",
       " Document(metadata={'source': 'B0CHX7R6WJ', 'row': 29, 'product_title': 'Apple Watch SE 2nd Gen 40mm GPS', 'rating': '5', 'summary': 'Love it'}, page_content='review: I wasn’t really a watch guy, or at least I wasn’t until recently. This watch has changed my life. It offers so many features that I can’t even begin to list them all. I’ve said this before, but it’s truly amazing. If you work out, run errands, use Apple Pay, or just want a convenient way to keep track of your time, this watch is for you. I highly recommend it. You won’t regret this purchase.'),\n",
       " Document(metadata={'source': 'ACCFR3Q77R6RRGAC', 'row': 454, 'product_title': 'OnePlus Bullets Wireless Z Bluetooth Headset', 'rating': '5', 'summary': 'Super!'}, page_content='review: Z is not for bassheads but for those who want crystal clear sound and no muddiness at all.Mid-tones: 10/10High-tones: 10/10Bass: 7/10 Perfect switching between devices and 20 hours battery backup.And breakneck fast charging Speed Bass is there but not thumpy bass so songs like BELIEVER  may not sound good.But watching movies and stuff on this one is so terrific and enjoyable so 10/10 for that.For bass lovers oppo enco m31 would be a better choice cause it has 2 modes balanced mode and...'),\n",
       " Document(metadata={'source': 'ACCFR3Q77R6RRGAC', 'row': 434, 'product_title': 'OnePlus Bullets Wireless Z Bluetooth Headset', 'rating': '5', 'summary': 'Terrific'}, page_content='review: Pros:1. Magnetic switch is fabulous. Switch over time is three seconds actually.. fantastic.2. Battery is unmatchable. 20, hours literally.. far ahead than its competitors.3. Neckband automatically switches off when not in use.. 4 Build quality is good with an attractive OnePlus engraving.5. Calling quality is excellent. No disturbance on the other side of call. 6. Good bluetooth range.Cons1. Should have provided with a case.2. To compete with Sony WI series, vibration was needed....'),\n",
       " Document(metadata={'source': 'ACCFVWN4PGNTEFGY', 'row': 586, 'product_title': 'realme Buds Q Bluetooth Headset', 'rating': '1', 'summary': 'Worthless'}, page_content='review: In one hour calling battery reduces from 100% to 10%Never ever buy this product'),\n",
       " Document(metadata={'source': 'B0DLHTTWVB', 'row': 214, 'product_title': 'Apple MacBook Air 13-inch M3 (2024)', 'rating': '5', 'summary': 'My MAC computer'}, page_content='review: First time using an apple computer. I love it. SIRI is a very helpful option. The functionality, screen quality, color and sound are exceptional. I guess technical  skills and adaptability are a plus. The price  is very reasonable, for the quality.  Less expensive than my IPhone.'),\n",
       " Document(metadata={'source': 'ACCEVQZABYWJHRHF', 'row': 748, 'product_title': 'BoAt BassHeads 100 Wired Headset', 'rating': '5', 'summary': 'Terrific'}, page_content=\"review: First of thnq too flipkart for Quick & fast service & it's sound quality is good , design awesome , & this price segment that earphone is pretty nice worth of money\"),\n",
       " Document(metadata={'source': 'B0BN95FRW9', 'row': 186, 'product_title': 'Apple iPhone 14 Pro 128GB (Renewed)', 'rating': '4', 'summary': 'Incredible conditions phone, wrong charging cable.'}, page_content='review: I bought the iPhone 14 Pro and it came in incredible conditions, just how i expected to be because i selected on excellent conditions. Eveything of the phone its perfect. But the cable that gave it to me with this phone was USB-C to USB-C and this phone use Lightning cable so i was little upset for this.'),\n",
       " Document(metadata={'source': 'B0C33XXS56', 'row': 302, 'product_title': 'Sony WF-1000XM5 Wireless Noise Canceling Earbuds', 'rating': '3', 'summary': \"Decent, had I not already had the QC Earbuds II's\"}, page_content='review: Purchased the QC II\\'s about a week ago (& though happy), all the hype around the WF-1000XM5 piqued my curiosity. With the Bose, the noise cancellation has been (as expected) unparalleled, almost to the point of being downright dangerous (can\\'t hear a thing when these things are on). In addition; without any tweaking, highs/mids & bass have been outstanding across the board with pretty much any genre in my eclectic playlist.Though I\\'m an Android user, I\\'ve been using (until they were recently stolen), the AirPods Pro (1st gen). Not the most comfortable nor best fitting (tendency for randomly popping out during a workout + having to frequently re-twist/screw them into your ear canal every so often) & obvious severe limitations with customization unless you\\'re paired w/ another Apple product, but I had picked them up for a great price & they did their job. This being said, if anyone was unhappy with the fit/seal of the AirPods Pro, then the fit of WF-1000XM5 are going to drive you bonkers.The finish of the earbuds are a beautiful piano black, but removing from the case (which is a challenge) is also a bit confusing of \"how do I put this thing into my ear?\" I felt like I was trying to cram a rock or marble into my ear & even when it was positioned correctly, never felt as if they were secure (always felt & looked like they were on the verge of popping out). Yes, there is noise cancellation, but there was never a seal like the Bose (which may be a good thing for some), so you can still pick up ambient sound to some degree (vs being in a virtual sensory deprivation tank w/ the Bose). Bose, however, did an excellent job w/ the fit directed towards the ear, where the bud literally slides/pops/seals into place with nothing more than a slight nudge (as if it was custom designed for your ear) vs Sony\\'s design, which felt as if actually fitting comfortably in an ear (or just \"fitting in an ear\") was an afterthought.Sound-wise, the highs/mids weren\\'t as crisp as the Bose & the bass was nearly non-existent. I tested w/ the same playlist, with Rock, Rap, Hawaiian, 80\\'s R&B, 90\\'s, etc... & the Sony\\'s (unlike the Bose, particularly w/ some nostalgic bangers from my H.S. days & earlier), did not make the hairs on the back of my neck stand up.Outside of the less than stellar performance of the buds (as well as the extremely challenging fit), the design of the case itself (which is deceivingly smaller than the Bose) is also very slippery (a cover/skin, assuming available, is an absolute must), particularly with the buds themselves being nearly identical in size (the Sony\\'s having a much larger overall mass vs the Bose / check out my side-by-side pics comparison). Again, smaller case, beautiful design/finish, but where it matters the most (fit/sound), these pale in comparison to the QC II\\'s...'),\n",
       " Document(metadata={'source': 'ACCFSDGXX3S6DVBG', 'row': 674, 'product_title': 'BoAt Airdopes 131 Bluetooth Headset', 'rating': '4', 'summary': 'Wonderful'}, page_content='review: Thank you flipkart for the fastest delivery got this airdopes delivered within 24 hrs ....  I have been fan of boat from past 3 years and I have been using boat rockerz bluetooth earphones and then I ordered this one amazing one in this price point ...Waiting for the another sale so that I can order one more ....Thumbs Up👍Must buy product ❤️'),\n",
       " Document(metadata={'source': 'ACCFHGZFS7GB9CVM', 'row': 406, 'product_title': 'realme Buds Wireless Bluetooth Headset', 'rating': '5', 'summary': 'Worth every penny'}, page_content='review: Lovely colour and premium looking and connectivity is awesome and impressive better than 3k-4k rs headphones    Trust without and double thought go for it'),\n",
       " Document(metadata={'source': 'B0CQ3VXJ3J', 'row': 79, 'product_title': 'Samsung Galaxy Book4 Pro 16-inch Laptop', 'rating': '4', 'summary': 'Pretty good hardware, bad linux support'}, page_content=\"review: I'm going to be returning it mainly because it is poorly supported on Linux. Webcam and speakers don't work out of the box. If that doesn't apply to you, then I could still very much recommend this laptop (especially on sale, I got a few hundred off).The hardware is very nice. The screen is pretty and I'm just totally spoiled on smooth high refresh rates. Battery life is acceptable, though still doesn't really match Apple silicon. There's an extra M.2 slot inside, which is actually really nice. If you need more storage, don't bother buying the overpriced 1 TB upgrade. Just buy any M.2 SSD you want and slap it in. Speakers are not quite as nice and thumpy as those of a Macbook Pro, but I mean who is really out here trying to get a high quality media experience on laptop speakers.\"),\n",
       " Document(metadata={'source': 'ACCFR3Q77R6RRGAC', 'row': 421, 'product_title': 'OnePlus Bullets Wireless Z Bluetooth Headset', 'rating': '5', 'summary': 'Highly recommended'}, page_content='review: Product is superbbb... Really  frds... Gaming sounds is also good .. pubg games sounds is clear... Compare two to another product .. it is really awesome.  I really love it is a genuine review .  I hope you are also like this product who is waiting for the games music ,video , call, it is the very very very good and also the billied quality is very good and also the battery charging is very good is take 10 minutes time but he charges in 10 minutes time and also the product will be used for 10...'),\n",
       " Document(metadata={'source': 'ACCFVWN4PGNTEFGY', 'row': 568, 'product_title': 'realme Buds Q Bluetooth Headset', 'rating': '5', 'summary': 'Classy product'}, page_content='review: Bass is not that much good . But the quality of vocals and loudness is absolutely fabulous .Although i face some connectivity problems with the left bud sometimes but overall a good purchase .pretty much much happy with my decision'),\n",
       " Document(metadata={'source': 'B01D93Z89W', 'row': 47, 'product_title': 'Canon EOS Rebel T7 DSLR Camera Bundle', 'rating': '5', 'summary': 'Stay on Point'}, page_content='review: I needed a reliable camera for my newest project, but my budget was tight. Gathered a few opinions, did some minimal research and happened upon this gem. Its size and ease of use, is only challenged by the many options for capturing an image exactly how you want it to be presented. I have to start setting regular down time periods because snapping photos can get addictive real fast and become borderline annoying to my family members😂'),\n",
       " Document(metadata={'source': 'ACCFVA3KZ2EYMYX3', 'row': 550, 'product_title': 'OnePlus Bullets Wireless Z Bass Edition Bluetooth Headset', 'rating': '5', 'summary': 'Excellent'}, page_content='review: OsM Baas .....I Have Been Using for 30 Days.....I always sleep around the night in my neck....No Defect No Damage.....Battery Backup 2 Days.....Charged in 15-20 mins....Magnetic Buds.....Charging Light (Red)After Charged Light (White)Premium Quality.....Noise Cancellation....'),\n",
       " Document(metadata={'source': 'ACCEVQZABYWJHRHF', 'row': 738, 'product_title': 'BoAt BassHeads 100 Wired Headset', 'rating': '5', 'summary': 'Excellent'}, page_content='review: Such a nice product  😊 and the sound quality  is good and bass is nice.And the  design is so beautiful 😎'),\n",
       " Document(metadata={'source': 'B0BN95FRW9', 'row': 189, 'product_title': 'Apple iPhone 14 Pro 128GB (Renewed)', 'rating': '4', 'summary': 'Charging port was dirty/plugged'}, page_content=\"review: I have bought Amazon Renewed phones 5-6 times now and this was the only one I had a problem with. Works great other than the charging port was dirty and plugged and wouldn't hold a charge. You get what you get when you buy Renewed, but this port probably should have been inspected/caught.We were able to carefully clean it out and it’s fine now, just lucked out on this one.\"),\n",
       " Document(metadata={'source': 'B0B4MWCFV4', 'row': 129, 'product_title': 'Fitbit Versa 4 Fitness Smartwatch', 'rating': '3', 'summary': 'Overall good excecpt the heart rate tracker - which is important'}, page_content='review: If someone asked me whether I like this watch or not, I would say that I like it. It is simple and the interface is decent. I do not want a watch that attempts to replace my phone, but rather one that complements it. I think that the Fitbit Versa is a good choice for this. It tells me notifications, tracks sensor telemetry, tracks my physical state, and has decent battery life. These are things that my phone cannot easily do.Other smart watches such as the Samsung Galaxy Watch do too much. I don\\'t really care that I can reply to texts, browse the web, or essentially replace my phone. I always have my phone on or near me. If I am too busy to reply on my phone then I also wouldn\\'t reply on my watch, an only worse experience because they try to cram a full QWERTY keyboard on it.I bought the Fitbit Versa 4 because one of my requirements is that the watch I use has Google Pay on it. It does not at release, but I\\'m fine with it coming later as it is not an immediate requirement. I also assumed that the fitness tracking on Fitbit would be good because Fitbit is basically the oldest consumer tracker company I know of, so I guessed it probably works well.Comfort - 9/10The strap that it came with is quite comfortable. I do not wear watches, primarily because the ones I have tried were not very comfortable.  This watch and strap is pretty good. I\\'ve only had one day tuning the tightness and position where it was uncomfortable and that was my fault as it was too tight. I also like that it is small and light. I mostly forget it is there, and am comfortable sleeping it with.Update Nov. 5th 2022: After about a month of wearing it almost 24/7 I have some irritation. Also if I sleep with it and put weight upon the watch band (the watch face going down in to the bed) I will wake up with a lot of irritation.Interface  - 7/10The interface is mostly intuitive. It is not that clunky as some smart watches I have seen in the past. The main thing I do not like and I didn\\'t quite get at first was that the apps list is found by pressing the button. I didn\\'t know how to use the alarm the first night because of this. But overall it works. It is mostly responsive, but sometimes not if it is rendering many things in the interface. I can forgive this as it is not a super powerful watch. I am happy with this.Battery life- 8/10One of the primary things that I want in a smart watch is a longish battery life. The more general smart watches\\' battery life is not that great. This one lasts about 3 days with the always on display turned on, which I am happy with. I will try it with the always on display off to see how it lasts. With sleep mode on it drains about 10% battery over 8 hours.Update Nov. 5th 2022: With display not on always-on, then it lasts about 7-9 days depending on how much I exercise.Sleep Tracking - 10/10I am quite impressed with the sleep tracking. I don\\'t have to tell it anything. It just knows that I am sleeping and tracks it. Even random naps that I take in the evening. I do not know the times I fall asleep, but it is always on the exact minute I wake up. Good job on this, and I quite like it. As for the oxygen saturation tracking, I have nothing to compare it against so who knows, it could be made up for all I know.Heart rate - 3/10Oof, this is not good and I am quite disappointed with. During the day at work and home it seems to be fine. This is good for capturing my resting heart rate which I am interested in. But during workouts it is basically useless. I have worked out 3 times with it since I got it, and it is just wildly inaccurate. The only thing it is good for is using the workout timer to count my pulse manually. While doing some spinning in the gym I consistently measure my pulse at 170-180 BPM, but this thing is measuring as low as 90 BPM to 160 BPM, usually ranging in 130-150. I can forgive being off by 10 or so BPM, but this is just wild. Once my heart rate goes about 140 or 150 it just becomes useless. It will vary by 10 BPM each measurement, vibrate warning my heart rate is not in \"the zone.\" Well that sucks. I bought this thing specifically so that I could track my workout, hoping because Fitbit is a well known brand that it would do this specific thing well, and it does not.Other -I like the alarm, but I think all watches do something like that. I use the weather occasionally, and the timer is fine. I would prefer that it sets the timer, and allows me to actually start it rather than automatically starting when I lock-in a time, but that a minor gripe. The phone interface is good, and I think that it summarizes the telemetry pretty well. I also like the default watchface, and have not changed it.Update Nov. 5th 2022: I did not realize this before, but the alarm only alarms for like 20 or 30 seconds before turning off. This is fine some times, but other times I need way more effort to wake up. I have no seen a way to configure this. I would prefer that it alarms until I turn it off.ConclusionIf I can find a smart watch that is similar size, as I do like that this one is small and light, I may replace it. Mainly because of the heart rate tracking. But I am very impressed with the sleep tracking, and i like the battery life and comfort so I am going to stick with it for now. I hope that heart rate tracking can be fixed with a software update, because I do want to like this watch.'),\n",
       " Document(metadata={'source': 'ACCFVWN4PGNTEFGY', 'row': 577, 'product_title': 'realme Buds Q Bluetooth Headset', 'rating': '4', 'summary': 'Wonderful'}, page_content='review: Awsm'),\n",
       " Document(metadata={'source': 'B0CQ3VXJ3J', 'row': 72, 'product_title': 'Samsung Galaxy Book4 Pro 16-inch Laptop', 'rating': '1', 'summary': 'Computer is dead after two months and there are no repair options from Samsung'}, page_content='review: I bought a Samsung laptop because I stupidly thought it would be more reliable and have better service than a Dell. The network has stopped working, Samsung tech-support is completely worthless, my options are: (1) send it in for repair with a two week turnaround time or (2) travel to Texas or California. Of course they know that nobody can be without a computer for two weeks so there you go, the warranty is as worthless as ****. I’m sticking with iPhones and never again by a Samsung product.'),\n",
       " Document(metadata={'source': 'B0C33XXS56', 'row': 271, 'product_title': 'Sony WF-1000XM5 Wireless Noise Canceling Earbuds', 'rating': '4', 'summary': 'Surprisingly efficient quality buds once I equipped my old silicone tips.'}, page_content=\"review: Edit 01/19/24Short and sweet-I use buds just about everyday.I liked the pixel buds more, and is why my xm4's will not accept a charge or turn on because after getting the pixel buds, I never used the XM4's again.We're here for XM5 though, so please excuse the rant.1st Sony customer service, second to none including Google who used to be pretty good(IMO)(pre-'so-called'pandemic).2nd -Stop right now and take a picture of bottom of XM5 case & package it came in(identifying Numbers). If u ever have issue you will need.3rd & final what you read for---➡️❤️ My original review is below and still valid but after cleaning and adjusting tips, I'm happy to report I haven't had the 'connect from pocket problem'. Changing the tips made a big diff, but they're not near as secure and comfortable as pixel buds pro for my everyday use. That bring said, the pass through, pass thru blend, etc are the best hands down. Their competition isn't even close for this category(IMO_of_course).The only thing I find myself having to adjust often. They want to sit halfway in my ear, instead of locked into place. Many times when I go to adjust, I hit pause, which could be disabled in all fairness. I still use these as my everyday buds though, and are about to try more tips when I can find the time. They are superior in sound and especially the noise cancellation/passthrough/blend feature. It's actually amazing how good they are in all honesty. (If you don't like foam tips, get some silicone because these only come with the foam style.) (The tips are the same though as any other set.)I just wanted to come back and follow up.They deserve five stars.⭐⭐⭐⭐⭐. I have to leave the one star off but if I could I'd rate them 4.7-4.8, so sorry it's not five stars for a pretty solid product.I hope this can help someone, and give yourself a day or two once getting to be able to see the difference, since they have some pretty solid picks out there. Thanks, & may the good Lord bless.❤️I had the 3rd & 4th Gen earbuds, so upon getting these, I was wondering did I make the right choice, coming from pixel buds pro? I'm happy to report, that after changing the tips to some older silicone traditional Sony tips, they surprised me how nice they were to use. I also was happy about the longer lasting battery, and quality passthrough experience then what I had gotten used to. All in all, these are pleasantly nice once I put the silicone ear tips on. They fit perfect now and have my recommendation. Edit- I've had a little time with them, and the couple things I don't care for so far, is Amazon music service; I disabled nearby devices, because every time I connect buds after accepting update, they offer a service to be ready to play music with a tap. It's good if that's what you want, but not for me at the time. Now the other issue is actually an issue that has me really concerned whether I want to use them long-term. The right ear bud every time I look is connected in the case/paired to my phone which is a dealbreaker if I can't seem to correct. I'm sorry to report this because it's something that matters a lot to me and a reason I would return to the pixel buds pro. Anyway the sound and noise cancellation is second to none , and I can honestly say, they close the pixel buds pro out of the water.  This is the reason I still only subtracted one star for a five star product. Thank you for reaching and sharing your opinion to better help others make their decision.\"),\n",
       " Document(metadata={'source': 'ACCEVQZABYWJHRHF', 'row': 756, 'product_title': 'BoAt BassHeads 100 Wired Headset', 'rating': '5', 'summary': 'Brilliant'}, page_content='review: Awesome Headset . I was searching for the same on Amazon however price was aboce 699/- and finally I got then on flipkart for just 399/-👍. Really Happy . Yes one area of improvement could be the timelines of delivering the product can be shorter'),\n",
       " Document(metadata={'source': 'ACCFSDGXX3S6DVBG', 'row': 660, 'product_title': 'BoAt Airdopes 131 Bluetooth Headset', 'rating': '5', 'summary': 'Brilliant'}, page_content='review: (1) Worth of the money 💰(2) Nice design & comfort 👂(3) Good battery backup🔋(4) Nice sound quality and Bass also 🎶'),\n",
       " Document(metadata={'source': 'ACCFSKBJYWZKXGCP', 'row': 620, 'product_title': 'U&I Titanic Series - Low Price Bluetooth Neckband Bluetooth Headset', 'rating': '3', 'summary': 'Just okay'}, page_content=\"review: What a delivery......... I'm very happy with the delivery...... I got the product in just two days....... The product is good but there is a delay for the sound  it's ok but can't play pubg comfortably that's the only thing which I'm not satisfied with this product,.....\"),\n",
       " Document(metadata={'source': 'ACCFVWN4PGNTEFGY', 'row': 564, 'product_title': 'realme Buds Q Bluetooth Headset', 'rating': '1', 'summary': 'Not recommended at all'}, page_content='review: As they rightly say about Chinese Products: Chala Toh Chand Tak; Nahi Toh Raat Tak.Review after a month of using this product:Sound Quality Is good, above average I would call it.Easy to pair and connect.Like the fit, fits perfect in your ears.Issues: 1. If you are watching a video, after a while, you would notice that the video is not in sync with the sound. Theres a constant disconnect which cause the video to relay first and then u hear the audio.2. The right earbud has stopped wo...'),\n",
       " Document(metadata={'source': 'B0C33XXS56', 'row': 267, 'product_title': 'Sony WF-1000XM5 Wireless Noise Canceling Earbuds', 'rating': '5', 'summary': 'Excellent sound ... if you find the right tips.'}, page_content=\"review: These are really some of the best earbuds currently in the market. Sound was lackluster at first because none of the included ear tips worked for me. That foam material that Sony uses doesn't work for all people, perhaps that's why other manufacturers like Apple, Sennheiser and B&W use silicone tips (which also are easier to clean and age better). Once I bought compatible silicone ear tips (link below), I got a good seal and was able to truly enjoy these earbuds.Pros:- Excellent sound quality. I would say they sound better than Apple AirPods Pro.- The mobile App includes an equalizer to tune them exactly the way you want them.- Last firmware allows you to use head gestures to control them.- Full-featured mobile App.- Construction is great. Both the earbuds and case are solidly built.- Good noise cancellation- Smaller and lighter than the previous version.Cons:- Although noise cancellation is good, it's not as good as Apple's AirPods Pro.- Mobile App is a little convoluted to navigate, but it's not too bad.Neutral:- Although they are smaller than the previous version, they still protrude out of your ears more than other offerings like Apple AirPods. They are on-par to other offerings like Sennheiser Momentum Wireless 3 and B&W, so it's not too bad.These are the ear tips I used. They work great:https://www.amazon.com/dp/B0989NHFGW\"),\n",
       " Document(metadata={'source': 'B0B4MWCFV4', 'row': 150, 'product_title': 'Fitbit Versa 4 Fitness Smartwatch', 'rating': '4', 'summary': 'New fitbit'}, page_content=\"review: Love the new fitbit.The new charging cor is a lott better and easier to use. The apps are  a little nicer.I've had a problem with the face of the fitbit in the past.  After 1to 2 years the face of the fitbit would pop off and that's why it got 4⭐.I hope they've fix this problem.🤔I'll Let you know in a year\"),\n",
       " Document(metadata={'source': 'ACCFVWN4PGNTEFGY', 'row': 560, 'product_title': 'realme Buds Q Bluetooth Headset', 'rating': '4', 'summary': 'Value-for-money'}, page_content='review: Amazing Product, bass is amazing and easy to carry , Also you like the insulation of product , battery backup is very good. Satisfied With Product'),\n",
       " Document(metadata={'source': 'ACCFSKBJYWZKXGCP', 'row': 616, 'product_title': 'U&I Titanic Series - Low Price Bluetooth Neckband Bluetooth Headset', 'rating': '5', 'summary': 'Fabulous!'}, page_content='review: Quality is Good .. Build Desine is Nice and Sound quality is Ossoum At this price.. But Charging cable is too Short i am not Happy .. But  all over Headphone is Good i like it ...Battery Backup is Very good qualityThank you..'),\n",
       " Document(metadata={'source': 'ACCFSKBJYWZKXGCP', 'row': 629, 'product_title': 'U&I Titanic Series - Low Price Bluetooth Neckband Bluetooth Headset', 'rating': '5', 'summary': 'Brilliant'}, page_content=\"review: Very very good product awesome bass sound quality is genuine as well as battery backup is too good.and one of the best thing in this it's look,golden boarders make it too much good looking really loved it.\"),\n",
       " Document(metadata={'source': 'ACCFSDGXX3S6DVBG', 'row': 703, 'product_title': 'BoAt Airdopes 131 Bluetooth Headset', 'rating': '5', 'summary': 'Fabulous!'}, page_content='review: 1. Attractive price2. Timely delivered3. Built quality is good4. Sound quality is good5. Bass is poor6. Battery backup ( Stand-by) - 12 hrs                                (Continuously played) - 8 hrs7. Fast connectivity8. Comfortable on ears.'),\n",
       " Document(metadata={'source': 'ACCFVWN4PGNTEFGY', 'row': 605, 'product_title': 'realme Buds Q Bluetooth Headset', 'rating': '5', 'summary': 'Highly recommended'}, page_content='review: Best product'),\n",
       " Document(metadata={'source': 'B0C33XXS56', 'row': 260, 'product_title': 'Sony WF-1000XM5 Wireless Noise Canceling Earbuds', 'rating': '5', 'summary': 'Wow, impressive upgrade'}, page_content='review: There’s a bit of possible Sony hate going on in some reviews, like others I got burned on a pair of WF-10004XM refurbished and one of the batteries started failing after a year. Wasn’t worth the cost of repair. Have others from QCY and Soundcore that were surprisingly good for less cost. Also had trouble with refurbished headphones WH-1000XM4, luckily had added insurance. Cut to buying a new pair that have been flawless.Got the Sony WF-C700N a couple months ago to scratch my earbud itch. Very good for the price. If you’re not ready to throw down $300 for the XM5 they’re a great alternative. Not quite as musical, but no gripes anyway. You can get picky about the throwback buttons but oh well.One comment before I get more specific on the XM5. I fully agree with another review that calls out Sony for how complicated their Sony Connect app has become. It could be simplified for people who don’t want to get into the tech so much.Now, how do they sound? I’m impressed and I’m not using them to their full potential. Using with iPhone so Bluetooth SBC codec is the most basic and lowest quality solution (after digging into the codec question a bit more it does appear that the iPhone has the AAC codec also). However, with the help of Sony’s equalizer and DSEE function I’m very happy with the sound. I almost don’t want to try them with a better codec and then have to go back. (Still applies with AAC, DSE does improve sound)I need treble boost for my old ears and having played bass no surprise I like a lot of bass. These don’t disappoint. I did an A-B comparison with the XM4 headphones and they didn’t have quite the low end but good and punchy with good definition between bass and drums.both can become nice and “growly” on the low end.Noise cancellation is very good, not as good as the headphones but after only a couple days I have been quite satisfied so far.Comfort level is better than the XM4 buds, but I’m so pissed I wasted the money now I don’t want to dig them out to compare audio! I think Sony really improved the fit and design to be lighter, more comfortable, and have impressive sound. Let’s just hope they found a better battery.Used overnight and had battery left in the morning but playing audiobook on timer so i couldn’t say how long continuous playback.I’ll update after I’ve had them longer.(Update) battery life seems to be very similar to the XM4. Sometimes I have battery left in the morning sometimes it comes up short.Another follow up, comes with 4 sets of tips but apparently I have very large ear canals as I’m unable to get a complete seal with the included buds. The large felt good at first but when I used the connect app to check for airtight seals I could not get them to seal. Fortunately I have many tips I’ve saved over the years and by mixing, matching, and testing I have a couple that seal. I even tried ordering extra large tips from a couple vendors and they didn’t work either. Nice that Sony is including extra small but what about us with extra large needs! I do have a possible solution on the way, find a video on YouTube that shows how to use Sugro glue rolled up and inserted in the mushroom part of the tip. Press in the ear to get a fit and then allow to cure over night. Hoping it works, I have a few tips I’d like to try this on. Was even investigating custom molded tips but for $150 plus I’ll try the Sugro hack…8/5/23 tried the Sugro hack yesterday. Still have to work to get an airtight fit but it definitely helped.My opinion on the sound has not diminished. Excellent with what I listen too. A lot of classic rock but also new material from Elle King and others. Listening to Lourdes “Royals” a very deep bass which presents low, solid, and clear. You can easily distinguish the bass and drums. The low rumbling bass of Pink Floyd “Welcome to the Machine” couldn’t be much better in any buds. Almost like I could feel it.I’m now using the WF-C700n as my workout and dog walking buds. Sound signature is very similar but the bass is not quite as good. One thing they are lacking is the airtight fit check in the app. I had to use other tips and the Sugro mold hack to get a good consistent fit in both. The included tips are worthless to me and my big ears.I see a lot of criticism of the noise cancellation for the XM5. I have no way to measure so it’s pretty subjective but I’m not disappointed. At least as good as the XM4. But with any ANC earbuds the airtight seal is critical.If you’re not ready to throw down $300 the WF-C700n are a very good alternative, but are not touch controlled, a single button on each side. Not quite as good on the low end but not disappointing either. In direct comparison you can hear the difference.I still think these are 5 star worthy. I’d take off half a star because of the somewhat complex app but if you like to tinker with the sound and features, give it back. People who are not “technical minded” may find it intimidating. I find it useful but jammed with some features I wouldn’t normally use, like automatically changing settings depending on location as an example. Some might find it useful but not me. The equalizer and clear bass functions are excellent. DSEE function makes a noticeable difference in sound quality. Happier with these than I was with the XM4. Just hope the batteries last, I would hope Sony changed from the $70 replacement cost batteries (not including labor) used in the XM4 as apparently so many people had problems with them dying out after a few months.9/22/23Used these today instead of the WF-C700n for my indoor cycling and to walk the dog. Usually I do those activities with the cheaper buds as for $300 I want to take every precaution to protect them. So…more feedback on the ANC. Definitely a difference on the bike with 2 pretty loud blower fans on. The WF-C700n does a very good job in the same situation but I could definitely tell a difference. Could hardly hear the fans at all and the WF-1000XM5 does have the superior sound performance. Note these blowers are loud enough that if I have my Apple Watch to close to them I get the over 90db warning. They’re not 90db from the bike but they are loud. These cancelled almost all the noise. With volume on my music I don’t hear the fans at all.'),\n",
       " Document(metadata={'source': 'ACCFSKBJYWZKXGCP', 'row': 651, 'product_title': 'U&I Titanic Series - Low Price Bluetooth Neckband Bluetooth Headset', 'rating': '5', 'summary': 'Perfect product!'}, page_content='review: Best in this price Bass 4.5*Sound 4.5*Battery backup 4.9*Design 4.2*'),\n",
       " Document(metadata={'source': 'B0CQ3VXJ3J', 'row': 90, 'product_title': 'Samsung Galaxy Book4 Pro 16-inch Laptop', 'rating': '5', 'summary': \"I couldn't be happier with this laptop\"}, page_content='review: After being user of Dell XPS for the last 8 years, I decided to change to this one. To me, I won\\'t go back to Dell. Very fast, light, with all the ports that you need to get things done and still very thin. Very good image quality and 16\" screen makes a difference!'),\n",
       " Document(metadata={'source': 'ACCFSKBJYWZKXGCP', 'row': 644, 'product_title': 'U&I Titanic Series - Low Price Bluetooth Neckband Bluetooth Headset', 'rating': '5', 'summary': 'Wonderful'}, page_content='review: Best connectivity easy nice battery good colour just switch by clicking the end button and connect then enjoy its sooo  FabulousJust charge for 30-40mins enjoy for 10hrs'),\n",
       " Document(metadata={'source': 'ACCFVA3KZ2EYMYX3', 'row': 552, 'product_title': 'OnePlus Bullets Wireless Z Bass Edition Bluetooth Headset', 'rating': '5', 'summary': 'Just wow!'}, page_content='review: Extraordinary just go for it.'),\n",
       " Document(metadata={'source': 'B0CQ3VXJ3J', 'row': 88, 'product_title': 'Samsung Galaxy Book4 Pro 16-inch Laptop', 'rating': '3', 'summary': 'Bad battery'}, page_content='review: Kind of expected it but battery only lasted 2-4 hours depending on the activity. Otherwise good product but had to send it back because it was a dealbreaker.'),\n",
       " Document(metadata={'source': 'B0DLHTTWVB', 'row': 258, 'product_title': 'Apple MacBook Air 13-inch M3 (2024)', 'rating': '5', 'summary': 'Great laptop !'}, page_content=\"review: Got this on a Black Friday deal for $200. off. A good deal. Comparable to a Mac Book Pro in features for less money. Like it so far. It's  pretty light weight.\"),\n",
       " Document(metadata={'source': 'B01D93Z89W', 'row': 55, 'product_title': 'Canon EOS Rebel T7 DSLR Camera Bundle', 'rating': '5', 'summary': 'Good quality camera set up!'}, page_content='review: I bought this for my son to use in his school photography class. He will be using this quality camera for a long time.'),\n",
       " Document(metadata={'source': 'B0DLHTTWVB', 'row': 219, 'product_title': 'Apple MacBook Air 13-inch M3 (2024)', 'rating': '5', 'summary': 'Excellent Purchase'}, page_content=\"review: I waited a couple of months before I posted this review. I wanted to make certain that I had no issues with my MacBook Air 13-inch laptop before I offered any comments.All I can really say is the it's an Apple product which I have found over the to be nothing short of excellent quality over the years. I am very pleased my purchase.I would also add that when I made the purchase, the Amazon website stated that I needed to wait 4 to 5 weeks for delivery. This was prior to Christmas so I understood the wait time. However, my laptop arrived within 6 days to my surprise. Thanks\"),\n",
       " Document(metadata={'source': 'ACCFVWN4PGNTEFGY', 'row': 575, 'product_title': 'realme Buds Q Bluetooth Headset', 'rating': '5', 'summary': 'Great product'}, page_content=\"review: Best noise cancelling buds for this priceEven though it has no noise cancelling!It's pretty good and bass is awesome and sound quality is also good, I can literally hear the lyrics even I'm standing in the crowd and it fits perfect that you won't hear outside noise at all.\"),\n",
       " Document(metadata={'source': 'ACCFSDGXX3S6DVBG', 'row': 706, 'product_title': 'BoAt Airdopes 131 Bluetooth Headset', 'rating': '5', 'summary': 'Awesome'}, page_content='review: Got the device in 2 days.Fast delivery by flipkart.Sound quality is the best at this price range.Even better than realme buds air and other like mivi.Best package at 1299.Must buy'),\n",
       " Document(metadata={'source': 'B0C33XXS56', 'row': 282, 'product_title': 'Sony WF-1000XM5 Wireless Noise Canceling Earbuds', 'rating': '3', 'summary': 'Good sound but noise cancelation needs improvement'}, page_content=\"review: This is my third pair of Sony WF earbuds.  I bought these WF-1000MX5 to replace a pair of WF-1000MX4 that were lost/stolen.  After using the MX5's for 6 months I can notice the sound quality and battery drainage has improved slightly over the previous generation.  However, the noise cancelling technology seems to be getting worse.  It seems to only work well with constant noise sources such as noisy fans or motors.  They do not work well with sudden loud noises such cars, impacts, dog barks, talking, etc..  I find that my older WF-1000MX3 had better noise cancelling than the MX4 or MX5.  Also, the MX5's always reset to ambient mode when you use them which a major source of frustration.  So you always need to open the Sony connect app or enable NC mode via a earbud button if assigned. It never did that with the older generation products. I've heard of similar complaints online about the MX5 noise cancelling mode.The MX3 earbuds suffered from battery issues and I am on my 2nd battery but the noise cancelling is much better than the MX5 earbuds in my opinion.  Perhaps subjective, but to me it seems Sony has dropped the ball on noise cancelling with it's newer products.  The new design and shape of the earbuds also makes them fiddely to get a good seal in your ear which also affects noise cancelling.  I am not impressed because I bought them thinking they would be improving this technology.  I have similar opinions about the newer Sony TVs.  Sony quality is definitely declining.  In summary this product is okay, but definitely not as great as the reviews hype them to be.  If you don't care about noise cancelling then they will suit you fine.Not sure I'll be wasting my money on Sony in the future though.\"),\n",
       " Document(metadata={'source': 'ACCFVA3KZ2EYMYX3', 'row': 518, 'product_title': 'OnePlus Bullets Wireless Z Bass Edition Bluetooth Headset', 'rating': '1', 'summary': 'Terrible product'}, page_content=\"review: If you are bass lover don't dare to buy this. Bass is really very bad. I have used Sony earphones and they offer pretty good bass than it. I bought this due to hype but in actuality it's not even close to my expectations. Whenever i listen to music it makes me  🤬\"),\n",
       " Document(metadata={'source': 'ACCFKYE2ARGG67WC', 'row': 495, 'product_title': 'realme Buds 2 Wired Headset', 'rating': '5', 'summary': 'Excellent'}, page_content='review: Realme Buds2 is really gud product with comfort and quality. Satisfied with it. But only issue is small ear plugs are only one pair available in the box which are perfect fit in the ear where extra other plugs are big and not useful.'),\n",
       " Document(metadata={'source': 'ACCFVWN4PGNTEFGY', 'row': 569, 'product_title': 'realme Buds Q Bluetooth Headset', 'rating': '5', 'summary': 'Classy product'}, page_content='review: LOVE IT 👌🏻Awesome Sound Quality with Superb Bass and noise cancellation, So light weight and perfect fit in ear. Love these Buds specially if you compare this with any other brand in this price thanks to realme For this great deal.'),\n",
       " Document(metadata={'source': 'ACCEVQZABYWJHRHF', 'row': 712, 'product_title': 'BoAt BassHeads 100 Wired Headset', 'rating': '4', 'summary': 'Pretty good'}, page_content='review: Built quality is very good. Bass is a bit too high to listen for longer periods. You may experience mild ear pain.If you love bass go for it, but if you rather prefer smooth and balanced sound, this will not please you...'),\n",
       " Document(metadata={'source': 'B0BN95FRW9', 'row': 193, 'product_title': 'Apple iPhone 14 Pro 128GB (Renewed)', 'rating': '5', 'summary': 'Very satisfied with the purchase!'}, page_content='review: The iPhone arrived a day earlier than expected and the iPhone was in mint condition. Setting up the new iPhone was a breeze and copying the data/apps from the old to new phone was very simple process. I would buy again from this seller.'),\n",
       " Document(metadata={'source': 'B0CQ3VXJ3J', 'row': 73, 'product_title': 'Samsung Galaxy Book4 Pro 16-inch Laptop', 'rating': '5', 'summary': 'Slim, powerful and beautiful screen, for me a five-star laptop 2024.'}, page_content='review: Slim and powerful, the Galaxy Book 4 Pro has a beautiful, vivid screen, a fast 120 Hz refresh rate, an all-aluminum solid build, and AI capabilities with a copilot button. The laptop has a good keyboard. However, it is hot during battery charge. The hardware is the key for the Business Version: Intel core ultra -155h CPU, new iris GPU, extended battery, 1 Tb SSD. However, if you increase the brightness and the energy consumption of the apps installed, particularly for the antivirus, it will reduce the battery duration. Finally, for the first time with a laptop, I could quickly set it up, but with slow driver updates.'),\n",
       " Document(metadata={'source': 'ACCFKYE2ARGG67WC', 'row': 471, 'product_title': 'realme Buds 2 Wired Headset', 'rating': '3', 'summary': 'Fair'}, page_content=\"review: Bass is awesome, a little extra, so people who like bass will love this, I personally like a balanced sound signature, so bass can be turned down just a notch, but treble is waaaayyy too high. It really ruins the experience, it hurts my ears. Mids are pretty good. Build quality is decent. Too much treble ruins the sound quality, that's why 3 stars. If treble was balanced then would have given it 4 or even 5 maybe.\"),\n",
       " Document(metadata={'source': 'ACCEVQZABYWJHRHF', 'row': 713, 'product_title': 'BoAt BassHeads 100 Wired Headset', 'rating': '5', 'summary': 'Excellent'}, page_content='review: They are just awesome . no less then JBL. vocals and both are in balance.clear sound even at highest volume. And its pretty good loud too. Totally satisfied at this price.'),\n",
       " Document(metadata={'source': 'ACCFZGAQJGYCYDCM', 'row': 321, 'product_title': 'BoAt Rockerz 235v2 with ASAP charging Version 5.0 Bluetooth Headset', 'rating': '4', 'summary': 'Good choice'}, page_content='review: Nice build quality.. bass is best it self.. vibrate at call is nice. .. nice support from flipkart and delivery partner'),\n",
       " Document(metadata={'source': 'ACCFSDGXX3S6DVBG', 'row': 688, 'product_title': 'BoAt Airdopes 131 Bluetooth Headset', 'rating': '4', 'summary': 'Delightful'}, page_content=\"review: Good for the priceSound if loud and clear. Bass is there but not best as these are not in-ear type. Call quality is good. And battery lasts 3.5 hrs. Good thing is type-C I can use my OnePlus charger with it. Comfortable for long hours.Dont expect too much from the product at this price. I would say if you don't want to spend much then get this. And obviously if your priority is sound quality then Sony and Bose are only option.\"),\n",
       " Document(metadata={'source': 'ACCFHGZFS7GB9CVM', 'row': 404, 'product_title': 'realme Buds Wireless Bluetooth Headset', 'rating': '4', 'summary': 'Very Good'}, page_content=\"review: Don't hesitate to buy that green color buds! Its fabulous.... believe meUsing it for 1 week and yes satisfied enough.... LED notification is there and the led is 😍\"),\n",
       " Document(metadata={'source': 'ACCFSDGXX3S6DVBG', 'row': 686, 'product_title': 'BoAt Airdopes 131 Bluetooth Headset', 'rating': '5', 'summary': 'Great product'}, page_content=\"review: Satisfying . Received today morning. Continuously using this earpods for 3 hrs and still battery is at 90% . So all good. Base can be better but good at this price. Good at calling also. I can hear voice while riding and that's really good. Overall worth buying.\"),\n",
       " Document(metadata={'source': 'B0CHX7R6WJ', 'row': 30, 'product_title': 'Apple Watch SE 2nd Gen 40mm GPS', 'rating': '4', 'summary': 'Love it but the battery dies way too fast'}, page_content='review: I love the product. However, the battery dies way too fast within one day even if I’m not using it. I would say it lasts me about a good 5-6 hrs. Need to charge it every day.'),\n",
       " Document(metadata={'source': 'ACCFHGZFS7GB9CVM', 'row': 382, 'product_title': 'realme Buds Wireless Bluetooth Headset', 'rating': '3', 'summary': 'Good'}, page_content=\"review: everyone is saying it has punchier bass, but after experiencing i don't feel it has punchier bass,bass is average.overall sound quality is average, vocals and treble are goodmagnetic on off function works great build quality is awesome\"),\n",
       " Document(metadata={'source': 'ACCFSDGXX3S6DVBG', 'row': 701, 'product_title': 'BoAt Airdopes 131 Bluetooth Headset', 'rating': '4', 'summary': 'Delightful'}, page_content=\"review: Comfortable fit, looks good, sound quality is satisfactory above average, built quality is average, connectivity/pairing is easy,Battery performance can't predict in two day of usage of this product Overall Decent product at this point of price for a TWSIF THE BUDGET IS LOW THEN ITS A GREAT BUY\"),\n",
       " Document(metadata={'source': 'B0B4MWCFV4', 'row': 138, 'product_title': 'Fitbit Versa 4 Fitness Smartwatch', 'rating': '4', 'summary': 'Nice watch but small font'}, page_content='review: This is a nice watch but the font is not adjustable so it’s very difficult to read. There is no way I can turn on notifications and read them. I will likely return it.'),\n",
       " Document(metadata={'source': 'ACCFSKBJYWZKXGCP', 'row': 618, 'product_title': 'U&I Titanic Series - Low Price Bluetooth Neckband Bluetooth Headset', 'rating': '5', 'summary': 'Highly recommended'}, page_content='review: Easy to hold and carry . Sound is best . Bass and treble is clear and feels like expensive brand one. Battery backup is good appropriately 6 hours .. price is reasonable.  Best buy.👍👍'),\n",
       " Document(metadata={'source': 'ACCFHGZFS7GB9CVM', 'row': 364, 'product_title': 'realme Buds Wireless Bluetooth Headset', 'rating': '4', 'summary': 'Good quality product'}, page_content=\"review: Everything is Good Only Bass is Little bit Less as compare to Boat Rockerz 255But Except Bass Overall Is Awesome And the most amazing Function is Auto connect, when separate ear buds from each other it's connect automatically with previousaly connected device within 2-3 secon. Battery backup is also good as They commit. 10-12 Hr And. fast Charging. The  most Attractive Design which looks Too good with premium Material and Comfortable Ear Buds. Go for it.\"),\n",
       " Document(metadata={'source': 'ACCFR3Q77R6RRGAC', 'row': 448, 'product_title': 'OnePlus Bullets Wireless Z Bluetooth Headset', 'rating': '4', 'summary': 'Good quality product'}, page_content='review: Great product for the price compared to the other available in the market.Sound quality is good not great.The ear plugs magnets could have been more powerful.There should have been a flap sealing lid on the charging port.Fully satisfied with the battery backup.Go for it👍'),\n",
       " Document(metadata={'source': 'B0B4MWCFV4', 'row': 121, 'product_title': 'Fitbit Versa 4 Fitness Smartwatch', 'rating': '5', 'summary': 'Love'}, page_content='review: Watch is great. This is an upgrade. First one stopped working after a year. Glad I bought it again.'),\n",
       " Document(metadata={'source': 'ACCFVWN4PGNTEFGY', 'row': 609, 'product_title': 'realme Buds Q Bluetooth Headset', 'rating': '4', 'summary': 'Pretty good'}, page_content='review: Good'),\n",
       " Document(metadata={'source': 'ACCFR3Q77R6RRGAC', 'row': 419, 'product_title': 'OnePlus Bullets Wireless Z Bluetooth Headset', 'rating': '5', 'summary': 'Terrific'}, page_content='review: THIS ONE IS OUTSTANDING...few months before if some one ask me WITCH IS THE BEST VALUE FORE MONY WIRELESS EARPHON in the market I will definitely go for the SONY....JBL...or.....REALME                But now it the oneplus BULLET WIRELESS Z I will give you my thoughts and features of this earphon from my 3 days of usage BUILD QUALITY : the build quality of this earphon was good..combination of good plastic materials and some fiber......if you enjoy music or whatever no problems that it w...'),\n",
       " Document(metadata={'source': 'ACCFHGZFS7GB9CVM', 'row': 386, 'product_title': 'realme Buds Wireless Bluetooth Headset', 'rating': '5', 'summary': 'Brilliant'}, page_content='review: Really appreciated this product from realme ..... Satisfied fully ...... If u like deep base , high battery backup n light weight Bluetooth headset , thn i suggest u to take this ..... Its main feature is battery backup ... Its almost 12hrs i am playing continuous music in these n charge is nt down 😍'),\n",
       " Document(metadata={'source': 'B0B4MWCFV4', 'row': 161, 'product_title': 'Fitbit Versa 4 Fitness Smartwatch', 'rating': '4', 'summary': 'Nice upgrade from older fitbit'}, page_content=\"review: My older fitbit was getting a little outdated and the battery wasn't holding a charge anymore.  I bought this one because it had additional features like the O2 sensor.  I am satisfied with the functions but the battery doesn't last as long as my old one did when it was new.  I am having to charge it about every 4 days.\"),\n",
       " Document(metadata={'source': 'B01D93Z89W', 'row': 43, 'product_title': 'Canon EOS Rebel T7 DSLR Camera Bundle', 'rating': '5', 'summary': 'Good camera'}, page_content='review: It is not a professional camera, but does well as it is'),\n",
       " Document(metadata={'source': 'ACCEVQZABYWJHRHF', 'row': 732, 'product_title': 'BoAt BassHeads 100 Wired Headset', 'rating': '5', 'summary': 'Simply awesome'}, page_content='review: One of the best under 500 if you can get ,started loving from the first day.Clarity of microphone is awesome.Bass is really good with equalisation of treble .Build quality is beyond level.Thanks Flipkart ❤'),\n",
       " Document(metadata={'source': 'ACCFR3Q77R6RRGAC', 'row': 417, 'product_title': 'OnePlus Bullets Wireless Z Bluetooth Headset', 'rating': '5', 'summary': 'Highly recommended'}, page_content=\"review: 😇No more tangles n dangling!! Loved it! Sweetest thing about this is, we can do our works FREELY or even go washroom with music on us..🤣 I would say, Go for it👉 feel that energy!Well packed, class look And of course, the sound quality is GreAttt!!🤩 (I admit I'm a bit excited)And thanks to Flipkart for a quick n safe delivery 🤗\"),\n",
       " Document(metadata={'source': 'B0CHX7R6WJ', 'row': 5, 'product_title': 'Apple Watch SE 2nd Gen 40mm GPS', 'rating': '4', 'summary': 'Nice and affordable watch'}, page_content='review: I bought it for my wife and she’s happy with it.As many other customers say, the battery life is not the best. It can barely last for around 18 hours despite most of the background processes are turned off.'),\n",
       " Document(metadata={'source': 'ACCFZGAQJGYCYDCM', 'row': 352, 'product_title': 'BoAt Rockerz 235v2 with ASAP charging Version 5.0 Bluetooth Headset', 'rating': '4', 'summary': 'Very Good'}, page_content='review: Very decent look product. Give superb bass. Mic quality is okok. Design and build is superb. In this price range it worth it.'),\n",
       " Document(metadata={'source': 'ACCFKYE2ARGG67WC', 'row': 478, 'product_title': 'realme Buds 2 Wired Headset', 'rating': '5', 'summary': 'Mind-blowing purchase'}, page_content=\"review: It's a great product according to the price and its sound quality and bass is perfect.Realme Buds 2 really its a great headphone.In this price range best headphone ever.❤️\"),\n",
       " Document(metadata={'source': 'ACCFVWN4PGNTEFGY', 'row': 582, 'product_title': 'realme Buds Q Bluetooth Headset', 'rating': '5', 'summary': 'Just wow!'}, page_content='review: Very nice product'),\n",
       " Document(metadata={'source': 'B0DLHTTWVB', 'row': 235, 'product_title': 'Apple MacBook Air 13-inch M3 (2024)', 'rating': '5', 'summary': 'Excellent laptop!'}, page_content='review: I ‘m still using my 7 year old MacBook though the battery life has decreased some.  This new model has a slightly smaller case but the screen is a little larger.  I’m loving it!'),\n",
       " Document(metadata={'source': 'B0C33XXS56', 'row': 265, 'product_title': 'Sony WF-1000XM5 Wireless Noise Canceling Earbuds', 'rating': '5', 'summary': 'Fantastic!'}, page_content='review: I bought these because I had a gift card to spend, and in hopes that I could completely separate from my Airpod Pro’s (1rst gen). I wanted to get rid of my Airpod pro’s because I have become so completely fed up with popping them in my ears and having only one earbud connect. That happens about 25% of the time I use them, and of course it’s always right when I’m in a hurry and need them now. I have to reset them every time it happens and frankly I’m fed up with it – unacceptable reliability.So, it’s only been a little more than a week but I haven’t had this happen once. Nor has it ever happened on any of my other true wireless earbuds (Soundcore Liberty 4 NC’s and some cheap no-name sports hook-style earbuds). The Sony’s have had stellar reviews, but my one reservation was that I’m in a full Apple ecosphere, and I had read that if you’re in the Apple ecosphere, you’ll want the Airpod Pro series II. Using anything else would mean missing out on that typical Apple integration – things work great together. Well, I’ve never tried the Airpod Pro II’s, but I couldn’t get myself to reward Apple by ordering another pair of headphones from them after my dissatisfaction with the AirPod Pro I’s.So, how are the Sony’s? Absolutely fantastic and boy, am I glad I went with them! First of all, in terms of integration/functionality with my Apple world, best I can tell so far its flawless. Transitions between my iPhone 15 and iPad Pro are just as smooth as my AirPods were. I can send/receive calls just as easily, and the Sony has one feature I don’t think AirPods have – you can just nod your head to answer calls! I also find the touch sensor vastly superior to Apple’s squeeze surface (or whatever it’s called). Much more intuitive to me, and it works every time on the first try.Another big advantage the Sony’s have over the Airpod Pro I’s is battery life. One reason I picked the Sony’s was better sleep. My wife makes quite a racket sleeping at night and I had read that these were great for sleeping. My Airpod Pro’s were also quite good at that, but they wouldn’t last through the night – only about 4.5 hours (w/NC on). Not sure how long the Sony can last, but I’ve gone over 8 hours (w/NC on) – and they still had some battery left! As for the noise cancelling, I’d say it’s slightly disappointing. I also own the over-ear WH-1000XM5’s, and they have AWESOME noise cancelling! I’d say the WF-1000XM5’s are nowhere near that level – I’d say they are about the same as my Airpod Pro I’s. Good enough to attenuate my wife’s snoring (at least enough that I can sleep), but not completely block it (so I hear nothing at all) as on the WH-1000XM5’s. But of course, the WH-1000MX5’s are way too big to sleep with (full size over-ear headphones). Another minor disappointment is no “find my earbud” functionality, which makes me a little paranoid about losing them, but hopefully not a big deal.Saving the best for last is the sound quality. I bought the big-brother WH-1000XM5’s a year ago and was quite surprised at their sound quality. Same thing here – these sound fantastic! I’m a fairly serious audiophile and have quite a collection of high-end headphones, including one pair of earbuds that are more than triple the cost of these Sony’s (JH Audio J13 v2’s). And all the electronics to go with it (DAP’s, DAC’s, amps, cables, etc.). They took a while to break in properly (maybe 30-50 hours) but they are really wonderful. They are among the most natural sounding earbuds I’ve heard and I’m a bit stumped how that could be possible since it uses crappy Bluetooth. My high-end headphones are fed almost exclusively high-rez files. Bluetooth AAC (can’t use LDAC on an iPhone) is the best I can run, which of course are only a small fraction the bitrate resolution of true high-rez files. But somehow these sound absolutely wonderful – just a natural “rightness” that’s hard to describe. BY FAR the best bass I’ve ever heard from an earbud. They have a confidence, an “assertiveness” (yes, that’s a new audio metaphor) – not aggressiveness - that I just love. I’m not saying that they are flat-out better than my high-end earbuds (my Shure M535’s are my favorite), but I will say they are at least in the same ballpark. I can pop these in and really enjoy listening for hours – and not feel like I’m missing out in not using my much more expensive earbuds. Very high compliment indeed! So, great job Sony! BTW, I read that Sony bought Audeze (high-end true audiophile headphone brand), which means I can’t wait to see what they come out with in the future – if these are as good as they are, I can’t wait to find out what the XM6’s or XM7’s will sound like!Update 4/16/24: Just wanted to mention one more remarkable thing about these. I am an avid cyclist and I’ve been on a long search to find the best earbuds for cycling - which for me, is mostly about reducing WIND NOISE. That is by far my biggest goal for cycling headphones. These are downright spooky in their ability to hugely reduce wind noise - BY FAR the most effective I’ve ever tried, and I’ve tried quite a few (AirPod Pro’s, Soundcore Liberty 4 NC, etc…). So now I face an interesting dilemma - do i dare use a $300 pair of earbuds for cycling? The problem with using them for cycling is that cycling is of course brutal on earbuds (constant sweat). So I’ll have to decide if I dare to do that long term, but I can say that these are by far the best headphones I have ever used in terms of wind blocking. So these really are amazing - fantastic sound, powerful noise cancelling, long battery life and the best wind noise blocking I’ve ever heard…'),\n",
       " Document(metadata={'source': 'ACCFR3Q77R6RRGAC', 'row': 445, 'product_title': 'OnePlus Bullets Wireless Z Bluetooth Headset', 'rating': '5', 'summary': 'Just wow!'}, page_content=\"review: Osm blutooth earphone by one plus ultra low latency mode works on my redmi k20pro it's good option for pubg lover and base is not so good but definitely base is present in these earphone according to price its good\"),\n",
       " Document(metadata={'source': 'ACCFVA3KZ2EYMYX3', 'row': 537, 'product_title': 'OnePlus Bullets Wireless Z Bass Edition Bluetooth Headset', 'rating': '5', 'summary': 'Terrific purchase'}, page_content='review: Very good product and good quality, sound quality is very impressive bass and stereo equal tuneing, totally amazing product Flipkart delivery is very decent and very waiting for this product just 15 hours only'),\n",
       " Document(metadata={'source': 'B0B4MWCFV4', 'row': 167, 'product_title': 'Fitbit Versa 4 Fitness Smartwatch', 'rating': '5', 'summary': 'It’s reliable'}, page_content='review: It’s been my obsession since 2014'),\n",
       " Document(metadata={'source': 'ACCFHGZFS7GB9CVM', 'row': 376, 'product_title': 'realme Buds Wireless Bluetooth Headset', 'rating': '5', 'summary': 'Terrific'}, page_content='review: No doubt.... This is  an awesome product by REALME.. ..  And I am very happy for this product. Later I bought MI Neckband and The sound quality is not good but not too bad.... I feel bored ....But REALME EAR BUDS  IS TOO GOOD IN SOUND QUQLITY . PREMIUM QUALITY BASS....'),\n",
       " Document(metadata={'source': 'ACCFVA3KZ2EYMYX3', 'row': 546, 'product_title': 'OnePlus Bullets Wireless Z Bass Edition Bluetooth Headset', 'rating': '5', 'summary': 'Brilliant'}, page_content='review: Best sound & bass quality'),\n",
       " Document(metadata={'source': 'B0DLHTTWVB', 'row': 233, 'product_title': 'Apple MacBook Air 13-inch M3 (2024)', 'rating': '5', 'summary': \"It's exactly as you expect\"}, page_content=\"review: This is my first Mac purchase, my second on Amazon, and my second time shipping to my country. The MacBook is exactly as described. Like all Apple products, it has a fantastic finish. I have no complaints about its performance (even though I'm not a huge MacBook fan). The product arrived in perfect condition.\"),\n",
       " Document(metadata={'source': 'B01D93Z89W', 'row': 41, 'product_title': 'Canon EOS Rebel T7 DSLR Camera Bundle', 'rating': '5', 'summary': 'It is a great package but a buy a new neck strap if you can'}, page_content='review: I’m an amateur photographer. I do senior pictures for fellow students and family portraits. The quality is amazing it’s easy enough to use point click and the flash works fantastic. The extra light I’ve set up as an exterior light for some photo projects and it’s worked fantastically. The tripod works in any ground pretty much with the help of a small level on the top of it. If I’m on a hill and I wanna know if it’s straight it works perfectly. The lenses are great! Perfect condition when the arrived, they are exactly what I wanted and what a steal! The UV lens is perfect for super gloomy days I think. It makes them look a little brighter in my opinion less bleh. Which is always nice. The bag it comes with is sturdy no tears no holes! The dividers are movable. You can take them out and switch them around! Which is nice since I’m always switching out the stuff I need for work! It has a million pockets to fit everything you need! The lenses have small pouches and covers to put on and in when you’re not using them. Handy indeed! The two SD cards work great! It has a little wallet like case for them that can attach to the cameras strap for easy convenient use! It does not has an extra battery for the camera however! It charges super fast in an hour and a half (1hr 30 mins) usually it’ll be fully charged! It’s also WiFi enabled! Meaning if you ya ether cannon app you can use your camera remotely through the app! You can also download pictures from it and tag locations you’ve shot at! Super handy!!!! The small clicker you can hook up on the side of camera is great! It works great! It’s very short however. Use only when working with nervous kids so they don’t see you take the picture! The pocket tripod isn’t that useful for me personally but maybe a smaller vlogger or general YouTuber could find it useful it’s only about 5 inches high but it’s super sturdy! The camera might look to big but it holds up great! I use the strap it’s semi comfortable it needs broken in but I don’t recommend it. It’s rough around the edges of it but still usable. I’m ordering a better strap because I use it often and my neck will hurt after shooting for 4-5 hours.Overall great package! Super useful and great for amateurs or people starting out with Cannon!'),\n",
       " Document(metadata={'source': 'B0B4MWCFV4', 'row': 124, 'product_title': 'Fitbit Versa 4 Fitness Smartwatch', 'rating': '5', 'summary': 'Make sure you have the latest version of the fitbit app'}, page_content='review: When I first got this, it would not maintain sync.  I updated the firmware on the watch, tried doing a factory reset twice, uninstalled/reinstalled the fitbit app twice, ensured that the app wasn\\'t allowed to go to sleep when in the background... nothing worked.  It would work for a few minutes, then when I tried to command Alexa, it would say connection lost.  I decided to contact support, and they informed me that my app was outdated.  Come to find out, version 4.04 of the bitbit app is too old, and will not work.  The latest version, 4.06.7 had not been released for my phone yet, as is typical ridiculous play store behavior.  Google... are you listening?  When a developer releases an update, you shall IMMEDIATELY make it available to EVERY device!  I manually downloaded the apk and installed it, and everything has been working great since.  Alexa follows my direct orders immediately, phone calls come through, texts come through, and I can sync with ease.Overall, I suppose this is an improvement over the Versa 2.  Screen is a little bigger, but the notification vibrations don\\'t seem to be as forceful, even when set to strong.This uses google wallet instead of google pay as the Versa 2 did, so my AmEx will not work for contactless payment.Phone call feature is nice, seems to work OK.  I can hear them, they can hear me.  You can only answer calls, you can\\'t make them.  The $50 brand x watch I ordered to replace this one before I got the sync figured out was able to do that.  It could also control my camera and music player, neither of which is possible on the Versa 4.Google maps is nice if you walk in unfamiliar areas.  I\\'ll probably never need it, but it\\'s nice.Battery life seems to be improved over the Versa 2, but mine was 2 years old so I\\'m sure the battery had gradually decreased it\\'s charge capacity.  I used it for several days, and he battery was still at 55%.Skin temperature sensor will one day be nice when it can sync with a smart thermostat and automatically adjust the temperature as needed.  But for now, it\\'s just a novelty and has no purpose.  Yes, I know my skin is hot.  I woke up in a puddle of sweat.  Yup, I\\'m freezing, so my skin is cold.o2 saturation is nice if you have any relevant health problems.If you want to take full advantage of the watch, get the free \"Overview\" clock face by Chris Blyth.  It gives you current and average heart rate, battery percentage, fully customizable date format, allows for a larger clock that shows seconds, and you can have weather, and 6 other health stats displayed on the main screen, all at once.  I have steps, distance, calories burned, active zone minutes, floors, and BMI/BMR.  It all fits, and is easy to read.  Vast improvement over the default face, which shows no useful information.  I had th is face on my versa 2, and loved it.  So glad it\\'s available for the 4.Bottom line, it\\'s a good watch.  There are cheaper brand x ones out there, but none of them have NFC payment, and not all of them have Alexa.  And, you get what you pay for.  fit & finish feels cheap, the screens get washed out in the sun, finicky alexa integration and so on.  Best to pony up and get a refined product.  Be sure to update your fitbit app.  Their customer support said the latest version should be released within a week, but I circumvented the beurocracy and downloaded it manually.  Why wait?'),\n",
       " Document(metadata={'source': 'ACCFZGAQJGYCYDCM', 'row': 334, 'product_title': 'BoAt Rockerz 235v2 with ASAP charging Version 5.0 Bluetooth Headset', 'rating': '5', 'summary': 'Terrific'}, page_content='review: Amazing product   Sound quality was awesome, it has deep bass which I really wanted, I am really satisfied and battery backup was also nice and it also had fast charging facilities'),\n",
       " Document(metadata={'source': 'ACCFSDGXX3S6DVBG', 'row': 672, 'product_title': 'BoAt Airdopes 131 Bluetooth Headset', 'rating': '5', 'summary': 'Brilliant'}, page_content='review: Battery backup awesome...5*Bass 3* Sound 4.5*Design build 5*Lags in game audio ... Good for movies and songs ..... single earphone use feature is good... battery backup awesome , I m using for 3 hours its just 70% ...n the case is Full charged separately.....Overall in 1299 I would recommend it only if u r ready to compromise with bass ...Overall 4* ...'),\n",
       " Document(metadata={'source': 'ACCFHGZFS7GB9CVM', 'row': 367, 'product_title': 'realme Buds Wireless Bluetooth Headset', 'rating': '4', 'summary': 'Delightful'}, page_content='review: After using Portronics Harmonics 208 and many research I found a good wireless headset( Realme Buds ).One of my friends using boat225, all god but disappointed with voice clarity and built quality.RealmeProsMagnetic standby, awesome feature saves battery.Google assistant.Sound & Built quality is good.Soft buttons.Fits good and perfect in shape.Voice cancellation while speaking is excellent.Wire size is good not too long, not too short.ConsWhile not speaking other person can hea...'),\n",
       " Document(metadata={'source': 'ACCFSDGXX3S6DVBG', 'row': 705, 'product_title': 'BoAt Airdopes 131 Bluetooth Headset', 'rating': '4', 'summary': 'Wonderful'}, page_content='review: Sound quality is above average and bass is low , design and look is amazing. At this price range it is a great deal . If you are a good music lover do not go for this, for call purposes it is good.'),\n",
       " Document(metadata={'source': 'ACCEVQZABYWJHRHF', 'row': 728, 'product_title': 'BoAt BassHeads 100 Wired Headset', 'rating': '5', 'summary': 'Just wow!'}, page_content=\"review: Best budgeted earphones, build quality is so good that you can fold them without any fear of tearing. Best part is it's bass and an awesome sound experience. Best earphones till used by me. ❤\"),\n",
       " Document(metadata={'source': 'B0CHX7R6WJ', 'row': 13, 'product_title': 'Apple Watch SE 2nd Gen 40mm GPS', 'rating': '5', 'summary': 'Perfect'}, page_content='review: Got this on sale and it’s perfect. My old watch broke and was so bummed until I found this perfect replacement'),\n",
       " Document(metadata={'source': 'B0DLHTTWVB', 'row': 247, 'product_title': 'Apple MacBook Air 13-inch M3 (2024)', 'rating': '5', 'summary': 'Best laptop by far'}, page_content='review: Coming from a windows user. This is by far the best laptop out there. Just be patient adapting to macOS'),\n",
       " Document(metadata={'source': 'B0BN95FRW9', 'row': 197, 'product_title': 'Apple iPhone 14 Pro 128GB (Renewed)', 'rating': '5', 'summary': 'One of the best purchase I made this year….'}, page_content='review: Received the phone 2 days early…No scratches no cracks. The phone looks brand new. just hated that the stores in my area doesn’t carries the iPhone 14 Pro cell phone cases.'),\n",
       " Document(metadata={'source': 'ACCFKYE2ARGG67WC', 'row': 493, 'product_title': 'realme Buds 2 Wired Headset', 'rating': '5', 'summary': 'Classy product'}, page_content='review: Ordered 2 for my sis and my self. Good built quality. Bass Triple are well balanced. Producing wow sound effects with Power amp music player app. Comfortable fit. thanks for extra ear bud. Well and premium packing. On time delivery. Another gadget in my laptop.'),\n",
       " Document(metadata={'source': 'ACCFSKBJYWZKXGCP', 'row': 623, 'product_title': 'U&I Titanic Series - Low Price Bluetooth Neckband Bluetooth Headset', 'rating': '4', 'summary': 'Pretty good'}, page_content=\"review: The product quality was pretty good. But i don't like that gold color. But in the price point the neckband was awesome.👍\"),\n",
       " Document(metadata={'source': 'ACCFSDGXX3S6DVBG', 'row': 690, 'product_title': 'BoAt Airdopes 131 Bluetooth Headset', 'rating': '4', 'summary': 'Value-for-money'}, page_content='review: The earphone got delivered in 1 day. Speaking of sound quality the sound is good you get decent amount of base for the price. The design though is not upto the mark you cannot wear it for prolonged hours as it gets uncomfortable. The microphone is ok calling experience is ok not that great. Battery backups i cannot comment on that as I haven’t used it a lot. But for the price that you are paying ,this thing is totally worth the buy.'),\n",
       " Document(metadata={'source': 'ACCFSKBJYWZKXGCP', 'row': 657, 'product_title': 'U&I Titanic Series - Low Price Bluetooth Neckband Bluetooth Headset', 'rating': '5', 'summary': 'Mind-blowing purchase'}, page_content='review: Simply good product..... ❤'),\n",
       " Document(metadata={'source': 'ACCFSDGXX3S6DVBG', 'row': 667, 'product_title': 'BoAt Airdopes 131 Bluetooth Headset', 'rating': '1', 'summary': 'Hated it!'}, page_content='review: Although design is gud in look but the sound quality is cheapest...not only cheapest...its too cheapest and annoying...😣Not satisfied at this price... Boat rockerzz 255 is too much better then these eardopes at this price rate... 👎👎👎I have boat eardopes 281 which is also very good in sound and design...')]"
      ]
     },
     "execution_count": 45,
     "metadata": {},
     "output_type": "execute_result"
    }
   ],
   "source": [
    "docs"
   ]
  },
  {
   "cell_type": "code",
   "execution_count": 46,
   "id": "f9123c70",
   "metadata": {},
   "outputs": [],
   "source": [
    "from langchain.output_parsers import ResponseSchema\n",
    "from langchain.output_parsers import StructuredOutputParser\n",
    "\n",
    "question_schema = ResponseSchema(\n",
    "    name=\"question\",\n",
    "    description=\"a question about the context.\"\n",
    ")\n",
    "\n",
    "question_response_schemas = [\n",
    "    question_schema,\n",
    "]"
   ]
  },
  {
   "cell_type": "code",
   "execution_count": 47,
   "id": "26995500",
   "metadata": {},
   "outputs": [],
   "source": [
    "question_output_parser = StructuredOutputParser.from_response_schemas(question_response_schemas)\n",
    "format_instructions = question_output_parser.get_format_instructions()"
   ]
  },
  {
   "cell_type": "code",
   "execution_count": 48,
   "id": "c6bfe0e3",
   "metadata": {},
   "outputs": [
    {
     "name": "stdout",
     "output_type": "stream",
     "text": [
      "LLM loading...\n"
     ]
    }
   ],
   "source": [
    "from utils.model_loader import ModelLoader\n",
    "from langchain.prompts import ChatPromptTemplate\n",
    "\n",
    "model_loader = ModelLoader()\n",
    "question_generation_llm = model_loader.load_llm()\n",
    "\n",
    "bare_prompt_template = \"{content}\"\n",
    "bare_template = ChatPromptTemplate.from_template(template=bare_prompt_template)"
   ]
  },
  {
   "cell_type": "code",
   "execution_count": 49,
   "id": "1e4d21e8",
   "metadata": {},
   "outputs": [],
   "source": [
    "qa_template = \"\"\"\\\n",
    "You are a University Professor creating a test for advanced students. For each context, create a question that is specific to the context. Avoid creating generic or general questions.\n",
    "\n",
    "question: a question about the context.\n",
    "\n",
    "Format the output as JSON with the following keys:\n",
    "question\n",
    "\n",
    "context: {context}\n",
    "\"\"\"\n",
    "\n",
    "prompt_template = ChatPromptTemplate.from_template(template=qa_template)\n",
    "\n",
    "messages = prompt_template.format_messages(\n",
    "    context=docs[0],\n",
    "    format_instructions=format_instructions\n",
    ")\n",
    "\n",
    "question_generation_chain = bare_template | question_generation_llm\n",
    "\n",
    "response = question_generation_chain.invoke({\"content\" : messages})\n",
    "output_dict = question_output_parser.parse(response.content)"
   ]
  },
  {
   "cell_type": "code",
   "execution_count": 50,
   "id": "c86be82a",
   "metadata": {},
   "outputs": [
    {
     "name": "stdout",
     "output_type": "stream",
     "text": [
      "question\n",
      "What specific features of the Apple MacBook Air 13-inch M3 (2024) does the reviewer highlight as advantages in their review?\n"
     ]
    }
   ],
   "source": [
    "for k, v in output_dict.items():\n",
    "  print(k)\n",
    "  print(v)"
   ]
  },
  {
   "cell_type": "code",
   "execution_count": 51,
   "id": "65f5f3e6",
   "metadata": {},
   "outputs": [
    {
     "name": "stderr",
     "output_type": "stream",
     "text": [
      "100%|██████████| 30/30 [00:26<00:00,  1.13it/s]\n"
     ]
    }
   ],
   "source": [
    "from tqdm import tqdm\n",
    "\n",
    "qac_triples = []\n",
    "\n",
    "for text in tqdm(docs[:30]):\n",
    "  messages = prompt_template.format_messages(\n",
    "      context=text,\n",
    "      format_instructions=format_instructions\n",
    "  )\n",
    "  response = question_generation_chain.invoke({\"content\" : messages})\n",
    "  try:\n",
    "    output_dict = question_output_parser.parse(response.content)\n",
    "  except Exception as e:\n",
    "    continue\n",
    "  output_dict[\"context\"] = text\n",
    "  qac_triples.append(output_dict)"
   ]
  },
  {
   "cell_type": "code",
   "execution_count": 52,
   "id": "fe7b4b95",
   "metadata": {},
   "outputs": [
    {
     "data": {
      "text/plain": [
       "{'question': 'What specific feature of the BoAt Rockerz235v2 Bluetooth Headset did the reviewer find particularly useful while driving?',\n",
       " 'context': Document(metadata={'source': 'ACCFZGAQJGYCYDCM', 'row': 327, 'product_title': 'BoAt Rockerz 235v2 with ASAP charging Version 5.0 Bluetooth Headset', 'rating': '5', 'summary': 'Excellent'}, page_content='review: Good product. Never used bluetooth headset before. Now I am happy to see ease in my work. As I noticed boat marketing their products aggressively in market in recent days. About product it\\'s like awesome having better build quality, bass is good, battery backup is fine and vibration though it vibrates my neck when ever I gets call but still feature is must needed when u are driving. Wanted to give 5star but there is a sentence that \" Nothing is perfect in this imperfect world\" 😄😄😉')}"
      ]
     },
     "execution_count": 52,
     "metadata": {},
     "output_type": "execute_result"
    }
   ],
   "source": [
    "qac_triples[5]"
   ]
  },
  {
   "cell_type": "code",
   "execution_count": 53,
   "id": "85ca6247",
   "metadata": {},
   "outputs": [
    {
     "name": "stdout",
     "output_type": "stream",
     "text": [
      "LLM loading...\n"
     ]
    }
   ],
   "source": [
    "answer_generation_llm = model_loader.load_llm()\n",
    "\n",
    "answer_schema = ResponseSchema(\n",
    "    name=\"answer\",\n",
    "    description=\"an answer to the question\"\n",
    ")\n",
    "\n",
    "answer_response_schemas = [\n",
    "    answer_schema,\n",
    "]\n",
    "\n",
    "answer_output_parser = StructuredOutputParser.from_response_schemas(answer_response_schemas)\n",
    "format_instructions = answer_output_parser.get_format_instructions()\n",
    "\n",
    "qa_template = \"\"\"\\\n",
    "You are a Electronic Devices Salesperson and Expert - answering questions asked by customers to help them take a buy decision. For each question and context, create an answer.\n",
    "\n",
    "answer: a answer about the context.\n",
    "\n",
    "Format the output as JSON with the following keys:\n",
    "answer\n",
    "\n",
    "question: {question}\n",
    "context: {context}\n",
    "\"\"\"\n",
    "\n",
    "prompt_template = ChatPromptTemplate.from_template(template=qa_template)\n",
    "\n",
    "messages = prompt_template.format_messages(\n",
    "    context=qac_triples[0][\"context\"],\n",
    "    question=qac_triples[0][\"question\"],\n",
    "    format_instructions=format_instructions\n",
    ")\n",
    "\n",
    "answer_generation_chain = bare_template | answer_generation_llm\n",
    "\n",
    "response = answer_generation_chain.invoke({\"content\" : messages})\n",
    "output_dict = answer_output_parser.parse(response.content)"
   ]
  },
  {
   "cell_type": "code",
   "execution_count": 54,
   "id": "a9a5dab6",
   "metadata": {},
   "outputs": [
    {
     "name": "stdout",
     "output_type": "stream",
     "text": [
      "answer\n",
      "The reviewer highlights the following features of the Apple MacBook Air 13-inch M3 (2024) as advantages: its lightweight design, fast performance, and the beautiful gray color.\n"
     ]
    }
   ],
   "source": [
    "for k, v in output_dict.items():\n",
    "  print(k)\n",
    "  print(v)"
   ]
  },
  {
   "cell_type": "code",
   "execution_count": 55,
   "id": "af744f0f",
   "metadata": {},
   "outputs": [
    {
     "name": "stderr",
     "output_type": "stream",
     "text": [
      "100%|██████████| 30/30 [00:56<00:00,  1.88s/it]\n"
     ]
    }
   ],
   "source": [
    "for triple in tqdm(qac_triples):\n",
    "  messages = prompt_template.format_messages(\n",
    "      context=triple[\"context\"],\n",
    "      question=triple[\"question\"],\n",
    "      format_instructions=format_instructions\n",
    "  )\n",
    "  response = answer_generation_chain.invoke({\"content\" : messages})\n",
    "  try:\n",
    "    output_dict = answer_output_parser.parse(response.content)\n",
    "  except Exception as e:\n",
    "    continue\n",
    "  triple[\"answer\"] = output_dict[\"answer\"]"
   ]
  },
  {
   "cell_type": "code",
   "execution_count": 56,
   "id": "ea00daf7",
   "metadata": {},
   "outputs": [],
   "source": [
    "import pandas as pd\n",
    "from datasets import Dataset\n",
    "\n",
    "ground_truth_qac_set = pd.DataFrame(qac_triples)\n",
    "ground_truth_qac_set[\"context\"] = ground_truth_qac_set[\"context\"].map(lambda x: str(x.page_content))\n",
    "ground_truth_qac_set = ground_truth_qac_set.rename(columns={\"answer\" : \"ground_truth\"})\n",
    "\n",
    "eval_dataset = Dataset.from_pandas(ground_truth_qac_set)"
   ]
  },
  {
   "cell_type": "code",
   "execution_count": 57,
   "id": "53bcdf6f",
   "metadata": {},
   "outputs": [
    {
     "data": {
      "text/html": [
       "<div>\n",
       "<style scoped>\n",
       "    .dataframe tbody tr th:only-of-type {\n",
       "        vertical-align: middle;\n",
       "    }\n",
       "\n",
       "    .dataframe tbody tr th {\n",
       "        vertical-align: top;\n",
       "    }\n",
       "\n",
       "    .dataframe thead th {\n",
       "        text-align: right;\n",
       "    }\n",
       "</style>\n",
       "<table border=\"1\" class=\"dataframe\">\n",
       "  <thead>\n",
       "    <tr style=\"text-align: right;\">\n",
       "      <th></th>\n",
       "      <th>question</th>\n",
       "      <th>context</th>\n",
       "      <th>ground_truth</th>\n",
       "    </tr>\n",
       "  </thead>\n",
       "  <tbody>\n",
       "    <tr>\n",
       "      <th>0</th>\n",
       "      <td>What specific features of the Apple MacBook Ai...</td>\n",
       "      <td>review: This MacBook is so good. It's lightwei...</td>\n",
       "      <td>The reviewer highlights the following features...</td>\n",
       "    </tr>\n",
       "    <tr>\n",
       "      <th>1</th>\n",
       "      <td>What specific use cases does the reviewer find...</td>\n",
       "      <td>review: Good connectivity, battery backup and ...</td>\n",
       "      <td>The reviewer finds the OnePlus Bullets Wireles...</td>\n",
       "    </tr>\n",
       "    <tr>\n",
       "      <th>2</th>\n",
       "      <td>How does the reviewer find the battery life of...</td>\n",
       "      <td>review: The bass is decent one audio clarity i...</td>\n",
       "      <td>The reviewer finds the battery life of the One...</td>\n",
       "    </tr>\n",
       "    <tr>\n",
       "      <th>3</th>\n",
       "      <td>What specific sequence of actions did the cust...</td>\n",
       "      <td>review: Great product, transferred my files fr...</td>\n",
       "      <td>The customer found it crucial to load files fi...</td>\n",
       "    </tr>\n",
       "    <tr>\n",
       "      <th>4</th>\n",
       "      <td>What specific aspect of the phone's battery pe...</td>\n",
       "      <td>review: Phone came in a timely manner and came...</td>\n",
       "      <td>The customer found the battery performance of ...</td>\n",
       "    </tr>\n",
       "    <tr>\n",
       "      <th>5</th>\n",
       "      <td>What specific feature of the BoAt Rockerz235v2...</td>\n",
       "      <td>review: Good product. Never used bluetooth hea...</td>\n",
       "      <td>The reviewer found the vibration feature of th...</td>\n",
       "    </tr>\n",
       "    <tr>\n",
       "      <th>6</th>\n",
       "      <td>What specific features of the OnePlus Bullets ...</td>\n",
       "      <td>review: Excellent quality.. Packing is awesome...</td>\n",
       "      <td>The reviewer finds several features of the One...</td>\n",
       "    </tr>\n",
       "    <tr>\n",
       "      <th>7</th>\n",
       "      <td>What specific issue with the Fitbit Sense watc...</td>\n",
       "      <td>review: I was always a Fitbit user for my iPho...</td>\n",
       "      <td>The user switched from the Fitbit Sense watch ...</td>\n",
       "    </tr>\n",
       "    <tr>\n",
       "      <th>8</th>\n",
       "      <td>What specific feature of the Fitbit Versa4 wou...</td>\n",
       "      <td>review: Let me state at the outset, I do not l...</td>\n",
       "      <td>The specific feature of the Fitbit Versa4 that...</td>\n",
       "    </tr>\n",
       "    <tr>\n",
       "      <th>9</th>\n",
       "      <td>What was the main reason for the customer's in...</td>\n",
       "      <td>review: I changed my iPhone 11 for this 14 Pro...</td>\n",
       "      <td>The main reason for the customer's initial dis...</td>\n",
       "    </tr>\n",
       "    <tr>\n",
       "      <th>10</th>\n",
       "      <td>What specific aspects of the realme Buds Q Blu...</td>\n",
       "      <td>review: Best In this Range....... Blindly Go f...</td>\n",
       "      <td>The reviewer suggests that the sound quality a...</td>\n",
       "    </tr>\n",
       "    <tr>\n",
       "      <th>11</th>\n",
       "      <td>What is the primary reason for the reviewer gi...</td>\n",
       "      <td>review: Yeah the Airdopes are cool , 1299 is v...</td>\n",
       "      <td>The primary reason for the reviewer giving a 4...</td>\n",
       "    </tr>\n",
       "    <tr>\n",
       "      <th>12</th>\n",
       "      <td>What specific features of the BoAt Rockerz235v...</td>\n",
       "      <td>review: Very nice very satisfied and sound qua...</td>\n",
       "      <td>The reviewer was very satisfied with their pur...</td>\n",
       "    </tr>\n",
       "    <tr>\n",
       "      <th>13</th>\n",
       "      <td>What is the reviewer's opinion on the bass qua...</td>\n",
       "      <td>review: Sound quality is acceptable with price...</td>\n",
       "      <td>The reviewer finds the bass quality of the rea...</td>\n",
       "    </tr>\n",
       "    <tr>\n",
       "      <th>14</th>\n",
       "      <td>What specific component of the Canon EOS Rebel...</td>\n",
       "      <td>review: Although it is minor the description s...</td>\n",
       "      <td>The specific component missing from the Canon ...</td>\n",
       "    </tr>\n",
       "    <tr>\n",
       "      <th>15</th>\n",
       "      <td>What is the overall satisfaction rating given ...</td>\n",
       "      <td>review: Okay</td>\n",
       "      <td>The reviewer has given an overall satisfaction...</td>\n",
       "    </tr>\n",
       "    <tr>\n",
       "      <th>16</th>\n",
       "      <td>What specific lens did the reviewer purchase t...</td>\n",
       "      <td>review: I have enjoyed this camera for the mon...</td>\n",
       "      <td>The reviewer purchased a sports lens (specific...</td>\n",
       "    </tr>\n",
       "    <tr>\n",
       "      <th>17</th>\n",
       "      <td>What is the maximum RAM capacity available for...</td>\n",
       "      <td>review: The 2024 Samsung Galaxy Book4 Pro 14 i...</td>\n",
       "      <td>The maximum RAM capacity available for the 14-...</td>\n",
       "    </tr>\n",
       "    <tr>\n",
       "      <th>18</th>\n",
       "      <td>What specific aspect of the setup process of t...</td>\n",
       "      <td>review: FITBIT watches are very good. This is ...</td>\n",
       "      <td>The customer found the setup process of the Fi...</td>\n",
       "    </tr>\n",
       "    <tr>\n",
       "      <th>19</th>\n",
       "      <td>How does the reviewer suggest optimizing the s...</td>\n",
       "      <td>review: This works great with OnePlus 6 where ...</td>\n",
       "      <td>The reviewer suggests optimizing the sound qua...</td>\n",
       "    </tr>\n",
       "    <tr>\n",
       "      <th>20</th>\n",
       "      <td>What specific features of the BoAt Rockerz235v...</td>\n",
       "      <td>review: Very great product at this price I wil...</td>\n",
       "      <td>The reviewer considered the BoAt Rockerz235v2 ...</td>\n",
       "    </tr>\n",
       "    <tr>\n",
       "      <th>21</th>\n",
       "      <td>What specific feature of the Samsung Galaxy Bo...</td>\n",
       "      <td>review: My second Galaxy Book. And I'll buy th...</td>\n",
       "      <td>The reviewer seems to appreciate the 'Gorgeous...</td>\n",
       "    </tr>\n",
       "    <tr>\n",
       "      <th>22</th>\n",
       "      <td>What can be inferred about the reviewer's sati...</td>\n",
       "      <td>review: Super Vera level iruku buds</td>\n",
       "      <td>The reviewer is extremely satisfied with the r...</td>\n",
       "    </tr>\n",
       "    <tr>\n",
       "      <th>23</th>\n",
       "      <td>What specific features of the Apple Watch SE2n...</td>\n",
       "      <td>review: Wanted to start out with a cheaper ver...</td>\n",
       "      <td>The reviewer appreciates the fitness tracking ...</td>\n",
       "    </tr>\n",
       "    <tr>\n",
       "      <th>24</th>\n",
       "      <td>What specific features of the realme Buds Wire...</td>\n",
       "      <td>review: awesome...it's just awesome...the soun...</td>\n",
       "      <td>The reviewer mentions that the 'very long batt...</td>\n",
       "    </tr>\n",
       "    <tr>\n",
       "      <th>25</th>\n",
       "      <td>What specific issue did the customer experienc...</td>\n",
       "      <td>review: First one i ordered was a total dud. K...</td>\n",
       "      <td>The customer experienced issues with their ini...</td>\n",
       "    </tr>\n",
       "    <tr>\n",
       "      <th>26</th>\n",
       "      <td>What specific features of the BoAt Rockerz235v...</td>\n",
       "      <td>review: Ti's is my first Bluetooth headset it ...</td>\n",
       "      <td>The reviewer mentions that the color is attrac...</td>\n",
       "    </tr>\n",
       "    <tr>\n",
       "      <th>27</th>\n",
       "      <td>What was the primary factor that influenced th...</td>\n",
       "      <td>review: Having all the Apple products (iPhone,...</td>\n",
       "      <td>The primary factor that influenced the reviewe...</td>\n",
       "    </tr>\n",
       "    <tr>\n",
       "      <th>28</th>\n",
       "      <td>What specific issues did the reviewer experien...</td>\n",
       "      <td>review: It's a Awesome purchase. Value for mon...</td>\n",
       "      <td>The reviewer experienced charging and connecti...</td>\n",
       "    </tr>\n",
       "    <tr>\n",
       "      <th>29</th>\n",
       "      <td>What specific features of the realme Buds Wire...</td>\n",
       "      <td>review: These earbuds are the best you could b...</td>\n",
       "      <td>The reviewer mentions that the realme Buds Wir...</td>\n",
       "    </tr>\n",
       "  </tbody>\n",
       "</table>\n",
       "</div>"
      ],
      "text/plain": [
       "                                             question  \\\n",
       "0   What specific features of the Apple MacBook Ai...   \n",
       "1   What specific use cases does the reviewer find...   \n",
       "2   How does the reviewer find the battery life of...   \n",
       "3   What specific sequence of actions did the cust...   \n",
       "4   What specific aspect of the phone's battery pe...   \n",
       "5   What specific feature of the BoAt Rockerz235v2...   \n",
       "6   What specific features of the OnePlus Bullets ...   \n",
       "7   What specific issue with the Fitbit Sense watc...   \n",
       "8   What specific feature of the Fitbit Versa4 wou...   \n",
       "9   What was the main reason for the customer's in...   \n",
       "10  What specific aspects of the realme Buds Q Blu...   \n",
       "11  What is the primary reason for the reviewer gi...   \n",
       "12  What specific features of the BoAt Rockerz235v...   \n",
       "13  What is the reviewer's opinion on the bass qua...   \n",
       "14  What specific component of the Canon EOS Rebel...   \n",
       "15  What is the overall satisfaction rating given ...   \n",
       "16  What specific lens did the reviewer purchase t...   \n",
       "17  What is the maximum RAM capacity available for...   \n",
       "18  What specific aspect of the setup process of t...   \n",
       "19  How does the reviewer suggest optimizing the s...   \n",
       "20  What specific features of the BoAt Rockerz235v...   \n",
       "21  What specific feature of the Samsung Galaxy Bo...   \n",
       "22  What can be inferred about the reviewer's sati...   \n",
       "23  What specific features of the Apple Watch SE2n...   \n",
       "24  What specific features of the realme Buds Wire...   \n",
       "25  What specific issue did the customer experienc...   \n",
       "26  What specific features of the BoAt Rockerz235v...   \n",
       "27  What was the primary factor that influenced th...   \n",
       "28  What specific issues did the reviewer experien...   \n",
       "29  What specific features of the realme Buds Wire...   \n",
       "\n",
       "                                              context  \\\n",
       "0   review: This MacBook is so good. It's lightwei...   \n",
       "1   review: Good connectivity, battery backup and ...   \n",
       "2   review: The bass is decent one audio clarity i...   \n",
       "3   review: Great product, transferred my files fr...   \n",
       "4   review: Phone came in a timely manner and came...   \n",
       "5   review: Good product. Never used bluetooth hea...   \n",
       "6   review: Excellent quality.. Packing is awesome...   \n",
       "7   review: I was always a Fitbit user for my iPho...   \n",
       "8   review: Let me state at the outset, I do not l...   \n",
       "9   review: I changed my iPhone 11 for this 14 Pro...   \n",
       "10  review: Best In this Range....... Blindly Go f...   \n",
       "11  review: Yeah the Airdopes are cool , 1299 is v...   \n",
       "12  review: Very nice very satisfied and sound qua...   \n",
       "13  review: Sound quality is acceptable with price...   \n",
       "14  review: Although it is minor the description s...   \n",
       "15                                       review: Okay   \n",
       "16  review: I have enjoyed this camera for the mon...   \n",
       "17  review: The 2024 Samsung Galaxy Book4 Pro 14 i...   \n",
       "18  review: FITBIT watches are very good. This is ...   \n",
       "19  review: This works great with OnePlus 6 where ...   \n",
       "20  review: Very great product at this price I wil...   \n",
       "21  review: My second Galaxy Book. And I'll buy th...   \n",
       "22                review: Super Vera level iruku buds   \n",
       "23  review: Wanted to start out with a cheaper ver...   \n",
       "24  review: awesome...it's just awesome...the soun...   \n",
       "25  review: First one i ordered was a total dud. K...   \n",
       "26  review: Ti's is my first Bluetooth headset it ...   \n",
       "27  review: Having all the Apple products (iPhone,...   \n",
       "28  review: It's a Awesome purchase. Value for mon...   \n",
       "29  review: These earbuds are the best you could b...   \n",
       "\n",
       "                                         ground_truth  \n",
       "0   The reviewer highlights the following features...  \n",
       "1   The reviewer finds the OnePlus Bullets Wireles...  \n",
       "2   The reviewer finds the battery life of the One...  \n",
       "3   The customer found it crucial to load files fi...  \n",
       "4   The customer found the battery performance of ...  \n",
       "5   The reviewer found the vibration feature of th...  \n",
       "6   The reviewer finds several features of the One...  \n",
       "7   The user switched from the Fitbit Sense watch ...  \n",
       "8   The specific feature of the Fitbit Versa4 that...  \n",
       "9   The main reason for the customer's initial dis...  \n",
       "10  The reviewer suggests that the sound quality a...  \n",
       "11  The primary reason for the reviewer giving a 4...  \n",
       "12  The reviewer was very satisfied with their pur...  \n",
       "13  The reviewer finds the bass quality of the rea...  \n",
       "14  The specific component missing from the Canon ...  \n",
       "15  The reviewer has given an overall satisfaction...  \n",
       "16  The reviewer purchased a sports lens (specific...  \n",
       "17  The maximum RAM capacity available for the 14-...  \n",
       "18  The customer found the setup process of the Fi...  \n",
       "19  The reviewer suggests optimizing the sound qua...  \n",
       "20  The reviewer considered the BoAt Rockerz235v2 ...  \n",
       "21  The reviewer seems to appreciate the 'Gorgeous...  \n",
       "22  The reviewer is extremely satisfied with the r...  \n",
       "23  The reviewer appreciates the fitness tracking ...  \n",
       "24  The reviewer mentions that the 'very long batt...  \n",
       "25  The customer experienced issues with their ini...  \n",
       "26  The reviewer mentions that the color is attrac...  \n",
       "27  The primary factor that influenced the reviewe...  \n",
       "28  The reviewer experienced charging and connecti...  \n",
       "29  The reviewer mentions that the realme Buds Wir...  "
      ]
     },
     "execution_count": 57,
     "metadata": {},
     "output_type": "execute_result"
    }
   ],
   "source": [
    "ground_truth_qac_set"
   ]
  },
  {
   "cell_type": "code",
   "execution_count": 58,
   "id": "74e6f405",
   "metadata": {},
   "outputs": [],
   "source": [
    "from langchain_core.runnables import RunnablePassthrough\n",
    "from langchain_core.output_parsers import StrOutputParser\n",
    "from retriever.retrieval import Retriever\n",
    "from utils.model_loader import ModelLoader\n",
    "from prompt_library.prompt import PROMPT_TEMPLATES\n",
    "from dotenv import load_dotenv\n",
    "\n",
    "load_dotenv()\n",
    "\n",
    "retriever_obj = Retriever()\n",
    "\n",
    "model_loader = ModelLoader()\n",
    "\n",
    "def invoke_chain(query:str):\n",
    "    \n",
    "    retriever=retriever_obj.load_retriever()\n",
    "    prompt = ChatPromptTemplate.from_template(PROMPT_TEMPLATES[\"product_bot\"])\n",
    "    llm= model_loader.load_llm()\n",
    "    \n",
    "    chain=(\n",
    "        {\"context\": retriever, \"question\": RunnablePassthrough()}\n",
    "        | prompt\n",
    "        | llm\n",
    "        | StrOutputParser()\n",
    "    \n",
    "    )\n",
    "    \n",
    "    context = retriever_obj.call_retriever(query)\n",
    "    \n",
    "    output=chain.invoke(query)\n",
    "    \n",
    "    return output,context"
   ]
  },
  {
   "cell_type": "code",
   "execution_count": 59,
   "id": "72b7518d",
   "metadata": {},
   "outputs": [
    {
     "data": {
      "text/plain": [
       "'What specific use cases does the reviewer find the OnePlus Bullets Wireless Z Bass Edition Bluetooth Headset suitable for, according to their review?'"
      ]
     },
     "execution_count": 59,
     "metadata": {},
     "output_type": "execute_result"
    }
   ],
   "source": [
    "eval_dataset['question'][1]"
   ]
  },
  {
   "cell_type": "code",
   "execution_count": 60,
   "id": "d1df6937",
   "metadata": {},
   "outputs": [
    {
     "name": "stdout",
     "output_type": "stream",
     "text": [
      "Loading Embedding model\n",
      "Retriever loaded successfully.\n",
      "LLM loading...\n",
      "Retriever loaded successfully.\n"
     ]
    },
    {
     "data": {
      "text/plain": [
       "[Document(id='590a913e3b094eb597afbbc79e54f248', metadata={'product_name': 'Apple MacBook Air 13-inch M3 (2024)', 'product_rating': 5, 'product_summary': 'Great little present'}, page_content='Bought for my husband, for home use. The 2024 MacBook Air with the M3 chip is a fantastic laptop for anyone who needs a powerful, portable, and stylish machine. Its exceptional performance, stunning display, and all-day battery life make it a top contender in the premium laptop market.'),\n",
       " Document(id='e4e983a34b7d4420b84b7bf27c0a5d7b', metadata={'product_name': 'Apple MacBook Air 13-inch M3 (2024)', 'product_rating': 4, 'product_summary': 'High quality but questionable value and compatibility'}, page_content='I\\'ve had this for a month now. I\\'m coming from windows. I also build my own gaming PCs and like to keep up on technology. I\\'m currently using this for grad school. This is my 2 cents on the Apple Air M3.The Good:-Very high quality external hardware and build (all aluminum, very sturdy and aesthetically pleasing.- Highly compact build-Great battery life. I\\'m in grad school now and I\\'ve done 2 hours days without a charge.- Fast and responsive for the type of productivity I\\'m using it for.- \"Just works\" no major crashes or tech issues yetThe Bad:Fingerprint magnet in \"Midnight\" color. Collects smudges and finger prints very easily and visibly.-No Spotify app in the Apple store for MacBook (but is available for iPad and iPhone) I had to side download it off the Spotify website. Strange that Apple does not support this in their own store.- No virtual assistant choices. Google Assistant and Alexa are not available in the Apple store for Mac (but are available for iPad and iPhone). Cannot be officially downloaded either. Your stuck with Siri, which for me is an inferior virtual assistant and not compatible with many things outside of the Apple ecosystem such as Sony noise cancelling headphones ECT.- The M3 with 16GB of ram and 512GB SSD and no dedicated GPU cost as much as much as my Windows gaming laptop from 7 years ago (2017) that had 16GB of ram and 512GB SSD and a powerful GPU. Those specs in 2024 are low/entry level for a premium device. The fact that Apple sells an 8GB 256GB SSD version of this device for as much as it does is really insulting, not future proof, nor anywhere near market value of that hardware. This is especially true if you use demanding software outside of the Apple ecosystem.Apple fans will cry the device does not need as much ram as a non ARM Windows device and thats true, but windows makes ARM laptops now and the year is 2024, a 7 year old laptop should not be competing with this device. It\\'s overpriced and under speced.Conclusion: Overall this is a quality product and I have no regrets about buying it. I think it\\'s good to be proficient in Windows and Mac. I like owning both systems. However the value of this product (and all apple products) is questionable. A Windows Co-pilot Arm device, such as the Microsoft Surface Laptop is likely a better value in everyway unless your deeply invested in Apples Ecosystem.'),\n",
       " Document(id='2985f5370cdd4f5dbf18e009b31dd34b', metadata={'product_name': 'Apple MacBook Air 13-inch M3 (2024)', 'product_rating': 5, 'product_summary': 'Great'}, page_content='The MacBook Air 2024 is an exceptional choice for individuals who engage in remote work and frequent travel. It combines exceptional high-quality and speed performance with a range of intuitive features that facilitate seamless productivity.'),\n",
       " Document(id='78fb0c25d621476f84a109b243e0c50b', metadata={'product_name': 'Apple MacBook Air 13-inch M3 (2024)', 'product_rating': 5, 'product_summary': 'Very happy with my purchase'}, page_content='I have prepared for my purchase of a laptop for 1 yr. I had not narrowed it to a particular brand until about two months ago. After much research, I decided the Apple MacBook Air M3 fit exactly my needs.The construction of the aluminum case feels very study. I am finding the Apple system and support are a big plus. The laptop was super easy to set up for my needs.The battery charge last a long time. My last charge lasted 4 days. Now I’m not a gamer. I use my laptop for everything from communications on emails, some social media, watching news, reading research articles and doing some excel spreadsheets.I am very happy with my purchase. It is light enough for easy portability. I look forward to years of using the MacBook.I will add that if you have concerns about finger prints on the case, get the silver. I have had zero finger print issues with this color.'),\n",
       " Document(id='1eb49e0d88534abca46e547b1e42c8c5', metadata={'product_name': 'Apple MacBook Air 13-inch M3 (2024)', 'product_rating': 5, 'product_summary': 'Apple 2024 MacBook Air 13'}, page_content=\"Wife loves her new 2024 MacBook Air. This replaced her MacBook Air 13-inch from 2013. Huge improvement for her. Only reason we replaced her 2013 Air was it was 11yrs old and Apple could no longer upgrade the iOS. Won't buy anything but a Mac!\")]"
      ]
     },
     "execution_count": 60,
     "metadata": {},
     "output_type": "execute_result"
    }
   ],
   "source": [
    "a,b = invoke_chain(eval_dataset['question'][0])\n",
    "b"
   ]
  },
  {
   "cell_type": "code",
   "execution_count": 61,
   "id": "d6562c41",
   "metadata": {},
   "outputs": [
    {
     "data": {
      "text/plain": [
       "'The reviewers highlight several features of the Apple MacBook Air 13-inch M3 (2024) as advantages. These include:\\n\\n* Exceptional performance and speed\\n* Stunning display\\n* All-day battery life (with one reviewer reporting 4 days of use)\\n* Highly compact and portable build\\n* Great external hardware and build quality (all aluminum, sturdy, and aesthetically pleasing)\\n* Intuitive features that facilitate seamless productivity\\n* Easy setup and user-friendly system\\n* Good compatibility with Apple ecosystem \\n\\nThese features make the laptop suitable for remote work, travel, and general productivity tasks.'"
      ]
     },
     "execution_count": 61,
     "metadata": {},
     "output_type": "execute_result"
    }
   ],
   "source": [
    "a"
   ]
  },
  {
   "cell_type": "code",
   "execution_count": 62,
   "id": "c8e89a31",
   "metadata": {},
   "outputs": [
    {
     "data": {
      "text/plain": [
       "['Bought for my husband, for home use. The 2024 MacBook Air with the M3 chip is a fantastic laptop for anyone who needs a powerful, portable, and stylish machine. Its exceptional performance, stunning display, and all-day battery life make it a top contender in the premium laptop market.',\n",
       " 'I\\'ve had this for a month now. I\\'m coming from windows. I also build my own gaming PCs and like to keep up on technology. I\\'m currently using this for grad school. This is my 2 cents on the Apple Air M3.The Good:-Very high quality external hardware and build (all aluminum, very sturdy and aesthetically pleasing.- Highly compact build-Great battery life. I\\'m in grad school now and I\\'ve done 2 hours days without a charge.- Fast and responsive for the type of productivity I\\'m using it for.- \"Just works\" no major crashes or tech issues yetThe Bad:Fingerprint magnet in \"Midnight\" color. Collects smudges and finger prints very easily and visibly.-No Spotify app in the Apple store for MacBook (but is available for iPad and iPhone) I had to side download it off the Spotify website. Strange that Apple does not support this in their own store.- No virtual assistant choices. Google Assistant and Alexa are not available in the Apple store for Mac (but are available for iPad and iPhone). Cannot be officially downloaded either. Your stuck with Siri, which for me is an inferior virtual assistant and not compatible with many things outside of the Apple ecosystem such as Sony noise cancelling headphones ECT.- The M3 with 16GB of ram and 512GB SSD and no dedicated GPU cost as much as much as my Windows gaming laptop from 7 years ago (2017) that had 16GB of ram and 512GB SSD and a powerful GPU. Those specs in 2024 are low/entry level for a premium device. The fact that Apple sells an 8GB 256GB SSD version of this device for as much as it does is really insulting, not future proof, nor anywhere near market value of that hardware. This is especially true if you use demanding software outside of the Apple ecosystem.Apple fans will cry the device does not need as much ram as a non ARM Windows device and thats true, but windows makes ARM laptops now and the year is 2024, a 7 year old laptop should not be competing with this device. It\\'s overpriced and under speced.Conclusion: Overall this is a quality product and I have no regrets about buying it. I think it\\'s good to be proficient in Windows and Mac. I like owning both systems. However the value of this product (and all apple products) is questionable. A Windows Co-pilot Arm device, such as the Microsoft Surface Laptop is likely a better value in everyway unless your deeply invested in Apples Ecosystem.',\n",
       " 'The MacBook Air 2024 is an exceptional choice for individuals who engage in remote work and frequent travel. It combines exceptional high-quality and speed performance with a range of intuitive features that facilitate seamless productivity.',\n",
       " 'I have prepared for my purchase of a laptop for 1 yr. I had not narrowed it to a particular brand until about two months ago. After much research, I decided the Apple MacBook Air M3 fit exactly my needs.The construction of the aluminum case feels very study. I am finding the Apple system and support are a big plus. The laptop was super easy to set up for my needs.The battery charge last a long time. My last charge lasted 4 days. Now I’m not a gamer. I use my laptop for everything from communications on emails, some social media, watching news, reading research articles and doing some excel spreadsheets.I am very happy with my purchase. It is light enough for easy portability. I look forward to years of using the MacBook.I will add that if you have concerns about finger prints on the case, get the silver. I have had zero finger print issues with this color.',\n",
       " \"Wife loves her new 2024 MacBook Air. This replaced her MacBook Air 13-inch from 2013. Huge improvement for her. Only reason we replaced her 2013 Air was it was 11yrs old and Apple could no longer upgrade the iOS. Won't buy anything but a Mac!\"]"
      ]
     },
     "execution_count": 62,
     "metadata": {},
     "output_type": "execute_result"
    }
   ],
   "source": [
    "[cnt.page_content for cnt in b]"
   ]
  },
  {
   "cell_type": "code",
   "execution_count": 63,
   "id": "c56aa0a6",
   "metadata": {},
   "outputs": [],
   "source": [
    "def create_ragas_dataset(eval_dataset):\n",
    "  rag_dataset = []\n",
    "  for row in tqdm(eval_dataset):\n",
    "    answer,context = invoke_chain(row[\"question\"])\n",
    "    rag_dataset.append(\n",
    "        {\"question\" : row[\"question\"],\n",
    "         \"answer\" : answer,\n",
    "         \"contexts\" : [cnt.page_content for cnt in context],\n",
    "         \"ground_truths\" : [row[\"ground_truth\"]]\n",
    "         }\n",
    "    )\n",
    "  rag_df = pd.DataFrame(rag_dataset)\n",
    "  rag_eval_dataset = Dataset.from_pandas(rag_df)\n",
    "  return rag_eval_dataset"
   ]
  },
  {
   "cell_type": "code",
   "execution_count": 64,
   "id": "6cb4c807",
   "metadata": {},
   "outputs": [
    {
     "name": "stderr",
     "output_type": "stream",
     "text": [
      "  0%|          | 0/30 [00:00<?, ?it/s]"
     ]
    },
    {
     "name": "stdout",
     "output_type": "stream",
     "text": [
      "Retriever loaded successfully.\n",
      "LLM loading...\n",
      "Retriever loaded successfully.\n"
     ]
    },
    {
     "name": "stderr",
     "output_type": "stream",
     "text": [
      "  3%|▎         | 1/30 [00:04<01:58,  4.08s/it]"
     ]
    },
    {
     "name": "stdout",
     "output_type": "stream",
     "text": [
      "Retriever loaded successfully.\n",
      "LLM loading...\n",
      "Retriever loaded successfully.\n"
     ]
    },
    {
     "name": "stderr",
     "output_type": "stream",
     "text": [
      "  7%|▋         | 2/30 [00:07<01:39,  3.56s/it]"
     ]
    },
    {
     "name": "stdout",
     "output_type": "stream",
     "text": [
      "Retriever loaded successfully.\n",
      "LLM loading...\n",
      "Retriever loaded successfully.\n"
     ]
    },
    {
     "name": "stderr",
     "output_type": "stream",
     "text": [
      " 10%|█         | 3/30 [00:11<01:40,  3.73s/it]"
     ]
    },
    {
     "name": "stdout",
     "output_type": "stream",
     "text": [
      "Retriever loaded successfully.\n",
      "LLM loading...\n",
      "Retriever loaded successfully.\n"
     ]
    },
    {
     "name": "stderr",
     "output_type": "stream",
     "text": [
      " 13%|█▎        | 4/30 [00:15<01:40,  3.85s/it]"
     ]
    },
    {
     "name": "stdout",
     "output_type": "stream",
     "text": [
      "Retriever loaded successfully.\n",
      "LLM loading...\n",
      "Retriever loaded successfully.\n"
     ]
    },
    {
     "name": "stderr",
     "output_type": "stream",
     "text": [
      " 17%|█▋        | 5/30 [00:18<01:34,  3.77s/it]"
     ]
    },
    {
     "name": "stdout",
     "output_type": "stream",
     "text": [
      "Retriever loaded successfully.\n",
      "LLM loading...\n",
      "Retriever loaded successfully.\n"
     ]
    },
    {
     "name": "stderr",
     "output_type": "stream",
     "text": [
      " 20%|██        | 6/30 [00:21<01:21,  3.39s/it]"
     ]
    },
    {
     "name": "stdout",
     "output_type": "stream",
     "text": [
      "Retriever loaded successfully.\n",
      "LLM loading...\n",
      "Retriever loaded successfully.\n"
     ]
    },
    {
     "name": "stderr",
     "output_type": "stream",
     "text": [
      " 23%|██▎       | 7/30 [00:24<01:16,  3.33s/it]"
     ]
    },
    {
     "name": "stdout",
     "output_type": "stream",
     "text": [
      "Retriever loaded successfully.\n",
      "LLM loading...\n",
      "Retriever loaded successfully.\n"
     ]
    },
    {
     "name": "stderr",
     "output_type": "stream",
     "text": [
      " 27%|██▋       | 8/30 [00:27<01:08,  3.09s/it]"
     ]
    },
    {
     "name": "stdout",
     "output_type": "stream",
     "text": [
      "Retriever loaded successfully.\n",
      "LLM loading...\n",
      "Retriever loaded successfully.\n"
     ]
    },
    {
     "name": "stderr",
     "output_type": "stream",
     "text": [
      " 30%|███       | 9/30 [00:29<01:00,  2.86s/it]"
     ]
    },
    {
     "name": "stdout",
     "output_type": "stream",
     "text": [
      "Retriever loaded successfully.\n",
      "LLM loading...\n",
      "Retriever loaded successfully.\n"
     ]
    },
    {
     "name": "stderr",
     "output_type": "stream",
     "text": [
      " 33%|███▎      | 10/30 [00:32<00:58,  2.94s/it]"
     ]
    },
    {
     "name": "stdout",
     "output_type": "stream",
     "text": [
      "Retriever loaded successfully.\n",
      "LLM loading...\n",
      "Retriever loaded successfully.\n"
     ]
    },
    {
     "name": "stderr",
     "output_type": "stream",
     "text": [
      " 37%|███▋      | 11/30 [00:35<00:54,  2.87s/it]"
     ]
    },
    {
     "name": "stdout",
     "output_type": "stream",
     "text": [
      "Retriever loaded successfully.\n",
      "LLM loading...\n",
      "Retriever loaded successfully.\n"
     ]
    },
    {
     "name": "stderr",
     "output_type": "stream",
     "text": [
      " 40%|████      | 12/30 [00:37<00:48,  2.69s/it]"
     ]
    },
    {
     "name": "stdout",
     "output_type": "stream",
     "text": [
      "Retriever loaded successfully.\n",
      "LLM loading...\n",
      "Retriever loaded successfully.\n"
     ]
    },
    {
     "name": "stderr",
     "output_type": "stream",
     "text": [
      " 43%|████▎     | 13/30 [00:40<00:43,  2.57s/it]"
     ]
    },
    {
     "name": "stdout",
     "output_type": "stream",
     "text": [
      "Retriever loaded successfully.\n",
      "LLM loading...\n",
      "Retriever loaded successfully.\n"
     ]
    },
    {
     "name": "stderr",
     "output_type": "stream",
     "text": [
      " 47%|████▋     | 14/30 [00:42<00:42,  2.64s/it]"
     ]
    },
    {
     "name": "stdout",
     "output_type": "stream",
     "text": [
      "Retriever loaded successfully.\n",
      "LLM loading...\n",
      "Retriever loaded successfully.\n"
     ]
    },
    {
     "name": "stderr",
     "output_type": "stream",
     "text": [
      " 50%|█████     | 15/30 [00:45<00:40,  2.68s/it]"
     ]
    },
    {
     "name": "stdout",
     "output_type": "stream",
     "text": [
      "Retriever loaded successfully.\n",
      "LLM loading...\n",
      "Retriever loaded successfully.\n"
     ]
    },
    {
     "name": "stderr",
     "output_type": "stream",
     "text": [
      " 53%|█████▎    | 16/30 [00:48<00:36,  2.63s/it]"
     ]
    },
    {
     "name": "stdout",
     "output_type": "stream",
     "text": [
      "Retriever loaded successfully.\n",
      "LLM loading...\n",
      "Retriever loaded successfully.\n"
     ]
    },
    {
     "name": "stderr",
     "output_type": "stream",
     "text": [
      " 57%|█████▋    | 17/30 [00:50<00:33,  2.56s/it]"
     ]
    },
    {
     "name": "stdout",
     "output_type": "stream",
     "text": [
      "Retriever loaded successfully.\n",
      "LLM loading...\n",
      "Retriever loaded successfully.\n"
     ]
    },
    {
     "name": "stderr",
     "output_type": "stream",
     "text": [
      " 60%|██████    | 18/30 [00:53<00:30,  2.58s/it]"
     ]
    },
    {
     "name": "stdout",
     "output_type": "stream",
     "text": [
      "Retriever loaded successfully.\n",
      "LLM loading...\n",
      "Retriever loaded successfully.\n"
     ]
    },
    {
     "name": "stderr",
     "output_type": "stream",
     "text": [
      " 63%|██████▎   | 19/30 [00:55<00:27,  2.50s/it]"
     ]
    },
    {
     "name": "stdout",
     "output_type": "stream",
     "text": [
      "Retriever loaded successfully.\n",
      "LLM loading...\n",
      "Retriever loaded successfully.\n"
     ]
    },
    {
     "name": "stderr",
     "output_type": "stream",
     "text": [
      " 67%|██████▋   | 20/30 [00:58<00:26,  2.67s/it]"
     ]
    },
    {
     "name": "stdout",
     "output_type": "stream",
     "text": [
      "Retriever loaded successfully.\n",
      "LLM loading...\n",
      "Retriever loaded successfully.\n"
     ]
    },
    {
     "name": "stderr",
     "output_type": "stream",
     "text": [
      " 70%|███████   | 21/30 [01:00<00:23,  2.58s/it]"
     ]
    },
    {
     "name": "stdout",
     "output_type": "stream",
     "text": [
      "Retriever loaded successfully.\n",
      "LLM loading...\n",
      "Retriever loaded successfully.\n"
     ]
    },
    {
     "name": "stderr",
     "output_type": "stream",
     "text": [
      " 73%|███████▎  | 22/30 [01:03<00:21,  2.72s/it]"
     ]
    },
    {
     "name": "stdout",
     "output_type": "stream",
     "text": [
      "Retriever loaded successfully.\n",
      "LLM loading...\n",
      "Retriever loaded successfully.\n"
     ]
    },
    {
     "name": "stderr",
     "output_type": "stream",
     "text": [
      " 77%|███████▋  | 23/30 [01:06<00:19,  2.80s/it]"
     ]
    },
    {
     "name": "stdout",
     "output_type": "stream",
     "text": [
      "Retriever loaded successfully.\n",
      "LLM loading...\n",
      "Retriever loaded successfully.\n"
     ]
    },
    {
     "name": "stderr",
     "output_type": "stream",
     "text": [
      " 80%|████████  | 24/30 [01:09<00:15,  2.66s/it]"
     ]
    },
    {
     "name": "stdout",
     "output_type": "stream",
     "text": [
      "Retriever loaded successfully.\n",
      "LLM loading...\n",
      "Retriever loaded successfully.\n"
     ]
    },
    {
     "name": "stderr",
     "output_type": "stream",
     "text": [
      " 83%|████████▎ | 25/30 [01:12<00:14,  2.88s/it]"
     ]
    },
    {
     "name": "stdout",
     "output_type": "stream",
     "text": [
      "Retriever loaded successfully.\n",
      "LLM loading...\n",
      "Retriever loaded successfully.\n"
     ]
    },
    {
     "name": "stderr",
     "output_type": "stream",
     "text": [
      " 87%|████████▋ | 26/30 [01:15<00:10,  2.74s/it]"
     ]
    },
    {
     "name": "stdout",
     "output_type": "stream",
     "text": [
      "Retriever loaded successfully.\n",
      "LLM loading...\n",
      "Retriever loaded successfully.\n"
     ]
    },
    {
     "name": "stderr",
     "output_type": "stream",
     "text": [
      " 90%|█████████ | 27/30 [01:18<00:08,  2.85s/it]"
     ]
    },
    {
     "name": "stdout",
     "output_type": "stream",
     "text": [
      "Retriever loaded successfully.\n",
      "LLM loading...\n",
      "Retriever loaded successfully.\n"
     ]
    },
    {
     "name": "stderr",
     "output_type": "stream",
     "text": [
      " 93%|█████████▎| 28/30 [01:20<00:05,  2.73s/it]"
     ]
    },
    {
     "name": "stdout",
     "output_type": "stream",
     "text": [
      "Retriever loaded successfully.\n",
      "LLM loading...\n",
      "Retriever loaded successfully.\n"
     ]
    },
    {
     "name": "stderr",
     "output_type": "stream",
     "text": [
      " 97%|█████████▋| 29/30 [01:23<00:02,  2.63s/it]"
     ]
    },
    {
     "name": "stdout",
     "output_type": "stream",
     "text": [
      "Retriever loaded successfully.\n",
      "LLM loading...\n",
      "Retriever loaded successfully.\n"
     ]
    },
    {
     "name": "stderr",
     "output_type": "stream",
     "text": [
      "100%|██████████| 30/30 [01:25<00:00,  2.85s/it]\n"
     ]
    }
   ],
   "source": [
    "from tqdm import tqdm\n",
    "import pandas as pd\n",
    "\n",
    "basic_qa_ragas_dataset = create_ragas_dataset(eval_dataset)"
   ]
  },
  {
   "cell_type": "code",
   "execution_count": 65,
   "id": "eae990a4",
   "metadata": {},
   "outputs": [],
   "source": [
    "rag_test_data = pd.DataFrame(basic_qa_ragas_dataset)"
   ]
  },
  {
   "cell_type": "code",
   "execution_count": null,
   "id": "c03d099b",
   "metadata": {},
   "outputs": [],
   "source": [
    "rag_test_data.to_csv(\"rag_test_data.csv\",index=False)"
   ]
  },
  {
   "cell_type": "code",
   "execution_count": 32,
   "id": "8e0fc70d",
   "metadata": {},
   "outputs": [
    {
     "data": {
      "text/html": [
       "<div>\n",
       "<style scoped>\n",
       "    .dataframe tbody tr th:only-of-type {\n",
       "        vertical-align: middle;\n",
       "    }\n",
       "\n",
       "    .dataframe tbody tr th {\n",
       "        vertical-align: top;\n",
       "    }\n",
       "\n",
       "    .dataframe thead th {\n",
       "        text-align: right;\n",
       "    }\n",
       "</style>\n",
       "<table border=\"1\" class=\"dataframe\">\n",
       "  <thead>\n",
       "    <tr style=\"text-align: right;\">\n",
       "      <th></th>\n",
       "      <th>question</th>\n",
       "      <th>answer</th>\n",
       "      <th>contexts</th>\n",
       "      <th>ground_truths</th>\n",
       "    </tr>\n",
       "  </thead>\n",
       "  <tbody>\n",
       "    <tr>\n",
       "      <th>0</th>\n",
       "      <td>What specific features of the BoAt BassHeads10...</td>\n",
       "      <td>There seems to be some confusion. The provided...</td>\n",
       "      <td>['nice product..  color is exactly shown in th...</td>\n",
       "      <td>[\"The reviewer appreciates the sound quality a...</td>\n",
       "    </tr>\n",
       "    <tr>\n",
       "      <th>1</th>\n",
       "      <td>What is the approximate standby time of the On...</td>\n",
       "      <td>According to one of the reviews, the standby t...</td>\n",
       "      <td>[\"Looking nice product...I got just 1day deliv...</td>\n",
       "      <td>['The approximate standby time of the OnePlus ...</td>\n",
       "    </tr>\n",
       "    <tr>\n",
       "      <th>2</th>\n",
       "      <td>What specific feature of the U&amp;I Titanic Serie...</td>\n",
       "      <td>Unfortunately, I couldn't find any information...</td>\n",
       "      <td>['Awesome sound and bass. Love this product.',...</td>\n",
       "      <td>['The specific feature of the U&amp;I Titanic Seri...</td>\n",
       "    </tr>\n",
       "    <tr>\n",
       "      <th>3</th>\n",
       "      <td>How did the reviewer initially feel about the ...</td>\n",
       "      <td>I couldn't find any information related to the...</td>\n",
       "      <td>[\"Don't hesitate to buy that green color buds!...</td>\n",
       "      <td>['The reviewer initially felt frustrated with ...</td>\n",
       "    </tr>\n",
       "    <tr>\n",
       "      <th>4</th>\n",
       "      <td>What method of exporting pictures from the Can...</td>\n",
       "      <td>The provided documents do not mention the Cano...</td>\n",
       "      <td>[\"I'm loving this bluetooth ☺️😍\", 'NICE WONDER...</td>\n",
       "      <td>['Using the memory card and an adapter for the...</td>\n",
       "    </tr>\n",
       "    <tr>\n",
       "      <th>5</th>\n",
       "      <td>What steps did the customer take to verify tha...</td>\n",
       "      <td>Based on the provided reviews, I couldn't find...</td>\n",
       "      <td>['i purchased this headphones about 1 yr ago 1...</td>\n",
       "      <td>[\"The customer took several steps to verify th...</td>\n",
       "    </tr>\n",
       "    <tr>\n",
       "      <th>6</th>\n",
       "      <td>What specific feature of the BoAt Airdopes131 ...</td>\n",
       "      <td>The specific feature that led to strong dissat...</td>\n",
       "      <td>['Worst product ever bought. Instead, you can ...</td>\n",
       "      <td>[\"The specific feature that led to the reviewe...</td>\n",
       "    </tr>\n",
       "    <tr>\n",
       "      <th>7</th>\n",
       "      <td>What specific feature of the U&amp;I Titanic Serie...</td>\n",
       "      <td>Based on the reviews, the specific feature tha...</td>\n",
       "      <td>[\"I am very happy with this product. The U&amp;I T...</td>\n",
       "      <td>['The reviewer considers the battery backup of...</td>\n",
       "    </tr>\n",
       "    <tr>\n",
       "      <th>8</th>\n",
       "      <td>What specific feature of the OnePlus Bullets W...</td>\n",
       "      <td>The reviewer is particularly fond of the **cry...</td>\n",
       "      <td>[\"Looking nice product...I got just 1day deliv...</td>\n",
       "      <td>['The reviewer is particularly fond of the blu...</td>\n",
       "    </tr>\n",
       "    <tr>\n",
       "      <th>9</th>\n",
       "      <td>What specific health and fitness tracking feat...</td>\n",
       "      <td>The provided documents do not mention the Appl...</td>\n",
       "      <td>['Good battery back up, sound should be improv...</td>\n",
       "      <td>['The reviewer misses the real-time heart rate...</td>\n",
       "    </tr>\n",
       "    <tr>\n",
       "      <th>10</th>\n",
       "      <td>What was the nature of the manufacturing defec...</td>\n",
       "      <td>There is no information available about the On...</td>\n",
       "      <td>['In a month only one earpiece stopped working...</td>\n",
       "      <td>['The manufacturing defect experienced with th...</td>\n",
       "    </tr>\n",
       "    <tr>\n",
       "      <th>11</th>\n",
       "      <td>What is the primary reason for the reviewer gi...</td>\n",
       "      <td>The primary reason for the reviewer giving a 4...</td>\n",
       "      <td>['I using these Headset for last 2 days. The e...</td>\n",
       "      <td>[\"The primary reason for the reviewer giving a...</td>\n",
       "    </tr>\n",
       "    <tr>\n",
       "      <th>12</th>\n",
       "      <td>What is the reviewer's opinion on the battery ...</td>\n",
       "      <td>There is no information available on the Realm...</td>\n",
       "      <td>[\"This review is after 1 month of use .Pro:- 1...</td>\n",
       "      <td>[\"The reviewer has a very positive opinion on ...</td>\n",
       "    </tr>\n",
       "    <tr>\n",
       "      <th>13</th>\n",
       "      <td>What specific aspect of the sound quality did ...</td>\n",
       "      <td>Based on the provided reviews, it appears that...</td>\n",
       "      <td>[\"Not at all for bass lover. The music just se...</td>\n",
       "      <td>['The reviewer expected to experience punchier...</td>\n",
       "    </tr>\n",
       "    <tr>\n",
       "      <th>14</th>\n",
       "      <td>What is the primary reason mentioned in the re...</td>\n",
       "      <td>The primary reasons mentioned in the reviews f...</td>\n",
       "      <td>[\"Looking nice product...I got just 1day deliv...</td>\n",
       "      <td>[\"The primary reason mentioned in the review f...</td>\n",
       "    </tr>\n",
       "    <tr>\n",
       "      <th>15</th>\n",
       "      <td>What specific aspect of the OnePlus Bullets Wi...</td>\n",
       "      <td>Based on the provided reviews, I couldn't find...</td>\n",
       "      <td>[\"I'm fan for Oneplus since their first produc...</td>\n",
       "      <td>[\"The reviewer mentions that the bass provided...</td>\n",
       "    </tr>\n",
       "    <tr>\n",
       "      <th>16</th>\n",
       "      <td>What specific aspect of the OnePlus Bullets Wi...</td>\n",
       "      <td>Based on the reviews provided, the specific as...</td>\n",
       "      <td>[\"Looking nice product...I got just 1day deliv...</td>\n",
       "      <td>['The reviewer appreciates the freedom and con...</td>\n",
       "    </tr>\n",
       "    <tr>\n",
       "      <th>17</th>\n",
       "      <td>What specific software was the user working on...</td>\n",
       "      <td>The provided context does not mention the Appl...</td>\n",
       "      <td>['Awesome I think I have made a good choice es...</td>\n",
       "      <td>['The user was working smoothly on Adobe After...</td>\n",
       "    </tr>\n",
       "    <tr>\n",
       "      <th>18</th>\n",
       "      <td>What specific feature of the OnePlus Bullets W...</td>\n",
       "      <td>Based on the reviews provided, I couldn't find...</td>\n",
       "      <td>[\"Looking nice product...I got just 1day deliv...</td>\n",
       "      <td>[\"The reviewer found the battery backup of the...</td>\n",
       "    </tr>\n",
       "    <tr>\n",
       "      <th>19</th>\n",
       "      <td>What specific features of the BoAt BassHeads10...</td>\n",
       "      <td>Based on the reviews provided, the specific fe...</td>\n",
       "      <td>['nice product..  color is exactly shown in th...</td>\n",
       "      <td>['The reviewer mentioned that they were satisf...</td>\n",
       "    </tr>\n",
       "    <tr>\n",
       "      <th>20</th>\n",
       "      <td>What motivated the customer to write a positiv...</td>\n",
       "      <td>The customer was motivated to write a positive...</td>\n",
       "      <td>[\"Above from my expectation, after reading the...</td>\n",
       "      <td>['The customer was motivated to write a positi...</td>\n",
       "    </tr>\n",
       "    <tr>\n",
       "      <th>21</th>\n",
       "      <td>What specific features of the realme Buds Q Bl...</td>\n",
       "      <td>Based on the provided reviews, I couldn't find...</td>\n",
       "      <td>[\"The product is amazing. The sound quality is...</td>\n",
       "      <td>[\"The realme Buds Q Bluetooth Headset received...</td>\n",
       "    </tr>\n",
       "    <tr>\n",
       "      <th>22</th>\n",
       "      <td>What specific factor prevented the reviewer fr...</td>\n",
       "      <td>There seems to be a mismatch between your ques...</td>\n",
       "      <td>['First few days it works well...then after .....</td>\n",
       "      <td>[\"The reviewer was not satisfied with the batt...</td>\n",
       "    </tr>\n",
       "    <tr>\n",
       "      <th>23</th>\n",
       "      <td>What is the sentiment expressed in the review ...</td>\n",
       "      <td>The sentiment expressed in the reviews of the ...</td>\n",
       "      <td>[\"I am very happy with this product. The U&amp;I T...</td>\n",
       "      <td>[\"The sentiment expressed in the review is ove...</td>\n",
       "    </tr>\n",
       "    <tr>\n",
       "      <th>24</th>\n",
       "      <td>What specific features of the OnePlus Bullets ...</td>\n",
       "      <td>Based on the reviews, the specific features th...</td>\n",
       "      <td>[\"Looking nice product...I got just 1day deliv...</td>\n",
       "      <td>[\"The reviewer gave a 5-star rating and descri...</td>\n",
       "    </tr>\n",
       "    <tr>\n",
       "      <th>25</th>\n",
       "      <td>What is the duration after which one earpiece ...</td>\n",
       "      <td>According to the review, one earpiece of the U...</td>\n",
       "      <td>['In a month only one earpiece stopped working...</td>\n",
       "      <td>['According to the review, one earpiece of the...</td>\n",
       "    </tr>\n",
       "    <tr>\n",
       "      <th>26</th>\n",
       "      <td>What is the primary reason for the customer's ...</td>\n",
       "      <td>The primary reason for the customer's dissatis...</td>\n",
       "      <td>['i purchased this headphones about 1 yr ago 1...</td>\n",
       "      <td>[\"The primary reason for the customer's dissat...</td>\n",
       "    </tr>\n",
       "    <tr>\n",
       "      <th>27</th>\n",
       "      <td>What specific use case does the reviewer recom...</td>\n",
       "      <td>The reviewer recommends the BoAt Airdopes131 B...</td>\n",
       "      <td>['Premium design + comfortable fit + awesome f...</td>\n",
       "      <td>['The reviewer recommends the BoAt Airdopes131...</td>\n",
       "    </tr>\n",
       "    <tr>\n",
       "      <th>28</th>\n",
       "      <td>What specific Linux-related issues did the rev...</td>\n",
       "      <td>There is no information provided about the Sam...</td>\n",
       "      <td>['Sound and battery life is good but touch res...</td>\n",
       "      <td>['The reviewer experienced issues with Linux c...</td>\n",
       "    </tr>\n",
       "    <tr>\n",
       "      <th>29</th>\n",
       "      <td>What is one of the major drawbacks of the U&amp;I ...</td>\n",
       "      <td>Unfortunately, there is no review provided for...</td>\n",
       "      <td>['I purchased one month back. now when insert ...</td>\n",
       "      <td>[\"One of the major drawbacks of the U&amp;I Titani...</td>\n",
       "    </tr>\n",
       "  </tbody>\n",
       "</table>\n",
       "</div>"
      ],
      "text/plain": [
       "                                             question  \\\n",
       "0   What specific features of the BoAt BassHeads10...   \n",
       "1   What is the approximate standby time of the On...   \n",
       "2   What specific feature of the U&I Titanic Serie...   \n",
       "3   How did the reviewer initially feel about the ...   \n",
       "4   What method of exporting pictures from the Can...   \n",
       "5   What steps did the customer take to verify tha...   \n",
       "6   What specific feature of the BoAt Airdopes131 ...   \n",
       "7   What specific feature of the U&I Titanic Serie...   \n",
       "8   What specific feature of the OnePlus Bullets W...   \n",
       "9   What specific health and fitness tracking feat...   \n",
       "10  What was the nature of the manufacturing defec...   \n",
       "11  What is the primary reason for the reviewer gi...   \n",
       "12  What is the reviewer's opinion on the battery ...   \n",
       "13  What specific aspect of the sound quality did ...   \n",
       "14  What is the primary reason mentioned in the re...   \n",
       "15  What specific aspect of the OnePlus Bullets Wi...   \n",
       "16  What specific aspect of the OnePlus Bullets Wi...   \n",
       "17  What specific software was the user working on...   \n",
       "18  What specific feature of the OnePlus Bullets W...   \n",
       "19  What specific features of the BoAt BassHeads10...   \n",
       "20  What motivated the customer to write a positiv...   \n",
       "21  What specific features of the realme Buds Q Bl...   \n",
       "22  What specific factor prevented the reviewer fr...   \n",
       "23  What is the sentiment expressed in the review ...   \n",
       "24  What specific features of the OnePlus Bullets ...   \n",
       "25  What is the duration after which one earpiece ...   \n",
       "26  What is the primary reason for the customer's ...   \n",
       "27  What specific use case does the reviewer recom...   \n",
       "28  What specific Linux-related issues did the rev...   \n",
       "29  What is one of the major drawbacks of the U&I ...   \n",
       "\n",
       "                                               answer  \\\n",
       "0   There seems to be some confusion. The provided...   \n",
       "1   According to one of the reviews, the standby t...   \n",
       "2   Unfortunately, I couldn't find any information...   \n",
       "3   I couldn't find any information related to the...   \n",
       "4   The provided documents do not mention the Cano...   \n",
       "5   Based on the provided reviews, I couldn't find...   \n",
       "6   The specific feature that led to strong dissat...   \n",
       "7   Based on the reviews, the specific feature tha...   \n",
       "8   The reviewer is particularly fond of the **cry...   \n",
       "9   The provided documents do not mention the Appl...   \n",
       "10  There is no information available about the On...   \n",
       "11  The primary reason for the reviewer giving a 4...   \n",
       "12  There is no information available on the Realm...   \n",
       "13  Based on the provided reviews, it appears that...   \n",
       "14  The primary reasons mentioned in the reviews f...   \n",
       "15  Based on the provided reviews, I couldn't find...   \n",
       "16  Based on the reviews provided, the specific as...   \n",
       "17  The provided context does not mention the Appl...   \n",
       "18  Based on the reviews provided, I couldn't find...   \n",
       "19  Based on the reviews provided, the specific fe...   \n",
       "20  The customer was motivated to write a positive...   \n",
       "21  Based on the provided reviews, I couldn't find...   \n",
       "22  There seems to be a mismatch between your ques...   \n",
       "23  The sentiment expressed in the reviews of the ...   \n",
       "24  Based on the reviews, the specific features th...   \n",
       "25  According to the review, one earpiece of the U...   \n",
       "26  The primary reason for the customer's dissatis...   \n",
       "27  The reviewer recommends the BoAt Airdopes131 B...   \n",
       "28  There is no information provided about the Sam...   \n",
       "29  Unfortunately, there is no review provided for...   \n",
       "\n",
       "                                             contexts  \\\n",
       "0   ['nice product..  color is exactly shown in th...   \n",
       "1   [\"Looking nice product...I got just 1day deliv...   \n",
       "2   ['Awesome sound and bass. Love this product.',...   \n",
       "3   [\"Don't hesitate to buy that green color buds!...   \n",
       "4   [\"I'm loving this bluetooth ☺️😍\", 'NICE WONDER...   \n",
       "5   ['i purchased this headphones about 1 yr ago 1...   \n",
       "6   ['Worst product ever bought. Instead, you can ...   \n",
       "7   [\"I am very happy with this product. The U&I T...   \n",
       "8   [\"Looking nice product...I got just 1day deliv...   \n",
       "9   ['Good battery back up, sound should be improv...   \n",
       "10  ['In a month only one earpiece stopped working...   \n",
       "11  ['I using these Headset for last 2 days. The e...   \n",
       "12  [\"This review is after 1 month of use .Pro:- 1...   \n",
       "13  [\"Not at all for bass lover. The music just se...   \n",
       "14  [\"Looking nice product...I got just 1day deliv...   \n",
       "15  [\"I'm fan for Oneplus since their first produc...   \n",
       "16  [\"Looking nice product...I got just 1day deliv...   \n",
       "17  ['Awesome I think I have made a good choice es...   \n",
       "18  [\"Looking nice product...I got just 1day deliv...   \n",
       "19  ['nice product..  color is exactly shown in th...   \n",
       "20  [\"Above from my expectation, after reading the...   \n",
       "21  [\"The product is amazing. The sound quality is...   \n",
       "22  ['First few days it works well...then after .....   \n",
       "23  [\"I am very happy with this product. The U&I T...   \n",
       "24  [\"Looking nice product...I got just 1day deliv...   \n",
       "25  ['In a month only one earpiece stopped working...   \n",
       "26  ['i purchased this headphones about 1 yr ago 1...   \n",
       "27  ['Premium design + comfortable fit + awesome f...   \n",
       "28  ['Sound and battery life is good but touch res...   \n",
       "29  ['I purchased one month back. now when insert ...   \n",
       "\n",
       "                                        ground_truths  \n",
       "0   [\"The reviewer appreciates the sound quality a...  \n",
       "1   ['The approximate standby time of the OnePlus ...  \n",
       "2   ['The specific feature of the U&I Titanic Seri...  \n",
       "3   ['The reviewer initially felt frustrated with ...  \n",
       "4   ['Using the memory card and an adapter for the...  \n",
       "5   [\"The customer took several steps to verify th...  \n",
       "6   [\"The specific feature that led to the reviewe...  \n",
       "7   ['The reviewer considers the battery backup of...  \n",
       "8   ['The reviewer is particularly fond of the blu...  \n",
       "9   ['The reviewer misses the real-time heart rate...  \n",
       "10  ['The manufacturing defect experienced with th...  \n",
       "11  [\"The primary reason for the reviewer giving a...  \n",
       "12  [\"The reviewer has a very positive opinion on ...  \n",
       "13  ['The reviewer expected to experience punchier...  \n",
       "14  [\"The primary reason mentioned in the review f...  \n",
       "15  [\"The reviewer mentions that the bass provided...  \n",
       "16  ['The reviewer appreciates the freedom and con...  \n",
       "17  ['The user was working smoothly on Adobe After...  \n",
       "18  [\"The reviewer found the battery backup of the...  \n",
       "19  ['The reviewer mentioned that they were satisf...  \n",
       "20  ['The customer was motivated to write a positi...  \n",
       "21  [\"The realme Buds Q Bluetooth Headset received...  \n",
       "22  [\"The reviewer was not satisfied with the batt...  \n",
       "23  [\"The sentiment expressed in the review is ove...  \n",
       "24  [\"The reviewer gave a 5-star rating and descri...  \n",
       "25  ['According to the review, one earpiece of the...  \n",
       "26  [\"The primary reason for the customer's dissat...  \n",
       "27  ['The reviewer recommends the BoAt Airdopes131...  \n",
       "28  ['The reviewer experienced issues with Linux c...  \n",
       "29  [\"One of the major drawbacks of the U&I Titani...  "
      ]
     },
     "execution_count": 32,
     "metadata": {},
     "output_type": "execute_result"
    }
   ],
   "source": [
    "import pandas as pd\n",
    "rag_test = pd.read_csv(\"/Users/mukulagarwal/Desktop/Projects/customer_support_system/rag_test_data.csv\")\n",
    "rag_test"
   ]
  },
  {
   "cell_type": "code",
   "execution_count": 66,
   "id": "12779388",
   "metadata": {},
   "outputs": [
    {
     "data": {
      "text/html": [
       "<div>\n",
       "<style scoped>\n",
       "    .dataframe tbody tr th:only-of-type {\n",
       "        vertical-align: middle;\n",
       "    }\n",
       "\n",
       "    .dataframe tbody tr th {\n",
       "        vertical-align: top;\n",
       "    }\n",
       "\n",
       "    .dataframe thead th {\n",
       "        text-align: right;\n",
       "    }\n",
       "</style>\n",
       "<table border=\"1\" class=\"dataframe\">\n",
       "  <thead>\n",
       "    <tr style=\"text-align: right;\">\n",
       "      <th></th>\n",
       "      <th>user_input</th>\n",
       "      <th>response</th>\n",
       "      <th>retrieved_contexts</th>\n",
       "      <th>reference</th>\n",
       "    </tr>\n",
       "  </thead>\n",
       "  <tbody>\n",
       "    <tr>\n",
       "      <th>0</th>\n",
       "      <td>What specific features of the BoAt BassHeads10...</td>\n",
       "      <td>There seems to be some confusion. The provided...</td>\n",
       "      <td>[nice product..  color is exactly shown in the...</td>\n",
       "      <td>The reviewer appreciates the sound quality and...</td>\n",
       "    </tr>\n",
       "    <tr>\n",
       "      <th>1</th>\n",
       "      <td>What is the approximate standby time of the On...</td>\n",
       "      <td>According to one of the reviews, the standby t...</td>\n",
       "      <td>[Looking nice product...I got just 1day delive...</td>\n",
       "      <td>The approximate standby time of the OnePlus Bu...</td>\n",
       "    </tr>\n",
       "    <tr>\n",
       "      <th>2</th>\n",
       "      <td>What specific feature of the U&amp;I Titanic Serie...</td>\n",
       "      <td>Unfortunately, I couldn't find any information...</td>\n",
       "      <td>[Awesome sound and bass. Love this product., P...</td>\n",
       "      <td>The specific feature of the U&amp;I Titanic Series...</td>\n",
       "    </tr>\n",
       "    <tr>\n",
       "      <th>3</th>\n",
       "      <td>How did the reviewer initially feel about the ...</td>\n",
       "      <td>I couldn't find any information related to the...</td>\n",
       "      <td>[Don't hesitate to buy that green color buds! ...</td>\n",
       "      <td>The reviewer initially felt frustrated with th...</td>\n",
       "    </tr>\n",
       "    <tr>\n",
       "      <th>4</th>\n",
       "      <td>What method of exporting pictures from the Can...</td>\n",
       "      <td>The provided documents do not mention the Cano...</td>\n",
       "      <td>[I'm loving this bluetooth ☺️😍, NICE WONDERFUL...</td>\n",
       "      <td>Using the memory card and an adapter for the p...</td>\n",
       "    </tr>\n",
       "  </tbody>\n",
       "</table>\n",
       "</div>"
      ],
      "text/plain": [
       "                                          user_input  \\\n",
       "0  What specific features of the BoAt BassHeads10...   \n",
       "1  What is the approximate standby time of the On...   \n",
       "2  What specific feature of the U&I Titanic Serie...   \n",
       "3  How did the reviewer initially feel about the ...   \n",
       "4  What method of exporting pictures from the Can...   \n",
       "\n",
       "                                            response  \\\n",
       "0  There seems to be some confusion. The provided...   \n",
       "1  According to one of the reviews, the standby t...   \n",
       "2  Unfortunately, I couldn't find any information...   \n",
       "3  I couldn't find any information related to the...   \n",
       "4  The provided documents do not mention the Cano...   \n",
       "\n",
       "                                  retrieved_contexts  \\\n",
       "0  [nice product..  color is exactly shown in the...   \n",
       "1  [Looking nice product...I got just 1day delive...   \n",
       "2  [Awesome sound and bass. Love this product., P...   \n",
       "3  [Don't hesitate to buy that green color buds! ...   \n",
       "4  [I'm loving this bluetooth ☺️😍, NICE WONDERFUL...   \n",
       "\n",
       "                                           reference  \n",
       "0  The reviewer appreciates the sound quality and...  \n",
       "1  The approximate standby time of the OnePlus Bu...  \n",
       "2  The specific feature of the U&I Titanic Series...  \n",
       "3  The reviewer initially felt frustrated with th...  \n",
       "4  Using the memory card and an adapter for the p...  "
      ]
     },
     "execution_count": 66,
     "metadata": {},
     "output_type": "execute_result"
    }
   ],
   "source": [
    "rag_test = rag_test.rename(columns={\n",
    "    'question' : 'user_input',\n",
    "    'contexts' : 'retrieved_contexts',\n",
    "    'answer' : 'response',\n",
    "    'ground_truths' : 'reference'\n",
    "})\n",
    "\n",
    "rag_test.head()"
   ]
  },
  {
   "cell_type": "code",
   "execution_count": 67,
   "id": "046146b6",
   "metadata": {},
   "outputs": [
    {
     "ename": "ValueError",
     "evalue": "malformed node or string: ['nice product..  color is exactly shown in the pic.  best headset in this price range..  worth buying..  i ll suggest this product under this cost..  loved this headset from boAt.', \"I bought 1more and boAt BassHeads 100 headphones together, sound clarity, volume, bass and treble of boAt is much better than 1More. Comfortable ear buds, Zara Hatke design, sleek packaging. You don't wanna listen to music without boAt headphones. Truly price worthy.\", \"Nice headphone.I have used both 100 and. 225 bassheads.the wire quality is also not so bad compared to bass head 225 and the best thing is in 225 the bass is over normal and so normal treble and vocal get suppress.But in 100 bass heads the sound is just balanced and bass is super and over all sounds awesome , if want a earphones and don't want over bass with suppressed treble and vocals then go with bass heads 100 where everything is balanced and. awesome.\", \"it's a decent product from boat, decent bass treble is good .if you want to buy a earphone that explodes with bass don't go for this one, but if you want clear punch and drums sound..than you should definitely buy this as its bass doesn't blend with treble and ruin the quality...overall nice product if you'll consider the price also\", \"Bass is awesome, a little extra, so people who like bass will love this, I personally like a balanced sound signature, so bass can be turned down just a notch, but treble is waaaayyy too high. It really ruins the experience, it hurts my ears. Mids are pretty good. Build quality is decent. Too much treble ruins the sound quality, that's why 3 stars. If treble was balanced then would have given it 4 or even 5 maybe.\"]",
     "output_type": "error",
     "traceback": [
      "\u001b[0;31m---------------------------------------------------------------------------\u001b[0m",
      "\u001b[0;31mValueError\u001b[0m                                Traceback (most recent call last)",
      "Cell \u001b[0;32mIn[67], line 2\u001b[0m\n\u001b[1;32m      1\u001b[0m \u001b[38;5;28;01mimport\u001b[39;00m \u001b[38;5;21;01mast\u001b[39;00m \n\u001b[0;32m----> 2\u001b[0m rag_test[\u001b[38;5;124m'\u001b[39m\u001b[38;5;124mretrieved_contexts\u001b[39m\u001b[38;5;124m'\u001b[39m] \u001b[38;5;241m=\u001b[39m \u001b[43mrag_test\u001b[49m\u001b[43m[\u001b[49m\u001b[38;5;124;43m'\u001b[39;49m\u001b[38;5;124;43mretrieved_contexts\u001b[39;49m\u001b[38;5;124;43m'\u001b[39;49m\u001b[43m]\u001b[49m\u001b[38;5;241;43m.\u001b[39;49m\u001b[43mapply\u001b[49m\u001b[43m(\u001b[49m\u001b[43mast\u001b[49m\u001b[38;5;241;43m.\u001b[39;49m\u001b[43mliteral_eval\u001b[49m\u001b[43m)\u001b[49m\n\u001b[1;32m      3\u001b[0m rag_test[\u001b[38;5;124m'\u001b[39m\u001b[38;5;124mreference\u001b[39m\u001b[38;5;124m'\u001b[39m] \u001b[38;5;241m=\u001b[39m rag_test[\u001b[38;5;124m'\u001b[39m\u001b[38;5;124mreference\u001b[39m\u001b[38;5;124m'\u001b[39m]\u001b[38;5;241m.\u001b[39mapply(\u001b[38;5;28;01mlambda\u001b[39;00m x : ast\u001b[38;5;241m.\u001b[39mliteral_eval(x)[\u001b[38;5;241m0\u001b[39m])\n",
      "File \u001b[0;32m~/Desktop/Projects/langchain/langchain_env/lib/python3.12/site-packages/pandas/core/series.py:4924\u001b[0m, in \u001b[0;36mSeries.apply\u001b[0;34m(self, func, convert_dtype, args, by_row, **kwargs)\u001b[0m\n\u001b[1;32m   4789\u001b[0m \u001b[38;5;28;01mdef\u001b[39;00m \u001b[38;5;21mapply\u001b[39m(\n\u001b[1;32m   4790\u001b[0m     \u001b[38;5;28mself\u001b[39m,\n\u001b[1;32m   4791\u001b[0m     func: AggFuncType,\n\u001b[0;32m   (...)\u001b[0m\n\u001b[1;32m   4796\u001b[0m     \u001b[38;5;241m*\u001b[39m\u001b[38;5;241m*\u001b[39mkwargs,\n\u001b[1;32m   4797\u001b[0m ) \u001b[38;5;241m-\u001b[39m\u001b[38;5;241m>\u001b[39m DataFrame \u001b[38;5;241m|\u001b[39m Series:\n\u001b[1;32m   4798\u001b[0m \u001b[38;5;250m    \u001b[39m\u001b[38;5;124;03m\"\"\"\u001b[39;00m\n\u001b[1;32m   4799\u001b[0m \u001b[38;5;124;03m    Invoke function on values of Series.\u001b[39;00m\n\u001b[1;32m   4800\u001b[0m \n\u001b[0;32m   (...)\u001b[0m\n\u001b[1;32m   4915\u001b[0m \u001b[38;5;124;03m    dtype: float64\u001b[39;00m\n\u001b[1;32m   4916\u001b[0m \u001b[38;5;124;03m    \"\"\"\u001b[39;00m\n\u001b[1;32m   4917\u001b[0m     \u001b[38;5;28;01mreturn\u001b[39;00m \u001b[43mSeriesApply\u001b[49m\u001b[43m(\u001b[49m\n\u001b[1;32m   4918\u001b[0m \u001b[43m        \u001b[49m\u001b[38;5;28;43mself\u001b[39;49m\u001b[43m,\u001b[49m\n\u001b[1;32m   4919\u001b[0m \u001b[43m        \u001b[49m\u001b[43mfunc\u001b[49m\u001b[43m,\u001b[49m\n\u001b[1;32m   4920\u001b[0m \u001b[43m        \u001b[49m\u001b[43mconvert_dtype\u001b[49m\u001b[38;5;241;43m=\u001b[39;49m\u001b[43mconvert_dtype\u001b[49m\u001b[43m,\u001b[49m\n\u001b[1;32m   4921\u001b[0m \u001b[43m        \u001b[49m\u001b[43mby_row\u001b[49m\u001b[38;5;241;43m=\u001b[39;49m\u001b[43mby_row\u001b[49m\u001b[43m,\u001b[49m\n\u001b[1;32m   4922\u001b[0m \u001b[43m        \u001b[49m\u001b[43margs\u001b[49m\u001b[38;5;241;43m=\u001b[39;49m\u001b[43margs\u001b[49m\u001b[43m,\u001b[49m\n\u001b[1;32m   4923\u001b[0m \u001b[43m        \u001b[49m\u001b[43mkwargs\u001b[49m\u001b[38;5;241;43m=\u001b[39;49m\u001b[43mkwargs\u001b[49m\u001b[43m,\u001b[49m\n\u001b[0;32m-> 4924\u001b[0m \u001b[43m    \u001b[49m\u001b[43m)\u001b[49m\u001b[38;5;241;43m.\u001b[39;49m\u001b[43mapply\u001b[49m\u001b[43m(\u001b[49m\u001b[43m)\u001b[49m\n",
      "File \u001b[0;32m~/Desktop/Projects/langchain/langchain_env/lib/python3.12/site-packages/pandas/core/apply.py:1427\u001b[0m, in \u001b[0;36mSeriesApply.apply\u001b[0;34m(self)\u001b[0m\n\u001b[1;32m   1424\u001b[0m     \u001b[38;5;28;01mreturn\u001b[39;00m \u001b[38;5;28mself\u001b[39m\u001b[38;5;241m.\u001b[39mapply_compat()\n\u001b[1;32m   1426\u001b[0m \u001b[38;5;66;03m# self.func is Callable\u001b[39;00m\n\u001b[0;32m-> 1427\u001b[0m \u001b[38;5;28;01mreturn\u001b[39;00m \u001b[38;5;28;43mself\u001b[39;49m\u001b[38;5;241;43m.\u001b[39;49m\u001b[43mapply_standard\u001b[49m\u001b[43m(\u001b[49m\u001b[43m)\u001b[49m\n",
      "File \u001b[0;32m~/Desktop/Projects/langchain/langchain_env/lib/python3.12/site-packages/pandas/core/apply.py:1507\u001b[0m, in \u001b[0;36mSeriesApply.apply_standard\u001b[0;34m(self)\u001b[0m\n\u001b[1;32m   1501\u001b[0m \u001b[38;5;66;03m# row-wise access\u001b[39;00m\n\u001b[1;32m   1502\u001b[0m \u001b[38;5;66;03m# apply doesn't have a `na_action` keyword and for backward compat reasons\u001b[39;00m\n\u001b[1;32m   1503\u001b[0m \u001b[38;5;66;03m# we need to give `na_action=\"ignore\"` for categorical data.\u001b[39;00m\n\u001b[1;32m   1504\u001b[0m \u001b[38;5;66;03m# TODO: remove the `na_action=\"ignore\"` when that default has been changed in\u001b[39;00m\n\u001b[1;32m   1505\u001b[0m \u001b[38;5;66;03m#  Categorical (GH51645).\u001b[39;00m\n\u001b[1;32m   1506\u001b[0m action \u001b[38;5;241m=\u001b[39m \u001b[38;5;124m\"\u001b[39m\u001b[38;5;124mignore\u001b[39m\u001b[38;5;124m\"\u001b[39m \u001b[38;5;28;01mif\u001b[39;00m \u001b[38;5;28misinstance\u001b[39m(obj\u001b[38;5;241m.\u001b[39mdtype, CategoricalDtype) \u001b[38;5;28;01melse\u001b[39;00m \u001b[38;5;28;01mNone\u001b[39;00m\n\u001b[0;32m-> 1507\u001b[0m mapped \u001b[38;5;241m=\u001b[39m \u001b[43mobj\u001b[49m\u001b[38;5;241;43m.\u001b[39;49m\u001b[43m_map_values\u001b[49m\u001b[43m(\u001b[49m\n\u001b[1;32m   1508\u001b[0m \u001b[43m    \u001b[49m\u001b[43mmapper\u001b[49m\u001b[38;5;241;43m=\u001b[39;49m\u001b[43mcurried\u001b[49m\u001b[43m,\u001b[49m\u001b[43m \u001b[49m\u001b[43mna_action\u001b[49m\u001b[38;5;241;43m=\u001b[39;49m\u001b[43maction\u001b[49m\u001b[43m,\u001b[49m\u001b[43m \u001b[49m\u001b[43mconvert\u001b[49m\u001b[38;5;241;43m=\u001b[39;49m\u001b[38;5;28;43mself\u001b[39;49m\u001b[38;5;241;43m.\u001b[39;49m\u001b[43mconvert_dtype\u001b[49m\n\u001b[1;32m   1509\u001b[0m \u001b[43m\u001b[49m\u001b[43m)\u001b[49m\n\u001b[1;32m   1511\u001b[0m \u001b[38;5;28;01mif\u001b[39;00m \u001b[38;5;28mlen\u001b[39m(mapped) \u001b[38;5;129;01mand\u001b[39;00m \u001b[38;5;28misinstance\u001b[39m(mapped[\u001b[38;5;241m0\u001b[39m], ABCSeries):\n\u001b[1;32m   1512\u001b[0m     \u001b[38;5;66;03m# GH#43986 Need to do list(mapped) in order to get treated as nested\u001b[39;00m\n\u001b[1;32m   1513\u001b[0m     \u001b[38;5;66;03m#  See also GH#25959 regarding EA support\u001b[39;00m\n\u001b[1;32m   1514\u001b[0m     \u001b[38;5;28;01mreturn\u001b[39;00m obj\u001b[38;5;241m.\u001b[39m_constructor_expanddim(\u001b[38;5;28mlist\u001b[39m(mapped), index\u001b[38;5;241m=\u001b[39mobj\u001b[38;5;241m.\u001b[39mindex)\n",
      "File \u001b[0;32m~/Desktop/Projects/langchain/langchain_env/lib/python3.12/site-packages/pandas/core/base.py:921\u001b[0m, in \u001b[0;36mIndexOpsMixin._map_values\u001b[0;34m(self, mapper, na_action, convert)\u001b[0m\n\u001b[1;32m    918\u001b[0m \u001b[38;5;28;01mif\u001b[39;00m \u001b[38;5;28misinstance\u001b[39m(arr, ExtensionArray):\n\u001b[1;32m    919\u001b[0m     \u001b[38;5;28;01mreturn\u001b[39;00m arr\u001b[38;5;241m.\u001b[39mmap(mapper, na_action\u001b[38;5;241m=\u001b[39mna_action)\n\u001b[0;32m--> 921\u001b[0m \u001b[38;5;28;01mreturn\u001b[39;00m \u001b[43malgorithms\u001b[49m\u001b[38;5;241;43m.\u001b[39;49m\u001b[43mmap_array\u001b[49m\u001b[43m(\u001b[49m\u001b[43marr\u001b[49m\u001b[43m,\u001b[49m\u001b[43m \u001b[49m\u001b[43mmapper\u001b[49m\u001b[43m,\u001b[49m\u001b[43m \u001b[49m\u001b[43mna_action\u001b[49m\u001b[38;5;241;43m=\u001b[39;49m\u001b[43mna_action\u001b[49m\u001b[43m,\u001b[49m\u001b[43m \u001b[49m\u001b[43mconvert\u001b[49m\u001b[38;5;241;43m=\u001b[39;49m\u001b[43mconvert\u001b[49m\u001b[43m)\u001b[49m\n",
      "File \u001b[0;32m~/Desktop/Projects/langchain/langchain_env/lib/python3.12/site-packages/pandas/core/algorithms.py:1743\u001b[0m, in \u001b[0;36mmap_array\u001b[0;34m(arr, mapper, na_action, convert)\u001b[0m\n\u001b[1;32m   1741\u001b[0m values \u001b[38;5;241m=\u001b[39m arr\u001b[38;5;241m.\u001b[39mastype(\u001b[38;5;28mobject\u001b[39m, copy\u001b[38;5;241m=\u001b[39m\u001b[38;5;28;01mFalse\u001b[39;00m)\n\u001b[1;32m   1742\u001b[0m \u001b[38;5;28;01mif\u001b[39;00m na_action \u001b[38;5;129;01mis\u001b[39;00m \u001b[38;5;28;01mNone\u001b[39;00m:\n\u001b[0;32m-> 1743\u001b[0m     \u001b[38;5;28;01mreturn\u001b[39;00m \u001b[43mlib\u001b[49m\u001b[38;5;241;43m.\u001b[39;49m\u001b[43mmap_infer\u001b[49m\u001b[43m(\u001b[49m\u001b[43mvalues\u001b[49m\u001b[43m,\u001b[49m\u001b[43m \u001b[49m\u001b[43mmapper\u001b[49m\u001b[43m,\u001b[49m\u001b[43m \u001b[49m\u001b[43mconvert\u001b[49m\u001b[38;5;241;43m=\u001b[39;49m\u001b[43mconvert\u001b[49m\u001b[43m)\u001b[49m\n\u001b[1;32m   1744\u001b[0m \u001b[38;5;28;01melse\u001b[39;00m:\n\u001b[1;32m   1745\u001b[0m     \u001b[38;5;28;01mreturn\u001b[39;00m lib\u001b[38;5;241m.\u001b[39mmap_infer_mask(\n\u001b[1;32m   1746\u001b[0m         values, mapper, mask\u001b[38;5;241m=\u001b[39misna(values)\u001b[38;5;241m.\u001b[39mview(np\u001b[38;5;241m.\u001b[39muint8), convert\u001b[38;5;241m=\u001b[39mconvert\n\u001b[1;32m   1747\u001b[0m     )\n",
      "File \u001b[0;32mlib.pyx:2972\u001b[0m, in \u001b[0;36mpandas._libs.lib.map_infer\u001b[0;34m()\u001b[0m\n",
      "File \u001b[0;32m~/Desktop/Projects/langchain/langchain_env/lib/python3.12/ast.py:112\u001b[0m, in \u001b[0;36mliteral_eval\u001b[0;34m(node_or_string)\u001b[0m\n\u001b[1;32m    110\u001b[0m                 \u001b[38;5;28;01mreturn\u001b[39;00m left \u001b[38;5;241m-\u001b[39m right\n\u001b[1;32m    111\u001b[0m     \u001b[38;5;28;01mreturn\u001b[39;00m _convert_signed_num(node)\n\u001b[0;32m--> 112\u001b[0m \u001b[38;5;28;01mreturn\u001b[39;00m \u001b[43m_convert\u001b[49m\u001b[43m(\u001b[49m\u001b[43mnode_or_string\u001b[49m\u001b[43m)\u001b[49m\n",
      "File \u001b[0;32m~/Desktop/Projects/langchain/langchain_env/lib/python3.12/ast.py:111\u001b[0m, in \u001b[0;36mliteral_eval.<locals>._convert\u001b[0;34m(node)\u001b[0m\n\u001b[1;32m    109\u001b[0m         \u001b[38;5;28;01melse\u001b[39;00m:\n\u001b[1;32m    110\u001b[0m             \u001b[38;5;28;01mreturn\u001b[39;00m left \u001b[38;5;241m-\u001b[39m right\n\u001b[0;32m--> 111\u001b[0m \u001b[38;5;28;01mreturn\u001b[39;00m \u001b[43m_convert_signed_num\u001b[49m\u001b[43m(\u001b[49m\u001b[43mnode\u001b[49m\u001b[43m)\u001b[49m\n",
      "File \u001b[0;32m~/Desktop/Projects/langchain/langchain_env/lib/python3.12/ast.py:85\u001b[0m, in \u001b[0;36mliteral_eval.<locals>._convert_signed_num\u001b[0;34m(node)\u001b[0m\n\u001b[1;32m     83\u001b[0m     \u001b[38;5;28;01melse\u001b[39;00m:\n\u001b[1;32m     84\u001b[0m         \u001b[38;5;28;01mreturn\u001b[39;00m \u001b[38;5;241m-\u001b[39m operand\n\u001b[0;32m---> 85\u001b[0m \u001b[38;5;28;01mreturn\u001b[39;00m \u001b[43m_convert_num\u001b[49m\u001b[43m(\u001b[49m\u001b[43mnode\u001b[49m\u001b[43m)\u001b[49m\n",
      "File \u001b[0;32m~/Desktop/Projects/langchain/langchain_env/lib/python3.12/ast.py:76\u001b[0m, in \u001b[0;36mliteral_eval.<locals>._convert_num\u001b[0;34m(node)\u001b[0m\n\u001b[1;32m     74\u001b[0m \u001b[38;5;28;01mdef\u001b[39;00m \u001b[38;5;21m_convert_num\u001b[39m(node):\n\u001b[1;32m     75\u001b[0m     \u001b[38;5;28;01mif\u001b[39;00m \u001b[38;5;129;01mnot\u001b[39;00m \u001b[38;5;28misinstance\u001b[39m(node, Constant) \u001b[38;5;129;01mor\u001b[39;00m \u001b[38;5;28mtype\u001b[39m(node\u001b[38;5;241m.\u001b[39mvalue) \u001b[38;5;129;01mnot\u001b[39;00m \u001b[38;5;129;01min\u001b[39;00m (\u001b[38;5;28mint\u001b[39m, \u001b[38;5;28mfloat\u001b[39m, \u001b[38;5;28mcomplex\u001b[39m):\n\u001b[0;32m---> 76\u001b[0m         \u001b[43m_raise_malformed_node\u001b[49m\u001b[43m(\u001b[49m\u001b[43mnode\u001b[49m\u001b[43m)\u001b[49m\n\u001b[1;32m     77\u001b[0m     \u001b[38;5;28;01mreturn\u001b[39;00m node\u001b[38;5;241m.\u001b[39mvalue\n",
      "File \u001b[0;32m~/Desktop/Projects/langchain/langchain_env/lib/python3.12/ast.py:73\u001b[0m, in \u001b[0;36mliteral_eval.<locals>._raise_malformed_node\u001b[0;34m(node)\u001b[0m\n\u001b[1;32m     71\u001b[0m \u001b[38;5;28;01mif\u001b[39;00m lno \u001b[38;5;241m:=\u001b[39m \u001b[38;5;28mgetattr\u001b[39m(node, \u001b[38;5;124m'\u001b[39m\u001b[38;5;124mlineno\u001b[39m\u001b[38;5;124m'\u001b[39m, \u001b[38;5;28;01mNone\u001b[39;00m):\n\u001b[1;32m     72\u001b[0m     msg \u001b[38;5;241m+\u001b[39m\u001b[38;5;241m=\u001b[39m \u001b[38;5;124mf\u001b[39m\u001b[38;5;124m'\u001b[39m\u001b[38;5;124m on line \u001b[39m\u001b[38;5;132;01m{\u001b[39;00mlno\u001b[38;5;132;01m}\u001b[39;00m\u001b[38;5;124m'\u001b[39m\n\u001b[0;32m---> 73\u001b[0m \u001b[38;5;28;01mraise\u001b[39;00m \u001b[38;5;167;01mValueError\u001b[39;00m(msg \u001b[38;5;241m+\u001b[39m \u001b[38;5;124mf\u001b[39m\u001b[38;5;124m'\u001b[39m\u001b[38;5;124m: \u001b[39m\u001b[38;5;132;01m{\u001b[39;00mnode\u001b[38;5;132;01m!r}\u001b[39;00m\u001b[38;5;124m'\u001b[39m)\n",
      "\u001b[0;31mValueError\u001b[0m: malformed node or string: ['nice product..  color is exactly shown in the pic.  best headset in this price range..  worth buying..  i ll suggest this product under this cost..  loved this headset from boAt.', \"I bought 1more and boAt BassHeads 100 headphones together, sound clarity, volume, bass and treble of boAt is much better than 1More. Comfortable ear buds, Zara Hatke design, sleek packaging. You don't wanna listen to music without boAt headphones. Truly price worthy.\", \"Nice headphone.I have used both 100 and. 225 bassheads.the wire quality is also not so bad compared to bass head 225 and the best thing is in 225 the bass is over normal and so normal treble and vocal get suppress.But in 100 bass heads the sound is just balanced and bass is super and over all sounds awesome , if want a earphones and don't want over bass with suppressed treble and vocals then go with bass heads 100 where everything is balanced and. awesome.\", \"it's a decent product from boat, decent bass treble is good .if you want to buy a earphone that explodes with bass don't go for this one, but if you want clear punch and drums sound..than you should definitely buy this as its bass doesn't blend with treble and ruin the quality...overall nice product if you'll consider the price also\", \"Bass is awesome, a little extra, so people who like bass will love this, I personally like a balanced sound signature, so bass can be turned down just a notch, but treble is waaaayyy too high. It really ruins the experience, it hurts my ears. Mids are pretty good. Build quality is decent. Too much treble ruins the sound quality, that's why 3 stars. If treble was balanced then would have given it 4 or even 5 maybe.\"]"
     ]
    }
   ],
   "source": [
    "import ast \n",
    "rag_test['retrieved_contexts'] = rag_test['retrieved_contexts'].apply(ast.literal_eval)\n",
    "rag_test['reference'] = rag_test['reference'].apply(lambda x : ast.literal_eval(x)[0])"
   ]
  },
  {
   "cell_type": "code",
   "execution_count": 69,
   "id": "c39746b7",
   "metadata": {},
   "outputs": [
    {
     "data": {
      "text/plain": [
       "['nice product..  color is exactly shown in the pic.  best headset in this price range..  worth buying..  i ll suggest this product under this cost..  loved this headset from boAt.',\n",
       " \"I bought 1more and boAt BassHeads 100 headphones together, sound clarity, volume, bass and treble of boAt is much better than 1More. Comfortable ear buds, Zara Hatke design, sleek packaging. You don't wanna listen to music without boAt headphones. Truly price worthy.\",\n",
       " \"Nice headphone.I have used both 100 and. 225 bassheads.the wire quality is also not so bad compared to bass head 225 and the best thing is in 225 the bass is over normal and so normal treble and vocal get suppress.But in 100 bass heads the sound is just balanced and bass is super and over all sounds awesome , if want a earphones and don't want over bass with suppressed treble and vocals then go with bass heads 100 where everything is balanced and. awesome.\",\n",
       " \"it's a decent product from boat, decent bass treble is good .if you want to buy a earphone that explodes with bass don't go for this one, but if you want clear punch and drums sound..than you should definitely buy this as its bass doesn't blend with treble and ruin the quality...overall nice product if you'll consider the price also\",\n",
       " \"Bass is awesome, a little extra, so people who like bass will love this, I personally like a balanced sound signature, so bass can be turned down just a notch, but treble is waaaayyy too high. It really ruins the experience, it hurts my ears. Mids are pretty good. Build quality is decent. Too much treble ruins the sound quality, that's why 3 stars. If treble was balanced then would have given it 4 or even 5 maybe.\"]"
      ]
     },
     "execution_count": 69,
     "metadata": {},
     "output_type": "execute_result"
    }
   ],
   "source": [
    "rag_test.iloc[0,2]"
   ]
  },
  {
   "cell_type": "code",
   "execution_count": 71,
   "id": "309f96e7",
   "metadata": {},
   "outputs": [],
   "source": [
    "from ragas import EvaluationDataset\n",
    "evaluation_dataset = EvaluationDataset.from_pandas(rag_test)"
   ]
  },
  {
   "cell_type": "code",
   "execution_count": 72,
   "id": "5c642515",
   "metadata": {},
   "outputs": [
    {
     "data": {
      "text/plain": [
       "EvaluationDataset(features=['user_input', 'retrieved_contexts', 'response', 'reference'], len=30)"
      ]
     },
     "execution_count": 72,
     "metadata": {},
     "output_type": "execute_result"
    }
   ],
   "source": [
    "evaluation_dataset"
   ]
  },
  {
   "cell_type": "code",
   "execution_count": 73,
   "id": "ee0f36b3",
   "metadata": {},
   "outputs": [
    {
     "name": "stdout",
     "output_type": "stream",
     "text": [
      "LLM loading...\n"
     ]
    }
   ],
   "source": [
    "from utils.model_loader import ModelLoader\n",
    "\n",
    "from ragas.metrics import LLMContextRecall, Faithfulness, FactualCorrectness, LLMContextPrecisionWithReference\n",
    "from ragas import evaluate\n",
    "from ragas.llms import LangchainLLMWrapper\n",
    "\n",
    "model_loader = ModelLoader()\n",
    "\n",
    "evaluator_llm = model_loader.load_llm()\n",
    "evaluator_llm = LangchainLLMWrapper(evaluator_llm)\n",
    "\n",
    "def evaluate_ragas_dataset(ragas_dataset):\n",
    "  result = evaluate(\n",
    "    ragas_dataset,\n",
    "    metrics=[\n",
    "       LLMContextRecall(), Faithfulness(), FactualCorrectness(), LLMContextPrecisionWithReference()\n",
    "    ],\n",
    "    llm=evaluator_llm\n",
    "  )\n",
    "  return result"
   ]
  },
  {
   "cell_type": "code",
   "execution_count": 74,
   "id": "2c385a10",
   "metadata": {},
   "outputs": [
    {
     "name": "stderr",
     "output_type": "stream",
     "text": [
      "Evaluating:  22%|██▏       | 26/120 [02:22<09:28,  6.05s/it]Exception raised in Job[6]: RateLimitError(Error code: 429 - {'error': {'message': 'Rate limit reached for model `meta-llama/llama-4-scout-17b-16e-instruct` in organization `org_01jqrg9e2ce06v5jwca0aheha2` service tier `on_demand` on requests per minute (RPM): Limit 30, Used 30, Requested 1. Please try again in 1.885s. Need more tokens? Upgrade to Dev Tier today at https://console.groq.com/settings/billing', 'type': 'requests', 'code': 'rate_limit_exceeded'}})\n",
      "Evaluating:  23%|██▎       | 28/120 [02:29<06:54,  4.50s/it]Exception raised in Job[10]: RateLimitError(Error code: 429 - {'error': {'message': 'Rate limit reached for model `meta-llama/llama-4-scout-17b-16e-instruct` in organization `org_01jqrg9e2ce06v5jwca0aheha2` service tier `on_demand` on requests per minute (RPM): Limit 30, Used 30, Requested 1. Please try again in 1.391s. Need more tokens? Upgrade to Dev Tier today at https://console.groq.com/settings/billing', 'type': 'requests', 'code': 'rate_limit_exceeded'}})\n",
      "Evaluating:  28%|██▊       | 33/120 [02:58<06:17,  4.33s/it]Exception raised in Job[7]: TimeoutError()\n",
      "Evaluating:  29%|██▉       | 35/120 [03:09<07:31,  5.31s/it]Exception raised in Job[24]: TimeoutError()\n",
      "Evaluating:  32%|███▏      | 38/120 [03:24<07:18,  5.35s/it]Exception raised in Job[26]: RateLimitError(Error code: 429 - {'error': {'message': 'Rate limit reached for model `meta-llama/llama-4-scout-17b-16e-instruct` in organization `org_01jqrg9e2ce06v5jwca0aheha2` service tier `on_demand` on requests per minute (RPM): Limit 30, Used 30, Requested 1. Please try again in 1.998s. Need more tokens? Upgrade to Dev Tier today at https://console.groq.com/settings/billing', 'type': 'requests', 'code': 'rate_limit_exceeded'}})\n",
      "Evaluating:  34%|███▍      | 41/120 [03:40<06:56,  5.27s/it]Exception raised in Job[27]: TimeoutError()\n",
      "Evaluating:  39%|███▉      | 47/120 [04:19<07:46,  6.39s/it]Exception raised in Job[47]: RateLimitError(Error code: 429 - {'error': {'message': 'Rate limit reached for model `meta-llama/llama-4-scout-17b-16e-instruct` in organization `org_01jqrg9e2ce06v5jwca0aheha2` service tier `on_demand` on requests per minute (RPM): Limit 30, Used 30, Requested 1. Please try again in 1.623s. Need more tokens? Upgrade to Dev Tier today at https://console.groq.com/settings/billing', 'type': 'requests', 'code': 'rate_limit_exceeded'}})\n",
      "Evaluating:  42%|████▏     | 50/120 [04:29<04:56,  4.24s/it]Exception raised in Job[33]: TimeoutError()\n",
      "Evaluating:  47%|████▋     | 56/120 [05:00<05:19,  4.99s/it]Exception raised in Job[37]: TimeoutError()\n",
      "Evaluating:  50%|█████     | 60/120 [05:17<04:12,  4.20s/it]Exception raised in Job[43]: TimeoutError()\n",
      "Evaluating:  55%|█████▌    | 66/120 [06:04<05:57,  6.62s/it]Exception raised in Job[51]: TimeoutError()\n",
      "Evaluating:  56%|█████▌    | 67/120 [06:11<06:02,  6.83s/it]Exception raised in Job[53]: TimeoutError()\n",
      "Evaluating:  57%|█████▋    | 68/120 [06:24<07:31,  8.68s/it]Exception raised in Job[64]: RateLimitError(Error code: 429 - {'error': {'message': 'Rate limit reached for model `meta-llama/llama-4-scout-17b-16e-instruct` in organization `org_01jqrg9e2ce06v5jwca0aheha2` service tier `on_demand` on tokens per minute (TPM): Limit 30000, Used 29341, Requested 1591. Please try again in 1.863s. Need more tokens? Upgrade to Dev Tier today at https://console.groq.com/settings/billing', 'type': 'tokens', 'code': 'rate_limit_exceeded'}})\n",
      "Evaluating:  57%|█████▊    | 69/120 [06:31<06:50,  8.06s/it]Exception raised in Job[55]: TimeoutError()\n",
      "Evaluating:  58%|█████▊    | 70/120 [06:36<06:07,  7.35s/it]Exception raised in Job[56]: TimeoutError()\n",
      "Evaluating:  61%|██████    | 73/120 [06:44<03:07,  3.98s/it]Exception raised in Job[59]: TimeoutError()\n",
      "Evaluating:  65%|██████▌   | 78/120 [07:21<04:22,  6.24s/it]Exception raised in Job[63]: TimeoutError()\n",
      "Evaluating:  69%|██████▉   | 83/120 [07:53<04:10,  6.76s/it]Exception raised in Job[72]: TimeoutError()\n",
      "Evaluating:  72%|███████▏  | 86/120 [08:15<04:12,  7.44s/it]Exception raised in Job[75]: TimeoutError()\n",
      "Evaluating:  73%|███████▎  | 88/120 [08:18<02:27,  4.61s/it]Exception raised in Job[76]: RateLimitError(Error code: 429 - {'error': {'message': 'Rate limit reached for model `meta-llama/llama-4-scout-17b-16e-instruct` in organization `org_01jqrg9e2ce06v5jwca0aheha2` service tier `on_demand` on requests per minute (RPM): Limit 30, Used 30, Requested 1. Please try again in 1.953s. Need more tokens? Upgrade to Dev Tier today at https://console.groq.com/settings/billing', 'type': 'requests', 'code': 'rate_limit_exceeded'}})\n",
      "Evaluating:  77%|███████▋  | 92/120 [08:32<01:40,  3.59s/it]Exception raised in Job[79]: RateLimitError(Error code: 429 - {'error': {'message': 'Rate limit reached for model `meta-llama/llama-4-scout-17b-16e-instruct` in organization `org_01jqrg9e2ce06v5jwca0aheha2` service tier `on_demand` on requests per minute (RPM): Limit 30, Used 30, Requested 1. Please try again in 1.818s. Need more tokens? Upgrade to Dev Tier today at https://console.groq.com/settings/billing', 'type': 'requests', 'code': 'rate_limit_exceeded'}})\n",
      "Evaluating:  78%|███████▊  | 93/120 [08:33<01:16,  2.83s/it]Exception raised in Job[81]: RateLimitError(Error code: 429 - {'error': {'message': 'Rate limit reached for model `meta-llama/llama-4-scout-17b-16e-instruct` in organization `org_01jqrg9e2ce06v5jwca0aheha2` service tier `on_demand` on tokens per minute (TPM): Limit 30000, Used 29148, Requested 1665. Please try again in 1.626s. Need more tokens? Upgrade to Dev Tier today at https://console.groq.com/settings/billing', 'type': 'tokens', 'code': 'rate_limit_exceeded'}})\n",
      "Evaluating:  78%|███████▊  | 94/120 [08:36<01:13,  2.83s/it]Exception raised in Job[78]: TimeoutError()\n",
      "Evaluating:  88%|████████▊ | 106/120 [09:57<02:24, 10.31s/it]Exception raised in Job[97]: RateLimitError(Error code: 429 - {'error': {'message': 'Rate limit reached for model `meta-llama/llama-4-scout-17b-16e-instruct` in organization `org_01jqrg9e2ce06v5jwca0aheha2` service tier `on_demand` on requests per minute (RPM): Limit 30, Used 30, Requested 1. Please try again in 1.999s. Need more tokens? Upgrade to Dev Tier today at https://console.groq.com/settings/billing', 'type': 'requests', 'code': 'rate_limit_exceeded'}})\n",
      "Evaluating:  89%|████████▉ | 107/120 [09:59<01:42,  7.89s/it]Exception raised in Job[90]: TimeoutError()\n",
      "Evaluating:  96%|█████████▌| 115/120 [10:27<00:16,  3.39s/it]Exception raised in Job[96]: TimeoutError()\n",
      "Evaluating: 100%|██████████| 120/120 [11:25<00:00,  5.71s/it]\n"
     ]
    },
    {
     "data": {
      "text/plain": [
       "{'context_recall': 0.3438, 'faithfulness': 0.6826, 'factual_correctness(mode=f1)': 0.2184, 'llm_context_precision_with_reference': 0.2739}"
      ]
     },
     "execution_count": 74,
     "metadata": {},
     "output_type": "execute_result"
    }
   ],
   "source": [
    "evaluate_ragas_dataset(evaluation_dataset)"
   ]
  },
  {
   "cell_type": "code",
   "execution_count": 43,
   "id": "eda08503",
   "metadata": {},
   "outputs": [
    {
     "data": {
      "text/html": [
       "<div>\n",
       "<style scoped>\n",
       "    .dataframe tbody tr th:only-of-type {\n",
       "        vertical-align: middle;\n",
       "    }\n",
       "\n",
       "    .dataframe tbody tr th {\n",
       "        vertical-align: top;\n",
       "    }\n",
       "\n",
       "    .dataframe thead th {\n",
       "        text-align: right;\n",
       "    }\n",
       "</style>\n",
       "<table border=\"1\" class=\"dataframe\">\n",
       "  <thead>\n",
       "    <tr style=\"text-align: right;\">\n",
       "      <th></th>\n",
       "      <th>product_id</th>\n",
       "      <th>product_title</th>\n",
       "      <th>rating</th>\n",
       "      <th>summary</th>\n",
       "      <th>review</th>\n",
       "    </tr>\n",
       "  </thead>\n",
       "  <tbody>\n",
       "    <tr>\n",
       "      <th>256</th>\n",
       "      <td>B0DLHTTWVB</td>\n",
       "      <td>Apple MacBook Air 13-inch M3 (2024)</td>\n",
       "      <td>5</td>\n",
       "      <td>Perfect</td>\n",
       "      <td>NaN</td>\n",
       "    </tr>\n",
       "  </tbody>\n",
       "</table>\n",
       "</div>"
      ],
      "text/plain": [
       "     product_id                        product_title  rating  summary review\n",
       "256  B0DLHTTWVB  Apple MacBook Air 13-inch M3 (2024)       5  Perfect    NaN"
      ]
     },
     "execution_count": 43,
     "metadata": {},
     "output_type": "execute_result"
    }
   ],
   "source": [
    "import pandas as pd\n",
    "data = pd.read_csv(\"/Users/mukulagarwal/Desktop/Projects/customer_support_system/data/flipkart_product_review.csv\")\n",
    "data[data['review'].isna() == True]"
   ]
  },
  {
   "cell_type": "code",
   "execution_count": null,
   "id": "9f985b12",
   "metadata": {},
   "outputs": [],
   "source": []
  }
 ],
 "metadata": {
  "kernelspec": {
   "display_name": "Python 3",
   "language": "python",
   "name": "python3"
  },
  "language_info": {
   "codemirror_mode": {
    "name": "ipython",
    "version": 3
   },
   "file_extension": ".py",
   "mimetype": "text/x-python",
   "name": "python",
   "nbconvert_exporter": "python",
   "pygments_lexer": "ipython3",
   "version": "3.12.7"
  }
 },
 "nbformat": 4,
 "nbformat_minor": 5
}
